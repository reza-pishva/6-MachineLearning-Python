{
 "cells": [
  {
   "cell_type": "code",
   "execution_count": null,
   "metadata": {},
   "outputs": [],
   "source": [
    "import  pandas as  pd"
   ]
  },
  {
   "cell_type": "code",
   "execution_count": null,
   "metadata": {},
   "outputs": [],
   "source": [
    "dataset = pd.read_csv('D:/test.csv')\n",
    "\n",
    "df = pd.DataFrame(dataset) \n",
    "df.head()"
   ]
  },
  {
   "cell_type": "code",
   "execution_count": null,
   "metadata": {},
   "outputs": [],
   "source": [
    "import  matplotlib.pyplot as plt"
   ]
  },
  {
   "cell_type": "code",
   "execution_count": null,
   "metadata": {},
   "outputs": [],
   "source": [
    "plt.hist(df[0:30].F2  , bins='auto'  ,color='r',density=True);\n",
    "plt.hist(df[31: ].F2 , bins='auto'  ,color='b',density=True);\n",
    "\n",
    "from matplotlib.patches import Rectangle\n",
    "cc = plt.get_cmap('jet')\n",
    "h = [Rectangle((0,0),1,1,color=c,ec=\"k\") for c in [cc(0.85),cc(0.25)]]\n",
    "\n",
    "plt.legend(h , [\"class1\",\"class2\"]);"
   ]
  },
  {
   "cell_type": "code",
   "execution_count": null,
   "metadata": {},
   "outputs": [],
   "source": [
    "C1   = df[0:30].F3\n",
    "C2   = df[31: ].F3\n",
    "data =[C1 ,C2]"
   ]
  },
  {
   "cell_type": "code",
   "execution_count": null,
   "metadata": {},
   "outputs": [],
   "source": [
    "plt.boxplot(data, notch=True , showfliers=False );     #, patch_artist=True"
   ]
  },
  {
   "cell_type": "code",
   "execution_count": null,
   "metadata": {},
   "outputs": [],
   "source": [
    "fig, ax1 = plt.subplots(figsize=(8, 5))\n",
    "fig.subplots_adjust(left=0.5, right=0.9, top=1, bottom=0.25)\n",
    "\n",
    "bp = plt.boxplot(data, patch_artist=True, notch=True, vert=1, whis=2) #,  sym='w'\n",
    "\n",
    "plt.setp( bp['boxes']    , color='b')\n",
    "plt.setp( bp['whiskers'] , color='g')\n",
    "plt.setp( bp['fliers']   , color='r', marker='+')\n",
    "\n",
    "\n",
    "ax1.set_title('F2')\n",
    "ax1.set_ylabel('Value')\n",
    "ax1.yaxis.grid(True, linestyle='-', which='major', color='lightgrey', alpha=0.5)\n"
   ]
  },
  {
   "cell_type": "code",
   "execution_count": null,
   "metadata": {},
   "outputs": [],
   "source": [
    "import seaborn as s\n",
    "ax = s.boxplot(data=data , linewidth=2 , notch=True , palette=\"Set1\" ) \n",
    "#ax = s.swarmplot(data=data, color=\"0.25\")"
   ]
  },
  {
   "cell_type": "code",
   "execution_count": null,
   "metadata": {},
   "outputs": [],
   "source": [
    "dfd = df.drop( ['F1'] , axis=1 )"
   ]
  },
  {
   "cell_type": "code",
   "execution_count": null,
   "metadata": {},
   "outputs": [],
   "source": [
    "X = dfd.drop( ['target'] , axis = 1 )\n",
    "y = dfd['target'] "
   ]
  },
  {
   "cell_type": "code",
   "execution_count": null,
   "metadata": {},
   "outputs": [],
   "source": [
    "from  sklearn.linear_model      import  LogisticRegression\n",
    "from  sklearn.neural_network    import  MLPClassifier\n",
    "from  sklearn                   import  svm\n",
    "from  sklearn.svm               import  SVC\n",
    "from  sklearn.tree              import  DecisionTreeClassifier"
   ]
  },
  {
   "cell_type": "code",
   "execution_count": null,
   "metadata": {},
   "outputs": [],
   "source": [
    "LR  = LogisticRegression(solver='lbfgs' , random_state=0 , C=0.3, penalty='l2')\n",
    "#MLP = MLPClassifier(solver='lbfgs', hidden_layer_sizes=(1) , alpha=1e-5, random_state=1) \n",
    "#SVM = SVC(C=1, kernel = 'rbf', random_state = 0, gamma='scale')    \n",
    "#SVM = SVC(kernel='linear', C=1)  \n",
    "#SVM = SVC(kernel='poly', degree=2, C=0.5, gamma='scale')   \n",
    "#DT  = DecisionTreeClassifier(criterion='gini', max_depth=3, random_state=0)"
   ]
  },
  {
   "cell_type": "code",
   "execution_count": null,
   "metadata": {},
   "outputs": [],
   "source": [
    "from sklearn.model_selection import train_test_split"
   ]
  },
  {
   "cell_type": "code",
   "execution_count": null,
   "metadata": {},
   "outputs": [],
   "source": [
    "Xtrain, Xtest, ytrain, ytest = train_test_split(X, y, test_size=0.3, random_state=0)"
   ]
  },
  {
   "cell_type": "code",
   "execution_count": null,
   "metadata": {},
   "outputs": [],
   "source": [
    "Xtrain.shape"
   ]
  },
  {
   "cell_type": "code",
   "execution_count": null,
   "metadata": {},
   "outputs": [],
   "source": [
    "ytest.shape"
   ]
  },
  {
   "cell_type": "code",
   "execution_count": null,
   "metadata": {},
   "outputs": [],
   "source": [
    "ytest"
   ]
  },
  {
   "cell_type": "code",
   "execution_count": null,
   "metadata": {},
   "outputs": [],
   "source": [
    "from sklearn.preprocessing import StandardScaler  \n",
    "scaler = StandardScaler()  \n",
    "scaler.fit(Xtrain)  \n",
    "Xtrain = scaler.transform(Xtrain)  \n",
    "Xtest  = scaler.transform(Xtest) "
   ]
  },
  {
   "cell_type": "code",
   "execution_count": null,
   "metadata": {},
   "outputs": [],
   "source": [
    "LR.fit (Xtrain , ytrain);\n",
    "#MLP.fit(Xtrain , ytrain) \n",
    "#SVM.fit(Xtrain , ytrain)\n",
    "#DT.fit (Xtrain , ytrain)\n"
   ]
  },
  {
   "cell_type": "code",
   "execution_count": null,
   "metadata": {},
   "outputs": [],
   "source": [
    "ypLR   = LR.predict(Xtest)\n",
    "#ypMLP  = MLP.predict(Xtest)\n",
    "#ypSVM  = SVM.predict(Xtest)\n",
    "#ypDT   = DT.predict(Xtest)"
   ]
  },
  {
   "cell_type": "code",
   "execution_count": null,
   "metadata": {},
   "outputs": [],
   "source": [
    "from  sklearn.metrics   import  classification_report"
   ]
  },
  {
   "cell_type": "code",
   "execution_count": null,
   "metadata": {},
   "outputs": [],
   "source": [
    "print(classification_report(ytest, ypLR , target_names=['CLASS2', 'CLASS1'] ))"
   ]
  },
  {
   "cell_type": "code",
   "execution_count": null,
   "metadata": {},
   "outputs": [],
   "source": [
    "from  sklearn.metrics   import  confusion_matrix"
   ]
  },
  {
   "cell_type": "code",
   "execution_count": null,
   "metadata": {},
   "outputs": [],
   "source": [
    "confusion_matrix(ytest, ypLR)"
   ]
  },
  {
   "cell_type": "code",
   "execution_count": null,
   "metadata": {},
   "outputs": [],
   "source": [
    "tn, fp, fn, tp = confusion_matrix(ytest, ypLR).ravel()\n",
    "tn, fp, fn, tp"
   ]
  },
  {
   "cell_type": "code",
   "execution_count": null,
   "metadata": {},
   "outputs": [],
   "source": [
    "LR.score(Xtrain , ytrain)   \n",
    "#SVM.score(Xtrain , ytrain)   \n",
    "#MLP.score(Xtrain , ytrain)   \n",
    "#DT.score (Xtrain , ytrain)  "
   ]
  },
  {
   "cell_type": "code",
   "execution_count": null,
   "metadata": {},
   "outputs": [],
   "source": [
    "LR.score(Xtest , ytest)    #accuracy_score(ytest, ypLR)\n",
    "#MLP.score(Xtest , ytest)  \n",
    "#SVM.score(Xtest , ytest)    \n",
    "#DT.score (Xtest , ytest)   "
   ]
  },
  {
   "cell_type": "code",
   "execution_count": null,
   "metadata": {},
   "outputs": [],
   "source": [
    "import  numpy  as  np"
   ]
  },
  {
   "cell_type": "code",
   "execution_count": null,
   "metadata": {},
   "outputs": [],
   "source": [
    "from  sklearn.model_selection   import  cross_val_score"
   ]
  },
  {
   "cell_type": "code",
   "execution_count": null,
   "metadata": {},
   "outputs": [],
   "source": [
    "np.mean(cross_val_score(LR , X , y , cv=10))    \n",
    "#np.mean(cross_val_score(MLP , X , y , cv=10))    \n",
    "#np.mean(cross_val_score(DT  , X , y , cv=10))    \n",
    "#np.mean(cross_val_score(SVM , X , y , cv=10)) "
   ]
  },
  {
   "cell_type": "code",
   "execution_count": null,
   "metadata": {},
   "outputs": [],
   "source": [
    "from  sklearn.metrics  import  roc_curve, auc\n",
    "from  sklearn.model_selection   import  StratifiedKFold\n",
    "from  scipy  import  interp"
   ]
  },
  {
   "cell_type": "code",
   "execution_count": null,
   "metadata": {},
   "outputs": [],
   "source": [
    "cv = StratifiedKFold(n_splits = 6)\n",
    "\n",
    "tprs = []\n",
    "aucs = []\n",
    "mean_fpr = np.linspace(0, 1, 100)\n",
    "i = 0\n",
    "\n",
    "for train, test in cv.split(X, y):\n",
    "    cf = LR.fit(Xtrain, ytrain)\n",
    "    probas_ = cf.predict_proba(Xtest)\n",
    "    fpr, tpr, thresholds = roc_curve(ytest, probas_[:, 1])\n",
    "    tprs.append(interp(mean_fpr, fpr, tpr))\n",
    "    tprs[-1][0] = 0.0\n",
    "    roc_auc = auc(fpr, tpr)\n",
    "    aucs.append(roc_auc)\n",
    "    i += 1    \n",
    "    \n",
    "            \n",
    "mean_tpr      = np.mean(tprs, axis=0)\n",
    "mean_tpr[-1]  = 1.0\n",
    "mean_auc      = auc(mean_fpr, mean_tpr)\n",
    "std_auc       = np.std(aucs)\n",
    "plt.plot(mean_fpr, mean_tpr, color='cyan',label=r'MLP' ,lw=2, alpha=.8)\n",
    "std_tpr    = np.std(tprs, axis=0)\n",
    "tprs_upper = np.minimum(mean_tpr + std_tpr, 1)\n",
    "tprs_lower = np.maximum(mean_tpr - std_tpr, 0)\n",
    "\n",
    "\n",
    "plt.xlim([-0.05, 1.05])\n",
    "plt.ylim([-0.05, 1.05])\n",
    "\n",
    "plt.xlabel('False Positive Rate')\n",
    "plt.ylabel('True Positive Rate')\n",
    "\n",
    "plt.title('Mean ROC')\n",
    "plt.legend(loc=\"lower right\");\n",
    "\n",
    "plt.savefig('D:/roc.png')"
   ]
  }
 ],
 "metadata": {
  "kernelspec": {
   "display_name": "Python 3",
   "language": "python",
   "name": "python3"
  },
  "language_info": {
   "codemirror_mode": {
    "name": "ipython",
    "version": 3
   },
   "file_extension": ".py",
   "mimetype": "text/x-python",
   "name": "python",
   "nbconvert_exporter": "python",
   "pygments_lexer": "ipython3",
   "version": "3.7.1"
  }
 },
 "nbformat": 4,
 "nbformat_minor": 2
}
