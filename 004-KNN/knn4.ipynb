{
 "cells": [
  {
   "cell_type": "code",
   "execution_count": 1,
   "id": "96b63ab5",
   "metadata": {},
   "outputs": [],
   "source": [
    "import pandas as pd\n",
    "import numpy as np\n",
    "import matplotlib.pyplot as plt\n",
    "import seaborn as sns"
   ]
  },
  {
   "cell_type": "code",
   "execution_count": 2,
   "id": "5af3e03c",
   "metadata": {},
   "outputs": [
    {
     "data": {
      "text/html": [
       "<div>\n",
       "<style scoped>\n",
       "    .dataframe tbody tr th:only-of-type {\n",
       "        vertical-align: middle;\n",
       "    }\n",
       "\n",
       "    .dataframe tbody tr th {\n",
       "        vertical-align: top;\n",
       "    }\n",
       "\n",
       "    .dataframe thead th {\n",
       "        text-align: right;\n",
       "    }\n",
       "</style>\n",
       "<table border=\"1\" class=\"dataframe\">\n",
       "  <thead>\n",
       "    <tr style=\"text-align: right;\">\n",
       "      <th></th>\n",
       "      <th>Pregnancies</th>\n",
       "      <th>Glucose</th>\n",
       "      <th>BloodPressure</th>\n",
       "      <th>SkinThickness</th>\n",
       "      <th>Insulin</th>\n",
       "      <th>BMI</th>\n",
       "      <th>DiabetesPedigreeFunction</th>\n",
       "      <th>Age</th>\n",
       "      <th>Outcome</th>\n",
       "    </tr>\n",
       "  </thead>\n",
       "  <tbody>\n",
       "    <tr>\n",
       "      <th>0</th>\n",
       "      <td>6</td>\n",
       "      <td>148</td>\n",
       "      <td>72</td>\n",
       "      <td>35</td>\n",
       "      <td>0</td>\n",
       "      <td>33.6</td>\n",
       "      <td>0.627</td>\n",
       "      <td>50</td>\n",
       "      <td>1</td>\n",
       "    </tr>\n",
       "    <tr>\n",
       "      <th>1</th>\n",
       "      <td>1</td>\n",
       "      <td>85</td>\n",
       "      <td>66</td>\n",
       "      <td>29</td>\n",
       "      <td>0</td>\n",
       "      <td>26.6</td>\n",
       "      <td>0.351</td>\n",
       "      <td>31</td>\n",
       "      <td>0</td>\n",
       "    </tr>\n",
       "    <tr>\n",
       "      <th>2</th>\n",
       "      <td>8</td>\n",
       "      <td>183</td>\n",
       "      <td>64</td>\n",
       "      <td>0</td>\n",
       "      <td>0</td>\n",
       "      <td>23.3</td>\n",
       "      <td>0.672</td>\n",
       "      <td>32</td>\n",
       "      <td>1</td>\n",
       "    </tr>\n",
       "    <tr>\n",
       "      <th>3</th>\n",
       "      <td>1</td>\n",
       "      <td>89</td>\n",
       "      <td>66</td>\n",
       "      <td>23</td>\n",
       "      <td>94</td>\n",
       "      <td>28.1</td>\n",
       "      <td>0.167</td>\n",
       "      <td>21</td>\n",
       "      <td>0</td>\n",
       "    </tr>\n",
       "    <tr>\n",
       "      <th>4</th>\n",
       "      <td>0</td>\n",
       "      <td>137</td>\n",
       "      <td>40</td>\n",
       "      <td>35</td>\n",
       "      <td>168</td>\n",
       "      <td>43.1</td>\n",
       "      <td>2.288</td>\n",
       "      <td>33</td>\n",
       "      <td>1</td>\n",
       "    </tr>\n",
       "  </tbody>\n",
       "</table>\n",
       "</div>"
      ],
      "text/plain": [
       "   Pregnancies  Glucose  BloodPressure  SkinThickness  Insulin   BMI  \\\n",
       "0            6      148             72             35        0  33.6   \n",
       "1            1       85             66             29        0  26.6   \n",
       "2            8      183             64              0        0  23.3   \n",
       "3            1       89             66             23       94  28.1   \n",
       "4            0      137             40             35      168  43.1   \n",
       "\n",
       "   DiabetesPedigreeFunction  Age  Outcome  \n",
       "0                     0.627   50        1  \n",
       "1                     0.351   31        0  \n",
       "2                     0.672   32        1  \n",
       "3                     0.167   21        0  \n",
       "4                     2.288   33        1  "
      ]
     },
     "execution_count": 2,
     "metadata": {},
     "output_type": "execute_result"
    }
   ],
   "source": [
    "#importing dataset\n",
    "df=pd.read_csv('diabetes.csv')\n",
    "df.head()"
   ]
  },
  {
   "cell_type": "code",
   "execution_count": 3,
   "id": "2d847e76",
   "metadata": {},
   "outputs": [
    {
     "data": {
      "text/html": [
       "<style  type=\"text/css\" >\n",
       "#T_db5ea_row0_col0,#T_db5ea_row1_col1,#T_db5ea_row2_col2,#T_db5ea_row3_col3,#T_db5ea_row4_col4,#T_db5ea_row5_col5,#T_db5ea_row6_col6,#T_db5ea_row7_col7,#T_db5ea_row8_col8{\n",
       "            background-color:  #b40426;\n",
       "            color:  #f1f1f1;\n",
       "        }#T_db5ea_row0_col1{\n",
       "            background-color:  #516ddb;\n",
       "            color:  #000000;\n",
       "        }#T_db5ea_row0_col2{\n",
       "            background-color:  #5a78e4;\n",
       "            color:  #000000;\n",
       "        }#T_db5ea_row0_col3,#T_db5ea_row7_col4{\n",
       "            background-color:  #4358cb;\n",
       "            color:  #f1f1f1;\n",
       "        }#T_db5ea_row0_col4,#T_db5ea_row0_col5,#T_db5ea_row0_col6,#T_db5ea_row2_col8,#T_db5ea_row3_col0,#T_db5ea_row3_col1,#T_db5ea_row3_col7,#T_db5ea_row6_col2,#T_db5ea_row7_col3{\n",
       "            background-color:  #3b4cc0;\n",
       "            color:  #f1f1f1;\n",
       "        }#T_db5ea_row0_col7{\n",
       "            background-color:  #f1cdba;\n",
       "            color:  #000000;\n",
       "        }#T_db5ea_row0_col8,#T_db5ea_row1_col6{\n",
       "            background-color:  #6f92f3;\n",
       "            color:  #000000;\n",
       "        }#T_db5ea_row1_col0{\n",
       "            background-color:  #799cf8;\n",
       "            color:  #000000;\n",
       "        }#T_db5ea_row1_col2,#T_db5ea_row6_col8{\n",
       "            background-color:  #5e7de7;\n",
       "            color:  #000000;\n",
       "        }#T_db5ea_row1_col3{\n",
       "            background-color:  #6b8df0;\n",
       "            color:  #000000;\n",
       "        }#T_db5ea_row1_col4{\n",
       "            background-color:  #b9d0f9;\n",
       "            color:  #000000;\n",
       "        }#T_db5ea_row1_col5,#T_db5ea_row3_col6{\n",
       "            background-color:  #7ea1fa;\n",
       "            color:  #000000;\n",
       "        }#T_db5ea_row1_col7{\n",
       "            background-color:  #abc8fd;\n",
       "            color:  #000000;\n",
       "        }#T_db5ea_row1_col8{\n",
       "            background-color:  #c9d7f0;\n",
       "            color:  #000000;\n",
       "        }#T_db5ea_row2_col0,#T_db5ea_row7_col2{\n",
       "            background-color:  #7da0f9;\n",
       "            color:  #000000;\n",
       "        }#T_db5ea_row2_col1{\n",
       "            background-color:  #5977e3;\n",
       "            color:  #000000;\n",
       "        }#T_db5ea_row2_col3{\n",
       "            background-color:  #9abbff;\n",
       "            color:  #000000;\n",
       "        }#T_db5ea_row2_col4{\n",
       "            background-color:  #6a8bef;\n",
       "            color:  #000000;\n",
       "        }#T_db5ea_row2_col5,#T_db5ea_row6_col3{\n",
       "            background-color:  #93b5fe;\n",
       "            color:  #000000;\n",
       "        }#T_db5ea_row2_col6{\n",
       "            background-color:  #506bda;\n",
       "            color:  #000000;\n",
       "        }#T_db5ea_row2_col7{\n",
       "            background-color:  #a5c3fe;\n",
       "            color:  #000000;\n",
       "        }#T_db5ea_row3_col2,#T_db5ea_row5_col1{\n",
       "            background-color:  #7295f4;\n",
       "            color:  #000000;\n",
       "        }#T_db5ea_row3_col4{\n",
       "            background-color:  #d6dce4;\n",
       "            color:  #000000;\n",
       "        }#T_db5ea_row3_col5{\n",
       "            background-color:  #bad0f8;\n",
       "            color:  #000000;\n",
       "        }#T_db5ea_row3_col8{\n",
       "            background-color:  #3d50c3;\n",
       "            color:  #f1f1f1;\n",
       "        }#T_db5ea_row4_col0{\n",
       "            background-color:  #3c4ec2;\n",
       "            color:  #f1f1f1;\n",
       "        }#T_db5ea_row4_col1{\n",
       "            background-color:  #9bbcff;\n",
       "            color:  #000000;\n",
       "        }#T_db5ea_row4_col2{\n",
       "            background-color:  #4961d2;\n",
       "            color:  #f1f1f1;\n",
       "        }#T_db5ea_row4_col3{\n",
       "            background-color:  #dbdcde;\n",
       "            color:  #000000;\n",
       "        }#T_db5ea_row4_col5{\n",
       "            background-color:  #7597f6;\n",
       "            color:  #000000;\n",
       "        }#T_db5ea_row4_col6{\n",
       "            background-color:  #80a3fa;\n",
       "            color:  #000000;\n",
       "        }#T_db5ea_row4_col7,#T_db5ea_row7_col6{\n",
       "            background-color:  #4e68d8;\n",
       "            color:  #000000;\n",
       "        }#T_db5ea_row4_col8{\n",
       "            background-color:  #4f69d9;\n",
       "            color:  #000000;\n",
       "        }#T_db5ea_row5_col0{\n",
       "            background-color:  #5673e0;\n",
       "            color:  #000000;\n",
       "        }#T_db5ea_row5_col2,#T_db5ea_row5_col4{\n",
       "            background-color:  #8db0fe;\n",
       "            color:  #000000;\n",
       "        }#T_db5ea_row5_col3{\n",
       "            background-color:  #d1dae9;\n",
       "            color:  #000000;\n",
       "        }#T_db5ea_row5_col6,#T_db5ea_row8_col3{\n",
       "            background-color:  #7093f3;\n",
       "            color:  #000000;\n",
       "        }#T_db5ea_row5_col7{\n",
       "            background-color:  #6485ec;\n",
       "            color:  #000000;\n",
       "        }#T_db5ea_row5_col8{\n",
       "            background-color:  #8badfd;\n",
       "            color:  #000000;\n",
       "        }#T_db5ea_row6_col0{\n",
       "            background-color:  #485fd1;\n",
       "            color:  #f1f1f1;\n",
       "        }#T_db5ea_row6_col1{\n",
       "            background-color:  #5470de;\n",
       "            color:  #000000;\n",
       "        }#T_db5ea_row6_col4{\n",
       "            background-color:  #89acfd;\n",
       "            color:  #000000;\n",
       "        }#T_db5ea_row6_col5{\n",
       "            background-color:  #6282ea;\n",
       "            color:  #000000;\n",
       "        }#T_db5ea_row6_col7{\n",
       "            background-color:  #6384eb;\n",
       "            color:  #000000;\n",
       "        }#T_db5ea_row7_col0{\n",
       "            background-color:  #efcfbf;\n",
       "            color:  #000000;\n",
       "        }#T_db5ea_row7_col1{\n",
       "            background-color:  #81a4fb;\n",
       "            color:  #000000;\n",
       "        }#T_db5ea_row7_col5{\n",
       "            background-color:  #3f53c6;\n",
       "            color:  #f1f1f1;\n",
       "        }#T_db5ea_row7_col8{\n",
       "            background-color:  #7699f6;\n",
       "            color:  #000000;\n",
       "        }#T_db5ea_row8_col0,#T_db5ea_row8_col5{\n",
       "            background-color:  #97b8ff;\n",
       "            color:  #000000;\n",
       "        }#T_db5ea_row8_col1{\n",
       "            background-color:  #cbd8ee;\n",
       "            color:  #000000;\n",
       "        }#T_db5ea_row8_col2{\n",
       "            background-color:  #4257c9;\n",
       "            color:  #f1f1f1;\n",
       "        }#T_db5ea_row8_col4{\n",
       "            background-color:  #779af7;\n",
       "            color:  #000000;\n",
       "        }#T_db5ea_row8_col6{\n",
       "            background-color:  #7b9ff9;\n",
       "            color:  #000000;\n",
       "        }#T_db5ea_row8_col7{\n",
       "            background-color:  #a3c2fe;\n",
       "            color:  #000000;\n",
       "        }</style><table id=\"T_db5ea_\" ><thead>    <tr>        <th class=\"blank level0\" ></th>        <th class=\"col_heading level0 col0\" >Pregnancies</th>        <th class=\"col_heading level0 col1\" >Glucose</th>        <th class=\"col_heading level0 col2\" >BloodPressure</th>        <th class=\"col_heading level0 col3\" >SkinThickness</th>        <th class=\"col_heading level0 col4\" >Insulin</th>        <th class=\"col_heading level0 col5\" >BMI</th>        <th class=\"col_heading level0 col6\" >DiabetesPedigreeFunction</th>        <th class=\"col_heading level0 col7\" >Age</th>        <th class=\"col_heading level0 col8\" >Outcome</th>    </tr></thead><tbody>\n",
       "                <tr>\n",
       "                        <th id=\"T_db5ea_level0_row0\" class=\"row_heading level0 row0\" >Pregnancies</th>\n",
       "                        <td id=\"T_db5ea_row0_col0\" class=\"data row0 col0\" >1.000000</td>\n",
       "                        <td id=\"T_db5ea_row0_col1\" class=\"data row0 col1\" >0.129459</td>\n",
       "                        <td id=\"T_db5ea_row0_col2\" class=\"data row0 col2\" >0.141282</td>\n",
       "                        <td id=\"T_db5ea_row0_col3\" class=\"data row0 col3\" >-0.081672</td>\n",
       "                        <td id=\"T_db5ea_row0_col4\" class=\"data row0 col4\" >-0.073535</td>\n",
       "                        <td id=\"T_db5ea_row0_col5\" class=\"data row0 col5\" >0.017683</td>\n",
       "                        <td id=\"T_db5ea_row0_col6\" class=\"data row0 col6\" >-0.033523</td>\n",
       "                        <td id=\"T_db5ea_row0_col7\" class=\"data row0 col7\" >0.544341</td>\n",
       "                        <td id=\"T_db5ea_row0_col8\" class=\"data row0 col8\" >0.221898</td>\n",
       "            </tr>\n",
       "            <tr>\n",
       "                        <th id=\"T_db5ea_level0_row1\" class=\"row_heading level0 row1\" >Glucose</th>\n",
       "                        <td id=\"T_db5ea_row1_col0\" class=\"data row1 col0\" >0.129459</td>\n",
       "                        <td id=\"T_db5ea_row1_col1\" class=\"data row1 col1\" >1.000000</td>\n",
       "                        <td id=\"T_db5ea_row1_col2\" class=\"data row1 col2\" >0.152590</td>\n",
       "                        <td id=\"T_db5ea_row1_col3\" class=\"data row1 col3\" >0.057328</td>\n",
       "                        <td id=\"T_db5ea_row1_col4\" class=\"data row1 col4\" >0.331357</td>\n",
       "                        <td id=\"T_db5ea_row1_col5\" class=\"data row1 col5\" >0.221071</td>\n",
       "                        <td id=\"T_db5ea_row1_col6\" class=\"data row1 col6\" >0.137337</td>\n",
       "                        <td id=\"T_db5ea_row1_col7\" class=\"data row1 col7\" >0.263514</td>\n",
       "                        <td id=\"T_db5ea_row1_col8\" class=\"data row1 col8\" >0.466581</td>\n",
       "            </tr>\n",
       "            <tr>\n",
       "                        <th id=\"T_db5ea_level0_row2\" class=\"row_heading level0 row2\" >BloodPressure</th>\n",
       "                        <td id=\"T_db5ea_row2_col0\" class=\"data row2 col0\" >0.141282</td>\n",
       "                        <td id=\"T_db5ea_row2_col1\" class=\"data row2 col1\" >0.152590</td>\n",
       "                        <td id=\"T_db5ea_row2_col2\" class=\"data row2 col2\" >1.000000</td>\n",
       "                        <td id=\"T_db5ea_row2_col3\" class=\"data row2 col3\" >0.207371</td>\n",
       "                        <td id=\"T_db5ea_row2_col4\" class=\"data row2 col4\" >0.088933</td>\n",
       "                        <td id=\"T_db5ea_row2_col5\" class=\"data row2 col5\" >0.281805</td>\n",
       "                        <td id=\"T_db5ea_row2_col6\" class=\"data row2 col6\" >0.041265</td>\n",
       "                        <td id=\"T_db5ea_row2_col7\" class=\"data row2 col7\" >0.239528</td>\n",
       "                        <td id=\"T_db5ea_row2_col8\" class=\"data row2 col8\" >0.065068</td>\n",
       "            </tr>\n",
       "            <tr>\n",
       "                        <th id=\"T_db5ea_level0_row3\" class=\"row_heading level0 row3\" >SkinThickness</th>\n",
       "                        <td id=\"T_db5ea_row3_col0\" class=\"data row3 col0\" >-0.081672</td>\n",
       "                        <td id=\"T_db5ea_row3_col1\" class=\"data row3 col1\" >0.057328</td>\n",
       "                        <td id=\"T_db5ea_row3_col2\" class=\"data row3 col2\" >0.207371</td>\n",
       "                        <td id=\"T_db5ea_row3_col3\" class=\"data row3 col3\" >1.000000</td>\n",
       "                        <td id=\"T_db5ea_row3_col4\" class=\"data row3 col4\" >0.436783</td>\n",
       "                        <td id=\"T_db5ea_row3_col5\" class=\"data row3 col5\" >0.392573</td>\n",
       "                        <td id=\"T_db5ea_row3_col6\" class=\"data row3 col6\" >0.183928</td>\n",
       "                        <td id=\"T_db5ea_row3_col7\" class=\"data row3 col7\" >-0.113970</td>\n",
       "                        <td id=\"T_db5ea_row3_col8\" class=\"data row3 col8\" >0.074752</td>\n",
       "            </tr>\n",
       "            <tr>\n",
       "                        <th id=\"T_db5ea_level0_row4\" class=\"row_heading level0 row4\" >Insulin</th>\n",
       "                        <td id=\"T_db5ea_row4_col0\" class=\"data row4 col0\" >-0.073535</td>\n",
       "                        <td id=\"T_db5ea_row4_col1\" class=\"data row4 col1\" >0.331357</td>\n",
       "                        <td id=\"T_db5ea_row4_col2\" class=\"data row4 col2\" >0.088933</td>\n",
       "                        <td id=\"T_db5ea_row4_col3\" class=\"data row4 col3\" >0.436783</td>\n",
       "                        <td id=\"T_db5ea_row4_col4\" class=\"data row4 col4\" >1.000000</td>\n",
       "                        <td id=\"T_db5ea_row4_col5\" class=\"data row4 col5\" >0.197859</td>\n",
       "                        <td id=\"T_db5ea_row4_col6\" class=\"data row4 col6\" >0.185071</td>\n",
       "                        <td id=\"T_db5ea_row4_col7\" class=\"data row4 col7\" >-0.042163</td>\n",
       "                        <td id=\"T_db5ea_row4_col8\" class=\"data row4 col8\" >0.130548</td>\n",
       "            </tr>\n",
       "            <tr>\n",
       "                        <th id=\"T_db5ea_level0_row5\" class=\"row_heading level0 row5\" >BMI</th>\n",
       "                        <td id=\"T_db5ea_row5_col0\" class=\"data row5 col0\" >0.017683</td>\n",
       "                        <td id=\"T_db5ea_row5_col1\" class=\"data row5 col1\" >0.221071</td>\n",
       "                        <td id=\"T_db5ea_row5_col2\" class=\"data row5 col2\" >0.281805</td>\n",
       "                        <td id=\"T_db5ea_row5_col3\" class=\"data row5 col3\" >0.392573</td>\n",
       "                        <td id=\"T_db5ea_row5_col4\" class=\"data row5 col4\" >0.197859</td>\n",
       "                        <td id=\"T_db5ea_row5_col5\" class=\"data row5 col5\" >1.000000</td>\n",
       "                        <td id=\"T_db5ea_row5_col6\" class=\"data row5 col6\" >0.140647</td>\n",
       "                        <td id=\"T_db5ea_row5_col7\" class=\"data row5 col7\" >0.036242</td>\n",
       "                        <td id=\"T_db5ea_row5_col8\" class=\"data row5 col8\" >0.292695</td>\n",
       "            </tr>\n",
       "            <tr>\n",
       "                        <th id=\"T_db5ea_level0_row6\" class=\"row_heading level0 row6\" >DiabetesPedigreeFunction</th>\n",
       "                        <td id=\"T_db5ea_row6_col0\" class=\"data row6 col0\" >-0.033523</td>\n",
       "                        <td id=\"T_db5ea_row6_col1\" class=\"data row6 col1\" >0.137337</td>\n",
       "                        <td id=\"T_db5ea_row6_col2\" class=\"data row6 col2\" >0.041265</td>\n",
       "                        <td id=\"T_db5ea_row6_col3\" class=\"data row6 col3\" >0.183928</td>\n",
       "                        <td id=\"T_db5ea_row6_col4\" class=\"data row6 col4\" >0.185071</td>\n",
       "                        <td id=\"T_db5ea_row6_col5\" class=\"data row6 col5\" >0.140647</td>\n",
       "                        <td id=\"T_db5ea_row6_col6\" class=\"data row6 col6\" >1.000000</td>\n",
       "                        <td id=\"T_db5ea_row6_col7\" class=\"data row6 col7\" >0.033561</td>\n",
       "                        <td id=\"T_db5ea_row6_col8\" class=\"data row6 col8\" >0.173844</td>\n",
       "            </tr>\n",
       "            <tr>\n",
       "                        <th id=\"T_db5ea_level0_row7\" class=\"row_heading level0 row7\" >Age</th>\n",
       "                        <td id=\"T_db5ea_row7_col0\" class=\"data row7 col0\" >0.544341</td>\n",
       "                        <td id=\"T_db5ea_row7_col1\" class=\"data row7 col1\" >0.263514</td>\n",
       "                        <td id=\"T_db5ea_row7_col2\" class=\"data row7 col2\" >0.239528</td>\n",
       "                        <td id=\"T_db5ea_row7_col3\" class=\"data row7 col3\" >-0.113970</td>\n",
       "                        <td id=\"T_db5ea_row7_col4\" class=\"data row7 col4\" >-0.042163</td>\n",
       "                        <td id=\"T_db5ea_row7_col5\" class=\"data row7 col5\" >0.036242</td>\n",
       "                        <td id=\"T_db5ea_row7_col6\" class=\"data row7 col6\" >0.033561</td>\n",
       "                        <td id=\"T_db5ea_row7_col7\" class=\"data row7 col7\" >1.000000</td>\n",
       "                        <td id=\"T_db5ea_row7_col8\" class=\"data row7 col8\" >0.238356</td>\n",
       "            </tr>\n",
       "            <tr>\n",
       "                        <th id=\"T_db5ea_level0_row8\" class=\"row_heading level0 row8\" >Outcome</th>\n",
       "                        <td id=\"T_db5ea_row8_col0\" class=\"data row8 col0\" >0.221898</td>\n",
       "                        <td id=\"T_db5ea_row8_col1\" class=\"data row8 col1\" >0.466581</td>\n",
       "                        <td id=\"T_db5ea_row8_col2\" class=\"data row8 col2\" >0.065068</td>\n",
       "                        <td id=\"T_db5ea_row8_col3\" class=\"data row8 col3\" >0.074752</td>\n",
       "                        <td id=\"T_db5ea_row8_col4\" class=\"data row8 col4\" >0.130548</td>\n",
       "                        <td id=\"T_db5ea_row8_col5\" class=\"data row8 col5\" >0.292695</td>\n",
       "                        <td id=\"T_db5ea_row8_col6\" class=\"data row8 col6\" >0.173844</td>\n",
       "                        <td id=\"T_db5ea_row8_col7\" class=\"data row8 col7\" >0.238356</td>\n",
       "                        <td id=\"T_db5ea_row8_col8\" class=\"data row8 col8\" >1.000000</td>\n",
       "            </tr>\n",
       "    </tbody></table>"
      ],
      "text/plain": [
       "<pandas.io.formats.style.Styler at 0x206110535e0>"
      ]
     },
     "execution_count": 3,
     "metadata": {},
     "output_type": "execute_result"
    }
   ],
   "source": [
    "corr = df.corr()\n",
    "corr.style.background_gradient(cmap='coolwarm')"
   ]
  },
  {
   "cell_type": "code",
   "execution_count": 4,
   "id": "d444906c",
   "metadata": {},
   "outputs": [
    {
     "data": {
      "text/html": [
       "<div>\n",
       "<style scoped>\n",
       "    .dataframe tbody tr th:only-of-type {\n",
       "        vertical-align: middle;\n",
       "    }\n",
       "\n",
       "    .dataframe tbody tr th {\n",
       "        vertical-align: top;\n",
       "    }\n",
       "\n",
       "    .dataframe thead th {\n",
       "        text-align: right;\n",
       "    }\n",
       "</style>\n",
       "<table border=\"1\" class=\"dataframe\">\n",
       "  <thead>\n",
       "    <tr style=\"text-align: right;\">\n",
       "      <th></th>\n",
       "      <th>Pregnancies</th>\n",
       "      <th>Glucose</th>\n",
       "      <th>BloodPressure</th>\n",
       "      <th>SkinThickness</th>\n",
       "      <th>Insulin</th>\n",
       "      <th>BMI</th>\n",
       "      <th>DiabetesPedigreeFunction</th>\n",
       "      <th>Age</th>\n",
       "    </tr>\n",
       "  </thead>\n",
       "  <tbody>\n",
       "    <tr>\n",
       "      <th>0</th>\n",
       "      <td>6</td>\n",
       "      <td>148</td>\n",
       "      <td>72</td>\n",
       "      <td>35</td>\n",
       "      <td>0</td>\n",
       "      <td>33.6</td>\n",
       "      <td>0.627</td>\n",
       "      <td>50</td>\n",
       "    </tr>\n",
       "    <tr>\n",
       "      <th>1</th>\n",
       "      <td>1</td>\n",
       "      <td>85</td>\n",
       "      <td>66</td>\n",
       "      <td>29</td>\n",
       "      <td>0</td>\n",
       "      <td>26.6</td>\n",
       "      <td>0.351</td>\n",
       "      <td>31</td>\n",
       "    </tr>\n",
       "    <tr>\n",
       "      <th>2</th>\n",
       "      <td>8</td>\n",
       "      <td>183</td>\n",
       "      <td>64</td>\n",
       "      <td>0</td>\n",
       "      <td>0</td>\n",
       "      <td>23.3</td>\n",
       "      <td>0.672</td>\n",
       "      <td>32</td>\n",
       "    </tr>\n",
       "    <tr>\n",
       "      <th>3</th>\n",
       "      <td>1</td>\n",
       "      <td>89</td>\n",
       "      <td>66</td>\n",
       "      <td>23</td>\n",
       "      <td>94</td>\n",
       "      <td>28.1</td>\n",
       "      <td>0.167</td>\n",
       "      <td>21</td>\n",
       "    </tr>\n",
       "    <tr>\n",
       "      <th>4</th>\n",
       "      <td>0</td>\n",
       "      <td>137</td>\n",
       "      <td>40</td>\n",
       "      <td>35</td>\n",
       "      <td>168</td>\n",
       "      <td>43.1</td>\n",
       "      <td>2.288</td>\n",
       "      <td>33</td>\n",
       "    </tr>\n",
       "  </tbody>\n",
       "</table>\n",
       "</div>"
      ],
      "text/plain": [
       "   Pregnancies  Glucose  BloodPressure  SkinThickness  Insulin   BMI  \\\n",
       "0            6      148             72             35        0  33.6   \n",
       "1            1       85             66             29        0  26.6   \n",
       "2            8      183             64              0        0  23.3   \n",
       "3            1       89             66             23       94  28.1   \n",
       "4            0      137             40             35      168  43.1   \n",
       "\n",
       "   DiabetesPedigreeFunction  Age  \n",
       "0                     0.627   50  \n",
       "1                     0.351   31  \n",
       "2                     0.672   32  \n",
       "3                     0.167   21  \n",
       "4                     2.288   33  "
      ]
     },
     "execution_count": 4,
     "metadata": {},
     "output_type": "execute_result"
    }
   ],
   "source": [
    "X=df.drop('Outcome',axis=1)\n",
    "X.head()"
   ]
  },
  {
   "cell_type": "code",
   "execution_count": 5,
   "id": "c42cf3bd",
   "metadata": {},
   "outputs": [
    {
     "data": {
      "text/plain": [
       "0    1\n",
       "1    0\n",
       "2    1\n",
       "3    0\n",
       "4    1\n",
       "Name: Outcome, dtype: int64"
      ]
     },
     "execution_count": 5,
     "metadata": {},
     "output_type": "execute_result"
    }
   ],
   "source": [
    "y=df['Outcome']\n",
    "y.head()"
   ]
  },
  {
   "cell_type": "code",
   "execution_count": 6,
   "id": "789a0372",
   "metadata": {},
   "outputs": [],
   "source": [
    "from sklearn.model_selection import train_test_split\n",
    "X_train, X_test, y_train, y_test = train_test_split(X, y,test_size=0.2,random_state=0)"
   ]
  },
  {
   "cell_type": "code",
   "execution_count": 7,
   "id": "65487de7",
   "metadata": {},
   "outputs": [],
   "source": [
    "from sklearn.preprocessing import StandardScaler"
   ]
  },
  {
   "cell_type": "code",
   "execution_count": 8,
   "id": "84989ecc",
   "metadata": {},
   "outputs": [],
   "source": [
    "sc_x=StandardScaler()\n",
    "X_train=sc_x.fit_transform(X_train)\n",
    "X_test=sc_x.transform(X_test)"
   ]
  },
  {
   "cell_type": "code",
   "execution_count": 9,
   "id": "7167804d",
   "metadata": {},
   "outputs": [],
   "source": [
    "from sklearn.neighbors import KNeighborsClassifier"
   ]
  },
  {
   "cell_type": "code",
   "execution_count": 10,
   "id": "313154b0",
   "metadata": {},
   "outputs": [
    {
     "data": {
      "text/plain": [
       "KNeighborsClassifier(metric='euclidean')"
      ]
     },
     "execution_count": 10,
     "metadata": {},
     "output_type": "execute_result"
    }
   ],
   "source": [
    "knn=KNeighborsClassifier(n_neighbors=5,metric='euclidean',p=2)\n",
    "knn.fit(X_train,y_train)"
   ]
  },
  {
   "cell_type": "code",
   "execution_count": 11,
   "id": "859d775f",
   "metadata": {},
   "outputs": [
    {
     "data": {
      "text/plain": [
       "array([1, 0, 0, 1, 0, 0, 1, 1, 1, 0, 1, 1, 0, 0, 0, 0, 1, 0, 0, 0, 0, 0,\n",
       "       0, 0, 0, 0, 0, 1, 0, 0, 1, 0, 0, 1, 0, 1, 0, 0, 0, 1, 0, 0, 0, 1,\n",
       "       1, 0, 0, 0, 1, 0, 0, 0, 1, 1, 0, 0, 0, 1, 0, 0, 1, 0, 0, 1, 1, 1,\n",
       "       1, 0, 1, 0, 0, 0, 0, 1, 1, 0, 0, 0, 0, 0, 0, 0, 1, 0, 0, 0, 0, 0,\n",
       "       1, 0, 0, 0, 0, 0, 1, 0, 0, 0, 1, 1, 0, 0, 0, 0, 0, 0, 0, 0, 0, 1,\n",
       "       0, 0, 1, 1, 1, 1, 0, 1, 0, 1, 0, 1, 0, 0, 0, 0, 0, 0, 1, 0, 0, 0,\n",
       "       0, 0, 0, 0, 0, 0, 1, 0, 0, 1, 0, 0, 1, 0, 0, 0, 0, 0, 0, 0, 0, 0],\n",
       "      dtype=int64)"
      ]
     },
     "execution_count": 11,
     "metadata": {},
     "output_type": "execute_result"
    }
   ],
   "source": [
    "y_pred=knn.predict(X_test)\n",
    "y_pred"
   ]
  },
  {
   "cell_type": "code",
   "execution_count": 12,
   "id": "ad661e75",
   "metadata": {},
   "outputs": [
    {
     "data": {
      "text/plain": [
       "0.7987012987012987"
      ]
     },
     "execution_count": 12,
     "metadata": {},
     "output_type": "execute_result"
    }
   ],
   "source": [
    "knn.score(X_test,y_test)"
   ]
  },
  {
   "cell_type": "code",
   "execution_count": 13,
   "id": "a815a639",
   "metadata": {},
   "outputs": [],
   "source": [
    "from sklearn.metrics import accuracy_score\n",
    "from sklearn import metrics"
   ]
  },
  {
   "cell_type": "code",
   "execution_count": 14,
   "id": "864a3dc5",
   "metadata": {},
   "outputs": [
    {
     "data": {
      "text/plain": [
       "0.7987012987012987"
      ]
     },
     "execution_count": 14,
     "metadata": {},
     "output_type": "execute_result"
    }
   ],
   "source": [
    "metrics.accuracy_score(y_test,y_pred)"
   ]
  },
  {
   "cell_type": "code",
   "execution_count": 15,
   "id": "d1696855",
   "metadata": {},
   "outputs": [
    {
     "data": {
      "text/plain": [
       "array([[93, 14],\n",
       "       [17, 30]], dtype=int64)"
      ]
     },
     "execution_count": 15,
     "metadata": {},
     "output_type": "execute_result"
    }
   ],
   "source": [
    "from sklearn.metrics import confusion_matrix\n",
    "mat = confusion_matrix(y_test, y_pred)\n",
    "mat"
   ]
  },
  {
   "cell_type": "code",
   "execution_count": 16,
   "id": "ecc13d92",
   "metadata": {},
   "outputs": [
    {
     "name": "stdout",
     "output_type": "stream",
     "text": [
      "              precision    recall  f1-score   support\n",
      "\n",
      "    Diabetes       0.85      0.87      0.86       107\n",
      "      Normal       0.68      0.64      0.66        47\n",
      "\n",
      "    accuracy                           0.80       154\n",
      "   macro avg       0.76      0.75      0.76       154\n",
      "weighted avg       0.80      0.80      0.80       154\n",
      "\n"
     ]
    }
   ],
   "source": [
    "from sklearn.metrics import classification_report\n",
    "target_names = ['Diabetes', 'Normal']\n",
    "print(classification_report(y_test, y_pred, target_names=target_names))"
   ]
  },
  {
   "cell_type": "code",
   "execution_count": 17,
   "id": "e6a3deb9",
   "metadata": {},
   "outputs": [],
   "source": [
    "#For selecting K value\n",
    "error_rate = []\n",
    "\n",
    "# Will take some time\n",
    "for i in range(1,40):\n",
    "    \n",
    "    knn = KNeighborsClassifier(n_neighbors=i)\n",
    "    knn.fit(X_train,y_train)\n",
    "    pred_i = knn.predict(X_test)\n",
    "    error_rate.append(np.mean(pred_i != y_test))"
   ]
  },
  {
   "cell_type": "code",
   "execution_count": 18,
   "id": "52196537",
   "metadata": {},
   "outputs": [
    {
     "data": {
      "text/plain": [
       "Text(0, 0.5, 'Error Rate')"
      ]
     },
     "execution_count": 18,
     "metadata": {},
     "output_type": "execute_result"
    },
    {
     "data": {
      "image/png": "[encoded data removed]",
      "text/plain": [
       "<Figure size 720x432 with 1 Axes>"
      ]
     },
     "metadata": {
      "needs_background": "light"
     },
     "output_type": "display_data"
    }
   ],
   "source": [
    "import matplotlib.pyplot as plt\n",
    "plt.figure(figsize=(10,6))\n",
    "plt.plot(range(1,40),error_rate,color='blue', linestyle='dashed', marker='o',\n",
    "         markerfacecolor='red', markersize=10)\n",
    "plt.title('Error Rate vs. K Value')\n",
    "plt.xlabel('K')\n",
    "plt.ylabel('Error Rate')"
   ]
  },
  {
   "cell_type": "code",
   "execution_count": 19,
   "id": "208dd2a4",
   "metadata": {},
   "outputs": [
    {
     "data": {
      "text/plain": [
       "KNeighborsClassifier(metric='euclidean', n_neighbors=18)"
      ]
     },
     "execution_count": 19,
     "metadata": {},
     "output_type": "execute_result"
    }
   ],
   "source": [
    "knn=KNeighborsClassifier(n_neighbors=18,metric='euclidean',p=2)\n",
    "knn.fit(X_train,y_train)"
   ]
  },
  {
   "cell_type": "code",
   "execution_count": 20,
   "id": "777f024c",
   "metadata": {},
   "outputs": [
    {
     "data": {
      "text/plain": [
       "array([1, 0, 0, 1, 0, 0, 1, 1, 0, 0, 0, 1, 0, 0, 0, 0, 1, 0, 0, 0, 0, 0,\n",
       "       0, 0, 0, 0, 0, 1, 0, 0, 1, 0, 0, 1, 0, 1, 0, 0, 0, 1, 0, 0, 0, 1,\n",
       "       1, 0, 0, 0, 0, 0, 0, 0, 1, 0, 0, 0, 0, 0, 0, 0, 1, 0, 0, 1, 0, 1,\n",
       "       1, 0, 0, 0, 0, 0, 0, 1, 1, 0, 0, 1, 0, 0, 0, 0, 0, 0, 0, 0, 0, 0,\n",
       "       1, 0, 0, 0, 0, 0, 1, 0, 0, 0, 1, 1, 0, 0, 0, 0, 0, 0, 0, 0, 0, 1,\n",
       "       0, 0, 1, 1, 1, 1, 0, 1, 0, 1, 0, 0, 0, 0, 0, 0, 0, 0, 0, 0, 0, 0,\n",
       "       0, 1, 0, 0, 0, 0, 1, 0, 0, 1, 0, 0, 1, 0, 0, 0, 0, 0, 0, 0, 0, 0],\n",
       "      dtype=int64)"
      ]
     },
     "execution_count": 20,
     "metadata": {},
     "output_type": "execute_result"
    }
   ],
   "source": [
    "y_pred=knn.predict(X_test)\n",
    "y_pred"
   ]
  },
  {
   "cell_type": "code",
   "execution_count": 21,
   "id": "1983ae31",
   "metadata": {},
   "outputs": [
    {
     "data": {
      "text/plain": [
       "0.8116883116883117"
      ]
     },
     "execution_count": 21,
     "metadata": {},
     "output_type": "execute_result"
    }
   ],
   "source": [
    "knn.score(X_test,y_test)"
   ]
  },
  {
   "cell_type": "code",
   "execution_count": 22,
   "id": "a71c131a",
   "metadata": {},
   "outputs": [
    {
     "data": {
      "text/plain": [
       "<AxesSubplot:>"
      ]
     },
     "execution_count": 22,
     "metadata": {},
     "output_type": "execute_result"
    },
    {
     "data": {
      "image/png": "[encoded data removed]",
      "text/plain": [
       "<Figure size 720x576 with 2 Axes>"
      ]
     },
     "metadata": {
      "needs_background": "light"
     },
     "output_type": "display_data"
    }
   ],
   "source": [
    "from sklearn.metrics import confusion_matrix\n",
    "mat = confusion_matrix(y_test, y_pred)\n",
    "plt.figure(figsize=(10, 8))\n",
    "sns.heatmap(mat, annot=True)"
   ]
  },
  {
   "cell_type": "code",
   "execution_count": 23,
   "id": "92ea0a98",
   "metadata": {},
   "outputs": [
    {
     "name": "stdout",
     "output_type": "stream",
     "text": [
      "              precision    recall  f1-score   support\n",
      "\n",
      "    Diabetes       0.83      0.92      0.87       107\n",
      "      Normal       0.75      0.57      0.65        47\n",
      "\n",
      "    accuracy                           0.81       154\n",
      "   macro avg       0.79      0.75      0.76       154\n",
      "weighted avg       0.81      0.81      0.80       154\n",
      "\n"
     ]
    }
   ],
   "source": [
    "from sklearn.metrics import classification_report\n",
    "target_names = ['Diabetes', 'Normal']\n",
    "print(classification_report(y_test, y_pred, target_names=target_names))"
   ]
  },
  {
   "cell_type": "code",
   "execution_count": null,
   "id": "7a94bd0e",
   "metadata": {},
   "outputs": [],
   "source": []
  }
 ],
 "metadata": {
  "kernelspec": {
   "display_name": "Python 3",
   "language": "python",
   "name": "python3"
  },
  "language_info": {
   "codemirror_mode": {
    "name": "ipython",
    "version": 3
   },
   "file_extension": ".py",
   "mimetype": "text/x-python",
   "name": "python",
   "nbconvert_exporter": "python",
   "pygments_lexer": "ipython3",
   "version": "3.8.8"
  }
 },
 "nbformat": 4,
 "nbformat_minor": 5
}
