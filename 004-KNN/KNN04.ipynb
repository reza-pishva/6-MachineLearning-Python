{
 "cells": [
  {
   "cell_type": "code",
   "execution_count": null,
   "id": "75904bf3",
   "metadata": {},
   "outputs": [],
   "source": [
    "https://www.kaggle.com/code/waltermaffy/fruit-classification-pca-svm-knn-decision-tree"
   ]
  },
  {
   "cell_type": "code",
   "execution_count": null,
   "id": "3509b2a8",
   "metadata": {},
   "outputs": [],
   "source": [
    "import numpy as np \n",
    "import cv2\n",
    "import glob\n",
    "import os\n",
    "import matplotlib.pyplot as plt\n",
    "import string\n",
    "from mlxtend.plotting import plot_decision_regions\n",
    "from mpl_toolkits.mplot3d import Axes3D\n",
    "from sklearn.decomposition import PCA\n",
    "from sklearn.preprocessing import StandardScaler\n",
    "from sklearn.neighbors import KNeighborsClassifier\n",
    "from sklearn.tree import DecisionTreeClassifier \n",
    "from sklearn.model_selection import train_test_split, cross_val_score\n",
    "from sklearn.utils.multiclass import unique_labels\n",
    "from sklearn import metrics\n",
    "from sklearn.svm import SVC\n",
    "\n",
    "print(os.listdir(\"../input\"))\n",
    "dim = 100"
   ]
  },
  {
   "cell_type": "code",
   "execution_count": null,
   "id": "3675f31a",
   "metadata": {},
   "outputs": [],
   "source": [
    "pca = PCA(n_components=2)\n",
    "dataIn2D = pca.fit_transform(X_train)\n",
    "plotPrincipalComponents(dataIn2D, 2)"
   ]
  },
  {
   "cell_type": "code",
   "execution_count": null,
   "id": "c488294b",
   "metadata": {},
   "outputs": [],
   "source": [
    "pca = PCA(n_components=3)\n",
    "dataIn3D = pca.fit_transform(X_train)\n",
    "plotPrincipalComponents(dataIn3D, 3)"
   ]
  },
  {
   "cell_type": "code",
   "execution_count": null,
   "id": "364a972f",
   "metadata": {},
   "outputs": [],
   "source": [
    "svm = SVC(gamma='auto', kernel='linear', probability=True)\n",
    "svm.fit(X_train, y_train) \n",
    "y_pred = svm.predict(X_test)\n",
    "\n",
    "#Evaluation\n",
    "precision = metrics.accuracy_score(y_pred, y_test) * 100\n",
    "print(\"Accuracy with SVM: {0:.2f}%\".format(precision))\n",
    "cm , _ = plot_confusion_matrix(y_test, y_pred,classes=y_train, normalize=True, title='Normalized confusion matrix')\n",
    "plt.show()\n",
    "\n",
    "# calculate the FPR and TPR for all thresholds of the classification\n",
    "probs = svm.predict_proba(X_test)\n",
    "probs = probs[:, 1]\n",
    "svm_fpr, svm_tpr, thresholds = metrics.roc_curve(y_test, probs)\n",
    "svm_auc = metrics.roc_auc_score(y_test, probs)"
   ]
  },
  {
   "cell_type": "code",
   "execution_count": null,
   "id": "db4cd678",
   "metadata": {},
   "outputs": [],
   "source": [
    "pca = PCA(n_components=2)\n",
    "X_train2D = pca.fit_transform(X_train)\n",
    "X_test2D = pca.fit_transform(X_test)\n",
    "\n",
    "svm.fit(X_train2D, y_train) \n",
    "test_predictions = svm.predict(X_test2D)\n",
    "precision = metrics.accuracy_score(test_predictions, y_test) * 100\n",
    "print(\"Accuracy with SVM considering only first 2PC: {0:.2f}%\".format(precision))\n",
    "\n",
    "#Plotting decision boundaries\n",
    "plot_decision_regions(X_train2D, y_train, clf=svm, legend=1)\n",
    "plt.xlabel('PC1')\n",
    "plt.ylabel('PC2')\n",
    "plt.title('Linear SVM Decision Boundaries')\n",
    "plt.show()"
   ]
  },
  {
   "cell_type": "code",
   "execution_count": null,
   "id": "d7d1804b",
   "metadata": {},
   "outputs": [],
   "source": [
    "svm_with_kernel = SVC(gamma=0.01, kernel='rbf', probability=True)\n",
    "svm_with_kernel.fit(X_train2D, y_train) \n",
    "y_pred = svm_with_kernel.predict(X_test2D)\n",
    "precision = metrics.accuracy_score(y_pred, y_test) * 100\n",
    "print(\"Accuracy with Not-Linear SVM considering only first 2PC: {0:.2f}%\".format(precision))\n",
    "\n",
    "#Plotting decision boundaries\n",
    "plot_decision_regions(X_train2D, y_train, clf=svm_with_kernel, legend=1)\n",
    "plt.xlabel('PC1')\n",
    "plt.ylabel('PC2')\n",
    "plt.title('Kernel SVM Decision Boundaries')\n",
    "plt.show()"
   ]
  },
  {
   "cell_type": "code",
   "execution_count": null,
   "id": "f1a5bdbd",
   "metadata": {},
   "outputs": [],
   "source": [
    "knn = KNeighborsClassifier(n_neighbors=2)\n",
    "knn.fit(X_train, y_train)\n",
    "y_pred = knn.predict(X_test)\n",
    "#Evaluation\n",
    "precision = metrics.accuracy_score(y_pred, y_test) * 100\n",
    "print(\"Accuracy with K-NN: {0:.2f}%\".format(precision))\n",
    "cm , _ = plot_confusion_matrix(y_test, y_pred, classes=y_train, normalize=True, title='Normalized confusion matrix')\n",
    "plt.show()\n",
    "\n",
    "# calculate the FPR and TPR for all thresholds of the classification\n",
    "probs = knn.predict_proba(X_test)\n",
    "probs = probs[:, 1]\n",
    "knn_fpr, knn_tpr, thresholds = metrics.roc_curve(y_test, probs)\n",
    "knn_auc = metrics.roc_auc_score(y_test, probs)"
   ]
  },
  {
   "cell_type": "code",
   "execution_count": null,
   "id": "52450a75",
   "metadata": {},
   "outputs": [],
   "source": [
    "#KNN + K-FOLD\n",
    "pred_kfold = cross_val_score(knn, X, y, cv=5) \n",
    "print(\"Accuracy with K-NN and K-FOLD CROSS VALIDATION: %0.2f (+/- %0.2f)\" % (pred_kfold.mean(), pred_kfold.std() * 2))"
   ]
  },
  {
   "cell_type": "code",
   "execution_count": null,
   "id": "648425b9",
   "metadata": {},
   "outputs": [],
   "source": [
    "#K-NN + PCA\n",
    "knn.fit(X_train2D, y_train)\n",
    "y_pred = knn.predict(X_test2D)\n",
    "precision = metrics.accuracy_score(y_pred, y_test) * 100\n",
    "print(\"Accuracy with K-NN considering only first 2PC: {0:.2f}%\".format(precision))\n",
    "\n",
    "#Plotting decision boundaries\n",
    "plot_decision_regions(X_train2D, y_train, clf=knn, legend=1)\n",
    "plt.xlabel('PC1')\n",
    "plt.ylabel('PC2')\n",
    "plt.title('K-NN Decision Boundaries')\n",
    "plt.show()"
   ]
  },
  {
   "cell_type": "code",
   "execution_count": null,
   "id": "9d703b20",
   "metadata": {},
   "outputs": [],
   "source": [
    "tree = DecisionTreeClassifier()\n",
    "tree = tree.fit(X_train,y_train)\n",
    "y_pred = tree.predict(X_test)\n",
    "\n",
    "#Evaluation\n",
    "precision = metrics.accuracy_score(y_pred, y_test) * 100\n",
    "print(\"Accuracy with Decision Tree: {0:.2f}%\".format(precision))\n",
    "cm , _ = plot_confusion_matrix(y_test, y_pred, classes=y_train, normalize=True, title='Normalized confusion matrix')\n",
    "plt.show()\n",
    "\n",
    "# calculate the FPR and TPR for all thresholds of the classification\n",
    "probs = tree.predict_proba(X_test)\n",
    "probs = probs[:, 1]\n",
    "tree_fpr, tree_tpr, thresholds = metrics.roc_curve(y_test, probs)\n",
    "tree_auc = metrics.roc_auc_score(y_test, probs)"
   ]
  },
  {
   "cell_type": "code",
   "execution_count": null,
   "id": "ad3791f8",
   "metadata": {},
   "outputs": [],
   "source": [
    "#DECISION TREE + K-FOLD\n",
    "pred_kfold = cross_val_score(tree, X, y, cv=5) \n",
    "print(\"Accuracy with DECISION TREE and K-FOLD CROSS VALIDATION: %0.2f (+/- %0.2f)\" % (pred_kfold.mean(), pred_kfold.std() * 2))"
   ]
  },
  {
   "cell_type": "code",
   "execution_count": null,
   "id": "116e9d2d",
   "metadata": {},
   "outputs": [],
   "source": [
    "#DECISION TREE + PCA\n",
    "tree = tree.fit(X_train2D,y_train)\n",
    "y_pred = tree.predict(X_test2D)\n",
    "precision = metrics.accuracy_score(y_pred, y_test) * 100\n",
    "print(\"Accuracy with Decision Tree considering only first 2PC: {0:.2f}%\".format(precision))\n",
    "\n",
    "#Plotting decision boundaries\n",
    "plot_decision_regions(X_train2D, y_train, clf=tree, legend=1)\n",
    "plt.xlabel('PC1')\n",
    "plt.ylabel('PC2')\n",
    "plt.title('Decision Tree Decision Boundaries')\n",
    "plt.show()"
   ]
  }
 ],
 "metadata": {
  "kernelspec": {
   "display_name": "Python 3",
   "language": "python",
   "name": "python3"
  },
  "language_info": {
   "codemirror_mode": {
    "name": "ipython",
    "version": 3
   },
   "file_extension": ".py",
   "mimetype": "text/x-python",
   "name": "python",
   "nbconvert_exporter": "python",
   "pygments_lexer": "ipython3",
   "version": "3.8.8"
  }
 },
 "nbformat": 4,
 "nbformat_minor": 5
}
