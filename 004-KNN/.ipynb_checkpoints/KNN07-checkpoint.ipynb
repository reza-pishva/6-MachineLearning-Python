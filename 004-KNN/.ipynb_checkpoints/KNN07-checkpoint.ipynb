{
 "cells": [
  {
   "cell_type": "markdown",
   "id": "96c2caa8",
   "metadata": {
    "id": "view-in-github",
    "papermill": {
     "duration": 0.015536,
     "end_time": "2023-06-27T11:24:44.764177",
     "exception": false,
     "start_time": "2023-06-27T11:24:44.748641",
     "status": "completed"
    },
    "tags": []
   },
   "source": [
    "<a href=\"https://colab.research.google.com/github/rohithreddy999/Machine_learning-AI-predictions/blob/main/Bank_marketing.ipynb\" target=\"_parent\"><img src=\"https://colab.research.google.com/assets/colab-badge.svg\" alt=\"Open In Colab\"/></a>"
   ]
  },
  {
   "cell_type": "code",
   "execution_count": 1,
   "id": "71f27d20",
   "metadata": {
    "execution": {
     "iopub.execute_input": "2023-06-27T11:24:44.795560Z",
     "iopub.status.busy": "2023-06-27T11:24:44.795052Z",
     "iopub.status.idle": "2023-06-27T11:24:46.410322Z",
     "shell.execute_reply": "2023-06-27T11:24:46.408971Z"
    },
    "id": "gCHyEZMv9GhH",
    "papermill": {
     "duration": 1.634698,
     "end_time": "2023-06-27T11:24:46.413660",
     "exception": false,
     "start_time": "2023-06-27T11:24:44.778962",
     "status": "completed"
    },
    "tags": []
   },
   "outputs": [],
   "source": [
    "import pandas as pd\n",
    "import numpy as np\n",
    "import seaborn as sns\n",
    "import matplotlib.pyplot as plt\n"
   ]
  },
  {
   "cell_type": "code",
   "execution_count": 2,
   "id": "11334cb5",
   "metadata": {
    "execution": {
     "iopub.execute_input": "2023-06-27T11:24:46.445684Z",
     "iopub.status.busy": "2023-06-27T11:24:46.444541Z",
     "iopub.status.idle": "2023-06-27T11:24:46.663147Z",
     "shell.execute_reply": "2023-06-27T11:24:46.662038Z"
    },
    "id": "90n6I2p89OXT",
    "papermill": {
     "duration": 0.238002,
     "end_time": "2023-06-27T11:24:46.666379",
     "exception": false,
     "start_time": "2023-06-27T11:24:46.428377",
     "status": "completed"
    },
    "tags": []
   },
   "outputs": [],
   "source": [
    "df=pd.read_csv(\"/kaggle/input/bank-marketing/Bank Marketing.csv\")"
   ]
  },
  {
   "cell_type": "code",
   "execution_count": 3,
   "id": "bcc160ab",
   "metadata": {
    "execution": {
     "iopub.execute_input": "2023-06-27T11:24:46.697898Z",
     "iopub.status.busy": "2023-06-27T11:24:46.696613Z",
     "iopub.status.idle": "2023-06-27T11:24:46.734317Z",
     "shell.execute_reply": "2023-06-27T11:24:46.733438Z"
    },
    "id": "GqHH_v6M9OU9",
    "outputId": "8bc7d621-6699-441f-b573-5fefd33dc682",
    "papermill": {
     "duration": 0.056073,
     "end_time": "2023-06-27T11:24:46.736907",
     "exception": false,
     "start_time": "2023-06-27T11:24:46.680834",
     "status": "completed"
    },
    "tags": []
   },
   "outputs": [
    {
     "data": {
      "text/html": [
       "<div>\n",
       "<style scoped>\n",
       "    .dataframe tbody tr th:only-of-type {\n",
       "        vertical-align: middle;\n",
       "    }\n",
       "\n",
       "    .dataframe tbody tr th {\n",
       "        vertical-align: top;\n",
       "    }\n",
       "\n",
       "    .dataframe thead th {\n",
       "        text-align: right;\n",
       "    }\n",
       "</style>\n",
       "<table border=\"1\" class=\"dataframe\">\n",
       "  <thead>\n",
       "    <tr style=\"text-align: right;\">\n",
       "      <th></th>\n",
       "      <th>id</th>\n",
       "      <th>V1</th>\n",
       "      <th>V2</th>\n",
       "      <th>V3</th>\n",
       "      <th>V4</th>\n",
       "      <th>V5</th>\n",
       "      <th>V6</th>\n",
       "      <th>V7</th>\n",
       "      <th>V8</th>\n",
       "      <th>V9</th>\n",
       "      <th>V10</th>\n",
       "      <th>V11</th>\n",
       "      <th>V12</th>\n",
       "      <th>V13</th>\n",
       "      <th>V14</th>\n",
       "      <th>V15</th>\n",
       "      <th>V16</th>\n",
       "      <th>Class</th>\n",
       "    </tr>\n",
       "  </thead>\n",
       "  <tbody>\n",
       "    <tr>\n",
       "      <th>0</th>\n",
       "      <td>1</td>\n",
       "      <td>58</td>\n",
       "      <td>management</td>\n",
       "      <td>married</td>\n",
       "      <td>tertiary</td>\n",
       "      <td>no</td>\n",
       "      <td>2143</td>\n",
       "      <td>yes</td>\n",
       "      <td>no</td>\n",
       "      <td>unknown</td>\n",
       "      <td>5</td>\n",
       "      <td>may</td>\n",
       "      <td>261</td>\n",
       "      <td>1</td>\n",
       "      <td>-1</td>\n",
       "      <td>0</td>\n",
       "      <td>unknown</td>\n",
       "      <td>1</td>\n",
       "    </tr>\n",
       "    <tr>\n",
       "      <th>1</th>\n",
       "      <td>2</td>\n",
       "      <td>44</td>\n",
       "      <td>technician</td>\n",
       "      <td>single</td>\n",
       "      <td>secondary</td>\n",
       "      <td>no</td>\n",
       "      <td>29</td>\n",
       "      <td>yes</td>\n",
       "      <td>no</td>\n",
       "      <td>unknown</td>\n",
       "      <td>5</td>\n",
       "      <td>may</td>\n",
       "      <td>151</td>\n",
       "      <td>1</td>\n",
       "      <td>-1</td>\n",
       "      <td>0</td>\n",
       "      <td>unknown</td>\n",
       "      <td>1</td>\n",
       "    </tr>\n",
       "    <tr>\n",
       "      <th>2</th>\n",
       "      <td>3</td>\n",
       "      <td>33</td>\n",
       "      <td>entrepreneur</td>\n",
       "      <td>married</td>\n",
       "      <td>secondary</td>\n",
       "      <td>no</td>\n",
       "      <td>2</td>\n",
       "      <td>yes</td>\n",
       "      <td>yes</td>\n",
       "      <td>unknown</td>\n",
       "      <td>5</td>\n",
       "      <td>may</td>\n",
       "      <td>76</td>\n",
       "      <td>1</td>\n",
       "      <td>-1</td>\n",
       "      <td>0</td>\n",
       "      <td>unknown</td>\n",
       "      <td>1</td>\n",
       "    </tr>\n",
       "    <tr>\n",
       "      <th>3</th>\n",
       "      <td>4</td>\n",
       "      <td>47</td>\n",
       "      <td>blue-collar</td>\n",
       "      <td>married</td>\n",
       "      <td>unknown</td>\n",
       "      <td>no</td>\n",
       "      <td>1506</td>\n",
       "      <td>yes</td>\n",
       "      <td>no</td>\n",
       "      <td>unknown</td>\n",
       "      <td>5</td>\n",
       "      <td>may</td>\n",
       "      <td>92</td>\n",
       "      <td>1</td>\n",
       "      <td>-1</td>\n",
       "      <td>0</td>\n",
       "      <td>unknown</td>\n",
       "      <td>1</td>\n",
       "    </tr>\n",
       "    <tr>\n",
       "      <th>4</th>\n",
       "      <td>5</td>\n",
       "      <td>33</td>\n",
       "      <td>unknown</td>\n",
       "      <td>single</td>\n",
       "      <td>unknown</td>\n",
       "      <td>no</td>\n",
       "      <td>1</td>\n",
       "      <td>no</td>\n",
       "      <td>no</td>\n",
       "      <td>unknown</td>\n",
       "      <td>5</td>\n",
       "      <td>may</td>\n",
       "      <td>198</td>\n",
       "      <td>1</td>\n",
       "      <td>-1</td>\n",
       "      <td>0</td>\n",
       "      <td>unknown</td>\n",
       "      <td>1</td>\n",
       "    </tr>\n",
       "  </tbody>\n",
       "</table>\n",
       "</div>"
      ],
      "text/plain": [
       "   id  V1            V2       V3         V4  V5    V6   V7   V8       V9  V10  \\\n",
       "0   1  58    management  married   tertiary  no  2143  yes   no  unknown    5   \n",
       "1   2  44    technician   single  secondary  no    29  yes   no  unknown    5   \n",
       "2   3  33  entrepreneur  married  secondary  no     2  yes  yes  unknown    5   \n",
       "3   4  47   blue-collar  married    unknown  no  1506  yes   no  unknown    5   \n",
       "4   5  33       unknown   single    unknown  no     1   no   no  unknown    5   \n",
       "\n",
       "   V11  V12  V13  V14  V15      V16  Class  \n",
       "0  may  261    1   -1    0  unknown      1  \n",
       "1  may  151    1   -1    0  unknown      1  \n",
       "2  may   76    1   -1    0  unknown      1  \n",
       "3  may   92    1   -1    0  unknown      1  \n",
       "4  may  198    1   -1    0  unknown      1  "
      ]
     },
     "execution_count": 3,
     "metadata": {},
     "output_type": "execute_result"
    }
   ],
   "source": [
    "df.head()"
   ]
  },
  {
   "cell_type": "code",
   "execution_count": 4,
   "id": "2e045910",
   "metadata": {
    "execution": {
     "iopub.execute_input": "2023-06-27T11:24:46.768574Z",
     "iopub.status.busy": "2023-06-27T11:24:46.767849Z",
     "iopub.status.idle": "2023-06-27T11:24:46.781743Z",
     "shell.execute_reply": "2023-06-27T11:24:46.780684Z"
    },
    "id": "PeKgvJM09OSk",
    "outputId": "d1b65ac8-681f-48e4-ed1e-af5e5b5d0c11",
    "papermill": {
     "duration": 0.03299,
     "end_time": "2023-06-27T11:24:46.784452",
     "exception": false,
     "start_time": "2023-06-27T11:24:46.751462",
     "status": "completed"
    },
    "tags": []
   },
   "outputs": [
    {
     "data": {
      "text/plain": [
       "array(['management', 'technician', 'entrepreneur', 'blue-collar',\n",
       "       'unknown', 'retired', 'admin.', 'services', 'self-employed',\n",
       "       'unemployed', 'housemaid', 'student'], dtype=object)"
      ]
     },
     "execution_count": 4,
     "metadata": {},
     "output_type": "execute_result"
    }
   ],
   "source": [
    "df.V2.unique()"
   ]
  },
  {
   "cell_type": "code",
   "execution_count": 5,
   "id": "8f5391b1",
   "metadata": {
    "execution": {
     "iopub.execute_input": "2023-06-27T11:24:46.818182Z",
     "iopub.status.busy": "2023-06-27T11:24:46.817340Z",
     "iopub.status.idle": "2023-06-27T11:24:46.829564Z",
     "shell.execute_reply": "2023-06-27T11:24:46.828429Z"
    },
    "id": "uPfj3m3j9OQR",
    "outputId": "849cef41-a65d-4a2b-f812-72f816fd2399",
    "papermill": {
     "duration": 0.032165,
     "end_time": "2023-06-27T11:24:46.832329",
     "exception": false,
     "start_time": "2023-06-27T11:24:46.800164",
     "status": "completed"
    },
    "tags": []
   },
   "outputs": [
    {
     "data": {
      "text/plain": [
       "array(['married', 'single', 'divorced'], dtype=object)"
      ]
     },
     "execution_count": 5,
     "metadata": {},
     "output_type": "execute_result"
    }
   ],
   "source": [
    "df.V3.unique()"
   ]
  },
  {
   "cell_type": "code",
   "execution_count": 6,
   "id": "1cdd500e",
   "metadata": {
    "execution": {
     "iopub.execute_input": "2023-06-27T11:24:46.866199Z",
     "iopub.status.busy": "2023-06-27T11:24:46.865276Z",
     "iopub.status.idle": "2023-06-27T11:24:46.877992Z",
     "shell.execute_reply": "2023-06-27T11:24:46.876767Z"
    },
    "id": "mTb_pxEu9ON8",
    "outputId": "7eda0100-be2a-451a-9e33-efdba4f6f9f1",
    "papermill": {
     "duration": 0.03301,
     "end_time": "2023-06-27T11:24:46.880440",
     "exception": false,
     "start_time": "2023-06-27T11:24:46.847430",
     "status": "completed"
    },
    "tags": []
   },
   "outputs": [
    {
     "data": {
      "text/plain": [
       "array(['tertiary', 'secondary', 'unknown', 'primary'], dtype=object)"
      ]
     },
     "execution_count": 6,
     "metadata": {},
     "output_type": "execute_result"
    }
   ],
   "source": [
    "df.V4.unique()"
   ]
  },
  {
   "cell_type": "code",
   "execution_count": 7,
   "id": "b839808f",
   "metadata": {
    "execution": {
     "iopub.execute_input": "2023-06-27T11:24:46.913820Z",
     "iopub.status.busy": "2023-06-27T11:24:46.912958Z",
     "iopub.status.idle": "2023-06-27T11:24:46.924863Z",
     "shell.execute_reply": "2023-06-27T11:24:46.923761Z"
    },
    "id": "Xt2kZO0b9OL1",
    "outputId": "146cb8cf-1cd1-4da6-8cb6-294530c29655",
    "papermill": {
     "duration": 0.031905,
     "end_time": "2023-06-27T11:24:46.927593",
     "exception": false,
     "start_time": "2023-06-27T11:24:46.895688",
     "status": "completed"
    },
    "tags": []
   },
   "outputs": [
    {
     "data": {
      "text/plain": [
       "array(['yes', 'no'], dtype=object)"
      ]
     },
     "execution_count": 7,
     "metadata": {},
     "output_type": "execute_result"
    }
   ],
   "source": [
    "df.V7.unique()"
   ]
  },
  {
   "cell_type": "code",
   "execution_count": 8,
   "id": "d575ab2b",
   "metadata": {
    "execution": {
     "iopub.execute_input": "2023-06-27T11:24:46.961435Z",
     "iopub.status.busy": "2023-06-27T11:24:46.960564Z",
     "iopub.status.idle": "2023-06-27T11:24:46.972881Z",
     "shell.execute_reply": "2023-06-27T11:24:46.971716Z"
    },
    "id": "z6FAOpQH9OJq",
    "outputId": "e9f3bf07-3a5e-4b42-c6ec-c8f9030337ed",
    "papermill": {
     "duration": 0.032305,
     "end_time": "2023-06-27T11:24:46.975386",
     "exception": false,
     "start_time": "2023-06-27T11:24:46.943081",
     "status": "completed"
    },
    "tags": []
   },
   "outputs": [
    {
     "data": {
      "text/plain": [
       "array(['unknown', 'cellular', 'telephone'], dtype=object)"
      ]
     },
     "execution_count": 8,
     "metadata": {},
     "output_type": "execute_result"
    }
   ],
   "source": [
    "df.V9.unique()"
   ]
  },
  {
   "cell_type": "code",
   "execution_count": 9,
   "id": "7f9dffdb",
   "metadata": {
    "execution": {
     "iopub.execute_input": "2023-06-27T11:24:47.009990Z",
     "iopub.status.busy": "2023-06-27T11:24:47.009578Z",
     "iopub.status.idle": "2023-06-27T11:24:47.021069Z",
     "shell.execute_reply": "2023-06-27T11:24:47.019873Z"
    },
    "id": "tcuIVHoM9OHh",
    "outputId": "7ee35975-c443-49d1-b9cf-1760e423840b",
    "papermill": {
     "duration": 0.031647,
     "end_time": "2023-06-27T11:24:47.023516",
     "exception": false,
     "start_time": "2023-06-27T11:24:46.991869",
     "status": "completed"
    },
    "tags": []
   },
   "outputs": [
    {
     "data": {
      "text/plain": [
       "array(['unknown', 'failure', 'other', 'success'], dtype=object)"
      ]
     },
     "execution_count": 9,
     "metadata": {},
     "output_type": "execute_result"
    }
   ],
   "source": [
    "df.V16.unique()"
   ]
  },
  {
   "cell_type": "code",
   "execution_count": 10,
   "id": "e971f13e",
   "metadata": {
    "execution": {
     "iopub.execute_input": "2023-06-27T11:24:47.057745Z",
     "iopub.status.busy": "2023-06-27T11:24:47.057333Z",
     "iopub.status.idle": "2023-06-27T11:24:47.068798Z",
     "shell.execute_reply": "2023-06-27T11:24:47.067420Z"
    },
    "id": "G6V4Q6b4ASVd",
    "outputId": "e92f9eff-1aa0-4802-dd7f-b7e71bdac4e3",
    "papermill": {
     "duration": 0.031754,
     "end_time": "2023-06-27T11:24:47.071294",
     "exception": false,
     "start_time": "2023-06-27T11:24:47.039540",
     "status": "completed"
    },
    "tags": []
   },
   "outputs": [
    {
     "data": {
      "text/plain": [
       "array([1, 2])"
      ]
     },
     "execution_count": 10,
     "metadata": {},
     "output_type": "execute_result"
    }
   ],
   "source": [
    "df.Class.unique()"
   ]
  },
  {
   "cell_type": "markdown",
   "id": "58010501",
   "metadata": {
    "id": "3Y5nIhun-zt8",
    "papermill": {
     "duration": 0.017525,
     "end_time": "2023-06-27T11:24:47.104824",
     "exception": false,
     "start_time": "2023-06-27T11:24:47.087299",
     "status": "completed"
    },
    "tags": []
   },
   "source": [
    "**DATA PREPROCESSING**"
   ]
  },
  {
   "cell_type": "markdown",
   "id": "6d75ccf2",
   "metadata": {
    "id": "gPmoSBqw-v4n",
    "papermill": {
     "duration": 0.015424,
     "end_time": "2023-06-27T11:24:47.136297",
     "exception": false,
     "start_time": "2023-06-27T11:24:47.120873",
     "status": "completed"
    },
    "tags": []
   },
   "source": [
    "DROPPING UNNECESSARY COLUMNS"
   ]
  },
  {
   "cell_type": "code",
   "execution_count": 11,
   "id": "0d068201",
   "metadata": {
    "execution": {
     "iopub.execute_input": "2023-06-27T11:24:47.169931Z",
     "iopub.status.busy": "2023-06-27T11:24:47.169430Z",
     "iopub.status.idle": "2023-06-27T11:24:47.185887Z",
     "shell.execute_reply": "2023-06-27T11:24:47.184891Z"
    },
    "id": "WdXIZWmb9OFH",
    "papermill": {
     "duration": 0.036533,
     "end_time": "2023-06-27T11:24:47.188560",
     "exception": false,
     "start_time": "2023-06-27T11:24:47.152027",
     "status": "completed"
    },
    "tags": []
   },
   "outputs": [],
   "source": [
    "df.drop(columns=\"id\",axis=1,inplace=True)"
   ]
  },
  {
   "cell_type": "code",
   "execution_count": 12,
   "id": "b9028ef9",
   "metadata": {
    "execution": {
     "iopub.execute_input": "2023-06-27T11:24:47.222920Z",
     "iopub.status.busy": "2023-06-27T11:24:47.222506Z",
     "iopub.status.idle": "2023-06-27T11:24:47.241158Z",
     "shell.execute_reply": "2023-06-27T11:24:47.240013Z"
    },
    "id": "tVldflnS9ODO",
    "outputId": "afd50187-39fc-4e88-aac4-4fba95451f25",
    "papermill": {
     "duration": 0.03835,
     "end_time": "2023-06-27T11:24:47.243429",
     "exception": false,
     "start_time": "2023-06-27T11:24:47.205079",
     "status": "completed"
    },
    "tags": []
   },
   "outputs": [
    {
     "data": {
      "text/html": [
       "<div>\n",
       "<style scoped>\n",
       "    .dataframe tbody tr th:only-of-type {\n",
       "        vertical-align: middle;\n",
       "    }\n",
       "\n",
       "    .dataframe tbody tr th {\n",
       "        vertical-align: top;\n",
       "    }\n",
       "\n",
       "    .dataframe thead th {\n",
       "        text-align: right;\n",
       "    }\n",
       "</style>\n",
       "<table border=\"1\" class=\"dataframe\">\n",
       "  <thead>\n",
       "    <tr style=\"text-align: right;\">\n",
       "      <th></th>\n",
       "      <th>V1</th>\n",
       "      <th>V2</th>\n",
       "      <th>V3</th>\n",
       "      <th>V4</th>\n",
       "      <th>V5</th>\n",
       "      <th>V6</th>\n",
       "      <th>V7</th>\n",
       "      <th>V8</th>\n",
       "      <th>V9</th>\n",
       "      <th>V10</th>\n",
       "      <th>V11</th>\n",
       "      <th>V12</th>\n",
       "      <th>V13</th>\n",
       "      <th>V14</th>\n",
       "      <th>V15</th>\n",
       "      <th>V16</th>\n",
       "      <th>Class</th>\n",
       "    </tr>\n",
       "  </thead>\n",
       "  <tbody>\n",
       "    <tr>\n",
       "      <th>0</th>\n",
       "      <td>58</td>\n",
       "      <td>management</td>\n",
       "      <td>married</td>\n",
       "      <td>tertiary</td>\n",
       "      <td>no</td>\n",
       "      <td>2143</td>\n",
       "      <td>yes</td>\n",
       "      <td>no</td>\n",
       "      <td>unknown</td>\n",
       "      <td>5</td>\n",
       "      <td>may</td>\n",
       "      <td>261</td>\n",
       "      <td>1</td>\n",
       "      <td>-1</td>\n",
       "      <td>0</td>\n",
       "      <td>unknown</td>\n",
       "      <td>1</td>\n",
       "    </tr>\n",
       "    <tr>\n",
       "      <th>1</th>\n",
       "      <td>44</td>\n",
       "      <td>technician</td>\n",
       "      <td>single</td>\n",
       "      <td>secondary</td>\n",
       "      <td>no</td>\n",
       "      <td>29</td>\n",
       "      <td>yes</td>\n",
       "      <td>no</td>\n",
       "      <td>unknown</td>\n",
       "      <td>5</td>\n",
       "      <td>may</td>\n",
       "      <td>151</td>\n",
       "      <td>1</td>\n",
       "      <td>-1</td>\n",
       "      <td>0</td>\n",
       "      <td>unknown</td>\n",
       "      <td>1</td>\n",
       "    </tr>\n",
       "  </tbody>\n",
       "</table>\n",
       "</div>"
      ],
      "text/plain": [
       "   V1          V2       V3         V4  V5    V6   V7  V8       V9  V10  V11  \\\n",
       "0  58  management  married   tertiary  no  2143  yes  no  unknown    5  may   \n",
       "1  44  technician   single  secondary  no    29  yes  no  unknown    5  may   \n",
       "\n",
       "   V12  V13  V14  V15      V16  Class  \n",
       "0  261    1   -1    0  unknown      1  \n",
       "1  151    1   -1    0  unknown      1  "
      ]
     },
     "execution_count": 12,
     "metadata": {},
     "output_type": "execute_result"
    }
   ],
   "source": [
    "df.head(2)"
   ]
  },
  {
   "cell_type": "markdown",
   "id": "afe1a9d2",
   "metadata": {
    "id": "NO7pyfap-qX2",
    "papermill": {
     "duration": 0.015737,
     "end_time": "2023-06-27T11:24:47.275269",
     "exception": false,
     "start_time": "2023-06-27T11:24:47.259532",
     "status": "completed"
    },
    "tags": []
   },
   "source": [
    "CONVERTING CATEGORICAL INTO NUMERICAL (LABEL ENCODING)"
   ]
  },
  {
   "cell_type": "code",
   "execution_count": 13,
   "id": "28d1f508",
   "metadata": {
    "execution": {
     "iopub.execute_input": "2023-06-27T11:24:47.309555Z",
     "iopub.status.busy": "2023-06-27T11:24:47.309096Z",
     "iopub.status.idle": "2023-06-27T11:24:47.638964Z",
     "shell.execute_reply": "2023-06-27T11:24:47.637632Z"
    },
    "id": "svQZM38S9OBv",
    "papermill": {
     "duration": 0.350601,
     "end_time": "2023-06-27T11:24:47.641908",
     "exception": false,
     "start_time": "2023-06-27T11:24:47.291307",
     "status": "completed"
    },
    "tags": []
   },
   "outputs": [],
   "source": [
    "from sklearn.preprocessing import LabelEncoder\n",
    "le=LabelEncoder()\n",
    "categorical_cols=[\"V2\"\t,\"V3\",\t\"V4\",\t\"V5\",\t\"V7\",\t\"V8\",\t\"V9\",\"V11\",\"V16\"]\n",
    "for col in categorical_cols:\n",
    "    df[col] = le.fit_transform(df[col])"
   ]
  },
  {
   "cell_type": "code",
   "execution_count": 14,
   "id": "52f966c0",
   "metadata": {
    "execution": {
     "iopub.execute_input": "2023-06-27T11:24:47.676028Z",
     "iopub.status.busy": "2023-06-27T11:24:47.675621Z",
     "iopub.status.idle": "2023-06-27T11:24:47.692364Z",
     "shell.execute_reply": "2023-06-27T11:24:47.691276Z"
    },
    "id": "xCZ-Mkof9OAE",
    "outputId": "c4cec1aa-80c6-40ed-ab93-c1a8119136fe",
    "papermill": {
     "duration": 0.036632,
     "end_time": "2023-06-27T11:24:47.694653",
     "exception": false,
     "start_time": "2023-06-27T11:24:47.658021",
     "status": "completed"
    },
    "tags": []
   },
   "outputs": [
    {
     "data": {
      "text/html": [
       "<div>\n",
       "<style scoped>\n",
       "    .dataframe tbody tr th:only-of-type {\n",
       "        vertical-align: middle;\n",
       "    }\n",
       "\n",
       "    .dataframe tbody tr th {\n",
       "        vertical-align: top;\n",
       "    }\n",
       "\n",
       "    .dataframe thead th {\n",
       "        text-align: right;\n",
       "    }\n",
       "</style>\n",
       "<table border=\"1\" class=\"dataframe\">\n",
       "  <thead>\n",
       "    <tr style=\"text-align: right;\">\n",
       "      <th></th>\n",
       "      <th>V1</th>\n",
       "      <th>V2</th>\n",
       "      <th>V3</th>\n",
       "      <th>V4</th>\n",
       "      <th>V5</th>\n",
       "      <th>V6</th>\n",
       "      <th>V7</th>\n",
       "      <th>V8</th>\n",
       "      <th>V9</th>\n",
       "      <th>V10</th>\n",
       "      <th>V11</th>\n",
       "      <th>V12</th>\n",
       "      <th>V13</th>\n",
       "      <th>V14</th>\n",
       "      <th>V15</th>\n",
       "      <th>V16</th>\n",
       "      <th>Class</th>\n",
       "    </tr>\n",
       "  </thead>\n",
       "  <tbody>\n",
       "    <tr>\n",
       "      <th>0</th>\n",
       "      <td>58</td>\n",
       "      <td>4</td>\n",
       "      <td>1</td>\n",
       "      <td>2</td>\n",
       "      <td>0</td>\n",
       "      <td>2143</td>\n",
       "      <td>1</td>\n",
       "      <td>0</td>\n",
       "      <td>2</td>\n",
       "      <td>5</td>\n",
       "      <td>8</td>\n",
       "      <td>261</td>\n",
       "      <td>1</td>\n",
       "      <td>-1</td>\n",
       "      <td>0</td>\n",
       "      <td>3</td>\n",
       "      <td>1</td>\n",
       "    </tr>\n",
       "    <tr>\n",
       "      <th>1</th>\n",
       "      <td>44</td>\n",
       "      <td>9</td>\n",
       "      <td>2</td>\n",
       "      <td>1</td>\n",
       "      <td>0</td>\n",
       "      <td>29</td>\n",
       "      <td>1</td>\n",
       "      <td>0</td>\n",
       "      <td>2</td>\n",
       "      <td>5</td>\n",
       "      <td>8</td>\n",
       "      <td>151</td>\n",
       "      <td>1</td>\n",
       "      <td>-1</td>\n",
       "      <td>0</td>\n",
       "      <td>3</td>\n",
       "      <td>1</td>\n",
       "    </tr>\n",
       "  </tbody>\n",
       "</table>\n",
       "</div>"
      ],
      "text/plain": [
       "   V1  V2  V3  V4  V5    V6  V7  V8  V9  V10  V11  V12  V13  V14  V15  V16  \\\n",
       "0  58   4   1   2   0  2143   1   0   2    5    8  261    1   -1    0    3   \n",
       "1  44   9   2   1   0    29   1   0   2    5    8  151    1   -1    0    3   \n",
       "\n",
       "   Class  \n",
       "0      1  \n",
       "1      1  "
      ]
     },
     "execution_count": 14,
     "metadata": {},
     "output_type": "execute_result"
    }
   ],
   "source": [
    "df.head(2)"
   ]
  },
  {
   "cell_type": "markdown",
   "id": "67ea18ee",
   "metadata": {
    "id": "wtR9lsdtAFSg",
    "papermill": {
     "duration": 0.015919,
     "end_time": "2023-06-27T11:24:47.727736",
     "exception": false,
     "start_time": "2023-06-27T11:24:47.711817",
     "status": "completed"
    },
    "tags": []
   },
   "source": [
    "CHECKING NULL VALUES"
   ]
  },
  {
   "cell_type": "code",
   "execution_count": 15,
   "id": "f26749ef",
   "metadata": {
    "execution": {
     "iopub.execute_input": "2023-06-27T11:24:47.762483Z",
     "iopub.status.busy": "2023-06-27T11:24:47.761413Z",
     "iopub.status.idle": "2023-06-27T11:24:47.773860Z",
     "shell.execute_reply": "2023-06-27T11:24:47.772638Z"
    },
    "id": "D3XqAYG39N7z",
    "outputId": "b2f7f60b-7ae7-4f00-cf80-df0d202c6c75",
    "papermill": {
     "duration": 0.032636,
     "end_time": "2023-06-27T11:24:47.776317",
     "exception": false,
     "start_time": "2023-06-27T11:24:47.743681",
     "status": "completed"
    },
    "tags": []
   },
   "outputs": [
    {
     "data": {
      "text/plain": [
       "V1       0\n",
       "V2       0\n",
       "V3       0\n",
       "V4       0\n",
       "V5       0\n",
       "V6       0\n",
       "V7       0\n",
       "V8       0\n",
       "V9       0\n",
       "V10      0\n",
       "V11      0\n",
       "V12      0\n",
       "V13      0\n",
       "V14      0\n",
       "V15      0\n",
       "V16      0\n",
       "Class    0\n",
       "dtype: int64"
      ]
     },
     "execution_count": 15,
     "metadata": {},
     "output_type": "execute_result"
    }
   ],
   "source": [
    "df.isnull().sum()"
   ]
  },
  {
   "cell_type": "code",
   "execution_count": 16,
   "id": "22e3655b",
   "metadata": {
    "execution": {
     "iopub.execute_input": "2023-06-27T11:24:47.810800Z",
     "iopub.status.busy": "2023-06-27T11:24:47.810351Z",
     "iopub.status.idle": "2023-06-27T11:24:47.817635Z",
     "shell.execute_reply": "2023-06-27T11:24:47.816463Z"
    },
    "id": "gBRTaty_BAc2",
    "outputId": "144eebed-4001-4d66-b300-8f7d9700b2a8",
    "papermill": {
     "duration": 0.027523,
     "end_time": "2023-06-27T11:24:47.820158",
     "exception": false,
     "start_time": "2023-06-27T11:24:47.792635",
     "status": "completed"
    },
    "tags": []
   },
   "outputs": [
    {
     "data": {
      "text/plain": [
       "(45211, 17)"
      ]
     },
     "execution_count": 16,
     "metadata": {},
     "output_type": "execute_result"
    }
   ],
   "source": [
    "df.shape"
   ]
  },
  {
   "cell_type": "code",
   "execution_count": 17,
   "id": "1f5a0a9e",
   "metadata": {
    "execution": {
     "iopub.execute_input": "2023-06-27T11:24:47.854574Z",
     "iopub.status.busy": "2023-06-27T11:24:47.854199Z",
     "iopub.status.idle": "2023-06-27T11:24:47.875997Z",
     "shell.execute_reply": "2023-06-27T11:24:47.874855Z"
    },
    "id": "prqt8TRnBAa1",
    "outputId": "ce578de5-c42d-4e21-b61b-281efc112ba0",
    "papermill": {
     "duration": 0.042406,
     "end_time": "2023-06-27T11:24:47.878766",
     "exception": false,
     "start_time": "2023-06-27T11:24:47.836360",
     "status": "completed"
    },
    "tags": []
   },
   "outputs": [
    {
     "name": "stdout",
     "output_type": "stream",
     "text": [
      "<class 'pandas.core.frame.DataFrame'>\n",
      "RangeIndex: 45211 entries, 0 to 45210\n",
      "Data columns (total 17 columns):\n",
      " #   Column  Non-Null Count  Dtype\n",
      "---  ------  --------------  -----\n",
      " 0   V1      45211 non-null  int64\n",
      " 1   V2      45211 non-null  int64\n",
      " 2   V3      45211 non-null  int64\n",
      " 3   V4      45211 non-null  int64\n",
      " 4   V5      45211 non-null  int64\n",
      " 5   V6      45211 non-null  int64\n",
      " 6   V7      45211 non-null  int64\n",
      " 7   V8      45211 non-null  int64\n",
      " 8   V9      45211 non-null  int64\n",
      " 9   V10     45211 non-null  int64\n",
      " 10  V11     45211 non-null  int64\n",
      " 11  V12     45211 non-null  int64\n",
      " 12  V13     45211 non-null  int64\n",
      " 13  V14     45211 non-null  int64\n",
      " 14  V15     45211 non-null  int64\n",
      " 15  V16     45211 non-null  int64\n",
      " 16  Class   45211 non-null  int64\n",
      "dtypes: int64(17)\n",
      "memory usage: 5.9 MB\n"
     ]
    }
   ],
   "source": [
    "df.info()"
   ]
  },
  {
   "cell_type": "code",
   "execution_count": 18,
   "id": "68cc2d14",
   "metadata": {
    "execution": {
     "iopub.execute_input": "2023-06-27T11:24:47.915717Z",
     "iopub.status.busy": "2023-06-27T11:24:47.915330Z",
     "iopub.status.idle": "2023-06-27T11:24:48.016135Z",
     "shell.execute_reply": "2023-06-27T11:24:48.015020Z"
    },
    "id": "bNSDq5ypBAYY",
    "outputId": "0356e2df-7f10-4a01-cf01-66bde9dcca87",
    "papermill": {
     "duration": 0.122666,
     "end_time": "2023-06-27T11:24:48.018742",
     "exception": false,
     "start_time": "2023-06-27T11:24:47.896076",
     "status": "completed"
    },
    "tags": []
   },
   "outputs": [
    {
     "data": {
      "text/html": [
       "<div>\n",
       "<style scoped>\n",
       "    .dataframe tbody tr th:only-of-type {\n",
       "        vertical-align: middle;\n",
       "    }\n",
       "\n",
       "    .dataframe tbody tr th {\n",
       "        vertical-align: top;\n",
       "    }\n",
       "\n",
       "    .dataframe thead th {\n",
       "        text-align: right;\n",
       "    }\n",
       "</style>\n",
       "<table border=\"1\" class=\"dataframe\">\n",
       "  <thead>\n",
       "    <tr style=\"text-align: right;\">\n",
       "      <th></th>\n",
       "      <th>V1</th>\n",
       "      <th>V2</th>\n",
       "      <th>V3</th>\n",
       "      <th>V4</th>\n",
       "      <th>V5</th>\n",
       "      <th>V6</th>\n",
       "      <th>V7</th>\n",
       "      <th>V8</th>\n",
       "      <th>V9</th>\n",
       "      <th>V10</th>\n",
       "      <th>V11</th>\n",
       "      <th>V12</th>\n",
       "      <th>V13</th>\n",
       "      <th>V14</th>\n",
       "      <th>V15</th>\n",
       "      <th>V16</th>\n",
       "      <th>Class</th>\n",
       "    </tr>\n",
       "  </thead>\n",
       "  <tbody>\n",
       "    <tr>\n",
       "      <th>count</th>\n",
       "      <td>45211.000000</td>\n",
       "      <td>45211.000000</td>\n",
       "      <td>45211.000000</td>\n",
       "      <td>45211.000000</td>\n",
       "      <td>45211.000000</td>\n",
       "      <td>45211.000000</td>\n",
       "      <td>45211.000000</td>\n",
       "      <td>45211.000000</td>\n",
       "      <td>45211.000000</td>\n",
       "      <td>45211.000000</td>\n",
       "      <td>45211.000000</td>\n",
       "      <td>45211.000000</td>\n",
       "      <td>45211.000000</td>\n",
       "      <td>45211.000000</td>\n",
       "      <td>45211.000000</td>\n",
       "      <td>45211.000000</td>\n",
       "      <td>45211.000000</td>\n",
       "    </tr>\n",
       "    <tr>\n",
       "      <th>mean</th>\n",
       "      <td>40.936210</td>\n",
       "      <td>4.339762</td>\n",
       "      <td>1.167725</td>\n",
       "      <td>1.224813</td>\n",
       "      <td>0.018027</td>\n",
       "      <td>1362.272058</td>\n",
       "      <td>0.555838</td>\n",
       "      <td>0.160226</td>\n",
       "      <td>0.640242</td>\n",
       "      <td>15.806419</td>\n",
       "      <td>5.523014</td>\n",
       "      <td>258.163080</td>\n",
       "      <td>2.763841</td>\n",
       "      <td>40.197828</td>\n",
       "      <td>0.580323</td>\n",
       "      <td>2.559974</td>\n",
       "      <td>1.116985</td>\n",
       "    </tr>\n",
       "    <tr>\n",
       "      <th>std</th>\n",
       "      <td>10.618762</td>\n",
       "      <td>3.272657</td>\n",
       "      <td>0.608230</td>\n",
       "      <td>0.747997</td>\n",
       "      <td>0.133049</td>\n",
       "      <td>3044.765829</td>\n",
       "      <td>0.496878</td>\n",
       "      <td>0.366820</td>\n",
       "      <td>0.897951</td>\n",
       "      <td>8.322476</td>\n",
       "      <td>3.006911</td>\n",
       "      <td>257.527812</td>\n",
       "      <td>3.098021</td>\n",
       "      <td>100.128746</td>\n",
       "      <td>2.303441</td>\n",
       "      <td>0.989059</td>\n",
       "      <td>0.321406</td>\n",
       "    </tr>\n",
       "    <tr>\n",
       "      <th>min</th>\n",
       "      <td>18.000000</td>\n",
       "      <td>0.000000</td>\n",
       "      <td>0.000000</td>\n",
       "      <td>0.000000</td>\n",
       "      <td>0.000000</td>\n",
       "      <td>-8019.000000</td>\n",
       "      <td>0.000000</td>\n",
       "      <td>0.000000</td>\n",
       "      <td>0.000000</td>\n",
       "      <td>1.000000</td>\n",
       "      <td>0.000000</td>\n",
       "      <td>0.000000</td>\n",
       "      <td>1.000000</td>\n",
       "      <td>-1.000000</td>\n",
       "      <td>0.000000</td>\n",
       "      <td>0.000000</td>\n",
       "      <td>1.000000</td>\n",
       "    </tr>\n",
       "    <tr>\n",
       "      <th>25%</th>\n",
       "      <td>33.000000</td>\n",
       "      <td>1.000000</td>\n",
       "      <td>1.000000</td>\n",
       "      <td>1.000000</td>\n",
       "      <td>0.000000</td>\n",
       "      <td>72.000000</td>\n",
       "      <td>0.000000</td>\n",
       "      <td>0.000000</td>\n",
       "      <td>0.000000</td>\n",
       "      <td>8.000000</td>\n",
       "      <td>3.000000</td>\n",
       "      <td>103.000000</td>\n",
       "      <td>1.000000</td>\n",
       "      <td>-1.000000</td>\n",
       "      <td>0.000000</td>\n",
       "      <td>3.000000</td>\n",
       "      <td>1.000000</td>\n",
       "    </tr>\n",
       "    <tr>\n",
       "      <th>50%</th>\n",
       "      <td>39.000000</td>\n",
       "      <td>4.000000</td>\n",
       "      <td>1.000000</td>\n",
       "      <td>1.000000</td>\n",
       "      <td>0.000000</td>\n",
       "      <td>448.000000</td>\n",
       "      <td>1.000000</td>\n",
       "      <td>0.000000</td>\n",
       "      <td>0.000000</td>\n",
       "      <td>16.000000</td>\n",
       "      <td>6.000000</td>\n",
       "      <td>180.000000</td>\n",
       "      <td>2.000000</td>\n",
       "      <td>-1.000000</td>\n",
       "      <td>0.000000</td>\n",
       "      <td>3.000000</td>\n",
       "      <td>1.000000</td>\n",
       "    </tr>\n",
       "    <tr>\n",
       "      <th>75%</th>\n",
       "      <td>48.000000</td>\n",
       "      <td>7.000000</td>\n",
       "      <td>2.000000</td>\n",
       "      <td>2.000000</td>\n",
       "      <td>0.000000</td>\n",
       "      <td>1428.000000</td>\n",
       "      <td>1.000000</td>\n",
       "      <td>0.000000</td>\n",
       "      <td>2.000000</td>\n",
       "      <td>21.000000</td>\n",
       "      <td>8.000000</td>\n",
       "      <td>319.000000</td>\n",
       "      <td>3.000000</td>\n",
       "      <td>-1.000000</td>\n",
       "      <td>0.000000</td>\n",
       "      <td>3.000000</td>\n",
       "      <td>1.000000</td>\n",
       "    </tr>\n",
       "    <tr>\n",
       "      <th>max</th>\n",
       "      <td>95.000000</td>\n",
       "      <td>11.000000</td>\n",
       "      <td>2.000000</td>\n",
       "      <td>3.000000</td>\n",
       "      <td>1.000000</td>\n",
       "      <td>102127.000000</td>\n",
       "      <td>1.000000</td>\n",
       "      <td>1.000000</td>\n",
       "      <td>2.000000</td>\n",
       "      <td>31.000000</td>\n",
       "      <td>11.000000</td>\n",
       "      <td>4918.000000</td>\n",
       "      <td>63.000000</td>\n",
       "      <td>871.000000</td>\n",
       "      <td>275.000000</td>\n",
       "      <td>3.000000</td>\n",
       "      <td>2.000000</td>\n",
       "    </tr>\n",
       "  </tbody>\n",
       "</table>\n",
       "</div>"
      ],
      "text/plain": [
       "                 V1            V2            V3            V4            V5  \\\n",
       "count  45211.000000  45211.000000  45211.000000  45211.000000  45211.000000   \n",
       "mean      40.936210      4.339762      1.167725      1.224813      0.018027   \n",
       "std       10.618762      3.272657      0.608230      0.747997      0.133049   \n",
       "min       18.000000      0.000000      0.000000      0.000000      0.000000   \n",
       "25%       33.000000      1.000000      1.000000      1.000000      0.000000   \n",
       "50%       39.000000      4.000000      1.000000      1.000000      0.000000   \n",
       "75%       48.000000      7.000000      2.000000      2.000000      0.000000   \n",
       "max       95.000000     11.000000      2.000000      3.000000      1.000000   \n",
       "\n",
       "                  V6            V7            V8            V9           V10  \\\n",
       "count   45211.000000  45211.000000  45211.000000  45211.000000  45211.000000   \n",
       "mean     1362.272058      0.555838      0.160226      0.640242     15.806419   \n",
       "std      3044.765829      0.496878      0.366820      0.897951      8.322476   \n",
       "min     -8019.000000      0.000000      0.000000      0.000000      1.000000   \n",
       "25%        72.000000      0.000000      0.000000      0.000000      8.000000   \n",
       "50%       448.000000      1.000000      0.000000      0.000000     16.000000   \n",
       "75%      1428.000000      1.000000      0.000000      2.000000     21.000000   \n",
       "max    102127.000000      1.000000      1.000000      2.000000     31.000000   \n",
       "\n",
       "                V11           V12           V13           V14           V15  \\\n",
       "count  45211.000000  45211.000000  45211.000000  45211.000000  45211.000000   \n",
       "mean       5.523014    258.163080      2.763841     40.197828      0.580323   \n",
       "std        3.006911    257.527812      3.098021    100.128746      2.303441   \n",
       "min        0.000000      0.000000      1.000000     -1.000000      0.000000   \n",
       "25%        3.000000    103.000000      1.000000     -1.000000      0.000000   \n",
       "50%        6.000000    180.000000      2.000000     -1.000000      0.000000   \n",
       "75%        8.000000    319.000000      3.000000     -1.000000      0.000000   \n",
       "max       11.000000   4918.000000     63.000000    871.000000    275.000000   \n",
       "\n",
       "                V16         Class  \n",
       "count  45211.000000  45211.000000  \n",
       "mean       2.559974      1.116985  \n",
       "std        0.989059      0.321406  \n",
       "min        0.000000      1.000000  \n",
       "25%        3.000000      1.000000  \n",
       "50%        3.000000      1.000000  \n",
       "75%        3.000000      1.000000  \n",
       "max        3.000000      2.000000  "
      ]
     },
     "execution_count": 18,
     "metadata": {},
     "output_type": "execute_result"
    }
   ],
   "source": [
    "df.describe()"
   ]
  },
  {
   "cell_type": "code",
   "execution_count": 19,
   "id": "d3467ea1",
   "metadata": {
    "execution": {
     "iopub.execute_input": "2023-06-27T11:24:48.055469Z",
     "iopub.status.busy": "2023-06-27T11:24:48.055040Z",
     "iopub.status.idle": "2023-06-27T11:24:48.144291Z",
     "shell.execute_reply": "2023-06-27T11:24:48.143118Z"
    },
    "id": "c-7wFM9NBHh2",
    "outputId": "817c9f13-fa68-4206-9c5d-5f37161ec642",
    "papermill": {
     "duration": 0.110968,
     "end_time": "2023-06-27T11:24:48.146932",
     "exception": false,
     "start_time": "2023-06-27T11:24:48.035964",
     "status": "completed"
    },
    "tags": []
   },
   "outputs": [
    {
     "data": {
      "text/html": [
       "<div>\n",
       "<style scoped>\n",
       "    .dataframe tbody tr th:only-of-type {\n",
       "        vertical-align: middle;\n",
       "    }\n",
       "\n",
       "    .dataframe tbody tr th {\n",
       "        vertical-align: top;\n",
       "    }\n",
       "\n",
       "    .dataframe thead th {\n",
       "        text-align: right;\n",
       "    }\n",
       "</style>\n",
       "<table border=\"1\" class=\"dataframe\">\n",
       "  <thead>\n",
       "    <tr style=\"text-align: right;\">\n",
       "      <th></th>\n",
       "      <th>V1</th>\n",
       "      <th>V2</th>\n",
       "      <th>V3</th>\n",
       "      <th>V4</th>\n",
       "      <th>V5</th>\n",
       "      <th>V6</th>\n",
       "      <th>V7</th>\n",
       "      <th>V8</th>\n",
       "      <th>V9</th>\n",
       "      <th>V10</th>\n",
       "      <th>V11</th>\n",
       "      <th>V12</th>\n",
       "      <th>V13</th>\n",
       "      <th>V14</th>\n",
       "      <th>V15</th>\n",
       "      <th>V16</th>\n",
       "      <th>Class</th>\n",
       "    </tr>\n",
       "  </thead>\n",
       "  <tbody>\n",
       "    <tr>\n",
       "      <th>V1</th>\n",
       "      <td>1.000000</td>\n",
       "      <td>-0.021868</td>\n",
       "      <td>-0.403240</td>\n",
       "      <td>-0.106807</td>\n",
       "      <td>-0.017879</td>\n",
       "      <td>0.097783</td>\n",
       "      <td>-0.185513</td>\n",
       "      <td>-0.015655</td>\n",
       "      <td>0.026221</td>\n",
       "      <td>-0.009120</td>\n",
       "      <td>-0.042357</td>\n",
       "      <td>-0.004648</td>\n",
       "      <td>0.004760</td>\n",
       "      <td>-0.023758</td>\n",
       "      <td>0.001288</td>\n",
       "      <td>0.007367</td>\n",
       "      <td>0.025155</td>\n",
       "    </tr>\n",
       "    <tr>\n",
       "      <th>V2</th>\n",
       "      <td>-0.021868</td>\n",
       "      <td>1.000000</td>\n",
       "      <td>0.062045</td>\n",
       "      <td>0.166707</td>\n",
       "      <td>-0.006853</td>\n",
       "      <td>0.018232</td>\n",
       "      <td>-0.125363</td>\n",
       "      <td>-0.033004</td>\n",
       "      <td>-0.082063</td>\n",
       "      <td>0.022856</td>\n",
       "      <td>-0.092870</td>\n",
       "      <td>0.004744</td>\n",
       "      <td>0.006839</td>\n",
       "      <td>-0.024455</td>\n",
       "      <td>-0.000911</td>\n",
       "      <td>0.011010</td>\n",
       "      <td>0.040438</td>\n",
       "    </tr>\n",
       "    <tr>\n",
       "      <th>V3</th>\n",
       "      <td>-0.403240</td>\n",
       "      <td>0.062045</td>\n",
       "      <td>1.000000</td>\n",
       "      <td>0.108576</td>\n",
       "      <td>-0.007023</td>\n",
       "      <td>0.002122</td>\n",
       "      <td>-0.016096</td>\n",
       "      <td>-0.046893</td>\n",
       "      <td>-0.039201</td>\n",
       "      <td>-0.005261</td>\n",
       "      <td>-0.006991</td>\n",
       "      <td>0.011852</td>\n",
       "      <td>-0.008994</td>\n",
       "      <td>0.019172</td>\n",
       "      <td>0.014973</td>\n",
       "      <td>-0.016850</td>\n",
       "      <td>0.045588</td>\n",
       "    </tr>\n",
       "    <tr>\n",
       "      <th>V4</th>\n",
       "      <td>-0.106807</td>\n",
       "      <td>0.166707</td>\n",
       "      <td>0.108576</td>\n",
       "      <td>1.000000</td>\n",
       "      <td>-0.010718</td>\n",
       "      <td>0.064514</td>\n",
       "      <td>-0.090790</td>\n",
       "      <td>-0.048574</td>\n",
       "      <td>-0.110928</td>\n",
       "      <td>0.022671</td>\n",
       "      <td>-0.057304</td>\n",
       "      <td>0.001935</td>\n",
       "      <td>0.006255</td>\n",
       "      <td>0.000052</td>\n",
       "      <td>0.017570</td>\n",
       "      <td>-0.019361</td>\n",
       "      <td>0.066241</td>\n",
       "    </tr>\n",
       "    <tr>\n",
       "      <th>V5</th>\n",
       "      <td>-0.017879</td>\n",
       "      <td>-0.006853</td>\n",
       "      <td>-0.007023</td>\n",
       "      <td>-0.010718</td>\n",
       "      <td>1.000000</td>\n",
       "      <td>-0.066745</td>\n",
       "      <td>-0.006025</td>\n",
       "      <td>0.077234</td>\n",
       "      <td>0.015404</td>\n",
       "      <td>0.009424</td>\n",
       "      <td>0.011486</td>\n",
       "      <td>-0.010021</td>\n",
       "      <td>0.016822</td>\n",
       "      <td>-0.029979</td>\n",
       "      <td>-0.018329</td>\n",
       "      <td>0.034898</td>\n",
       "      <td>-0.022419</td>\n",
       "    </tr>\n",
       "    <tr>\n",
       "      <th>V6</th>\n",
       "      <td>0.097783</td>\n",
       "      <td>0.018232</td>\n",
       "      <td>0.002122</td>\n",
       "      <td>0.064514</td>\n",
       "      <td>-0.066745</td>\n",
       "      <td>1.000000</td>\n",
       "      <td>-0.068768</td>\n",
       "      <td>-0.084350</td>\n",
       "      <td>-0.027273</td>\n",
       "      <td>0.004503</td>\n",
       "      <td>0.019777</td>\n",
       "      <td>0.021560</td>\n",
       "      <td>-0.014578</td>\n",
       "      <td>0.003435</td>\n",
       "      <td>0.016674</td>\n",
       "      <td>-0.020967</td>\n",
       "      <td>0.052838</td>\n",
       "    </tr>\n",
       "    <tr>\n",
       "      <th>V7</th>\n",
       "      <td>-0.185513</td>\n",
       "      <td>-0.125363</td>\n",
       "      <td>-0.016096</td>\n",
       "      <td>-0.090790</td>\n",
       "      <td>-0.006025</td>\n",
       "      <td>-0.068768</td>\n",
       "      <td>1.000000</td>\n",
       "      <td>0.041323</td>\n",
       "      <td>0.188123</td>\n",
       "      <td>-0.027982</td>\n",
       "      <td>0.271481</td>\n",
       "      <td>0.005075</td>\n",
       "      <td>-0.023599</td>\n",
       "      <td>0.124178</td>\n",
       "      <td>0.037076</td>\n",
       "      <td>-0.099971</td>\n",
       "      <td>-0.139173</td>\n",
       "    </tr>\n",
       "    <tr>\n",
       "      <th>V8</th>\n",
       "      <td>-0.015655</td>\n",
       "      <td>-0.033004</td>\n",
       "      <td>-0.046893</td>\n",
       "      <td>-0.048574</td>\n",
       "      <td>0.077234</td>\n",
       "      <td>-0.084350</td>\n",
       "      <td>0.041323</td>\n",
       "      <td>1.000000</td>\n",
       "      <td>-0.010873</td>\n",
       "      <td>0.011370</td>\n",
       "      <td>0.022145</td>\n",
       "      <td>-0.012412</td>\n",
       "      <td>0.009980</td>\n",
       "      <td>-0.022754</td>\n",
       "      <td>-0.011043</td>\n",
       "      <td>0.015458</td>\n",
       "      <td>-0.068185</td>\n",
       "    </tr>\n",
       "    <tr>\n",
       "      <th>V9</th>\n",
       "      <td>0.026221</td>\n",
       "      <td>-0.082063</td>\n",
       "      <td>-0.039201</td>\n",
       "      <td>-0.110928</td>\n",
       "      <td>0.015404</td>\n",
       "      <td>-0.027273</td>\n",
       "      <td>0.188123</td>\n",
       "      <td>-0.010873</td>\n",
       "      <td>1.000000</td>\n",
       "      <td>-0.027936</td>\n",
       "      <td>0.361145</td>\n",
       "      <td>-0.020839</td>\n",
       "      <td>0.019614</td>\n",
       "      <td>-0.244816</td>\n",
       "      <td>-0.147811</td>\n",
       "      <td>0.272214</td>\n",
       "      <td>-0.148395</td>\n",
       "    </tr>\n",
       "    <tr>\n",
       "      <th>V10</th>\n",
       "      <td>-0.009120</td>\n",
       "      <td>0.022856</td>\n",
       "      <td>-0.005261</td>\n",
       "      <td>0.022671</td>\n",
       "      <td>0.009424</td>\n",
       "      <td>0.004503</td>\n",
       "      <td>-0.027982</td>\n",
       "      <td>0.011370</td>\n",
       "      <td>-0.027936</td>\n",
       "      <td>1.000000</td>\n",
       "      <td>-0.006028</td>\n",
       "      <td>-0.030206</td>\n",
       "      <td>0.162490</td>\n",
       "      <td>-0.093044</td>\n",
       "      <td>-0.051710</td>\n",
       "      <td>0.083460</td>\n",
       "      <td>-0.028348</td>\n",
       "    </tr>\n",
       "    <tr>\n",
       "      <th>V11</th>\n",
       "      <td>-0.042357</td>\n",
       "      <td>-0.092870</td>\n",
       "      <td>-0.006991</td>\n",
       "      <td>-0.057304</td>\n",
       "      <td>0.011486</td>\n",
       "      <td>0.019777</td>\n",
       "      <td>0.271481</td>\n",
       "      <td>0.022145</td>\n",
       "      <td>0.361145</td>\n",
       "      <td>-0.006028</td>\n",
       "      <td>1.000000</td>\n",
       "      <td>0.006314</td>\n",
       "      <td>-0.110031</td>\n",
       "      <td>0.033065</td>\n",
       "      <td>0.022727</td>\n",
       "      <td>-0.033038</td>\n",
       "      <td>-0.024471</td>\n",
       "    </tr>\n",
       "    <tr>\n",
       "      <th>V12</th>\n",
       "      <td>-0.004648</td>\n",
       "      <td>0.004744</td>\n",
       "      <td>0.011852</td>\n",
       "      <td>0.001935</td>\n",
       "      <td>-0.010021</td>\n",
       "      <td>0.021560</td>\n",
       "      <td>0.005075</td>\n",
       "      <td>-0.012412</td>\n",
       "      <td>-0.020839</td>\n",
       "      <td>-0.030206</td>\n",
       "      <td>0.006314</td>\n",
       "      <td>1.000000</td>\n",
       "      <td>-0.084570</td>\n",
       "      <td>-0.001565</td>\n",
       "      <td>0.001203</td>\n",
       "      <td>0.010925</td>\n",
       "      <td>0.394521</td>\n",
       "    </tr>\n",
       "    <tr>\n",
       "      <th>V13</th>\n",
       "      <td>0.004760</td>\n",
       "      <td>0.006839</td>\n",
       "      <td>-0.008994</td>\n",
       "      <td>0.006255</td>\n",
       "      <td>0.016822</td>\n",
       "      <td>-0.014578</td>\n",
       "      <td>-0.023599</td>\n",
       "      <td>0.009980</td>\n",
       "      <td>0.019614</td>\n",
       "      <td>0.162490</td>\n",
       "      <td>-0.110031</td>\n",
       "      <td>-0.084570</td>\n",
       "      <td>1.000000</td>\n",
       "      <td>-0.088628</td>\n",
       "      <td>-0.032855</td>\n",
       "      <td>0.101588</td>\n",
       "      <td>-0.073172</td>\n",
       "    </tr>\n",
       "    <tr>\n",
       "      <th>V14</th>\n",
       "      <td>-0.023758</td>\n",
       "      <td>-0.024455</td>\n",
       "      <td>0.019172</td>\n",
       "      <td>0.000052</td>\n",
       "      <td>-0.029979</td>\n",
       "      <td>0.003435</td>\n",
       "      <td>0.124178</td>\n",
       "      <td>-0.022754</td>\n",
       "      <td>-0.244816</td>\n",
       "      <td>-0.093044</td>\n",
       "      <td>0.033065</td>\n",
       "      <td>-0.001565</td>\n",
       "      <td>-0.088628</td>\n",
       "      <td>1.000000</td>\n",
       "      <td>0.454820</td>\n",
       "      <td>-0.858362</td>\n",
       "      <td>0.103621</td>\n",
       "    </tr>\n",
       "    <tr>\n",
       "      <th>V15</th>\n",
       "      <td>0.001288</td>\n",
       "      <td>-0.000911</td>\n",
       "      <td>0.014973</td>\n",
       "      <td>0.017570</td>\n",
       "      <td>-0.018329</td>\n",
       "      <td>0.016674</td>\n",
       "      <td>0.037076</td>\n",
       "      <td>-0.011043</td>\n",
       "      <td>-0.147811</td>\n",
       "      <td>-0.051710</td>\n",
       "      <td>0.022727</td>\n",
       "      <td>0.001203</td>\n",
       "      <td>-0.032855</td>\n",
       "      <td>0.454820</td>\n",
       "      <td>1.000000</td>\n",
       "      <td>-0.489752</td>\n",
       "      <td>0.093236</td>\n",
       "    </tr>\n",
       "    <tr>\n",
       "      <th>V16</th>\n",
       "      <td>0.007367</td>\n",
       "      <td>0.011010</td>\n",
       "      <td>-0.016850</td>\n",
       "      <td>-0.019361</td>\n",
       "      <td>0.034898</td>\n",
       "      <td>-0.020967</td>\n",
       "      <td>-0.099971</td>\n",
       "      <td>0.015458</td>\n",
       "      <td>0.272214</td>\n",
       "      <td>0.083460</td>\n",
       "      <td>-0.033038</td>\n",
       "      <td>0.010925</td>\n",
       "      <td>0.101588</td>\n",
       "      <td>-0.858362</td>\n",
       "      <td>-0.489752</td>\n",
       "      <td>1.000000</td>\n",
       "      <td>-0.077840</td>\n",
       "    </tr>\n",
       "    <tr>\n",
       "      <th>Class</th>\n",
       "      <td>0.025155</td>\n",
       "      <td>0.040438</td>\n",
       "      <td>0.045588</td>\n",
       "      <td>0.066241</td>\n",
       "      <td>-0.022419</td>\n",
       "      <td>0.052838</td>\n",
       "      <td>-0.139173</td>\n",
       "      <td>-0.068185</td>\n",
       "      <td>-0.148395</td>\n",
       "      <td>-0.028348</td>\n",
       "      <td>-0.024471</td>\n",
       "      <td>0.394521</td>\n",
       "      <td>-0.073172</td>\n",
       "      <td>0.103621</td>\n",
       "      <td>0.093236</td>\n",
       "      <td>-0.077840</td>\n",
       "      <td>1.000000</td>\n",
       "    </tr>\n",
       "  </tbody>\n",
       "</table>\n",
       "</div>"
      ],
      "text/plain": [
       "             V1        V2        V3        V4        V5        V6        V7  \\\n",
       "V1     1.000000 -0.021868 -0.403240 -0.106807 -0.017879  0.097783 -0.185513   \n",
       "V2    -0.021868  1.000000  0.062045  0.166707 -0.006853  0.018232 -0.125363   \n",
       "V3    -0.403240  0.062045  1.000000  0.108576 -0.007023  0.002122 -0.016096   \n",
       "V4    -0.106807  0.166707  0.108576  1.000000 -0.010718  0.064514 -0.090790   \n",
       "V5    -0.017879 -0.006853 -0.007023 -0.010718  1.000000 -0.066745 -0.006025   \n",
       "V6     0.097783  0.018232  0.002122  0.064514 -0.066745  1.000000 -0.068768   \n",
       "V7    -0.185513 -0.125363 -0.016096 -0.090790 -0.006025 -0.068768  1.000000   \n",
       "V8    -0.015655 -0.033004 -0.046893 -0.048574  0.077234 -0.084350  0.041323   \n",
       "V9     0.026221 -0.082063 -0.039201 -0.110928  0.015404 -0.027273  0.188123   \n",
       "V10   -0.009120  0.022856 -0.005261  0.022671  0.009424  0.004503 -0.027982   \n",
       "V11   -0.042357 -0.092870 -0.006991 -0.057304  0.011486  0.019777  0.271481   \n",
       "V12   -0.004648  0.004744  0.011852  0.001935 -0.010021  0.021560  0.005075   \n",
       "V13    0.004760  0.006839 -0.008994  0.006255  0.016822 -0.014578 -0.023599   \n",
       "V14   -0.023758 -0.024455  0.019172  0.000052 -0.029979  0.003435  0.124178   \n",
       "V15    0.001288 -0.000911  0.014973  0.017570 -0.018329  0.016674  0.037076   \n",
       "V16    0.007367  0.011010 -0.016850 -0.019361  0.034898 -0.020967 -0.099971   \n",
       "Class  0.025155  0.040438  0.045588  0.066241 -0.022419  0.052838 -0.139173   \n",
       "\n",
       "             V8        V9       V10       V11       V12       V13       V14  \\\n",
       "V1    -0.015655  0.026221 -0.009120 -0.042357 -0.004648  0.004760 -0.023758   \n",
       "V2    -0.033004 -0.082063  0.022856 -0.092870  0.004744  0.006839 -0.024455   \n",
       "V3    -0.046893 -0.039201 -0.005261 -0.006991  0.011852 -0.008994  0.019172   \n",
       "V4    -0.048574 -0.110928  0.022671 -0.057304  0.001935  0.006255  0.000052   \n",
       "V5     0.077234  0.015404  0.009424  0.011486 -0.010021  0.016822 -0.029979   \n",
       "V6    -0.084350 -0.027273  0.004503  0.019777  0.021560 -0.014578  0.003435   \n",
       "V7     0.041323  0.188123 -0.027982  0.271481  0.005075 -0.023599  0.124178   \n",
       "V8     1.000000 -0.010873  0.011370  0.022145 -0.012412  0.009980 -0.022754   \n",
       "V9    -0.010873  1.000000 -0.027936  0.361145 -0.020839  0.019614 -0.244816   \n",
       "V10    0.011370 -0.027936  1.000000 -0.006028 -0.030206  0.162490 -0.093044   \n",
       "V11    0.022145  0.361145 -0.006028  1.000000  0.006314 -0.110031  0.033065   \n",
       "V12   -0.012412 -0.020839 -0.030206  0.006314  1.000000 -0.084570 -0.001565   \n",
       "V13    0.009980  0.019614  0.162490 -0.110031 -0.084570  1.000000 -0.088628   \n",
       "V14   -0.022754 -0.244816 -0.093044  0.033065 -0.001565 -0.088628  1.000000   \n",
       "V15   -0.011043 -0.147811 -0.051710  0.022727  0.001203 -0.032855  0.454820   \n",
       "V16    0.015458  0.272214  0.083460 -0.033038  0.010925  0.101588 -0.858362   \n",
       "Class -0.068185 -0.148395 -0.028348 -0.024471  0.394521 -0.073172  0.103621   \n",
       "\n",
       "            V15       V16     Class  \n",
       "V1     0.001288  0.007367  0.025155  \n",
       "V2    -0.000911  0.011010  0.040438  \n",
       "V3     0.014973 -0.016850  0.045588  \n",
       "V4     0.017570 -0.019361  0.066241  \n",
       "V5    -0.018329  0.034898 -0.022419  \n",
       "V6     0.016674 -0.020967  0.052838  \n",
       "V7     0.037076 -0.099971 -0.139173  \n",
       "V8    -0.011043  0.015458 -0.068185  \n",
       "V9    -0.147811  0.272214 -0.148395  \n",
       "V10   -0.051710  0.083460 -0.028348  \n",
       "V11    0.022727 -0.033038 -0.024471  \n",
       "V12    0.001203  0.010925  0.394521  \n",
       "V13   -0.032855  0.101588 -0.073172  \n",
       "V14    0.454820 -0.858362  0.103621  \n",
       "V15    1.000000 -0.489752  0.093236  \n",
       "V16   -0.489752  1.000000 -0.077840  \n",
       "Class  0.093236 -0.077840  1.000000  "
      ]
     },
     "execution_count": 19,
     "metadata": {},
     "output_type": "execute_result"
    }
   ],
   "source": [
    "df.corr()"
   ]
  },
  {
   "cell_type": "markdown",
   "id": "2a28653f",
   "metadata": {
    "id": "eEoRIDqGApA7",
    "papermill": {
     "duration": 0.017827,
     "end_time": "2023-06-27T11:24:48.183672",
     "exception": false,
     "start_time": "2023-06-27T11:24:48.165845",
     "status": "completed"
    },
    "tags": []
   },
   "source": [
    "CHOOSING THE DEPENDENT AND INDEPENDENT ATTRIBUTES"
   ]
  },
  {
   "cell_type": "code",
   "execution_count": 20,
   "id": "acc9e06a",
   "metadata": {
    "execution": {
     "iopub.execute_input": "2023-06-27T11:24:48.221518Z",
     "iopub.status.busy": "2023-06-27T11:24:48.221126Z",
     "iopub.status.idle": "2023-06-27T11:24:48.241868Z",
     "shell.execute_reply": "2023-06-27T11:24:48.240777Z"
    },
    "id": "baJqYyPfAltd",
    "outputId": "5a59384e-61c6-4ee9-92a1-e2cb8c841418",
    "papermill": {
     "duration": 0.042614,
     "end_time": "2023-06-27T11:24:48.244171",
     "exception": false,
     "start_time": "2023-06-27T11:24:48.201557",
     "status": "completed"
    },
    "tags": []
   },
   "outputs": [
    {
     "data": {
      "text/html": [
       "<div>\n",
       "<style scoped>\n",
       "    .dataframe tbody tr th:only-of-type {\n",
       "        vertical-align: middle;\n",
       "    }\n",
       "\n",
       "    .dataframe tbody tr th {\n",
       "        vertical-align: top;\n",
       "    }\n",
       "\n",
       "    .dataframe thead th {\n",
       "        text-align: right;\n",
       "    }\n",
       "</style>\n",
       "<table border=\"1\" class=\"dataframe\">\n",
       "  <thead>\n",
       "    <tr style=\"text-align: right;\">\n",
       "      <th></th>\n",
       "      <th>V1</th>\n",
       "      <th>V2</th>\n",
       "      <th>V3</th>\n",
       "      <th>V4</th>\n",
       "      <th>V5</th>\n",
       "      <th>V6</th>\n",
       "      <th>V7</th>\n",
       "      <th>V8</th>\n",
       "      <th>V9</th>\n",
       "      <th>V10</th>\n",
       "      <th>V11</th>\n",
       "      <th>V12</th>\n",
       "      <th>V13</th>\n",
       "      <th>V14</th>\n",
       "      <th>V15</th>\n",
       "      <th>V16</th>\n",
       "    </tr>\n",
       "  </thead>\n",
       "  <tbody>\n",
       "    <tr>\n",
       "      <th>0</th>\n",
       "      <td>58</td>\n",
       "      <td>4</td>\n",
       "      <td>1</td>\n",
       "      <td>2</td>\n",
       "      <td>0</td>\n",
       "      <td>2143</td>\n",
       "      <td>1</td>\n",
       "      <td>0</td>\n",
       "      <td>2</td>\n",
       "      <td>5</td>\n",
       "      <td>8</td>\n",
       "      <td>261</td>\n",
       "      <td>1</td>\n",
       "      <td>-1</td>\n",
       "      <td>0</td>\n",
       "      <td>3</td>\n",
       "    </tr>\n",
       "    <tr>\n",
       "      <th>1</th>\n",
       "      <td>44</td>\n",
       "      <td>9</td>\n",
       "      <td>2</td>\n",
       "      <td>1</td>\n",
       "      <td>0</td>\n",
       "      <td>29</td>\n",
       "      <td>1</td>\n",
       "      <td>0</td>\n",
       "      <td>2</td>\n",
       "      <td>5</td>\n",
       "      <td>8</td>\n",
       "      <td>151</td>\n",
       "      <td>1</td>\n",
       "      <td>-1</td>\n",
       "      <td>0</td>\n",
       "      <td>3</td>\n",
       "    </tr>\n",
       "    <tr>\n",
       "      <th>2</th>\n",
       "      <td>33</td>\n",
       "      <td>2</td>\n",
       "      <td>1</td>\n",
       "      <td>1</td>\n",
       "      <td>0</td>\n",
       "      <td>2</td>\n",
       "      <td>1</td>\n",
       "      <td>1</td>\n",
       "      <td>2</td>\n",
       "      <td>5</td>\n",
       "      <td>8</td>\n",
       "      <td>76</td>\n",
       "      <td>1</td>\n",
       "      <td>-1</td>\n",
       "      <td>0</td>\n",
       "      <td>3</td>\n",
       "    </tr>\n",
       "    <tr>\n",
       "      <th>3</th>\n",
       "      <td>47</td>\n",
       "      <td>1</td>\n",
       "      <td>1</td>\n",
       "      <td>3</td>\n",
       "      <td>0</td>\n",
       "      <td>1506</td>\n",
       "      <td>1</td>\n",
       "      <td>0</td>\n",
       "      <td>2</td>\n",
       "      <td>5</td>\n",
       "      <td>8</td>\n",
       "      <td>92</td>\n",
       "      <td>1</td>\n",
       "      <td>-1</td>\n",
       "      <td>0</td>\n",
       "      <td>3</td>\n",
       "    </tr>\n",
       "    <tr>\n",
       "      <th>4</th>\n",
       "      <td>33</td>\n",
       "      <td>11</td>\n",
       "      <td>2</td>\n",
       "      <td>3</td>\n",
       "      <td>0</td>\n",
       "      <td>1</td>\n",
       "      <td>0</td>\n",
       "      <td>0</td>\n",
       "      <td>2</td>\n",
       "      <td>5</td>\n",
       "      <td>8</td>\n",
       "      <td>198</td>\n",
       "      <td>1</td>\n",
       "      <td>-1</td>\n",
       "      <td>0</td>\n",
       "      <td>3</td>\n",
       "    </tr>\n",
       "  </tbody>\n",
       "</table>\n",
       "</div>"
      ],
      "text/plain": [
       "   V1  V2  V3  V4  V5    V6  V7  V8  V9  V10  V11  V12  V13  V14  V15  V16\n",
       "0  58   4   1   2   0  2143   1   0   2    5    8  261    1   -1    0    3\n",
       "1  44   9   2   1   0    29   1   0   2    5    8  151    1   -1    0    3\n",
       "2  33   2   1   1   0     2   1   1   2    5    8   76    1   -1    0    3\n",
       "3  47   1   1   3   0  1506   1   0   2    5    8   92    1   -1    0    3\n",
       "4  33  11   2   3   0     1   0   0   2    5    8  198    1   -1    0    3"
      ]
     },
     "execution_count": 20,
     "metadata": {},
     "output_type": "execute_result"
    }
   ],
   "source": [
    "x=df.drop(columns=\"Class\",axis=1)\n",
    "x.head()"
   ]
  },
  {
   "cell_type": "code",
   "execution_count": 21,
   "id": "2b406a8e",
   "metadata": {
    "execution": {
     "iopub.execute_input": "2023-06-27T11:24:48.283293Z",
     "iopub.status.busy": "2023-06-27T11:24:48.282892Z",
     "iopub.status.idle": "2023-06-27T11:24:48.300150Z",
     "shell.execute_reply": "2023-06-27T11:24:48.299099Z"
    },
    "id": "Q-ZzgIswAlq-",
    "outputId": "68f4f260-caa8-4e0c-eaa4-6218173ae063",
    "papermill": {
     "duration": 0.039572,
     "end_time": "2023-06-27T11:24:48.302617",
     "exception": false,
     "start_time": "2023-06-27T11:24:48.263045",
     "status": "completed"
    },
    "tags": []
   },
   "outputs": [
    {
     "data": {
      "text/html": [
       "<div>\n",
       "<style scoped>\n",
       "    .dataframe tbody tr th:only-of-type {\n",
       "        vertical-align: middle;\n",
       "    }\n",
       "\n",
       "    .dataframe tbody tr th {\n",
       "        vertical-align: top;\n",
       "    }\n",
       "\n",
       "    .dataframe thead th {\n",
       "        text-align: right;\n",
       "    }\n",
       "</style>\n",
       "<table border=\"1\" class=\"dataframe\">\n",
       "  <thead>\n",
       "    <tr style=\"text-align: right;\">\n",
       "      <th></th>\n",
       "      <th>Class</th>\n",
       "    </tr>\n",
       "  </thead>\n",
       "  <tbody>\n",
       "    <tr>\n",
       "      <th>0</th>\n",
       "      <td>1</td>\n",
       "    </tr>\n",
       "    <tr>\n",
       "      <th>1</th>\n",
       "      <td>1</td>\n",
       "    </tr>\n",
       "    <tr>\n",
       "      <th>2</th>\n",
       "      <td>1</td>\n",
       "    </tr>\n",
       "    <tr>\n",
       "      <th>3</th>\n",
       "      <td>1</td>\n",
       "    </tr>\n",
       "    <tr>\n",
       "      <th>4</th>\n",
       "      <td>1</td>\n",
       "    </tr>\n",
       "  </tbody>\n",
       "</table>\n",
       "</div>"
      ],
      "text/plain": [
       "   Class\n",
       "0      1\n",
       "1      1\n",
       "2      1\n",
       "3      1\n",
       "4      1"
      ]
     },
     "execution_count": 21,
     "metadata": {},
     "output_type": "execute_result"
    }
   ],
   "source": [
    "y=df[[\"Class\"]]\n",
    "y.head()"
   ]
  },
  {
   "cell_type": "code",
   "execution_count": 22,
   "id": "36c9797c",
   "metadata": {
    "execution": {
     "iopub.execute_input": "2023-06-27T11:24:48.341092Z",
     "iopub.status.busy": "2023-06-27T11:24:48.340697Z",
     "iopub.status.idle": "2023-06-27T11:24:48.481329Z",
     "shell.execute_reply": "2023-06-27T11:24:48.480080Z"
    },
    "id": "C22QW0VJALIX",
    "papermill": {
     "duration": 0.163288,
     "end_time": "2023-06-27T11:24:48.484196",
     "exception": false,
     "start_time": "2023-06-27T11:24:48.320908",
     "status": "completed"
    },
    "tags": []
   },
   "outputs": [],
   "source": [
    "from sklearn.model_selection import train_test_split\n",
    "x_train,x_test,y_train,y_test=train_test_split(x,y,test_size=0.3,random_state=0)"
   ]
  },
  {
   "cell_type": "code",
   "execution_count": 23,
   "id": "7f9a431f",
   "metadata": {
    "execution": {
     "iopub.execute_input": "2023-06-27T11:24:48.524216Z",
     "iopub.status.busy": "2023-06-27T11:24:48.523254Z",
     "iopub.status.idle": "2023-06-27T11:24:48.532142Z",
     "shell.execute_reply": "2023-06-27T11:24:48.530933Z"
    },
    "id": "VcfA7Rh9A6vI",
    "outputId": "5c1a87fe-9875-4b5e-f90c-627575c8dc2a",
    "papermill": {
     "duration": 0.03138,
     "end_time": "2023-06-27T11:24:48.534472",
     "exception": false,
     "start_time": "2023-06-27T11:24:48.503092",
     "status": "completed"
    },
    "tags": []
   },
   "outputs": [
    {
     "data": {
      "text/plain": [
       "((31647, 16), (13564, 16), (31647, 1), (13564, 1))"
      ]
     },
     "execution_count": 23,
     "metadata": {},
     "output_type": "execute_result"
    }
   ],
   "source": [
    "x_train.shape,x_test.shape,y_train.shape,y_test.shape"
   ]
  },
  {
   "cell_type": "markdown",
   "id": "573d774a",
   "metadata": {
    "id": "80vWqbKxBqqH",
    "papermill": {
     "duration": 0.017781,
     "end_time": "2023-06-27T11:24:48.570397",
     "exception": false,
     "start_time": "2023-06-27T11:24:48.552616",
     "status": "completed"
    },
    "tags": []
   },
   "source": [
    "ANN **CLASSIFICATION**"
   ]
  },
  {
   "cell_type": "code",
   "execution_count": 24,
   "id": "0b513292",
   "metadata": {
    "execution": {
     "iopub.execute_input": "2023-06-27T11:24:48.609507Z",
     "iopub.status.busy": "2023-06-27T11:24:48.609127Z",
     "iopub.status.idle": "2023-06-27T11:24:58.297886Z",
     "shell.execute_reply": "2023-06-27T11:24:58.296582Z"
    },
    "id": "F-9u91QOA6s4",
    "papermill": {
     "duration": 9.712129,
     "end_time": "2023-06-27T11:24:58.301028",
     "exception": false,
     "start_time": "2023-06-27T11:24:48.588899",
     "status": "completed"
    },
    "tags": []
   },
   "outputs": [
    {
     "name": "stderr",
     "output_type": "stream",
     "text": [
      "/opt/conda/lib/python3.10/site-packages/tensorflow_io/python/ops/__init__.py:98: UserWarning: unable to load libtensorflow_io_plugins.so: unable to open file: libtensorflow_io_plugins.so, from paths: ['/opt/conda/lib/python3.10/site-packages/tensorflow_io/python/ops/libtensorflow_io_plugins.so']\n",
      "caused by: ['/opt/conda/lib/python3.10/site-packages/tensorflow_io/python/ops/libtensorflow_io_plugins.so: undefined symbol: _ZN3tsl6StatusC1EN10tensorflow5error4CodeESt17basic_string_viewIcSt11char_traitsIcEENS_14SourceLocationE']\n",
      "  warnings.warn(f\"unable to load libtensorflow_io_plugins.so: {e}\")\n",
      "/opt/conda/lib/python3.10/site-packages/tensorflow_io/python/ops/__init__.py:104: UserWarning: file system plugins are not loaded: unable to open file: libtensorflow_io.so, from paths: ['/opt/conda/lib/python3.10/site-packages/tensorflow_io/python/ops/libtensorflow_io.so']\n",
      "caused by: ['/opt/conda/lib/python3.10/site-packages/tensorflow_io/python/ops/libtensorflow_io.so: undefined symbol: _ZTVN10tensorflow13GcsFileSystemE']\n",
      "  warnings.warn(f\"file system plugins are not loaded: {e}\")\n"
     ]
    }
   ],
   "source": [
    "#ANN CLASSIFICATION\n",
    "from tensorflow.keras.models import Sequential\n",
    "from tensorflow.keras.layers import Dense"
   ]
  },
  {
   "cell_type": "code",
   "execution_count": 25,
   "id": "d434ea7e",
   "metadata": {
    "execution": {
     "iopub.execute_input": "2023-06-27T11:24:58.343747Z",
     "iopub.status.busy": "2023-06-27T11:24:58.342769Z",
     "iopub.status.idle": "2023-06-27T11:24:58.466994Z",
     "shell.execute_reply": "2023-06-27T11:24:58.465567Z"
    },
    "id": "RQLMJkt3A6qy",
    "papermill": {
     "duration": 0.149426,
     "end_time": "2023-06-27T11:24:58.470184",
     "exception": false,
     "start_time": "2023-06-27T11:24:58.320758",
     "status": "completed"
    },
    "tags": []
   },
   "outputs": [],
   "source": [
    "model=Sequential()\n",
    "#input to model\n",
    "model.add(Dense(16,activation=\"relu\"))\n",
    "#adding hidden layers\n",
    "model.add(Dense(36,activation=\"relu\"))\n",
    "model.add(Dense(16,activation=\"relu\"))\n",
    "#output layer to the model\n",
    "model.add(Dense(1,activation=\"sigmoid\"))"
   ]
  },
  {
   "cell_type": "code",
   "execution_count": 26,
   "id": "db460e3d",
   "metadata": {
    "execution": {
     "iopub.execute_input": "2023-06-27T11:24:58.510902Z",
     "iopub.status.busy": "2023-06-27T11:24:58.510117Z",
     "iopub.status.idle": "2023-06-27T11:24:58.539035Z",
     "shell.execute_reply": "2023-06-27T11:24:58.537833Z"
    },
    "id": "__1rDVQ1A6n2",
    "papermill": {
     "duration": 0.052972,
     "end_time": "2023-06-27T11:24:58.542373",
     "exception": false,
     "start_time": "2023-06-27T11:24:58.489401",
     "status": "completed"
    },
    "tags": []
   },
   "outputs": [],
   "source": [
    "model.compile(optimizer='adam',loss='binary_crossentropy',metrics=['accuracy'])"
   ]
  },
  {
   "cell_type": "code",
   "execution_count": 27,
   "id": "ef2e2f5e",
   "metadata": {
    "execution": {
     "iopub.execute_input": "2023-06-27T11:24:58.584087Z",
     "iopub.status.busy": "2023-06-27T11:24:58.583635Z",
     "iopub.status.idle": "2023-06-27T11:25:43.504177Z",
     "shell.execute_reply": "2023-06-27T11:25:43.502720Z"
    },
    "id": "zzu8i95SA6lx",
    "outputId": "f843efe2-8a0e-4262-88b0-f9f452f4381d",
    "papermill": {
     "duration": 44.944834,
     "end_time": "2023-06-27T11:25:43.507163",
     "exception": false,
     "start_time": "2023-06-27T11:24:58.562329",
     "status": "completed"
    },
    "tags": []
   },
   "outputs": [
    {
     "name": "stdout",
     "output_type": "stream",
     "text": [
      "Epoch 1/10\n",
      "1583/1583 [==============================] - 6s 3ms/step - loss: -3504215.2500 - accuracy: 0.8832 - val_loss: -15365141.0000 - val_accuracy: 0.8824\n",
      "Epoch 2/10\n",
      "1583/1583 [==============================] - 4s 2ms/step - loss: -78523744.0000 - accuracy: 0.8833 - val_loss: -171102016.0000 - val_accuracy: 0.8824\n",
      "Epoch 3/10\n",
      "1583/1583 [==============================] - 4s 3ms/step - loss: -406127232.0000 - accuracy: 0.8833 - val_loss: -661992448.0000 - val_accuracy: 0.8824\n",
      "Epoch 4/10\n",
      "1583/1583 [==============================] - 4s 3ms/step - loss: -1199228672.0000 - accuracy: 0.8833 - val_loss: -1670448000.0000 - val_accuracy: 0.8824\n",
      "Epoch 5/10\n",
      "1583/1583 [==============================] - 4s 3ms/step - loss: -2654914816.0000 - accuracy: 0.8833 - val_loss: -3424330496.0000 - val_accuracy: 0.8824\n",
      "Epoch 6/10\n",
      "1583/1583 [==============================] - 4s 3ms/step - loss: -5099694592.0000 - accuracy: 0.8833 - val_loss: -6232484864.0000 - val_accuracy: 0.8824\n",
      "Epoch 7/10\n",
      "1583/1583 [==============================] - 4s 3ms/step - loss: -8733640704.0000 - accuracy: 0.8833 - val_loss: -10231047168.0000 - val_accuracy: 0.8824\n",
      "Epoch 8/10\n",
      "1583/1583 [==============================] - 5s 3ms/step - loss: -13842249728.0000 - accuracy: 0.8833 - val_loss: -15783963648.0000 - val_accuracy: 0.8824\n",
      "Epoch 9/10\n",
      "1583/1583 [==============================] - 4s 3ms/step - loss: -20665958400.0000 - accuracy: 0.8833 - val_loss: -22988740608.0000 - val_accuracy: 0.8824\n",
      "Epoch 10/10\n",
      "1583/1583 [==============================] - 5s 3ms/step - loss: -29714042880.0000 - accuracy: 0.8833 - val_loss: -32584181760.0000 - val_accuracy: 0.8824\n"
     ]
    },
    {
     "data": {
      "text/plain": [
       "<keras.callbacks.History at 0x7e55b049cc40>"
      ]
     },
     "execution_count": 27,
     "metadata": {},
     "output_type": "execute_result"
    }
   ],
   "source": [
    "model.fit(x_train,y_train,epochs=10,batch_size=20,validation_data=(x_test,y_test))"
   ]
  },
  {
   "cell_type": "code",
   "execution_count": 28,
   "id": "649cbf4c",
   "metadata": {
    "execution": {
     "iopub.execute_input": "2023-06-27T11:25:43.670688Z",
     "iopub.status.busy": "2023-06-27T11:25:43.670211Z",
     "iopub.status.idle": "2023-06-27T11:25:44.625747Z",
     "shell.execute_reply": "2023-06-27T11:25:44.624534Z"
    },
    "id": "mtijQVi6LRcn",
    "outputId": "f626dbdd-d401-4919-c70e-08754f35dc90",
    "papermill": {
     "duration": 1.040878,
     "end_time": "2023-06-27T11:25:44.628863",
     "exception": false,
     "start_time": "2023-06-27T11:25:43.587985",
     "status": "completed"
    },
    "tags": []
   },
   "outputs": [
    {
     "name": "stdout",
     "output_type": "stream",
     "text": [
      "424/424 [==============================] - 1s 1ms/step\n"
     ]
    }
   ],
   "source": [
    "y_pred=model.predict(x_test)"
   ]
  },
  {
   "cell_type": "markdown",
   "id": "abae0aa9",
   "metadata": {
    "id": "REhAUSTqe7-M",
    "papermill": {
     "duration": 0.081931,
     "end_time": "2023-06-27T11:25:44.793042",
     "exception": false,
     "start_time": "2023-06-27T11:25:44.711111",
     "status": "completed"
    },
    "tags": []
   },
   "source": [
    "TESTING WITH ANN REGRESSOR"
   ]
  },
  {
   "cell_type": "code",
   "execution_count": 29,
   "id": "650eb320",
   "metadata": {
    "execution": {
     "iopub.execute_input": "2023-06-27T11:25:44.961422Z",
     "iopub.status.busy": "2023-06-27T11:25:44.960534Z",
     "iopub.status.idle": "2023-06-27T11:25:45.084701Z",
     "shell.execute_reply": "2023-06-27T11:25:45.083185Z"
    },
    "id": "teccDy9YeNJt",
    "outputId": "5d0443ac-e8a0-485e-cfbc-86585df3e549",
    "papermill": {
     "duration": 0.21222,
     "end_time": "2023-06-27T11:25:45.087905",
     "exception": false,
     "start_time": "2023-06-27T11:25:44.875685",
     "status": "completed"
    },
    "tags": []
   },
   "outputs": [
    {
     "name": "stdout",
     "output_type": "stream",
     "text": [
      "1/1 [==============================] - 0s 44ms/step\n"
     ]
    },
    {
     "data": {
      "text/plain": [
       "array([[1.]], dtype=float32)"
      ]
     },
     "execution_count": 29,
     "metadata": {},
     "output_type": "execute_result"
    }
   ],
   "source": [
    "model.predict([[58\t,4\t,1,\t2,\t0\t,2143,\t1,\t0\t,2\t,5\t,8\t,261\t,1\t,-1,\t0\t,3]])"
   ]
  },
  {
   "cell_type": "markdown",
   "id": "5ef50baf",
   "metadata": {
    "id": "z0hIgET2e_lx",
    "papermill": {
     "duration": 0.083825,
     "end_time": "2023-06-27T11:25:45.253455",
     "exception": false,
     "start_time": "2023-06-27T11:25:45.169630",
     "status": "completed"
    },
    "tags": []
   },
   "source": [
    "NAIVE BAYES"
   ]
  },
  {
   "cell_type": "code",
   "execution_count": 30,
   "id": "bcbe6860",
   "metadata": {
    "execution": {
     "iopub.execute_input": "2023-06-27T11:25:45.421242Z",
     "iopub.status.busy": "2023-06-27T11:25:45.420785Z",
     "iopub.status.idle": "2023-06-27T11:25:45.478946Z",
     "shell.execute_reply": "2023-06-27T11:25:45.477401Z"
    },
    "id": "MDIXYjwle-ye",
    "outputId": "bb1597e7-f02d-4cce-fb8c-d40168d2a948",
    "papermill": {
     "duration": 0.145522,
     "end_time": "2023-06-27T11:25:45.482043",
     "exception": false,
     "start_time": "2023-06-27T11:25:45.336521",
     "status": "completed"
    },
    "tags": []
   },
   "outputs": [
    {
     "name": "stdout",
     "output_type": "stream",
     "text": [
      "Accuracy: 0.8824093187850192\n"
     ]
    },
    {
     "name": "stderr",
     "output_type": "stream",
     "text": [
      "/opt/conda/lib/python3.10/site-packages/sklearn/utils/validation.py:1143: DataConversionWarning: A column-vector y was passed when a 1d array was expected. Please change the shape of y to (n_samples, ), for example using ravel().\n",
      "  y = column_or_1d(y, warn=True)\n"
     ]
    }
   ],
   "source": [
    "#NAIVE_BAYES\n",
    "from sklearn.naive_bayes import GaussianNB\n",
    "from sklearn.metrics import accuracy_score\n",
    "# Create a Naive Bayes model\n",
    "nav_model= GaussianNB()\n",
    "# Train the model\n",
    "nav_model.fit(x_train, y_train)\n",
    "# Make predictions on the test set\n",
    "y_pred3 = nav_model.predict(x_test)\n",
    "# Calculate the accuracy of the model\n",
    "acc_3 = accuracy_score(y_test, y_pred)\n",
    "print(\"Accuracy:\", acc_3)\n"
   ]
  },
  {
   "cell_type": "markdown",
   "id": "a8e781fb",
   "metadata": {
    "id": "41pg0kj9hWYR",
    "papermill": {
     "duration": 0.082691,
     "end_time": "2023-06-27T11:25:45.648782",
     "exception": false,
     "start_time": "2023-06-27T11:25:45.566091",
     "status": "completed"
    },
    "tags": []
   },
   "source": [
    "DECISION TREE"
   ]
  },
  {
   "cell_type": "code",
   "execution_count": 31,
   "id": "eb9d9b78",
   "metadata": {
    "execution": {
     "iopub.execute_input": "2023-06-27T11:25:45.815664Z",
     "iopub.status.busy": "2023-06-27T11:25:45.814906Z",
     "iopub.status.idle": "2023-06-27T11:25:46.378171Z",
     "shell.execute_reply": "2023-06-27T11:25:46.376063Z"
    },
    "id": "4InmrM8ohThe",
    "outputId": "47320580-e5e9-4d39-9dfb-0e45c326c6f6",
    "papermill": {
     "duration": 0.649882,
     "end_time": "2023-06-27T11:25:46.381112",
     "exception": false,
     "start_time": "2023-06-27T11:25:45.731230",
     "status": "completed"
    },
    "tags": []
   },
   "outputs": [
    {
     "name": "stdout",
     "output_type": "stream",
     "text": [
      "Accuracy: 0.8824093187850192\n"
     ]
    }
   ],
   "source": [
    "#DECISION_TREE\n",
    "from sklearn.tree import DecisionTreeClassifier\n",
    "# Create a decision tree model\n",
    "dec_model = DecisionTreeClassifier()\n",
    "# Train the model\n",
    "dec_model.fit(x_train, y_train)\n",
    "# Make predictions on the test set\n",
    "y_pred4 = dec_model.predict(x_test)\n",
    "#Calculate the accuracy of the model\n",
    "acc_4 = accuracy_score(y_test, y_pred)\n",
    "print(\"Accuracy:\", acc_4)"
   ]
  },
  {
   "cell_type": "markdown",
   "id": "77302c5e",
   "metadata": {
    "id": "95KoNmaQiosR",
    "papermill": {
     "duration": 0.082297,
     "end_time": "2023-06-27T11:25:46.548531",
     "exception": false,
     "start_time": "2023-06-27T11:25:46.466234",
     "status": "completed"
    },
    "tags": []
   },
   "source": [
    "SUPPORT VECTOR MACHINE"
   ]
  },
  {
   "cell_type": "code",
   "execution_count": 32,
   "id": "b01a57e1",
   "metadata": {
    "execution": {
     "iopub.execute_input": "2023-06-27T11:25:46.713695Z",
     "iopub.status.busy": "2023-06-27T11:25:46.713203Z",
     "iopub.status.idle": "2023-06-27T11:26:04.176607Z",
     "shell.execute_reply": "2023-06-27T11:26:04.174850Z"
    },
    "id": "f_VGA16ZiDTi",
    "outputId": "0d2e2e3d-cad8-42fb-ac9d-e5e5ec308cc1",
    "papermill": {
     "duration": 17.549206,
     "end_time": "2023-06-27T11:26:04.179693",
     "exception": false,
     "start_time": "2023-06-27T11:25:46.630487",
     "status": "completed"
    },
    "tags": []
   },
   "outputs": [
    {
     "name": "stderr",
     "output_type": "stream",
     "text": [
      "/opt/conda/lib/python3.10/site-packages/sklearn/utils/validation.py:1143: DataConversionWarning: A column-vector y was passed when a 1d array was expected. Please change the shape of y to (n_samples, ), for example using ravel().\n",
      "  y = column_or_1d(y, warn=True)\n"
     ]
    },
    {
     "name": "stdout",
     "output_type": "stream",
     "text": [
      "424/424 [==============================] - 1s 1ms/step\n",
      "Accuracy: 0.8824093187850192\n"
     ]
    }
   ],
   "source": [
    "#SVM\n",
    "from sklearn.svm import SVC\n",
    "# Create a decision tree model\n",
    "svm_model = SVC()\n",
    "# Train the model\n",
    "svm_model.fit(x_train, y_train)\n",
    "# Make predictions on the test set\n",
    "y_pred5 = model.predict(x_test)\n",
    "# Calculate the accuracy of the model\n",
    "acc_5 = accuracy_score(y_test, y_pred)\n",
    "print(\"Accuracy:\", acc_5)"
   ]
  },
  {
   "cell_type": "markdown",
   "id": "63542c22",
   "metadata": {
    "id": "ivN2Ak2nilTO",
    "papermill": {
     "duration": 0.085207,
     "end_time": "2023-06-27T11:26:04.348936",
     "exception": false,
     "start_time": "2023-06-27T11:26:04.263729",
     "status": "completed"
    },
    "tags": []
   },
   "source": [
    "ADA BOOST CLASSIFIER"
   ]
  },
  {
   "cell_type": "code",
   "execution_count": 33,
   "id": "a319eae4",
   "metadata": {
    "execution": {
     "iopub.execute_input": "2023-06-27T11:26:04.518008Z",
     "iopub.status.busy": "2023-06-27T11:26:04.517502Z",
     "iopub.status.idle": "2023-06-27T11:26:06.361395Z",
     "shell.execute_reply": "2023-06-27T11:26:06.360109Z"
    },
    "id": "315KCFNMiDQE",
    "outputId": "81ccc741-1569-4175-c08e-b2843f9c40a1",
    "papermill": {
     "duration": 1.93265,
     "end_time": "2023-06-27T11:26:06.364442",
     "exception": false,
     "start_time": "2023-06-27T11:26:04.431792",
     "status": "completed"
    },
    "tags": []
   },
   "outputs": [
    {
     "name": "stderr",
     "output_type": "stream",
     "text": [
      "/opt/conda/lib/python3.10/site-packages/sklearn/utils/validation.py:1143: DataConversionWarning: A column-vector y was passed when a 1d array was expected. Please change the shape of y to (n_samples, ), for example using ravel().\n",
      "  y = column_or_1d(y, warn=True)\n"
     ]
    },
    {
     "name": "stdout",
     "output_type": "stream",
     "text": [
      "Accuracy: 0.8824093187850192\n"
     ]
    }
   ],
   "source": [
    "#ADA BOOST CLASSIFIER\n",
    "from sklearn.ensemble import AdaBoostClassifier\n",
    "# Create adaboost classifer object\n",
    "abc = AdaBoostClassifier(n_estimators=50,learning_rate=1)\n",
    "# Train Adaboost Classifer\n",
    "ad_model = abc.fit(x_train, y_train)\n",
    "#Predict the response for test dataset\n",
    "y_pred6 = ad_model.predict(x_test)\n",
    "# Calculate the accuracy of the model\n",
    "acc_6 = accuracy_score(y_test, y_pred)\n",
    "print(\"Accuracy:\", acc_6)"
   ]
  },
  {
   "cell_type": "markdown",
   "id": "1e367f73",
   "metadata": {
    "id": "krVmhzMSirsT",
    "papermill": {
     "duration": 0.082788,
     "end_time": "2023-06-27T11:26:06.530372",
     "exception": false,
     "start_time": "2023-06-27T11:26:06.447584",
     "status": "completed"
    },
    "tags": []
   },
   "source": [
    "RANDOM FOREST"
   ]
  },
  {
   "cell_type": "code",
   "execution_count": 34,
   "id": "76edb32a",
   "metadata": {
    "execution": {
     "iopub.execute_input": "2023-06-27T11:26:06.702651Z",
     "iopub.status.busy": "2023-06-27T11:26:06.701857Z",
     "iopub.status.idle": "2023-06-27T11:26:12.862644Z",
     "shell.execute_reply": "2023-06-27T11:26:12.861189Z"
    },
    "id": "9aMO4ZbIih87",
    "outputId": "cb1ab4d4-0405-4e3a-ea0e-f5f26e302c01",
    "papermill": {
     "duration": 6.249737,
     "end_time": "2023-06-27T11:26:12.865814",
     "exception": false,
     "start_time": "2023-06-27T11:26:06.616077",
     "status": "completed"
    },
    "tags": []
   },
   "outputs": [
    {
     "name": "stderr",
     "output_type": "stream",
     "text": [
      "/tmp/ipykernel_20/1759630863.py:6: DataConversionWarning: A column-vector y was passed when a 1d array was expected. Please change the shape of y to (n_samples,), for example using ravel().\n",
      "  random_model.fit(x_train, y_train)\n"
     ]
    },
    {
     "name": "stdout",
     "output_type": "stream",
     "text": [
      "Accuracy: 0.8824093187850192\n"
     ]
    }
   ],
   "source": [
    "#RANDOM FOREST\n",
    "from sklearn.ensemble import RandomForestClassifier\n",
    "# Create a decision tree model\n",
    "random_model = RandomForestClassifier()\n",
    "# Train the model\n",
    "random_model.fit(x_train, y_train)\n",
    "# Make predictions on the test set\n",
    "y_pred7 = random_model.predict(x_test)\n",
    "# Calculate the accuracy of the model\n",
    "acc_7 = accuracy_score(y_test, y_pred)\n",
    "print(\"Accuracy:\", acc_7)"
   ]
  },
  {
   "cell_type": "markdown",
   "id": "0efd62ba",
   "metadata": {
    "id": "N_F_5L4NjnBR",
    "papermill": {
     "duration": 0.089899,
     "end_time": "2023-06-27T11:26:13.047676",
     "exception": false,
     "start_time": "2023-06-27T11:26:12.957777",
     "status": "completed"
    },
    "tags": []
   },
   "source": [
    "K NEIGHBORS CLASSIFIER"
   ]
  },
  {
   "cell_type": "code",
   "execution_count": 35,
   "id": "02892f7b",
   "metadata": {
    "execution": {
     "iopub.execute_input": "2023-06-27T11:26:13.218237Z",
     "iopub.status.busy": "2023-06-27T11:26:13.216751Z",
     "iopub.status.idle": "2023-06-27T11:26:24.283351Z",
     "shell.execute_reply": "2023-06-27T11:26:24.282042Z"
    },
    "id": "CaSUCMmzjmiu",
    "outputId": "4cefd6d2-7774-428c-ac4b-17ce7d280c88",
    "papermill": {
     "duration": 11.153518,
     "end_time": "2023-06-27T11:26:24.286163",
     "exception": false,
     "start_time": "2023-06-27T11:26:13.132645",
     "status": "completed"
    },
    "tags": []
   },
   "outputs": [
    {
     "name": "stderr",
     "output_type": "stream",
     "text": [
      "/opt/conda/lib/python3.10/site-packages/sklearn/neighbors/_classification.py:215: DataConversionWarning: A column-vector y was passed when a 1d array was expected. Please change the shape of y to (n_samples,), for example using ravel().\n",
      "  return self._fit(X, y)\n"
     ]
    },
    {
     "data": {
      "text/plain": [
       "0.8757741079327632"
      ]
     },
     "execution_count": 35,
     "metadata": {},
     "output_type": "execute_result"
    }
   ],
   "source": [
    "from sklearn.neighbors import KNeighborsClassifier\n",
    "knn=KNeighborsClassifier()\n",
    "knn.fit(x_train,y_train)\n",
    "y_pred=knn.predict(x_test)\n",
    "acc_1=accuracy_score(y_pred,y_test)\n",
    "acc_1"
   ]
  }
 ],
 "metadata": {
  "kernelspec": {
   "display_name": "Python 3",
   "language": "python",
   "name": "python3"
  },
  "language_info": {
   "codemirror_mode": {
    "name": "ipython",
    "version": 3
   },
   "file_extension": ".py",
   "mimetype": "text/x-python",
   "name": "python",
   "nbconvert_exporter": "python",
   "pygments_lexer": "ipython3",
   "version": "3.8.8"
  },
  "papermill": {
   "default_parameters": {},
   "duration": 114.793869,
   "end_time": "2023-06-27T11:26:27.128615",
   "environment_variables": {},
   "exception": null,
   "input_path": "__notebook__.ipynb",
   "output_path": "__notebook__.ipynb",
   "parameters": {},
   "start_time": "2023-06-27T11:24:32.334746",
   "version": "2.4.0"
  }
 },
 "nbformat": 4,
 "nbformat_minor": 5
}
