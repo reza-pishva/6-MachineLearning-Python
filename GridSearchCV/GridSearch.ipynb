{
 "cells": [
  {
   "cell_type": "code",
   "execution_count": null,
   "id": "66e8d258",
   "metadata": {},
   "outputs": [],
   "source": [
    "knn = KNeighborsClassifier( )\n",
    "k_range = list(range(1,10))\n",
    "weights_options = ['uniform','distance']\n",
    "k_grid = dict(n_neighbors=k_range, weights = weights_options)\n",
    "grid = GridSearchCV(knn, k_grid, cv=10, scoring = 'precision')\n",
    "grid.fit(X_train, y_train)"
   ]
  },
  {
   "cell_type": "code",
   "execution_count": null,
   "id": "b3d60d99",
   "metadata": {},
   "outputs": [],
   "source": [
    "grid.score(X_train, y_train)"
   ]
  },
  {
   "cell_type": "code",
   "execution_count": null,
   "id": "f595c356",
   "metadata": {},
   "outputs": [],
   "source": [
    "grid.score(X_test, y_test)"
   ]
  },
  {
   "cell_type": "code",
   "execution_count": null,
   "id": "2a873a77",
   "metadata": {},
   "outputs": [],
   "source": [
    "print (\"Best Parameters: \",str(grid.best_params_))\n",
    "print (\"Best Estimators: \",str(grid.best_estimator_))"
   ]
  },
  {
   "cell_type": "code",
   "execution_count": null,
   "id": "399237c1",
   "metadata": {},
   "outputs": [],
   "source": []
  },
  {
   "cell_type": "code",
   "execution_count": null,
   "id": "64aad477",
   "metadata": {},
   "outputs": [],
   "source": [
    "#pipeline\n",
    "scaler= StandardScaler()\n",
    "knn= KNeighborsClassifier()\n",
    "knn.get_params().keys()"
   ]
  },
  {
   "cell_type": "code",
   "execution_count": null,
   "id": "f047c52e",
   "metadata": {},
   "outputs": [],
   "source": [
    "operations= [('scaler', scaler), ('knn', knn)]"
   ]
  },
  {
   "cell_type": "code",
   "execution_count": null,
   "id": "657d81bf",
   "metadata": {},
   "outputs": [],
   "source": [
    "from sklearn.pipeline import Pipeline\n",
    "operations= [('scaler', scaler), ('knn', knn)]\n",
    "pipe= Pipeline(operations)\n",
    "\n",
    "\n",
    "from sklearn.model_selection import GridSearchCV\n",
    "\n",
    "k_values= list(range(1, 20))\n",
    "param_grid= {'knn__n_neighbors': k_values}\n",
    "full_cv_classifier= GridSearchCV(pipe, param_grid, cv=5, scoring='accuracy')\n",
    "full_cv_classifier.fit(X_train, y_train)"
   ]
  },
  {
   "cell_type": "code",
   "execution_count": null,
   "id": "2d6e135f",
   "metadata": {},
   "outputs": [],
   "source": [
    "full_cv_classifier.best_estimator_.get_params()"
   ]
  },
  {
   "cell_type": "code",
   "execution_count": null,
   "id": "f8f9e8da",
   "metadata": {},
   "outputs": [],
   "source": []
  },
  {
   "cell_type": "code",
   "execution_count": null,
   "id": "dd1a665d",
   "metadata": {},
   "outputs": [],
   "source": [
    "scaler= StandardScaler()\n",
    "knn= KNeighborsClassifier()\n",
    "knn.get_params().keys()\n",
    "operations= [('scaler', scaler), ('knn', knn)]\n",
    "pipe= Pipeline(operations)\n",
    "k_values= list(range(1, 20))\n",
    "param_grid= {'knn__n_neighbors': k_values}\n",
    "full_cv_classifier= GridSearchCV(pipe, param_grid, cv=5, scoring='accuracy')\n",
    "full_cv_classifier.fit(X_train, y_train)\n",
    "full_cv_classifier.best_estimator_.get_params()\n",
    "full_cv_classifier.cv_results_.keys()"
   ]
  },
  {
   "cell_type": "code",
   "execution_count": null,
   "id": "13a83c41",
   "metadata": {},
   "outputs": [],
   "source": [
    "scaler= StandardScaler()\n",
    "knn14= KNeighborsClassifier(n_neighbors=14)\n",
    "operations= [('scaler', scaler), ('knn14', knn14)]"
   ]
  },
  {
   "cell_type": "code",
   "execution_count": null,
   "id": "6eee2ad2",
   "metadata": {},
   "outputs": [],
   "source": [
    "pipe= Pipeline(operations)"
   ]
  },
  {
   "cell_type": "code",
   "execution_count": null,
   "id": "a524cd0b",
   "metadata": {},
   "outputs": [],
   "source": [
    "pipe.fit(X_train, y_train)"
   ]
  },
  {
   "cell_type": "code",
   "execution_count": null,
   "id": "1ecb0493",
   "metadata": {},
   "outputs": [],
   "source": [
    "pipe_pred= pipe.predict(X_test)\n",
    "y_pred_knn=pipe_pred"
   ]
  },
  {
   "cell_type": "code",
   "execution_count": null,
   "id": "96e17051",
   "metadata": {},
   "outputs": [],
   "source": [
    "print(classification_report(y_test, pipe_pred))"
   ]
  },
  {
   "cell_type": "code",
   "execution_count": null,
   "id": "34a78e93",
   "metadata": {},
   "outputs": [],
   "source": []
  },
  {
   "cell_type": "code",
   "execution_count": null,
   "id": "4e5b007d",
   "metadata": {},
   "outputs": [],
   "source": [
    "param_grid = {'n_neighbors':np.arange(1,50)}"
   ]
  },
  {
   "cell_type": "code",
   "execution_count": null,
   "id": "49cde633",
   "metadata": {},
   "outputs": [],
   "source": [
    "knn = KNeighborsClassifier()\n",
    "knn_cv= GridSearchCV(knn,param_grid,cv=5)\n",
    "knn_cv.fit(X,y)"
   ]
  },
  {
   "cell_type": "code",
   "execution_count": null,
   "id": "53a73df5",
   "metadata": {},
   "outputs": [],
   "source": [
    "knn_cv.best_score_"
   ]
  },
  {
   "cell_type": "code",
   "execution_count": null,
   "id": "2a3aebcb",
   "metadata": {},
   "outputs": [],
   "source": [
    "knn_cv.best_params_"
   ]
  },
  {
   "cell_type": "code",
   "execution_count": null,
   "id": "a4fb34c5",
   "metadata": {},
   "outputs": [],
   "source": []
  },
  {
   "cell_type": "code",
   "execution_count": null,
   "id": "e12cc7f9",
   "metadata": {},
   "outputs": [],
   "source": [
    "from sklearn import model_selection\n",
    "from sklearn.model_selection import cross_val_score\n",
    "kfold = model_selection.KFold(n_splits=10, random_state=7)\n",
    "modelCV = LogisticRegression()\n",
    "scoring = 'accuracy'\n",
    "results = model_selection.cross_val_score(modelCV, X_train, y_train, cv=kfold, scoring=scoring)\n",
    "print(\"10-fold cross validation average accuracy: %.3f\" % (results.mean()))"
   ]
  },
  {
   "cell_type": "code",
   "execution_count": null,
   "id": "1f6ee29e",
   "metadata": {},
   "outputs": [],
   "source": []
  },
  {
   "cell_type": "code",
   "execution_count": null,
   "id": "7aedd250",
   "metadata": {},
   "outputs": [],
   "source": [
    "parameters=[\n",
    "{\n",
    "    'penalty':['l1','l2'],\n",
    "    'C':[0.1,0.4,0.5],\n",
    "    'random_state':[0]\n",
    "    },\n",
    "]\n",
    "\n",
    "for features in combine_features_list:\n",
    "    print(features)\n",
    "    print(\"*\"*50)\n",
    "    \n",
    "    X_train_set=X_train.loc[:,features]\n",
    "    X_test_set=X_test.loc[:,features]\n",
    "    \n",
    "    gslog=GridSearchCV(LogisticRegression(),parameters,scoring='accuracy')\n",
    "    gslog.fit(X_train_set,y_train)\n",
    "    print('Best parameters set:')\n",
    "    print(gslog.best_params_)\n",
    "    print()\n",
    "    predictions=[\n",
    "    (gslog.predict(X_train_set),y_train,'Train'),\n",
    "    (gslog.predict(X_test_set),y_test,'Test'),\n",
    "    ]\n",
    "    for pred in predictions:\n",
    "        print(pred[2] + ' Classification Report:')\n",
    "        print(\"*\"*50)\n",
    "        print(classification_report(pred[1],pred[0]))\n",
    "        print(\"*\"*50)\n",
    "        print(pred[2] + ' Confusion Matrix:')\n",
    "        print(confusion_matrix(pred[1], pred[0]))\n",
    "        print(\"*\"*50)\n",
    "\n",
    "    print(\"*\"*50)    \n",
    "    basari=cross_val_score(estimator=LogisticRegression(),X=X_train,y=y_train,cv=12)\n",
    "    print(basari.mean())\n",
    "    print(basari.std())\n",
    "    print(\"*\"*50) "
   ]
  },
  {
   "cell_type": "code",
   "execution_count": null,
   "id": "94f76058",
   "metadata": {},
   "outputs": [],
   "source": []
  },
  {
   "cell_type": "code",
   "execution_count": null,
   "id": "85bb2a5f",
   "metadata": {},
   "outputs": [],
   "source": [
    "parameters = [\n",
    "    {\n",
    "        'kernel': ['linear'],\n",
    "        'random_state': [2]\n",
    "    },\n",
    "    {\n",
    "        'kernel': ['rbf'],\n",
    "        'gamma':[0.9,0.06,0.3],\n",
    "        'random_state': [0],\n",
    "        'C':[1,2,3,4,5,6],\n",
    "        'degree':[2],\n",
    "        'probability':[True]\n",
    "    },\n",
    "]\n",
    "\n",
    "for features in combine_features_list:\n",
    "    print(\"*\"*50)\n",
    "    X_train_set=X_train.loc[:,features]\n",
    "    X_test_set=X_test.loc[:,features]\n",
    "  \n",
    "    svc = GridSearchCV(SVC(), parameters,\n",
    "    scoring='accuracy')\n",
    "    svc.fit(X_train_set, y_train)\n",
    "    print('Best parameters set:')\n",
    "    print(svc.best_params_)\n",
    "    print(\"*\"*50)\n",
    "    predictions = [\n",
    "    (svc.predict(X_train_set), y_train, 'Train'),\n",
    "    (svc.predict(X_test_set), y_test, 'Test1')\n",
    "    ]\n",
    "    for pred in predictions:\n",
    "        print(pred[2] + ' Classification Report:')\n",
    "        print(\"*\"*50)\n",
    "        print(classification_report(pred[1], pred[0]))\n",
    "        print(\"*\"*50)\n",
    "        print(pred[2] + ' Confusion Matrix:')\n",
    "        print(confusion_matrix(pred[1], pred[0]))\n",
    "        print(\"*\"*50)\n",
    "        \n",
    "    print(\"*\"*50)    \n",
    "    basari=cross_val_score(estimator=SVC(),X=X_train,y=y_train,cv=4)\n",
    "    print(basari.mean())\n",
    "    print(basari.std())\n",
    "    print(\"*\"*50)"
   ]
  }
 ],
 "metadata": {
  "kernelspec": {
   "display_name": "Python 3",
   "language": "python",
   "name": "python3"
  },
  "language_info": {
   "codemirror_mode": {
    "name": "ipython",
    "version": 3
   },
   "file_extension": ".py",
   "mimetype": "text/x-python",
   "name": "python",
   "nbconvert_exporter": "python",
   "pygments_lexer": "ipython3",
   "version": "3.8.8"
  }
 },
 "nbformat": 4,
 "nbformat_minor": 5
}
