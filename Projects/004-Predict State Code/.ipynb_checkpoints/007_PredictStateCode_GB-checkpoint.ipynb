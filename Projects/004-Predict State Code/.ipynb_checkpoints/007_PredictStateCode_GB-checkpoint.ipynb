{
 "cells": [
  {
   "cell_type": "code",
   "execution_count": 51,
   "id": "bcf03618",
   "metadata": {},
   "outputs": [],
   "source": [
    "import numpy as np \n",
    "import pandas as pd\n",
    "import seaborn as sns\n",
    "import matplotlib.pyplot as plt\n",
    "from sklearn.decomposition import PCA\n",
    "from sklearn.preprocessing import StandardScaler\n",
    "from sklearn.ensemble import GradientBoostingClassifier\n",
    "from sklearn.model_selection import train_test_split, cross_val_score , GridSearchCV\n",
    "from sklearn.utils.multiclass import unique_labels\n",
    "from sklearn import metrics\n",
    "import warnings\n",
    "warnings.filterwarnings('ignore')"
   ]
  },
  {
   "cell_type": "code",
   "execution_count": 52,
   "id": "3205a7d8",
   "metadata": {},
   "outputs": [],
   "source": [
    "#importing train_test_split\n",
    "from sklearn.model_selection import train_test_split"
   ]
  },
  {
   "cell_type": "code",
   "execution_count": 53,
   "id": "3a83e612",
   "metadata": {},
   "outputs": [],
   "source": [
    "data = pd.read_excel(\"StateCodeReduced.xlsx\")"
   ]
  },
  {
   "cell_type": "code",
   "execution_count": 54,
   "id": "0ba1d4d3",
   "metadata": {},
   "outputs": [
    {
     "data": {
      "text/html": [
       "<div>\n",
       "<style scoped>\n",
       "    .dataframe tbody tr th:only-of-type {\n",
       "        vertical-align: middle;\n",
       "    }\n",
       "\n",
       "    .dataframe tbody tr th {\n",
       "        vertical-align: top;\n",
       "    }\n",
       "\n",
       "    .dataframe thead th {\n",
       "        text-align: right;\n",
       "    }\n",
       "</style>\n",
       "<table border=\"1\" class=\"dataframe\">\n",
       "  <thead>\n",
       "    <tr style=\"text-align: right;\">\n",
       "      <th></th>\n",
       "      <th>mw</th>\n",
       "      <th>code</th>\n",
       "      <th>temp</th>\n",
       "      <th>moisture</th>\n",
       "      <th>mvar</th>\n",
       "      <th>unit_no</th>\n",
       "      <th>mw_declare</th>\n",
       "      <th>Unnamed: 7</th>\n",
       "      <th>Unnamed: 8</th>\n",
       "    </tr>\n",
       "  </thead>\n",
       "  <tbody>\n",
       "    <tr>\n",
       "      <th>0</th>\n",
       "      <td>95</td>\n",
       "      <td>SO</td>\n",
       "      <td>32</td>\n",
       "      <td>10.0</td>\n",
       "      <td>17</td>\n",
       "      <td>1</td>\n",
       "      <td>132</td>\n",
       "      <td>NaN</td>\n",
       "      <td>NaN</td>\n",
       "    </tr>\n",
       "    <tr>\n",
       "      <th>1</th>\n",
       "      <td>106</td>\n",
       "      <td>SO</td>\n",
       "      <td>43</td>\n",
       "      <td>6.0</td>\n",
       "      <td>25</td>\n",
       "      <td>1</td>\n",
       "      <td>132</td>\n",
       "      <td>NaN</td>\n",
       "      <td>NaN</td>\n",
       "    </tr>\n",
       "    <tr>\n",
       "      <th>2</th>\n",
       "      <td>118</td>\n",
       "      <td>LF1</td>\n",
       "      <td>26</td>\n",
       "      <td>10.0</td>\n",
       "      <td>43</td>\n",
       "      <td>3</td>\n",
       "      <td>132</td>\n",
       "      <td>NaN</td>\n",
       "      <td>NaN</td>\n",
       "    </tr>\n",
       "    <tr>\n",
       "      <th>3</th>\n",
       "      <td>122</td>\n",
       "      <td>LF1</td>\n",
       "      <td>39</td>\n",
       "      <td>7.0</td>\n",
       "      <td>43</td>\n",
       "      <td>3</td>\n",
       "      <td>148</td>\n",
       "      <td>NaN</td>\n",
       "      <td>NaN</td>\n",
       "    </tr>\n",
       "    <tr>\n",
       "      <th>4</th>\n",
       "      <td>120</td>\n",
       "      <td>SO</td>\n",
       "      <td>41</td>\n",
       "      <td>12.0</td>\n",
       "      <td>46</td>\n",
       "      <td>3</td>\n",
       "      <td>148</td>\n",
       "      <td>NaN</td>\n",
       "      <td>NaN</td>\n",
       "    </tr>\n",
       "  </tbody>\n",
       "</table>\n",
       "</div>"
      ],
      "text/plain": [
       "    mw code  temp  moisture  mvar  unit_no  mw_declare  Unnamed: 7  Unnamed: 8\n",
       "0   95   SO    32      10.0    17        1         132         NaN         NaN\n",
       "1  106   SO    43       6.0    25        1         132         NaN         NaN\n",
       "2  118  LF1    26      10.0    43        3         132         NaN         NaN\n",
       "3  122  LF1    39       7.0    43        3         148         NaN         NaN\n",
       "4  120   SO    41      12.0    46        3         148         NaN         NaN"
      ]
     },
     "execution_count": 54,
     "metadata": {},
     "output_type": "execute_result"
    }
   ],
   "source": [
    "data.head()"
   ]
  },
  {
   "cell_type": "code",
   "execution_count": 55,
   "id": "77252ff8",
   "metadata": {},
   "outputs": [
    {
     "data": {
      "text/plain": [
       "SO     1285\n",
       "LF1     633\n",
       "LA       20\n",
       "LP       15\n",
       "PO       11\n",
       "FA       11\n",
       "FP        6\n",
       "LD        1\n",
       "Name: code, dtype: int64"
      ]
     },
     "execution_count": 55,
     "metadata": {},
     "output_type": "execute_result"
    }
   ],
   "source": [
    "data['code'].value_counts()"
   ]
  },
  {
   "cell_type": "code",
   "execution_count": 56,
   "id": "72bdf2d7",
   "metadata": {},
   "outputs": [
    {
     "data": {
      "text/plain": [
       "mw               0\n",
       "code             0\n",
       "temp             0\n",
       "moisture         0\n",
       "mvar             0\n",
       "unit_no          0\n",
       "mw_declare       0\n",
       "Unnamed: 7    1982\n",
       "Unnamed: 8    1982\n",
       "dtype: int64"
      ]
     },
     "execution_count": 56,
     "metadata": {},
     "output_type": "execute_result"
    }
   ],
   "source": [
    "data.isnull().sum()"
   ]
  },
  {
   "cell_type": "code",
   "execution_count": 57,
   "id": "407f4b54",
   "metadata": {},
   "outputs": [
    {
     "data": {
      "text/html": [
       "<div>\n",
       "<style scoped>\n",
       "    .dataframe tbody tr th:only-of-type {\n",
       "        vertical-align: middle;\n",
       "    }\n",
       "\n",
       "    .dataframe tbody tr th {\n",
       "        vertical-align: top;\n",
       "    }\n",
       "\n",
       "    .dataframe thead th {\n",
       "        text-align: right;\n",
       "    }\n",
       "</style>\n",
       "<table border=\"1\" class=\"dataframe\">\n",
       "  <thead>\n",
       "    <tr style=\"text-align: right;\">\n",
       "      <th></th>\n",
       "      <th>mw</th>\n",
       "      <th>temp</th>\n",
       "      <th>moisture</th>\n",
       "      <th>mvar</th>\n",
       "      <th>unit_no</th>\n",
       "      <th>mw_declare</th>\n",
       "      <th>Unnamed: 7</th>\n",
       "      <th>Unnamed: 8</th>\n",
       "    </tr>\n",
       "  </thead>\n",
       "  <tbody>\n",
       "    <tr>\n",
       "      <th>mw</th>\n",
       "      <td>1.000000</td>\n",
       "      <td>0.181605</td>\n",
       "      <td>-0.108631</td>\n",
       "      <td>0.442904</td>\n",
       "      <td>0.479979</td>\n",
       "      <td>-0.199083</td>\n",
       "      <td>NaN</td>\n",
       "      <td>NaN</td>\n",
       "    </tr>\n",
       "    <tr>\n",
       "      <th>temp</th>\n",
       "      <td>0.181605</td>\n",
       "      <td>1.000000</td>\n",
       "      <td>-0.797736</td>\n",
       "      <td>0.279669</td>\n",
       "      <td>0.003285</td>\n",
       "      <td>0.076215</td>\n",
       "      <td>NaN</td>\n",
       "      <td>NaN</td>\n",
       "    </tr>\n",
       "    <tr>\n",
       "      <th>moisture</th>\n",
       "      <td>-0.108631</td>\n",
       "      <td>-0.797736</td>\n",
       "      <td>1.000000</td>\n",
       "      <td>-0.156405</td>\n",
       "      <td>-0.008763</td>\n",
       "      <td>-0.010247</td>\n",
       "      <td>NaN</td>\n",
       "      <td>NaN</td>\n",
       "    </tr>\n",
       "    <tr>\n",
       "      <th>mvar</th>\n",
       "      <td>0.442904</td>\n",
       "      <td>0.279669</td>\n",
       "      <td>-0.156405</td>\n",
       "      <td>1.000000</td>\n",
       "      <td>0.317014</td>\n",
       "      <td>0.033762</td>\n",
       "      <td>NaN</td>\n",
       "      <td>NaN</td>\n",
       "    </tr>\n",
       "    <tr>\n",
       "      <th>unit_no</th>\n",
       "      <td>0.479979</td>\n",
       "      <td>0.003285</td>\n",
       "      <td>-0.008763</td>\n",
       "      <td>0.317014</td>\n",
       "      <td>1.000000</td>\n",
       "      <td>-0.336532</td>\n",
       "      <td>NaN</td>\n",
       "      <td>NaN</td>\n",
       "    </tr>\n",
       "    <tr>\n",
       "      <th>mw_declare</th>\n",
       "      <td>-0.199083</td>\n",
       "      <td>0.076215</td>\n",
       "      <td>-0.010247</td>\n",
       "      <td>0.033762</td>\n",
       "      <td>-0.336532</td>\n",
       "      <td>1.000000</td>\n",
       "      <td>NaN</td>\n",
       "      <td>NaN</td>\n",
       "    </tr>\n",
       "    <tr>\n",
       "      <th>Unnamed: 7</th>\n",
       "      <td>NaN</td>\n",
       "      <td>NaN</td>\n",
       "      <td>NaN</td>\n",
       "      <td>NaN</td>\n",
       "      <td>NaN</td>\n",
       "      <td>NaN</td>\n",
       "      <td>NaN</td>\n",
       "      <td>NaN</td>\n",
       "    </tr>\n",
       "    <tr>\n",
       "      <th>Unnamed: 8</th>\n",
       "      <td>NaN</td>\n",
       "      <td>NaN</td>\n",
       "      <td>NaN</td>\n",
       "      <td>NaN</td>\n",
       "      <td>NaN</td>\n",
       "      <td>NaN</td>\n",
       "      <td>NaN</td>\n",
       "      <td>NaN</td>\n",
       "    </tr>\n",
       "  </tbody>\n",
       "</table>\n",
       "</div>"
      ],
      "text/plain": [
       "                  mw      temp  moisture      mvar   unit_no  mw_declare  \\\n",
       "mw          1.000000  0.181605 -0.108631  0.442904  0.479979   -0.199083   \n",
       "temp        0.181605  1.000000 -0.797736  0.279669  0.003285    0.076215   \n",
       "moisture   -0.108631 -0.797736  1.000000 -0.156405 -0.008763   -0.010247   \n",
       "mvar        0.442904  0.279669 -0.156405  1.000000  0.317014    0.033762   \n",
       "unit_no     0.479979  0.003285 -0.008763  0.317014  1.000000   -0.336532   \n",
       "mw_declare -0.199083  0.076215 -0.010247  0.033762 -0.336532    1.000000   \n",
       "Unnamed: 7       NaN       NaN       NaN       NaN       NaN         NaN   \n",
       "Unnamed: 8       NaN       NaN       NaN       NaN       NaN         NaN   \n",
       "\n",
       "            Unnamed: 7  Unnamed: 8  \n",
       "mw                 NaN         NaN  \n",
       "temp               NaN         NaN  \n",
       "moisture           NaN         NaN  \n",
       "mvar               NaN         NaN  \n",
       "unit_no            NaN         NaN  \n",
       "mw_declare         NaN         NaN  \n",
       "Unnamed: 7         NaN         NaN  \n",
       "Unnamed: 8         NaN         NaN  "
      ]
     },
     "execution_count": 57,
     "metadata": {},
     "output_type": "execute_result"
    }
   ],
   "source": [
    "data.corr()"
   ]
  },
  {
   "cell_type": "code",
   "execution_count": 58,
   "id": "1da53d6e",
   "metadata": {},
   "outputs": [
    {
     "data": {
      "text/plain": [
       "0        SO\n",
       "1        SO\n",
       "2       LF1\n",
       "3       LF1\n",
       "4        SO\n",
       "       ... \n",
       "1977    LF1\n",
       "1978    LF1\n",
       "1979     SO\n",
       "1980     SO\n",
       "1981     SO\n",
       "Name: code, Length: 1982, dtype: object"
      ]
     },
     "execution_count": 58,
     "metadata": {},
     "output_type": "execute_result"
    }
   ],
   "source": [
    "X = data[[\"mw\",\"temp\",\"moisture\",\"mvar\",\"mw_declare\",\"unit_no\"]]\n",
    "y = data[\"code\"]\n",
    "y"
   ]
  },
  {
   "cell_type": "code",
   "execution_count": 59,
   "id": "f92e866c",
   "metadata": {},
   "outputs": [
    {
     "data": {
      "text/html": [
       "<div>\n",
       "<style scoped>\n",
       "    .dataframe tbody tr th:only-of-type {\n",
       "        vertical-align: middle;\n",
       "    }\n",
       "\n",
       "    .dataframe tbody tr th {\n",
       "        vertical-align: top;\n",
       "    }\n",
       "\n",
       "    .dataframe thead th {\n",
       "        text-align: right;\n",
       "    }\n",
       "</style>\n",
       "<table border=\"1\" class=\"dataframe\">\n",
       "  <thead>\n",
       "    <tr style=\"text-align: right;\">\n",
       "      <th></th>\n",
       "      <th>mw</th>\n",
       "      <th>temp</th>\n",
       "      <th>moisture</th>\n",
       "      <th>mvar</th>\n",
       "      <th>mw_declare</th>\n",
       "      <th>unit_no</th>\n",
       "    </tr>\n",
       "  </thead>\n",
       "  <tbody>\n",
       "    <tr>\n",
       "      <th>0</th>\n",
       "      <td>-0.988142</td>\n",
       "      <td>-0.097790</td>\n",
       "      <td>-0.858841</td>\n",
       "      <td>-0.648323</td>\n",
       "      <td>-0.002739</td>\n",
       "      <td>-1.537021</td>\n",
       "    </tr>\n",
       "    <tr>\n",
       "      <th>1</th>\n",
       "      <td>-0.476141</td>\n",
       "      <td>1.546014</td>\n",
       "      <td>-1.237092</td>\n",
       "      <td>0.045087</td>\n",
       "      <td>-0.002739</td>\n",
       "      <td>-1.537021</td>\n",
       "    </tr>\n",
       "    <tr>\n",
       "      <th>2</th>\n",
       "      <td>0.082406</td>\n",
       "      <td>-0.994410</td>\n",
       "      <td>-0.858841</td>\n",
       "      <td>1.605262</td>\n",
       "      <td>-0.002739</td>\n",
       "      <td>-0.766567</td>\n",
       "    </tr>\n",
       "    <tr>\n",
       "      <th>3</th>\n",
       "      <td>0.268588</td>\n",
       "      <td>0.948267</td>\n",
       "      <td>-1.142529</td>\n",
       "      <td>1.605262</td>\n",
       "      <td>1.096813</td>\n",
       "      <td>-0.766567</td>\n",
       "    </tr>\n",
       "    <tr>\n",
       "      <th>4</th>\n",
       "      <td>0.175497</td>\n",
       "      <td>1.247140</td>\n",
       "      <td>-0.669716</td>\n",
       "      <td>1.865291</td>\n",
       "      <td>1.096813</td>\n",
       "      <td>-0.766567</td>\n",
       "    </tr>\n",
       "    <tr>\n",
       "      <th>...</th>\n",
       "      <td>...</td>\n",
       "      <td>...</td>\n",
       "      <td>...</td>\n",
       "      <td>...</td>\n",
       "      <td>...</td>\n",
       "      <td>...</td>\n",
       "    </tr>\n",
       "    <tr>\n",
       "      <th>1977</th>\n",
       "      <td>0.501316</td>\n",
       "      <td>-0.097790</td>\n",
       "      <td>0.370474</td>\n",
       "      <td>0.651822</td>\n",
       "      <td>-0.002739</td>\n",
       "      <td>1.159569</td>\n",
       "    </tr>\n",
       "    <tr>\n",
       "      <th>1978</th>\n",
       "      <td>0.873680</td>\n",
       "      <td>0.798830</td>\n",
       "      <td>-0.669716</td>\n",
       "      <td>1.431909</td>\n",
       "      <td>-0.002739</td>\n",
       "      <td>1.544796</td>\n",
       "    </tr>\n",
       "    <tr>\n",
       "      <th>1979</th>\n",
       "      <td>0.780589</td>\n",
       "      <td>0.948267</td>\n",
       "      <td>-0.953404</td>\n",
       "      <td>1.605262</td>\n",
       "      <td>-0.002739</td>\n",
       "      <td>1.544796</td>\n",
       "    </tr>\n",
       "    <tr>\n",
       "      <th>1980</th>\n",
       "      <td>0.547861</td>\n",
       "      <td>1.396577</td>\n",
       "      <td>-0.953404</td>\n",
       "      <td>1.605262</td>\n",
       "      <td>-0.002739</td>\n",
       "      <td>1.544796</td>\n",
       "    </tr>\n",
       "    <tr>\n",
       "      <th>1981</th>\n",
       "      <td>-0.662323</td>\n",
       "      <td>-1.293283</td>\n",
       "      <td>1.126975</td>\n",
       "      <td>-1.081705</td>\n",
       "      <td>-0.002739</td>\n",
       "      <td>-1.537021</td>\n",
       "    </tr>\n",
       "  </tbody>\n",
       "</table>\n",
       "<p>1982 rows × 6 columns</p>\n",
       "</div>"
      ],
      "text/plain": [
       "            mw      temp  moisture      mvar  mw_declare   unit_no\n",
       "0    -0.988142 -0.097790 -0.858841 -0.648323   -0.002739 -1.537021\n",
       "1    -0.476141  1.546014 -1.237092  0.045087   -0.002739 -1.537021\n",
       "2     0.082406 -0.994410 -0.858841  1.605262   -0.002739 -0.766567\n",
       "3     0.268588  0.948267 -1.142529  1.605262    1.096813 -0.766567\n",
       "4     0.175497  1.247140 -0.669716  1.865291    1.096813 -0.766567\n",
       "...        ...       ...       ...       ...         ...       ...\n",
       "1977  0.501316 -0.097790  0.370474  0.651822   -0.002739  1.159569\n",
       "1978  0.873680  0.798830 -0.669716  1.431909   -0.002739  1.544796\n",
       "1979  0.780589  0.948267 -0.953404  1.605262   -0.002739  1.544796\n",
       "1980  0.547861  1.396577 -0.953404  1.605262   -0.002739  1.544796\n",
       "1981 -0.662323 -1.293283  1.126975 -1.081705   -0.002739 -1.537021\n",
       "\n",
       "[1982 rows x 6 columns]"
      ]
     },
     "execution_count": 59,
     "metadata": {},
     "output_type": "execute_result"
    }
   ],
   "source": [
    "scaler = StandardScaler()\n",
    "X = pd.DataFrame(scaler.fit_transform(X), columns = X.columns)\n",
    "X"
   ]
  },
  {
   "cell_type": "code",
   "execution_count": 60,
   "id": "873faad6",
   "metadata": {},
   "outputs": [
    {
     "data": {
      "text/plain": [
       "<AxesSubplot:xlabel='code', ylabel='count'>"
      ]
     },
     "execution_count": 60,
     "metadata": {},
     "output_type": "execute_result"
    },
    {
     "data": {
      "image/png": "[encoded data removed]",
      "text/plain": [
       "<Figure size 432x288 with 1 Axes>"
      ]
     },
     "metadata": {
      "needs_background": "light"
     },
     "output_type": "display_data"
    }
   ],
   "source": [
    "sns.countplot(y)"
   ]
  },
  {
   "cell_type": "code",
   "execution_count": 61,
   "id": "4f3c7c72",
   "metadata": {},
   "outputs": [],
   "source": [
    "X_train, X_test, y_train, y_test = train_test_split(X, y, test_size = 0.3, random_state = 0)"
   ]
  },
  {
   "cell_type": "code",
   "execution_count": 62,
   "id": "b8f74650",
   "metadata": {},
   "outputs": [],
   "source": [
    "#Setup a knn classifier with k neighbors\n",
    "Model = GradientBoostingClassifier()"
   ]
  },
  {
   "cell_type": "code",
   "execution_count": 63,
   "id": "89cb575c",
   "metadata": {},
   "outputs": [
    {
     "data": {
      "text/html": [
       "<style>#sk-container-id-3 {color: black;}#sk-container-id-3 pre{padding: 0;}#sk-container-id-3 div.sk-toggleable {background-color: white;}#sk-container-id-3 label.sk-toggleable__label {cursor: pointer;display: block;width: 100%;margin-bottom: 0;padding: 0.3em;box-sizing: border-box;text-align: center;}#sk-container-id-3 label.sk-toggleable__label-arrow:before {content: \"▸\";float: left;margin-right: 0.25em;color: #696969;}#sk-container-id-3 label.sk-toggleable__label-arrow:hover:before {color: black;}#sk-container-id-3 div.sk-estimator:hover label.sk-toggleable__label-arrow:before {color: black;}#sk-container-id-3 div.sk-toggleable__content {max-height: 0;max-width: 0;overflow: hidden;text-align: left;background-color: #f0f8ff;}#sk-container-id-3 div.sk-toggleable__content pre {margin: 0.2em;color: black;border-radius: 0.25em;background-color: #f0f8ff;}#sk-container-id-3 input.sk-toggleable__control:checked~div.sk-toggleable__content {max-height: 200px;max-width: 100%;overflow: auto;}#sk-container-id-3 input.sk-toggleable__control:checked~label.sk-toggleable__label-arrow:before {content: \"▾\";}#sk-container-id-3 div.sk-estimator input.sk-toggleable__control:checked~label.sk-toggleable__label {background-color: #d4ebff;}#sk-container-id-3 div.sk-label input.sk-toggleable__control:checked~label.sk-toggleable__label {background-color: #d4ebff;}#sk-container-id-3 input.sk-hidden--visually {border: 0;clip: rect(1px 1px 1px 1px);clip: rect(1px, 1px, 1px, 1px);height: 1px;margin: -1px;overflow: hidden;padding: 0;position: absolute;width: 1px;}#sk-container-id-3 div.sk-estimator {font-family: monospace;background-color: #f0f8ff;border: 1px dotted black;border-radius: 0.25em;box-sizing: border-box;margin-bottom: 0.5em;}#sk-container-id-3 div.sk-estimator:hover {background-color: #d4ebff;}#sk-container-id-3 div.sk-parallel-item::after {content: \"\";width: 100%;border-bottom: 1px solid gray;flex-grow: 1;}#sk-container-id-3 div.sk-label:hover label.sk-toggleable__label {background-color: #d4ebff;}#sk-container-id-3 div.sk-serial::before {content: \"\";position: absolute;border-left: 1px solid gray;box-sizing: border-box;top: 0;bottom: 0;left: 50%;z-index: 0;}#sk-container-id-3 div.sk-serial {display: flex;flex-direction: column;align-items: center;background-color: white;padding-right: 0.2em;padding-left: 0.2em;position: relative;}#sk-container-id-3 div.sk-item {position: relative;z-index: 1;}#sk-container-id-3 div.sk-parallel {display: flex;align-items: stretch;justify-content: center;background-color: white;position: relative;}#sk-container-id-3 div.sk-item::before, #sk-container-id-3 div.sk-parallel-item::before {content: \"\";position: absolute;border-left: 1px solid gray;box-sizing: border-box;top: 0;bottom: 0;left: 50%;z-index: -1;}#sk-container-id-3 div.sk-parallel-item {display: flex;flex-direction: column;z-index: 1;position: relative;background-color: white;}#sk-container-id-3 div.sk-parallel-item:first-child::after {align-self: flex-end;width: 50%;}#sk-container-id-3 div.sk-parallel-item:last-child::after {align-self: flex-start;width: 50%;}#sk-container-id-3 div.sk-parallel-item:only-child::after {width: 0;}#sk-container-id-3 div.sk-dashed-wrapped {border: 1px dashed gray;margin: 0 0.4em 0.5em 0.4em;box-sizing: border-box;padding-bottom: 0.4em;background-color: white;}#sk-container-id-3 div.sk-label label {font-family: monospace;font-weight: bold;display: inline-block;line-height: 1.2em;}#sk-container-id-3 div.sk-label-container {text-align: center;}#sk-container-id-3 div.sk-container {/* jupyter's `normalize.less` sets `[hidden] { display: none; }` but bootstrap.min.css set `[hidden] { display: none !important; }` so we also need the `!important` here to be able to override the default hidden behavior on the sphinx rendered scikit-learn.org. See: https://github.com/scikit-learn/scikit-learn/issues/21755 */display: inline-block !important;position: relative;}#sk-container-id-3 div.sk-text-repr-fallback {display: none;}</style><div id=\"sk-container-id-3\" class=\"sk-top-container\"><div class=\"sk-text-repr-fallback\"><pre>GradientBoostingClassifier()</pre><b>In a Jupyter environment, please rerun this cell to show the HTML representation or trust the notebook. <br />On GitHub, the HTML representation is unable to render, please try loading this page with nbviewer.org.</b></div><div class=\"sk-container\" hidden><div class=\"sk-item\"><div class=\"sk-estimator sk-toggleable\"><input class=\"sk-toggleable__control sk-hidden--visually\" id=\"sk-estimator-id-3\" type=\"checkbox\" checked><label for=\"sk-estimator-id-3\" class=\"sk-toggleable__label sk-toggleable__label-arrow\">GradientBoostingClassifier</label><div class=\"sk-toggleable__content\"><pre>GradientBoostingClassifier()</pre></div></div></div></div></div>"
      ],
      "text/plain": [
       "GradientBoostingClassifier()"
      ]
     },
     "execution_count": 63,
     "metadata": {},
     "output_type": "execute_result"
    }
   ],
   "source": [
    "#Fit the model\n",
    "Model.fit(X_train,y_train)"
   ]
  },
  {
   "cell_type": "code",
   "execution_count": 64,
   "id": "294d7183",
   "metadata": {},
   "outputs": [
    {
     "data": {
      "text/plain": [
       "0.8588235294117647"
      ]
     },
     "execution_count": 64,
     "metadata": {},
     "output_type": "execute_result"
    }
   ],
   "source": [
    "Model.score(X_test,y_test) # Accuracy of the model"
   ]
  },
  {
   "cell_type": "code",
   "execution_count": 65,
   "id": "24a134c9",
   "metadata": {},
   "outputs": [
    {
     "data": {
      "text/plain": [
       "0.9315068493150684"
      ]
     },
     "execution_count": 65,
     "metadata": {},
     "output_type": "execute_result"
    }
   ],
   "source": [
    "Model.score(X_train,y_train) # Accuracy of the model"
   ]
  },
  {
   "cell_type": "code",
   "execution_count": 66,
   "id": "d16be77a",
   "metadata": {},
   "outputs": [],
   "source": [
    "y_pred = Model.predict(X_test)"
   ]
  },
  {
   "cell_type": "code",
   "execution_count": 67,
   "id": "85fcfc7a",
   "metadata": {},
   "outputs": [
    {
     "data": {
      "text/plain": [
       "<AxesSubplot:>"
      ]
     },
     "execution_count": 67,
     "metadata": {},
     "output_type": "execute_result"
    },
    {
     "data": {
      "image/png": "[encoded data removed]",
      "text/plain": [
       "<Figure size 720x720 with 2 Axes>"
      ]
     },
     "metadata": {
      "needs_background": "light"
     },
     "output_type": "display_data"
    }
   ],
   "source": [
    "#import confusion_matrix\n",
    "from sklearn.metrics import confusion_matrix\n",
    "mat = confusion_matrix(y_test, y_pred)\n",
    "plt.figure(figsize=(10, 10))\n",
    "sns.heatmap(mat, annot=True)"
   ]
  },
  {
   "cell_type": "code",
   "execution_count": 68,
   "id": "cad9fa74",
   "metadata": {},
   "outputs": [
    {
     "name": "stdout",
     "output_type": "stream",
     "text": [
      "              precision    recall  f1-score   support\n",
      "\n",
      "          FA       1.00      0.86      0.92         7\n",
      "          FP       1.00      1.00      1.00         4\n",
      "          LA       0.62      0.62      0.62         8\n",
      "          LD       0.00      0.00      0.00         1\n",
      "         LF1       0.84      0.76      0.80       196\n",
      "          LP       0.60      1.00      0.75         3\n",
      "          PO       1.00      1.00      1.00         2\n",
      "          SO       0.87      0.92      0.89       374\n",
      "\n",
      "    accuracy                           0.86       595\n",
      "   macro avg       0.74      0.77      0.75       595\n",
      "weighted avg       0.86      0.86      0.86       595\n",
      "\n"
     ]
    }
   ],
   "source": [
    "#import classification_report\n",
    "from sklearn.metrics import classification_report\n",
    "print(classification_report(y_test,y_pred))"
   ]
  },
  {
   "cell_type": "code",
   "execution_count": 69,
   "id": "45aac61a",
   "metadata": {},
   "outputs": [],
   "source": [
    "param_grid = {'learning_rate': [0.001, 0.01, 0.1, 1], 'n_estimators': [50, 100, 150], 'max_depth': [2, 3, 4]}"
   ]
  },
  {
   "cell_type": "code",
   "execution_count": null,
   "id": "79c3ae34",
   "metadata": {},
   "outputs": [],
   "source": [
    "GB = GradientBoostingClassifier()\n",
    "gs = GridSearchCV(estimator=GB,param_grid=param_grid,scoring=\"accuracy\", cv=10)\n",
    "grid_search = gs.fit(X_train,y_train)\n",
    "best_score = grid_search.best_score_\n",
    "best_parameters = grid_search.best_params_\n",
    "print(\"Best Score:\",best_score)\n",
    "print(\"Best Parameters:\",best_parameters)"
   ]
  },
  {
   "cell_type": "code",
   "execution_count": null,
   "id": "aa02d7eb",
   "metadata": {},
   "outputs": [],
   "source": [
    "Model = GradientBoostingClassifier(**best_parameters)\n",
    "#Fit the model\n",
    "Model.fit(X_train,y_train)\n",
    "y_pred = Model.predict(X_test)"
   ]
  },
  {
   "cell_type": "code",
   "execution_count": null,
   "id": "360e97df",
   "metadata": {},
   "outputs": [],
   "source": [
    "rf_acc = metrics.accuracy_score(y_test, y_pred)\n",
    "print(rf_acc)"
   ]
  },
  {
   "cell_type": "code",
   "execution_count": null,
   "id": "6845cf73",
   "metadata": {},
   "outputs": [],
   "source": [
    "pca = PCA()\n",
    "pca.fit(X)\n",
    "# Get the explained variance ratio for each component\n",
    "exp_var_ratio = pca.explained_variance_ratio_\n",
    "\n",
    "# Plot a bar chart of the explained variance ratio\n",
    "feature_names = list(X_train.columns)\n",
    "# Plot a bar chart of the explained variance ratio with feature names\n",
    "plt.bar(range(1, len(exp_var_ratio)+1), exp_var_ratio)\n",
    "plt.xticks(range(1, len(feature_names)+1), feature_names, rotation=90)\n",
    "plt.xlabel('Principal Component')\n",
    "plt.ylabel('Explained Variance Ratio')\n",
    "plt.show()\n",
    "cumulative_variance = np.cumsum(pca.explained_variance_ratio_)\n",
    "n_components = np.argmax(cumulative_variance >= 0.95) + 1\n",
    "print(\"Number of components that contain more than 95% of variance:\", n_components)"
   ]
  },
  {
   "cell_type": "code",
   "execution_count": null,
   "id": "88ee93a6",
   "metadata": {},
   "outputs": [],
   "source": [
    "# Perform PCA to reduce the dimensions of the dataset\n",
    "pca = PCA(n_components=5)\n",
    "X_pca = pca.fit_transform(X)\n",
    "# Split the dataset into training and testing sets\n",
    "X_train2, X_test2, y_train2, y_test2 = train_test_split(X_pca, y, test_size=0.2, random_state=42)"
   ]
  },
  {
   "cell_type": "code",
   "execution_count": null,
   "id": "69aef2d4",
   "metadata": {},
   "outputs": [],
   "source": [
    "Model = GradientBoostingClassifier(learning_rate=0.1,max_depth=4,n_estimators=150)\n",
    "#Fit the model\n",
    "Model.fit(X_train2,y_train2)\n",
    "y_pred2 = Model.predict(X_test2)"
   ]
  },
  {
   "cell_type": "code",
   "execution_count": null,
   "id": "d875f7a7",
   "metadata": {},
   "outputs": [],
   "source": [
    "nb_acc = metrics.accuracy_score(y_test2, y_pred2)\n",
    "print(nb_acc)"
   ]
  },
  {
   "cell_type": "code",
   "execution_count": null,
   "id": "0fcfc195",
   "metadata": {},
   "outputs": [],
   "source": [
    "# assume row is the new data point to predict with 5 features\n",
    "query_point = [[95,32,10,17,1,132]]\n",
    "query_point_scaled = scaler.transform(query_point)\n",
    "query_point_pca = pca.transform(query_point_scaled)\n",
    "prediction = Model.predict(query_point_pca)\n",
    "print(\"Prediction:\", prediction)"
   ]
  }
 ],
 "metadata": {
  "kernelspec": {
   "display_name": "Python 3",
   "language": "python",
   "name": "python3"
  }
 },
 "nbformat": 4,
 "nbformat_minor": 5
}
