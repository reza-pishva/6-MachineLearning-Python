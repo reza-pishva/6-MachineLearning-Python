{
 "cells": [
  {
   "cell_type": "code",
   "execution_count": 37,
   "id": "bcf03618",
   "metadata": {},
   "outputs": [],
   "source": [
    "import numpy as np \n",
    "import pandas as pd\n",
    "import seaborn as sns\n",
    "import matplotlib.pyplot as plt\n",
    "from sklearn.decomposition import PCA\n",
    "from sklearn.preprocessing import StandardScaler\n",
    "from sklearn.ensemble import GradientBoostingClassifier\n",
    "from sklearn.model_selection import train_test_split, cross_val_score , GridSearchCV\n",
    "from sklearn.utils.multiclass import unique_labels\n",
    "from sklearn import metrics\n",
    "import warnings\n",
    "warnings.filterwarnings('ignore')"
   ]
  },
  {
   "cell_type": "code",
   "execution_count": 38,
   "id": "3a83e612",
   "metadata": {},
   "outputs": [],
   "source": [
    "data = pd.read_excel(\"StudentsScore.xlsx\")"
   ]
  },
  {
   "cell_type": "code",
   "execution_count": 39,
   "id": "0ba1d4d3",
   "metadata": {},
   "outputs": [
    {
     "data": {
      "text/html": [
       "<div>\n",
       "<style scoped>\n",
       "    .dataframe tbody tr th:only-of-type {\n",
       "        vertical-align: middle;\n",
       "    }\n",
       "\n",
       "    .dataframe tbody tr th {\n",
       "        vertical-align: top;\n",
       "    }\n",
       "\n",
       "    .dataframe thead th {\n",
       "        text-align: right;\n",
       "    }\n",
       "</style>\n",
       "<table border=\"1\" class=\"dataframe\">\n",
       "  <thead>\n",
       "    <tr style=\"text-align: right;\">\n",
       "      <th></th>\n",
       "      <th>StudentId</th>\n",
       "      <th>Attendance</th>\n",
       "      <th>Participation</th>\n",
       "      <th>FatherStudies</th>\n",
       "      <th>MotherStudies</th>\n",
       "      <th>OverallScore</th>\n",
       "      <th>Unnamed: 6</th>\n",
       "      <th>Unnamed: 7</th>\n",
       "    </tr>\n",
       "  </thead>\n",
       "  <tbody>\n",
       "    <tr>\n",
       "      <th>0</th>\n",
       "      <td>1</td>\n",
       "      <td>90</td>\n",
       "      <td>80</td>\n",
       "      <td>diploma</td>\n",
       "      <td>diploma</td>\n",
       "      <td>A</td>\n",
       "      <td>NaN</td>\n",
       "      <td>NaN</td>\n",
       "    </tr>\n",
       "    <tr>\n",
       "      <th>1</th>\n",
       "      <td>2</td>\n",
       "      <td>80</td>\n",
       "      <td>80</td>\n",
       "      <td>bachelor</td>\n",
       "      <td>bachelor</td>\n",
       "      <td>A</td>\n",
       "      <td>NaN</td>\n",
       "      <td>NaN</td>\n",
       "    </tr>\n",
       "    <tr>\n",
       "      <th>2</th>\n",
       "      <td>3</td>\n",
       "      <td>70</td>\n",
       "      <td>85</td>\n",
       "      <td>bachelor</td>\n",
       "      <td>Master</td>\n",
       "      <td>A</td>\n",
       "      <td>NaN</td>\n",
       "      <td>NaN</td>\n",
       "    </tr>\n",
       "    <tr>\n",
       "      <th>3</th>\n",
       "      <td>4</td>\n",
       "      <td>60</td>\n",
       "      <td>90</td>\n",
       "      <td>diploma</td>\n",
       "      <td>doctorate</td>\n",
       "      <td>A</td>\n",
       "      <td>NaN</td>\n",
       "      <td>NaN</td>\n",
       "    </tr>\n",
       "    <tr>\n",
       "      <th>4</th>\n",
       "      <td>5</td>\n",
       "      <td>70</td>\n",
       "      <td>70</td>\n",
       "      <td>diploma</td>\n",
       "      <td>diploma</td>\n",
       "      <td>B</td>\n",
       "      <td>NaN</td>\n",
       "      <td>NaN</td>\n",
       "    </tr>\n",
       "  </tbody>\n",
       "</table>\n",
       "</div>"
      ],
      "text/plain": [
       "   StudentId  Attendance  Participation FatherStudies MotherStudies  \\\n",
       "0          1          90             80       diploma       diploma   \n",
       "1          2          80             80      bachelor      bachelor   \n",
       "2          3          70             85      bachelor        Master   \n",
       "3          4          60             90       diploma     doctorate   \n",
       "4          5          70             70       diploma       diploma   \n",
       "\n",
       "  OverallScore  Unnamed: 6  Unnamed: 7  \n",
       "0            A         NaN         NaN  \n",
       "1            A         NaN         NaN  \n",
       "2            A         NaN         NaN  \n",
       "3            A         NaN         NaN  \n",
       "4            B         NaN         NaN  "
      ]
     },
     "execution_count": 39,
     "metadata": {},
     "output_type": "execute_result"
    }
   ],
   "source": [
    "data.head()"
   ]
  },
  {
   "cell_type": "code",
   "execution_count": 40,
   "id": "77252ff8",
   "metadata": {},
   "outputs": [
    {
     "data": {
      "text/plain": [
       "A    180\n",
       "B    102\n",
       "C     92\n",
       "Name: OverallScore, dtype: int64"
      ]
     },
     "execution_count": 40,
     "metadata": {},
     "output_type": "execute_result"
    }
   ],
   "source": [
    "data['OverallScore'].value_counts()"
   ]
  },
  {
   "cell_type": "code",
   "execution_count": 41,
   "id": "72bdf2d7",
   "metadata": {},
   "outputs": [
    {
     "data": {
      "text/plain": [
       "StudentId          0\n",
       "Attendance         0\n",
       "Participation      0\n",
       "FatherStudies      0\n",
       "MotherStudies      0\n",
       "OverallScore       0\n",
       "Unnamed: 6       374\n",
       "Unnamed: 7       374\n",
       "dtype: int64"
      ]
     },
     "execution_count": 41,
     "metadata": {},
     "output_type": "execute_result"
    }
   ],
   "source": [
    "data.isnull().sum()"
   ]
  },
  {
   "cell_type": "code",
   "execution_count": 42,
   "id": "b93c59fc",
   "metadata": {},
   "outputs": [
    {
     "data": {
      "text/plain": [
       "bachelor     144\n",
       "doctorate     94\n",
       "diploma       88\n",
       "Master        48\n",
       "Name: FatherStudies, dtype: int64"
      ]
     },
     "execution_count": 42,
     "metadata": {},
     "output_type": "execute_result"
    }
   ],
   "source": [
    "data['FatherStudies'].value_counts()"
   ]
  },
  {
   "cell_type": "code",
   "execution_count": 43,
   "id": "16f65187",
   "metadata": {},
   "outputs": [
    {
     "data": {
      "text/plain": [
       "doctorate    114\n",
       "bachelor      99\n",
       "Master        89\n",
       "diploma       72\n",
       "Name: MotherStudies, dtype: int64"
      ]
     },
     "execution_count": 43,
     "metadata": {},
     "output_type": "execute_result"
    }
   ],
   "source": [
    "data['MotherStudies'].value_counts()"
   ]
  },
  {
   "cell_type": "code",
   "execution_count": 44,
   "id": "0e7918c9",
   "metadata": {},
   "outputs": [],
   "source": [
    "data[\"FatherStudies\"][data[\"FatherStudies\"]==\"diploma\"]=1\n",
    "data[\"FatherStudies\"][data[\"FatherStudies\"]==\"bachelor\"]=2\n",
    "data[\"FatherStudies\"][data[\"FatherStudies\"]==\"Master\"]=3\n",
    "data[\"FatherStudies\"][data[\"FatherStudies\"]==\"doctorate\"]=4"
   ]
  },
  {
   "cell_type": "code",
   "execution_count": 45,
   "id": "293b14ac",
   "metadata": {},
   "outputs": [],
   "source": [
    "data[\"MotherStudies\"][data[\"MotherStudies\"]==\"diploma\"]=1\n",
    "data[\"MotherStudies\"][data[\"MotherStudies\"]==\"bachelor\"]=2\n",
    "data[\"MotherStudies\"][data[\"MotherStudies\"]==\"Master\"]=3\n",
    "data[\"MotherStudies\"][data[\"MotherStudies\"]==\"doctorate\"]=4"
   ]
  },
  {
   "cell_type": "code",
   "execution_count": 46,
   "id": "cc010094",
   "metadata": {},
   "outputs": [
    {
     "data": {
      "text/plain": [
       "0      A\n",
       "1      A\n",
       "2      A\n",
       "3      A\n",
       "4      B\n",
       "      ..\n",
       "369    B\n",
       "370    C\n",
       "371    B\n",
       "372    B\n",
       "373    A\n",
       "Name: OverallScore, Length: 374, dtype: object"
      ]
     },
     "execution_count": 46,
     "metadata": {},
     "output_type": "execute_result"
    }
   ],
   "source": [
    "X = data[[\"Attendance\",\"Participation\",\"FatherStudies\",\"MotherStudies\"]]\n",
    "y = data[\"OverallScore\"]\n",
    "y"
   ]
  },
  {
   "cell_type": "code",
   "execution_count": 47,
   "id": "407f4b54",
   "metadata": {},
   "outputs": [
    {
     "data": {
      "text/html": [
       "<div>\n",
       "<style scoped>\n",
       "    .dataframe tbody tr th:only-of-type {\n",
       "        vertical-align: middle;\n",
       "    }\n",
       "\n",
       "    .dataframe tbody tr th {\n",
       "        vertical-align: top;\n",
       "    }\n",
       "\n",
       "    .dataframe thead th {\n",
       "        text-align: right;\n",
       "    }\n",
       "</style>\n",
       "<table border=\"1\" class=\"dataframe\">\n",
       "  <thead>\n",
       "    <tr style=\"text-align: right;\">\n",
       "      <th></th>\n",
       "      <th>StudentId</th>\n",
       "      <th>Attendance</th>\n",
       "      <th>Participation</th>\n",
       "      <th>Unnamed: 6</th>\n",
       "      <th>Unnamed: 7</th>\n",
       "    </tr>\n",
       "  </thead>\n",
       "  <tbody>\n",
       "    <tr>\n",
       "      <th>StudentId</th>\n",
       "      <td>1.000000</td>\n",
       "      <td>-0.106211</td>\n",
       "      <td>-0.028927</td>\n",
       "      <td>NaN</td>\n",
       "      <td>NaN</td>\n",
       "    </tr>\n",
       "    <tr>\n",
       "      <th>Attendance</th>\n",
       "      <td>-0.106211</td>\n",
       "      <td>1.000000</td>\n",
       "      <td>0.360547</td>\n",
       "      <td>NaN</td>\n",
       "      <td>NaN</td>\n",
       "    </tr>\n",
       "    <tr>\n",
       "      <th>Participation</th>\n",
       "      <td>-0.028927</td>\n",
       "      <td>0.360547</td>\n",
       "      <td>1.000000</td>\n",
       "      <td>NaN</td>\n",
       "      <td>NaN</td>\n",
       "    </tr>\n",
       "    <tr>\n",
       "      <th>Unnamed: 6</th>\n",
       "      <td>NaN</td>\n",
       "      <td>NaN</td>\n",
       "      <td>NaN</td>\n",
       "      <td>NaN</td>\n",
       "      <td>NaN</td>\n",
       "    </tr>\n",
       "    <tr>\n",
       "      <th>Unnamed: 7</th>\n",
       "      <td>NaN</td>\n",
       "      <td>NaN</td>\n",
       "      <td>NaN</td>\n",
       "      <td>NaN</td>\n",
       "      <td>NaN</td>\n",
       "    </tr>\n",
       "  </tbody>\n",
       "</table>\n",
       "</div>"
      ],
      "text/plain": [
       "               StudentId  Attendance  Participation  Unnamed: 6  Unnamed: 7\n",
       "StudentId       1.000000   -0.106211      -0.028927         NaN         NaN\n",
       "Attendance     -0.106211    1.000000       0.360547         NaN         NaN\n",
       "Participation  -0.028927    0.360547       1.000000         NaN         NaN\n",
       "Unnamed: 6           NaN         NaN            NaN         NaN         NaN\n",
       "Unnamed: 7           NaN         NaN            NaN         NaN         NaN"
      ]
     },
     "execution_count": 47,
     "metadata": {},
     "output_type": "execute_result"
    }
   ],
   "source": [
    "data.corr()"
   ]
  },
  {
   "cell_type": "code",
   "execution_count": 48,
   "id": "f92e866c",
   "metadata": {},
   "outputs": [
    {
     "data": {
      "text/html": [
       "<div>\n",
       "<style scoped>\n",
       "    .dataframe tbody tr th:only-of-type {\n",
       "        vertical-align: middle;\n",
       "    }\n",
       "\n",
       "    .dataframe tbody tr th {\n",
       "        vertical-align: top;\n",
       "    }\n",
       "\n",
       "    .dataframe thead th {\n",
       "        text-align: right;\n",
       "    }\n",
       "</style>\n",
       "<table border=\"1\" class=\"dataframe\">\n",
       "  <thead>\n",
       "    <tr style=\"text-align: right;\">\n",
       "      <th></th>\n",
       "      <th>Attendance</th>\n",
       "      <th>Participation</th>\n",
       "      <th>FatherStudies</th>\n",
       "      <th>MotherStudies</th>\n",
       "    </tr>\n",
       "  </thead>\n",
       "  <tbody>\n",
       "    <tr>\n",
       "      <th>0</th>\n",
       "      <td>0.989378</td>\n",
       "      <td>0.557187</td>\n",
       "      <td>-1.267588</td>\n",
       "      <td>-1.498069</td>\n",
       "    </tr>\n",
       "    <tr>\n",
       "      <th>1</th>\n",
       "      <td>0.535635</td>\n",
       "      <td>0.557187</td>\n",
       "      <td>-0.359393</td>\n",
       "      <td>-0.592935</td>\n",
       "    </tr>\n",
       "    <tr>\n",
       "      <th>2</th>\n",
       "      <td>0.081892</td>\n",
       "      <td>0.883813</td>\n",
       "      <td>-0.359393</td>\n",
       "      <td>0.312199</td>\n",
       "    </tr>\n",
       "    <tr>\n",
       "      <th>3</th>\n",
       "      <td>-0.371851</td>\n",
       "      <td>1.210440</td>\n",
       "      <td>-1.267588</td>\n",
       "      <td>1.217333</td>\n",
       "    </tr>\n",
       "    <tr>\n",
       "      <th>4</th>\n",
       "      <td>0.081892</td>\n",
       "      <td>-0.096067</td>\n",
       "      <td>-1.267588</td>\n",
       "      <td>-1.498069</td>\n",
       "    </tr>\n",
       "    <tr>\n",
       "      <th>...</th>\n",
       "      <td>...</td>\n",
       "      <td>...</td>\n",
       "      <td>...</td>\n",
       "      <td>...</td>\n",
       "    </tr>\n",
       "    <tr>\n",
       "      <th>369</th>\n",
       "      <td>-2.413695</td>\n",
       "      <td>-0.749320</td>\n",
       "      <td>1.456998</td>\n",
       "      <td>1.217333</td>\n",
       "    </tr>\n",
       "    <tr>\n",
       "      <th>370</th>\n",
       "      <td>-1.959952</td>\n",
       "      <td>-0.749320</td>\n",
       "      <td>-0.359393</td>\n",
       "      <td>-1.498069</td>\n",
       "    </tr>\n",
       "    <tr>\n",
       "      <th>371</th>\n",
       "      <td>-1.506209</td>\n",
       "      <td>-0.096067</td>\n",
       "      <td>-0.359393</td>\n",
       "      <td>-0.592935</td>\n",
       "    </tr>\n",
       "    <tr>\n",
       "      <th>372</th>\n",
       "      <td>-1.959952</td>\n",
       "      <td>-0.096067</td>\n",
       "      <td>1.456998</td>\n",
       "      <td>1.217333</td>\n",
       "    </tr>\n",
       "    <tr>\n",
       "      <th>373</th>\n",
       "      <td>-1.506209</td>\n",
       "      <td>0.883813</td>\n",
       "      <td>1.456998</td>\n",
       "      <td>1.217333</td>\n",
       "    </tr>\n",
       "  </tbody>\n",
       "</table>\n",
       "<p>374 rows × 4 columns</p>\n",
       "</div>"
      ],
      "text/plain": [
       "     Attendance  Participation  FatherStudies  MotherStudies\n",
       "0      0.989378       0.557187      -1.267588      -1.498069\n",
       "1      0.535635       0.557187      -0.359393      -0.592935\n",
       "2      0.081892       0.883813      -0.359393       0.312199\n",
       "3     -0.371851       1.210440      -1.267588       1.217333\n",
       "4      0.081892      -0.096067      -1.267588      -1.498069\n",
       "..          ...            ...            ...            ...\n",
       "369   -2.413695      -0.749320       1.456998       1.217333\n",
       "370   -1.959952      -0.749320      -0.359393      -1.498069\n",
       "371   -1.506209      -0.096067      -0.359393      -0.592935\n",
       "372   -1.959952      -0.096067       1.456998       1.217333\n",
       "373   -1.506209       0.883813       1.456998       1.217333\n",
       "\n",
       "[374 rows x 4 columns]"
      ]
     },
     "execution_count": 48,
     "metadata": {},
     "output_type": "execute_result"
    }
   ],
   "source": [
    "scaler = StandardScaler()\n",
    "X = pd.DataFrame(scaler.fit_transform(X), columns = X.columns)\n",
    "X"
   ]
  },
  {
   "cell_type": "code",
   "execution_count": 49,
   "id": "873faad6",
   "metadata": {},
   "outputs": [
    {
     "data": {
      "text/plain": [
       "<AxesSubplot:xlabel='OverallScore', ylabel='count'>"
      ]
     },
     "execution_count": 49,
     "metadata": {},
     "output_type": "execute_result"
    },
    {
     "data": {
      "image/png": "[encoded data removed]",
      "text/plain": [
       "<Figure size 432x288 with 1 Axes>"
      ]
     },
     "metadata": {
      "needs_background": "light"
     },
     "output_type": "display_data"
    }
   ],
   "source": [
    "import seaborn as sns\n",
    "sns.countplot(y)"
   ]
  },
  {
   "cell_type": "code",
   "execution_count": 50,
   "id": "4f3c7c72",
   "metadata": {},
   "outputs": [],
   "source": [
    "X_train, X_test, y_train, y_test = train_test_split(X, y, test_size = 0.3, random_state = 0)"
   ]
  },
  {
   "cell_type": "code",
   "execution_count": 51,
   "id": "b8f74650",
   "metadata": {},
   "outputs": [],
   "source": [
    "#Setup a knn classifier with k neighbors\n",
    "Model = GradientBoostingClassifier()"
   ]
  },
  {
   "cell_type": "code",
   "execution_count": 52,
   "id": "89cb575c",
   "metadata": {},
   "outputs": [
    {
     "data": {
      "text/html": [
       "<style>#sk-container-id-2 {color: black;}#sk-container-id-2 pre{padding: 0;}#sk-container-id-2 div.sk-toggleable {background-color: white;}#sk-container-id-2 label.sk-toggleable__label {cursor: pointer;display: block;width: 100%;margin-bottom: 0;padding: 0.3em;box-sizing: border-box;text-align: center;}#sk-container-id-2 label.sk-toggleable__label-arrow:before {content: \"▸\";float: left;margin-right: 0.25em;color: #696969;}#sk-container-id-2 label.sk-toggleable__label-arrow:hover:before {color: black;}#sk-container-id-2 div.sk-estimator:hover label.sk-toggleable__label-arrow:before {color: black;}#sk-container-id-2 div.sk-toggleable__content {max-height: 0;max-width: 0;overflow: hidden;text-align: left;background-color: #f0f8ff;}#sk-container-id-2 div.sk-toggleable__content pre {margin: 0.2em;color: black;border-radius: 0.25em;background-color: #f0f8ff;}#sk-container-id-2 input.sk-toggleable__control:checked~div.sk-toggleable__content {max-height: 200px;max-width: 100%;overflow: auto;}#sk-container-id-2 input.sk-toggleable__control:checked~label.sk-toggleable__label-arrow:before {content: \"▾\";}#sk-container-id-2 div.sk-estimator input.sk-toggleable__control:checked~label.sk-toggleable__label {background-color: #d4ebff;}#sk-container-id-2 div.sk-label input.sk-toggleable__control:checked~label.sk-toggleable__label {background-color: #d4ebff;}#sk-container-id-2 input.sk-hidden--visually {border: 0;clip: rect(1px 1px 1px 1px);clip: rect(1px, 1px, 1px, 1px);height: 1px;margin: -1px;overflow: hidden;padding: 0;position: absolute;width: 1px;}#sk-container-id-2 div.sk-estimator {font-family: monospace;background-color: #f0f8ff;border: 1px dotted black;border-radius: 0.25em;box-sizing: border-box;margin-bottom: 0.5em;}#sk-container-id-2 div.sk-estimator:hover {background-color: #d4ebff;}#sk-container-id-2 div.sk-parallel-item::after {content: \"\";width: 100%;border-bottom: 1px solid gray;flex-grow: 1;}#sk-container-id-2 div.sk-label:hover label.sk-toggleable__label {background-color: #d4ebff;}#sk-container-id-2 div.sk-serial::before {content: \"\";position: absolute;border-left: 1px solid gray;box-sizing: border-box;top: 0;bottom: 0;left: 50%;z-index: 0;}#sk-container-id-2 div.sk-serial {display: flex;flex-direction: column;align-items: center;background-color: white;padding-right: 0.2em;padding-left: 0.2em;position: relative;}#sk-container-id-2 div.sk-item {position: relative;z-index: 1;}#sk-container-id-2 div.sk-parallel {display: flex;align-items: stretch;justify-content: center;background-color: white;position: relative;}#sk-container-id-2 div.sk-item::before, #sk-container-id-2 div.sk-parallel-item::before {content: \"\";position: absolute;border-left: 1px solid gray;box-sizing: border-box;top: 0;bottom: 0;left: 50%;z-index: -1;}#sk-container-id-2 div.sk-parallel-item {display: flex;flex-direction: column;z-index: 1;position: relative;background-color: white;}#sk-container-id-2 div.sk-parallel-item:first-child::after {align-self: flex-end;width: 50%;}#sk-container-id-2 div.sk-parallel-item:last-child::after {align-self: flex-start;width: 50%;}#sk-container-id-2 div.sk-parallel-item:only-child::after {width: 0;}#sk-container-id-2 div.sk-dashed-wrapped {border: 1px dashed gray;margin: 0 0.4em 0.5em 0.4em;box-sizing: border-box;padding-bottom: 0.4em;background-color: white;}#sk-container-id-2 div.sk-label label {font-family: monospace;font-weight: bold;display: inline-block;line-height: 1.2em;}#sk-container-id-2 div.sk-label-container {text-align: center;}#sk-container-id-2 div.sk-container {/* jupyter's `normalize.less` sets `[hidden] { display: none; }` but bootstrap.min.css set `[hidden] { display: none !important; }` so we also need the `!important` here to be able to override the default hidden behavior on the sphinx rendered scikit-learn.org. See: https://github.com/scikit-learn/scikit-learn/issues/21755 */display: inline-block !important;position: relative;}#sk-container-id-2 div.sk-text-repr-fallback {display: none;}</style><div id=\"sk-container-id-2\" class=\"sk-top-container\"><div class=\"sk-text-repr-fallback\"><pre>GradientBoostingClassifier()</pre><b>In a Jupyter environment, please rerun this cell to show the HTML representation or trust the notebook. <br />On GitHub, the HTML representation is unable to render, please try loading this page with nbviewer.org.</b></div><div class=\"sk-container\" hidden><div class=\"sk-item\"><div class=\"sk-estimator sk-toggleable\"><input class=\"sk-toggleable__control sk-hidden--visually\" id=\"sk-estimator-id-2\" type=\"checkbox\" checked><label for=\"sk-estimator-id-2\" class=\"sk-toggleable__label sk-toggleable__label-arrow\">GradientBoostingClassifier</label><div class=\"sk-toggleable__content\"><pre>GradientBoostingClassifier()</pre></div></div></div></div></div>"
      ],
      "text/plain": [
       "GradientBoostingClassifier()"
      ]
     },
     "execution_count": 52,
     "metadata": {},
     "output_type": "execute_result"
    }
   ],
   "source": [
    "#Fit the model\n",
    "Model.fit(X_train,y_train)"
   ]
  },
  {
   "cell_type": "code",
   "execution_count": 53,
   "id": "294d7183",
   "metadata": {},
   "outputs": [
    {
     "data": {
      "text/plain": [
       "0.8584070796460177"
      ]
     },
     "execution_count": 53,
     "metadata": {},
     "output_type": "execute_result"
    }
   ],
   "source": [
    "Model.score(X_test,y_test) # Accuracy of the model"
   ]
  },
  {
   "cell_type": "code",
   "execution_count": 54,
   "id": "24a134c9",
   "metadata": {},
   "outputs": [
    {
     "data": {
      "text/plain": [
       "0.9003831417624522"
      ]
     },
     "execution_count": 54,
     "metadata": {},
     "output_type": "execute_result"
    }
   ],
   "source": [
    "Model.score(X_train,y_train) # Accuracy of the model"
   ]
  },
  {
   "cell_type": "code",
   "execution_count": 55,
   "id": "d16be77a",
   "metadata": {},
   "outputs": [],
   "source": [
    "y_pred = Model.predict(X_test)"
   ]
  },
  {
   "cell_type": "code",
   "execution_count": 56,
   "id": "85fcfc7a",
   "metadata": {},
   "outputs": [
    {
     "data": {
      "text/plain": [
       "<AxesSubplot:>"
      ]
     },
     "execution_count": 56,
     "metadata": {},
     "output_type": "execute_result"
    },
    {
     "data": {
      "image/png": "[encoded data removed]",
      "text/plain": [
       "<Figure size 360x360 with 2 Axes>"
      ]
     },
     "metadata": {
      "needs_background": "light"
     },
     "output_type": "display_data"
    }
   ],
   "source": [
    "#import confusion_matrix\n",
    "from sklearn.metrics import confusion_matrix\n",
    "mat = confusion_matrix(y_test, y_pred)\n",
    "plt.figure(figsize=(5, 5))\n",
    "sns.heatmap(mat, annot=True)"
   ]
  },
  {
   "cell_type": "code",
   "execution_count": 57,
   "id": "cad9fa74",
   "metadata": {},
   "outputs": [
    {
     "name": "stdout",
     "output_type": "stream",
     "text": [
      "              precision    recall  f1-score   support\n",
      "\n",
      "           A       0.86      0.97      0.91        58\n",
      "           B       0.91      0.74      0.82        27\n",
      "           C       0.81      0.75      0.78        28\n",
      "\n",
      "    accuracy                           0.86       113\n",
      "   macro avg       0.86      0.82      0.83       113\n",
      "weighted avg       0.86      0.86      0.86       113\n",
      "\n"
     ]
    }
   ],
   "source": [
    "#import classification_report\n",
    "from sklearn.metrics import classification_report\n",
    "print(classification_report(y_test,y_pred))"
   ]
  },
  {
   "cell_type": "code",
   "execution_count": 58,
   "id": "45aac61a",
   "metadata": {},
   "outputs": [],
   "source": [
    "param_grid = {'learning_rate': [0.001, 0.01, 0.1, 1], 'n_estimators': [50, 100, 150], 'max_depth': [2, 3, 4]}"
   ]
  },
  {
   "cell_type": "code",
   "execution_count": 59,
   "id": "79c3ae34",
   "metadata": {},
   "outputs": [
    {
     "name": "stdout",
     "output_type": "stream",
     "text": [
      "Best Score: 0.8732193732193734\n",
      "Best Parameters: {'learning_rate': 0.01, 'max_depth': 4, 'n_estimators': 150}\n"
     ]
    }
   ],
   "source": [
    "GB = GradientBoostingClassifier()\n",
    "gs = GridSearchCV(estimator=GB,param_grid=param_grid,scoring=\"accuracy\", cv=10)\n",
    "grid_search = gs.fit(X_train,y_train)\n",
    "best_score = grid_search.best_score_\n",
    "best_parameters = grid_search.best_params_\n",
    "print(\"Best Score:\",best_score)\n",
    "print(\"Best Parameters:\",best_parameters)"
   ]
  },
  {
   "cell_type": "code",
   "execution_count": 60,
   "id": "aa02d7eb",
   "metadata": {},
   "outputs": [],
   "source": [
    "Model = GradientBoostingClassifier(**best_parameters)\n",
    "#Fit the model\n",
    "Model.fit(X_train,y_train)\n",
    "y_pred = Model.predict(X_test)"
   ]
  },
  {
   "cell_type": "code",
   "execution_count": 61,
   "id": "360e97df",
   "metadata": {},
   "outputs": [
    {
     "name": "stdout",
     "output_type": "stream",
     "text": [
      "0.8938053097345132\n"
     ]
    }
   ],
   "source": [
    "rf_acc = metrics.accuracy_score(y_test, y_pred)\n",
    "print(rf_acc)"
   ]
  },
  {
   "cell_type": "code",
   "execution_count": 62,
   "id": "6845cf73",
   "metadata": {},
   "outputs": [
    {
     "data": {
      "image/png": "[encoded data removed]",
      "text/plain": [
       "<Figure size 432x288 with 1 Axes>"
      ]
     },
     "metadata": {
      "needs_background": "light"
     },
     "output_type": "display_data"
    },
    {
     "name": "stdout",
     "output_type": "stream",
     "text": [
      "Number of components that contain more than 95% of variance: 4\n"
     ]
    }
   ],
   "source": [
    "pca = PCA()\n",
    "pca.fit(X)\n",
    "# Get the explained variance ratio for each component\n",
    "exp_var_ratio = pca.explained_variance_ratio_\n",
    "\n",
    "# Plot a bar chart of the explained variance ratio\n",
    "feature_names = list(X_train.columns)\n",
    "# Plot a bar chart of the explained variance ratio with feature names\n",
    "plt.bar(range(1, len(exp_var_ratio)+1), exp_var_ratio)\n",
    "plt.xticks(range(1, len(feature_names)+1), feature_names, rotation=90)\n",
    "plt.xlabel('Principal Component')\n",
    "plt.ylabel('Explained Variance Ratio')\n",
    "plt.show()\n",
    "cumulative_variance = np.cumsum(pca.explained_variance_ratio_)\n",
    "n_components = np.argmax(cumulative_variance >= 0.95) + 1\n",
    "print(\"Number of components that contain more than 95% of variance:\", n_components)"
   ]
  },
  {
   "cell_type": "code",
   "execution_count": 63,
   "id": "88ee93a6",
   "metadata": {},
   "outputs": [],
   "source": [
    "# Perform PCA to reduce the dimensions of the dataset\n",
    "pca = PCA(n_components=4)\n",
    "X_pca = pca.fit_transform(X)\n",
    "# Split the dataset into training and testing sets\n",
    "X_train2, X_test2, y_train2, y_test2 = train_test_split(X_pca, y, test_size=0.2, random_state=42)"
   ]
  },
  {
   "cell_type": "code",
   "execution_count": 64,
   "id": "69aef2d4",
   "metadata": {},
   "outputs": [],
   "source": [
    "Model = GradientBoostingClassifier(learning_rate=0.1,max_depth=4,n_estimators=150)\n",
    "#Fit the model\n",
    "Model.fit(X_train2,y_train2)\n",
    "y_pred2 = Model.predict(X_test2)"
   ]
  },
  {
   "cell_type": "code",
   "execution_count": 65,
   "id": "d875f7a7",
   "metadata": {},
   "outputs": [
    {
     "name": "stdout",
     "output_type": "stream",
     "text": [
      "0.7866666666666666\n"
     ]
    }
   ],
   "source": [
    "nb_acc = metrics.accuracy_score(y_test2, y_pred2)\n",
    "print(nb_acc)"
   ]
  },
  {
   "cell_type": "code",
   "execution_count": 66,
   "id": "0fcfc195",
   "metadata": {},
   "outputs": [
    {
     "name": "stdout",
     "output_type": "stream",
     "text": [
      "Prediction: ['B']\n"
     ]
    }
   ],
   "source": [
    "# assume row is the new data point to predict with 5 features\n",
    "query_point = [[40,80,1,4]]\n",
    "query_point_scaled = scaler.transform(query_point)\n",
    "query_point_pca = pca.transform(query_point_scaled)\n",
    "prediction = Model.predict(query_point_pca)\n",
    "print(\"Prediction:\", prediction)"
   ]
  }
 ],
 "metadata": {
  "kernelspec": {
   "display_name": "Python 3",
   "language": "python",
   "name": "python3"
  },
  "language_info": {
   "codemirror_mode": {
    "name": "ipython",
    "version": 3
   },
   "file_extension": ".py",
   "mimetype": "text/x-python",
   "name": "python",
   "nbconvert_exporter": "python",
   "pygments_lexer": "ipython3",
   "version": "3.8.8"
  }
 },
 "nbformat": 4,
 "nbformat_minor": 5
}
