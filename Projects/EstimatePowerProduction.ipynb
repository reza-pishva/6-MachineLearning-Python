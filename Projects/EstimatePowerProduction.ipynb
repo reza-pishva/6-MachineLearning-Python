{
 "cells": [
  {
   "cell_type": "code",
   "execution_count": 27,
   "id": "5dd78b8a",
   "metadata": {},
   "outputs": [
    {
     "data": {
      "text/html": [
       "<div>\n",
       "<style scoped>\n",
       "    .dataframe tbody tr th:only-of-type {\n",
       "        vertical-align: middle;\n",
       "    }\n",
       "\n",
       "    .dataframe tbody tr th {\n",
       "        vertical-align: top;\n",
       "    }\n",
       "\n",
       "    .dataframe thead th {\n",
       "        text-align: right;\n",
       "    }\n",
       "</style>\n",
       "<table border=\"1\" class=\"dataframe\">\n",
       "  <thead>\n",
       "    <tr style=\"text-align: right;\">\n",
       "      <th></th>\n",
       "      <th>hour</th>\n",
       "      <th>date_miladi</th>\n",
       "      <th>date_shamsi</th>\n",
       "      <th>power</th>\n",
       "      <th>code</th>\n",
       "      <th>unit_no</th>\n",
       "      <th>fuel_type</th>\n",
       "      <th>mvar</th>\n",
       "      <th>temp</th>\n",
       "      <th>moisture</th>\n",
       "    </tr>\n",
       "  </thead>\n",
       "  <tbody>\n",
       "    <tr>\n",
       "      <th>0</th>\n",
       "      <td>1</td>\n",
       "      <td>2020-01-13</td>\n",
       "      <td>1398/10/23</td>\n",
       "      <td>119</td>\n",
       "      <td>SO</td>\n",
       "      <td>1</td>\n",
       "      <td>A</td>\n",
       "      <td>11.0</td>\n",
       "      <td>3</td>\n",
       "      <td>94.0</td>\n",
       "    </tr>\n",
       "    <tr>\n",
       "      <th>1</th>\n",
       "      <td>2</td>\n",
       "      <td>2020-01-13</td>\n",
       "      <td>1398/10/23</td>\n",
       "      <td>119</td>\n",
       "      <td>SO</td>\n",
       "      <td>1</td>\n",
       "      <td>A</td>\n",
       "      <td>11.0</td>\n",
       "      <td>3</td>\n",
       "      <td>96.0</td>\n",
       "    </tr>\n",
       "    <tr>\n",
       "      <th>2</th>\n",
       "      <td>3</td>\n",
       "      <td>2020-01-13</td>\n",
       "      <td>1398/10/23</td>\n",
       "      <td>120</td>\n",
       "      <td>SO</td>\n",
       "      <td>1</td>\n",
       "      <td>A</td>\n",
       "      <td>10.0</td>\n",
       "      <td>2</td>\n",
       "      <td>95.0</td>\n",
       "    </tr>\n",
       "    <tr>\n",
       "      <th>3</th>\n",
       "      <td>4</td>\n",
       "      <td>2020-01-13</td>\n",
       "      <td>1398/10/23</td>\n",
       "      <td>120</td>\n",
       "      <td>SO</td>\n",
       "      <td>1</td>\n",
       "      <td>A</td>\n",
       "      <td>11.0</td>\n",
       "      <td>2</td>\n",
       "      <td>95.0</td>\n",
       "    </tr>\n",
       "    <tr>\n",
       "      <th>4</th>\n",
       "      <td>5</td>\n",
       "      <td>2020-01-13</td>\n",
       "      <td>1398/10/23</td>\n",
       "      <td>121</td>\n",
       "      <td>SO</td>\n",
       "      <td>1</td>\n",
       "      <td>A</td>\n",
       "      <td>11.0</td>\n",
       "      <td>2</td>\n",
       "      <td>95.0</td>\n",
       "    </tr>\n",
       "  </tbody>\n",
       "</table>\n",
       "</div>"
      ],
      "text/plain": [
       "   hour date_miladi date_shamsi  power code  unit_no fuel_type  mvar  temp  \\\n",
       "0     1  2020-01-13  1398/10/23    119   SO        1         A  11.0     3   \n",
       "1     2  2020-01-13  1398/10/23    119   SO        1         A  11.0     3   \n",
       "2     3  2020-01-13  1398/10/23    120   SO        1         A  10.0     2   \n",
       "3     4  2020-01-13  1398/10/23    120   SO        1         A  11.0     2   \n",
       "4     5  2020-01-13  1398/10/23    121   SO        1         A  11.0     2   \n",
       "\n",
       "   moisture  \n",
       "0      94.0  \n",
       "1      96.0  \n",
       "2      95.0  \n",
       "3      95.0  \n",
       "4      95.0  "
      ]
     },
     "execution_count": 27,
     "metadata": {},
     "output_type": "execute_result"
    }
   ],
   "source": [
    "import pandas as pd\n",
    "data = pd.read_excel(\"estimate_power.xlsx\")\n",
    "data.head()"
   ]
  },
  {
   "cell_type": "code",
   "execution_count": 28,
   "id": "96cf4129",
   "metadata": {},
   "outputs": [],
   "source": [
    "def unit_info(unit_no,min_mw,max_mw,fuel):\n",
    "    unit_max=(data['power'][data['unit_no']==unit_no][data['fuel_type']==fuel]).max()\n",
    "    unit_min=(data['power'][data['unit_no']==unit_no][data['fuel_type']==fuel]).min()\n",
    "    #percent=(len(data['power'][data['power']>=min_mw][data['power']<=max_mw][data['unit_no']==unit_no][data['fuel_type']==fuel])/len(data['power'][data['unit_no']==unit_no][data['fuel_type']==fuel]))*100\n",
    "    return unit_min,unit_max"
   ]
  },
  {
   "cell_type": "code",
   "execution_count": 29,
   "id": "54be4538",
   "metadata": {},
   "outputs": [
    {
     "data": {
      "text/plain": [
       "(26, 122)"
      ]
     },
     "execution_count": 29,
     "metadata": {},
     "output_type": "execute_result"
    }
   ],
   "source": [
    "unit_info(1,0,100,'B')\n"
   ]
  },
  {
   "cell_type": "code",
   "execution_count": 30,
   "id": "1b46f8b5",
   "metadata": {},
   "outputs": [
    {
     "data": {
      "text/plain": [
       "hour               0\n",
       "date_miladi        0\n",
       "date_shamsi        0\n",
       "power              0\n",
       "code               0\n",
       "unit_no            0\n",
       "fuel_type      92375\n",
       "mvar               0\n",
       "temp               0\n",
       "moisture           0\n",
       "dtype: int64"
      ]
     },
     "execution_count": 30,
     "metadata": {},
     "output_type": "execute_result"
    }
   ],
   "source": [
    "data.isnull().sum()"
   ]
  },
  {
   "cell_type": "code",
   "execution_count": 32,
   "id": "66805222",
   "metadata": {},
   "outputs": [
    {
     "data": {
      "text/plain": [
       "A    162981\n",
       "C     11070\n",
       "B     10701\n",
       "Name: fuel_type, dtype: int64"
      ]
     },
     "execution_count": 32,
     "metadata": {},
     "output_type": "execute_result"
    }
   ],
   "source": [
    "data['fuel_type'].value_counts()"
   ]
  },
  {
   "cell_type": "code",
   "execution_count": 33,
   "id": "eba24a67",
   "metadata": {},
   "outputs": [],
   "source": [
    "# Change object to integer:\n",
    "data[data[\"fuel_type\"]==\"A\"] = 1 \n",
    "data[data[\"fuel_type\"]==\"B\"] = 2\n",
    "data[data[\"fuel_type\"]==\"C\"] = 3 "
   ]
  },
  {
   "cell_type": "code",
   "execution_count": 34,
   "id": "cdeed000",
   "metadata": {},
   "outputs": [
    {
     "data": {
      "text/plain": [
       "0           1\n",
       "1           1\n",
       "2           1\n",
       "3           1\n",
       "4           1\n",
       "         ... \n",
       "277122    NaN\n",
       "277123    NaN\n",
       "277124    NaN\n",
       "277125    NaN\n",
       "277126    NaN\n",
       "Name: fuel_type, Length: 277127, dtype: object"
      ]
     },
     "execution_count": 34,
     "metadata": {},
     "output_type": "execute_result"
    }
   ],
   "source": [
    "data['fuel_type']"
   ]
  },
  {
   "cell_type": "code",
   "execution_count": 35,
   "id": "9fed3f89",
   "metadata": {},
   "outputs": [
    {
     "data": {
      "text/plain": [
       "1    162981\n",
       "3     11070\n",
       "2     10701\n",
       "Name: fuel_type, dtype: int64"
      ]
     },
     "execution_count": 35,
     "metadata": {},
     "output_type": "execute_result"
    }
   ],
   "source": [
    "data['fuel_type'].value_counts()"
   ]
  },
  {
   "cell_type": "code",
   "execution_count": 37,
   "id": "eedad013",
   "metadata": {},
   "outputs": [],
   "source": [
    "X = data[[\"moisture\",\"unit_no\",\"fuel_type\",\"mvar\",\"temp\"]]\n",
    "Y = data[\"power\"]"
   ]
  },
  {
   "cell_type": "code",
   "execution_count": 38,
   "id": "6a5317b3",
   "metadata": {},
   "outputs": [
    {
     "data": {
      "text/html": [
       "<div>\n",
       "<style scoped>\n",
       "    .dataframe tbody tr th:only-of-type {\n",
       "        vertical-align: middle;\n",
       "    }\n",
       "\n",
       "    .dataframe tbody tr th {\n",
       "        vertical-align: top;\n",
       "    }\n",
       "\n",
       "    .dataframe thead th {\n",
       "        text-align: right;\n",
       "    }\n",
       "</style>\n",
       "<table border=\"1\" class=\"dataframe\">\n",
       "  <thead>\n",
       "    <tr style=\"text-align: right;\">\n",
       "      <th></th>\n",
       "      <th>moisture</th>\n",
       "      <th>unit_no</th>\n",
       "      <th>fuel_type</th>\n",
       "      <th>mvar</th>\n",
       "      <th>temp</th>\n",
       "    </tr>\n",
       "  </thead>\n",
       "  <tbody>\n",
       "    <tr>\n",
       "      <th>0</th>\n",
       "      <td>1.0</td>\n",
       "      <td>1</td>\n",
       "      <td>1</td>\n",
       "      <td>1.0</td>\n",
       "      <td>1</td>\n",
       "    </tr>\n",
       "    <tr>\n",
       "      <th>1</th>\n",
       "      <td>1.0</td>\n",
       "      <td>1</td>\n",
       "      <td>1</td>\n",
       "      <td>1.0</td>\n",
       "      <td>1</td>\n",
       "    </tr>\n",
       "    <tr>\n",
       "      <th>2</th>\n",
       "      <td>1.0</td>\n",
       "      <td>1</td>\n",
       "      <td>1</td>\n",
       "      <td>1.0</td>\n",
       "      <td>1</td>\n",
       "    </tr>\n",
       "    <tr>\n",
       "      <th>3</th>\n",
       "      <td>1.0</td>\n",
       "      <td>1</td>\n",
       "      <td>1</td>\n",
       "      <td>1.0</td>\n",
       "      <td>1</td>\n",
       "    </tr>\n",
       "    <tr>\n",
       "      <th>4</th>\n",
       "      <td>1.0</td>\n",
       "      <td>1</td>\n",
       "      <td>1</td>\n",
       "      <td>1.0</td>\n",
       "      <td>1</td>\n",
       "    </tr>\n",
       "    <tr>\n",
       "      <th>...</th>\n",
       "      <td>...</td>\n",
       "      <td>...</td>\n",
       "      <td>...</td>\n",
       "      <td>...</td>\n",
       "      <td>...</td>\n",
       "    </tr>\n",
       "    <tr>\n",
       "      <th>277122</th>\n",
       "      <td>8.0</td>\n",
       "      <td>9</td>\n",
       "      <td>NaN</td>\n",
       "      <td>54.0</td>\n",
       "      <td>34</td>\n",
       "    </tr>\n",
       "    <tr>\n",
       "      <th>277123</th>\n",
       "      <td>9.0</td>\n",
       "      <td>9</td>\n",
       "      <td>NaN</td>\n",
       "      <td>53.0</td>\n",
       "      <td>32</td>\n",
       "    </tr>\n",
       "    <tr>\n",
       "      <th>277124</th>\n",
       "      <td>11.0</td>\n",
       "      <td>9</td>\n",
       "      <td>NaN</td>\n",
       "      <td>50.0</td>\n",
       "      <td>31</td>\n",
       "    </tr>\n",
       "    <tr>\n",
       "      <th>277125</th>\n",
       "      <td>10.0</td>\n",
       "      <td>9</td>\n",
       "      <td>NaN</td>\n",
       "      <td>51.0</td>\n",
       "      <td>30</td>\n",
       "    </tr>\n",
       "    <tr>\n",
       "      <th>277126</th>\n",
       "      <td>12.0</td>\n",
       "      <td>9</td>\n",
       "      <td>NaN</td>\n",
       "      <td>53.0</td>\n",
       "      <td>29</td>\n",
       "    </tr>\n",
       "  </tbody>\n",
       "</table>\n",
       "<p>277127 rows × 5 columns</p>\n",
       "</div>"
      ],
      "text/plain": [
       "        moisture  unit_no fuel_type  mvar  temp\n",
       "0            1.0        1         1   1.0     1\n",
       "1            1.0        1         1   1.0     1\n",
       "2            1.0        1         1   1.0     1\n",
       "3            1.0        1         1   1.0     1\n",
       "4            1.0        1         1   1.0     1\n",
       "...          ...      ...       ...   ...   ...\n",
       "277122       8.0        9       NaN  54.0    34\n",
       "277123       9.0        9       NaN  53.0    32\n",
       "277124      11.0        9       NaN  50.0    31\n",
       "277125      10.0        9       NaN  51.0    30\n",
       "277126      12.0        9       NaN  53.0    29\n",
       "\n",
       "[277127 rows x 5 columns]"
      ]
     },
     "execution_count": 38,
     "metadata": {},
     "output_type": "execute_result"
    }
   ],
   "source": [
    "X"
   ]
  },
  {
   "cell_type": "code",
   "execution_count": null,
   "id": "99f8dcbe",
   "metadata": {},
   "outputs": [],
   "source": []
  },
  {
   "cell_type": "code",
   "execution_count": null,
   "id": "15f05688",
   "metadata": {},
   "outputs": [],
   "source": []
  },
  {
   "cell_type": "code",
   "execution_count": null,
   "id": "b756fbb4",
   "metadata": {},
   "outputs": [],
   "source": []
  },
  {
   "cell_type": "code",
   "execution_count": null,
   "id": "b67c67aa",
   "metadata": {},
   "outputs": [],
   "source": []
  },
  {
   "cell_type": "code",
   "execution_count": null,
   "id": "618219ef",
   "metadata": {},
   "outputs": [],
   "source": []
  },
  {
   "cell_type": "code",
   "execution_count": null,
   "id": "676435a4",
   "metadata": {},
   "outputs": [],
   "source": []
  },
  {
   "cell_type": "code",
   "execution_count": null,
   "id": "b9fe8b7e",
   "metadata": {},
   "outputs": [],
   "source": [
    "X_train, X_test, y_train, y_test = train_test_split(X, Y, test_size=0.20, random_state=45)"
   ]
  }
 ],
 "metadata": {
  "kernelspec": {
   "display_name": "Python 3",
   "language": "python",
   "name": "python3"
  },
  "language_info": {
   "codemirror_mode": {
    "name": "ipython",
    "version": 3
   },
   "file_extension": ".py",
   "mimetype": "text/x-python",
   "name": "python",
   "nbconvert_exporter": "python",
   "pygments_lexer": "ipython3",
   "version": "3.8.8"
  }
 },
 "nbformat": 4,
 "nbformat_minor": 5
}
