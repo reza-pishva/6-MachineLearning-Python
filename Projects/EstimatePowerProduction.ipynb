{
 "cells": [
  {
   "cell_type": "code",
   "execution_count": 177,
   "id": "5dd78b8a",
   "metadata": {},
   "outputs": [],
   "source": [
    "import numpy as np\n",
    "import pandas as pd\n",
    "import seaborn as sns\n",
    "import matplotlib.pyplot as plt\n",
    "from sklearn.model_selection import train_test_split\n",
    "from sklearn.preprocessing import StandardScaler\n",
    "from sklearn.decomposition import PCA\n",
    "from sklearn.manifold import TSNE"
   ]
  },
  {
   "cell_type": "code",
   "execution_count": 178,
   "id": "6c7ee6a1",
   "metadata": {},
   "outputs": [
    {
     "data": {
      "text/html": [
       "<div>\n",
       "<style scoped>\n",
       "    .dataframe tbody tr th:only-of-type {\n",
       "        vertical-align: middle;\n",
       "    }\n",
       "\n",
       "    .dataframe tbody tr th {\n",
       "        vertical-align: top;\n",
       "    }\n",
       "\n",
       "    .dataframe thead th {\n",
       "        text-align: right;\n",
       "    }\n",
       "</style>\n",
       "<table border=\"1\" class=\"dataframe\">\n",
       "  <thead>\n",
       "    <tr style=\"text-align: right;\">\n",
       "      <th></th>\n",
       "      <th>hour</th>\n",
       "      <th>date_miladi</th>\n",
       "      <th>date_shamsi</th>\n",
       "      <th>power</th>\n",
       "      <th>code</th>\n",
       "      <th>unit_no</th>\n",
       "      <th>fuel_type</th>\n",
       "      <th>mvar</th>\n",
       "      <th>temp</th>\n",
       "      <th>moisture</th>\n",
       "    </tr>\n",
       "  </thead>\n",
       "  <tbody>\n",
       "    <tr>\n",
       "      <th>0</th>\n",
       "      <td>1</td>\n",
       "      <td>2020-01-13</td>\n",
       "      <td>1398/10/23</td>\n",
       "      <td>119</td>\n",
       "      <td>SO</td>\n",
       "      <td>1</td>\n",
       "      <td>A</td>\n",
       "      <td>11</td>\n",
       "      <td>3</td>\n",
       "      <td>94</td>\n",
       "    </tr>\n",
       "    <tr>\n",
       "      <th>1</th>\n",
       "      <td>2</td>\n",
       "      <td>2020-01-13</td>\n",
       "      <td>1398/10/23</td>\n",
       "      <td>119</td>\n",
       "      <td>SO</td>\n",
       "      <td>1</td>\n",
       "      <td>A</td>\n",
       "      <td>11</td>\n",
       "      <td>3</td>\n",
       "      <td>96</td>\n",
       "    </tr>\n",
       "    <tr>\n",
       "      <th>2</th>\n",
       "      <td>3</td>\n",
       "      <td>2020-01-13</td>\n",
       "      <td>1398/10/23</td>\n",
       "      <td>120</td>\n",
       "      <td>SO</td>\n",
       "      <td>1</td>\n",
       "      <td>A</td>\n",
       "      <td>10</td>\n",
       "      <td>2</td>\n",
       "      <td>95</td>\n",
       "    </tr>\n",
       "    <tr>\n",
       "      <th>3</th>\n",
       "      <td>4</td>\n",
       "      <td>2020-01-13</td>\n",
       "      <td>1398/10/23</td>\n",
       "      <td>120</td>\n",
       "      <td>SO</td>\n",
       "      <td>1</td>\n",
       "      <td>A</td>\n",
       "      <td>11</td>\n",
       "      <td>2</td>\n",
       "      <td>95</td>\n",
       "    </tr>\n",
       "    <tr>\n",
       "      <th>4</th>\n",
       "      <td>5</td>\n",
       "      <td>2020-01-13</td>\n",
       "      <td>1398/10/23</td>\n",
       "      <td>121</td>\n",
       "      <td>SO</td>\n",
       "      <td>1</td>\n",
       "      <td>A</td>\n",
       "      <td>11</td>\n",
       "      <td>2</td>\n",
       "      <td>95</td>\n",
       "    </tr>\n",
       "  </tbody>\n",
       "</table>\n",
       "</div>"
      ],
      "text/plain": [
       "   hour date_miladi date_shamsi  power code  unit_no fuel_type  mvar  temp  \\\n",
       "0     1  2020-01-13  1398/10/23    119   SO        1         A    11     3   \n",
       "1     2  2020-01-13  1398/10/23    119   SO        1         A    11     3   \n",
       "2     3  2020-01-13  1398/10/23    120   SO        1         A    10     2   \n",
       "3     4  2020-01-13  1398/10/23    120   SO        1         A    11     2   \n",
       "4     5  2020-01-13  1398/10/23    121   SO        1         A    11     2   \n",
       "\n",
       "   moisture  \n",
       "0        94  \n",
       "1        96  \n",
       "2        95  \n",
       "3        95  \n",
       "4        95  "
      ]
     },
     "execution_count": 178,
     "metadata": {},
     "output_type": "execute_result"
    }
   ],
   "source": [
    "data = pd.read_excel(\"test.xlsx\")\n",
    "data.head()"
   ]
  },
  {
   "cell_type": "code",
   "execution_count": 179,
   "id": "3ae9259e",
   "metadata": {},
   "outputs": [
    {
     "name": "stdout",
     "output_type": "stream",
     "text": [
      "There are 3 categorical variables\n",
      "\n",
      "The categorical variables are : ['date_shamsi', 'code', 'fuel_type']\n"
     ]
    }
   ],
   "source": [
    "# find categorical variables\n",
    "categorical = [var for var in data.columns if data[var].dtype=='O']\n",
    "print('There are {} categorical variables\\n'.format(len(categorical)))\n",
    "print('The categorical variables are :', categorical)"
   ]
  },
  {
   "cell_type": "code",
   "execution_count": 180,
   "id": "54be4538",
   "metadata": {},
   "outputs": [
    {
     "name": "stdout",
     "output_type": "stream",
     "text": [
      "fuel_type    288\n",
      "dtype: int64\n"
     ]
    }
   ],
   "source": [
    "# print categorical variables containing missing values\n",
    "cat1 = [var for var in categorical if data[var].isnull().sum()!=0]\n",
    "print(data[cat1].isnull().sum())\n"
   ]
  },
  {
   "cell_type": "code",
   "execution_count": 181,
   "id": "1b46f8b5",
   "metadata": {},
   "outputs": [
    {
     "data": {
      "text/plain": [
       "hour             0\n",
       "date_miladi      0\n",
       "date_shamsi      0\n",
       "power            0\n",
       "code             0\n",
       "unit_no          0\n",
       "fuel_type      288\n",
       "mvar             0\n",
       "temp             0\n",
       "moisture         0\n",
       "dtype: int64"
      ]
     },
     "execution_count": 181,
     "metadata": {},
     "output_type": "execute_result"
    }
   ],
   "source": [
    "data.isnull().sum()"
   ]
  },
  {
   "cell_type": "code",
   "execution_count": 182,
   "id": "7e20edff",
   "metadata": {},
   "outputs": [
    {
     "data": {
      "text/plain": [
       "A    711\n",
       "Name: fuel_type, dtype: int64"
      ]
     },
     "execution_count": 182,
     "metadata": {},
     "output_type": "execute_result"
    }
   ],
   "source": [
    "data['fuel_type'].value_counts()"
   ]
  },
  {
   "cell_type": "code",
   "execution_count": 183,
   "id": "652c6460",
   "metadata": {},
   "outputs": [],
   "source": [
    "# Change object to integer:\n",
    "data[data[\"fuel_type\"]==\"A\"] = 1 \n",
    "data[data[\"fuel_type\"]==\"B\"] = 2\n",
    "data[data[\"fuel_type\"]==\"C\"] = 3 "
   ]
  },
  {
   "cell_type": "code",
   "execution_count": 184,
   "id": "766833a5",
   "metadata": {},
   "outputs": [
    {
     "data": {
      "text/plain": [
       "1    711\n",
       "Name: fuel_type, dtype: int64"
      ]
     },
     "execution_count": 184,
     "metadata": {},
     "output_type": "execute_result"
    }
   ],
   "source": [
    "data['fuel_type'].value_counts()"
   ]
  },
  {
   "cell_type": "code",
   "execution_count": 185,
   "id": "aa267352",
   "metadata": {},
   "outputs": [
    {
     "data": {
      "text/plain": [
       "hour             0\n",
       "date_miladi      0\n",
       "date_shamsi      0\n",
       "power            0\n",
       "code             0\n",
       "unit_no          0\n",
       "fuel_type      288\n",
       "mvar             0\n",
       "temp             0\n",
       "moisture         0\n",
       "dtype: int64"
      ]
     },
     "execution_count": 185,
     "metadata": {},
     "output_type": "execute_result"
    }
   ],
   "source": [
    "data.isnull().sum()"
   ]
  },
  {
   "cell_type": "code",
   "execution_count": 186,
   "id": "dd9b6bf5",
   "metadata": {},
   "outputs": [],
   "source": [
    "data[\"fuel_type\"].fillna(method='bfill', inplace=True)"
   ]
  },
  {
   "cell_type": "code",
   "execution_count": 187,
   "id": "c55932cd",
   "metadata": {},
   "outputs": [],
   "source": [
    "X = data[[\"moisture\",\"unit_no\",\"fuel_type\",\"mvar\",\"temp\"]]\n",
    "y = data[\"power\"]\n"
   ]
  },
  {
   "cell_type": "code",
   "execution_count": 188,
   "id": "a7a0d27b",
   "metadata": {},
   "outputs": [
    {
     "data": {
      "text/plain": [
       "hour           0\n",
       "date_miladi    0\n",
       "date_shamsi    0\n",
       "power          0\n",
       "code           0\n",
       "unit_no        0\n",
       "fuel_type      0\n",
       "mvar           0\n",
       "temp           0\n",
       "moisture       0\n",
       "dtype: int64"
      ]
     },
     "execution_count": 188,
     "metadata": {},
     "output_type": "execute_result"
    }
   ],
   "source": [
    "data.isnull().sum()"
   ]
  },
  {
   "cell_type": "code",
   "execution_count": 189,
   "id": "d07d12e4",
   "metadata": {},
   "outputs": [],
   "source": [
    "data.fillna(data.mode, inplace=True)"
   ]
  },
  {
   "cell_type": "code",
   "execution_count": 190,
   "id": "aa3b6e7e",
   "metadata": {},
   "outputs": [
    {
     "data": {
      "text/plain": [
       "hour           0\n",
       "date_miladi    0\n",
       "date_shamsi    0\n",
       "power          0\n",
       "code           0\n",
       "unit_no        0\n",
       "fuel_type      0\n",
       "mvar           0\n",
       "temp           0\n",
       "moisture       0\n",
       "dtype: int64"
      ]
     },
     "execution_count": 190,
     "metadata": {},
     "output_type": "execute_result"
    }
   ],
   "source": [
    "data.isnull().sum()"
   ]
  },
  {
   "cell_type": "code",
   "execution_count": 191,
   "id": "4a14eec4",
   "metadata": {},
   "outputs": [
    {
     "data": {
      "text/html": [
       "<div>\n",
       "<style scoped>\n",
       "    .dataframe tbody tr th:only-of-type {\n",
       "        vertical-align: middle;\n",
       "    }\n",
       "\n",
       "    .dataframe tbody tr th {\n",
       "        vertical-align: top;\n",
       "    }\n",
       "\n",
       "    .dataframe thead th {\n",
       "        text-align: right;\n",
       "    }\n",
       "</style>\n",
       "<table border=\"1\" class=\"dataframe\">\n",
       "  <thead>\n",
       "    <tr style=\"text-align: right;\">\n",
       "      <th></th>\n",
       "      <th>moisture</th>\n",
       "      <th>unit_no</th>\n",
       "      <th>fuel_type</th>\n",
       "      <th>mvar</th>\n",
       "      <th>temp</th>\n",
       "    </tr>\n",
       "  </thead>\n",
       "  <tbody>\n",
       "    <tr>\n",
       "      <th>0</th>\n",
       "      <td>-0.539693</td>\n",
       "      <td>-0.630448</td>\n",
       "      <td>0.0</td>\n",
       "      <td>0.444073</td>\n",
       "      <td>-0.476823</td>\n",
       "    </tr>\n",
       "    <tr>\n",
       "      <th>1</th>\n",
       "      <td>-0.539693</td>\n",
       "      <td>-0.630448</td>\n",
       "      <td>0.0</td>\n",
       "      <td>0.444073</td>\n",
       "      <td>-0.476823</td>\n",
       "    </tr>\n",
       "    <tr>\n",
       "      <th>2</th>\n",
       "      <td>-0.539693</td>\n",
       "      <td>-0.630448</td>\n",
       "      <td>0.0</td>\n",
       "      <td>0.444073</td>\n",
       "      <td>-0.476823</td>\n",
       "    </tr>\n",
       "    <tr>\n",
       "      <th>3</th>\n",
       "      <td>-0.539693</td>\n",
       "      <td>-0.630448</td>\n",
       "      <td>0.0</td>\n",
       "      <td>0.444073</td>\n",
       "      <td>-0.476823</td>\n",
       "    </tr>\n",
       "    <tr>\n",
       "      <th>4</th>\n",
       "      <td>-0.539693</td>\n",
       "      <td>-0.630448</td>\n",
       "      <td>0.0</td>\n",
       "      <td>0.444073</td>\n",
       "      <td>-0.476823</td>\n",
       "    </tr>\n",
       "    <tr>\n",
       "      <th>...</th>\n",
       "      <td>...</td>\n",
       "      <td>...</td>\n",
       "      <td>...</td>\n",
       "      <td>...</td>\n",
       "      <td>...</td>\n",
       "    </tr>\n",
       "    <tr>\n",
       "      <th>994</th>\n",
       "      <td>-0.539693</td>\n",
       "      <td>-0.630448</td>\n",
       "      <td>0.0</td>\n",
       "      <td>0.444073</td>\n",
       "      <td>-0.476823</td>\n",
       "    </tr>\n",
       "    <tr>\n",
       "      <th>995</th>\n",
       "      <td>-0.539693</td>\n",
       "      <td>-0.630448</td>\n",
       "      <td>0.0</td>\n",
       "      <td>0.444073</td>\n",
       "      <td>-0.476823</td>\n",
       "    </tr>\n",
       "    <tr>\n",
       "      <th>996</th>\n",
       "      <td>-0.539693</td>\n",
       "      <td>-0.630448</td>\n",
       "      <td>0.0</td>\n",
       "      <td>0.444073</td>\n",
       "      <td>-0.476823</td>\n",
       "    </tr>\n",
       "    <tr>\n",
       "      <th>997</th>\n",
       "      <td>-0.539693</td>\n",
       "      <td>-0.630448</td>\n",
       "      <td>0.0</td>\n",
       "      <td>0.444073</td>\n",
       "      <td>-0.476823</td>\n",
       "    </tr>\n",
       "    <tr>\n",
       "      <th>998</th>\n",
       "      <td>-0.539693</td>\n",
       "      <td>-0.630448</td>\n",
       "      <td>0.0</td>\n",
       "      <td>0.444073</td>\n",
       "      <td>-0.476823</td>\n",
       "    </tr>\n",
       "  </tbody>\n",
       "</table>\n",
       "<p>999 rows × 5 columns</p>\n",
       "</div>"
      ],
      "text/plain": [
       "     moisture   unit_no  fuel_type      mvar      temp\n",
       "0   -0.539693 -0.630448        0.0  0.444073 -0.476823\n",
       "1   -0.539693 -0.630448        0.0  0.444073 -0.476823\n",
       "2   -0.539693 -0.630448        0.0  0.444073 -0.476823\n",
       "3   -0.539693 -0.630448        0.0  0.444073 -0.476823\n",
       "4   -0.539693 -0.630448        0.0  0.444073 -0.476823\n",
       "..        ...       ...        ...       ...       ...\n",
       "994 -0.539693 -0.630448        0.0  0.444073 -0.476823\n",
       "995 -0.539693 -0.630448        0.0  0.444073 -0.476823\n",
       "996 -0.539693 -0.630448        0.0  0.444073 -0.476823\n",
       "997 -0.539693 -0.630448        0.0  0.444073 -0.476823\n",
       "998 -0.539693 -0.630448        0.0  0.444073 -0.476823\n",
       "\n",
       "[999 rows x 5 columns]"
      ]
     },
     "execution_count": 191,
     "metadata": {},
     "output_type": "execute_result"
    }
   ],
   "source": [
    "scaler = StandardScaler()\n",
    "X = pd.DataFrame(scaler.fit_transform(X), columns = X.columns)\n",
    "X"
   ]
  },
  {
   "cell_type": "code",
   "execution_count": 192,
   "id": "b2af4015",
   "metadata": {},
   "outputs": [],
   "source": [
    "X_train, X_test, y_train, y_test = train_test_split(X, y, test_size = 0.3, random_state = 0)"
   ]
  },
  {
   "cell_type": "code",
   "execution_count": 193,
   "id": "050a143c",
   "metadata": {},
   "outputs": [
    {
     "name": "stdout",
     "output_type": "stream",
     "text": [
      "The number of dimensions required to preserve 90% of variance is 2\n"
     ]
    }
   ],
   "source": [
    "pca= PCA()\n",
    "pca.fit(X_train)\n",
    "cumsum = np.cumsum(pca.explained_variance_ratio_)\n",
    "dim = np.argmax(cumsum >= 0.90) + 1\n",
    "print('The number of dimensions required to preserve 90% of variance is',dim)"
   ]
  },
  {
   "cell_type": "code",
   "execution_count": 194,
   "id": "419c5efe",
   "metadata": {},
   "outputs": [
    {
     "data": {
      "image/png": "[encoded data removed]",
      "text/plain": [
       "<Figure size 576x432 with 1 Axes>"
      ]
     },
     "metadata": {
      "needs_background": "light"
     },
     "output_type": "display_data"
    }
   ],
   "source": [
    "plt.figure(figsize=(8,6))\n",
    "plt.plot(np.cumsum(pca.explained_variance_ratio_))\n",
    "plt.xlim(0,14,1)\n",
    "plt.xlabel('Number of components')\n",
    "plt.ylabel('Cumulative explained variance')\n",
    "plt.show()"
   ]
  },
  {
   "cell_type": "code",
   "execution_count": 195,
   "id": "0895924c",
   "metadata": {},
   "outputs": [
    {
     "data": {
      "image/png": "[encoded data removed]",
      "text/plain": [
       "<Figure size 720x720 with 2 Axes>"
      ]
     },
     "metadata": {
      "needs_background": "light"
     },
     "output_type": "display_data"
    }
   ],
   "source": [
    "plt.figure(figsize=(10,10))\n",
    "sns.heatmap(X_train.corr(),vmax=.3, center=0,\n",
    "            square=True, linewidths=.5, cbar_kws={\"shrink\": .5},annot=True)\n",
    "plt.tight_layout()\n",
    "plt.show()"
   ]
  },
  {
   "cell_type": "code",
   "execution_count": 196,
   "id": "9ce968bf",
   "metadata": {},
   "outputs": [
    {
     "name": "stdout",
     "output_type": "stream",
     "text": [
      "[7.23196919e-01 2.02146434e-01 6.52513107e-02 9.40533641e-03\n",
      " 4.63912530e-35]\n",
      "\n",
      "['moisture', 'unit_no', 'fuel_type', 'mvar', 'temp']\n",
      "[[ 5.20783701e-01  5.71028574e-01 -0.00000000e+00 -4.74874181e-01\n",
      "   4.20957499e-01]\n",
      " [ 3.71413870e-01 -1.52646227e-01  1.11022302e-16 -4.71973726e-01\n",
      "  -7.84851367e-01]\n",
      " [ 5.26206782e-01  3.27501621e-01 -1.52655666e-16  7.40454145e-01\n",
      "  -2.59955324e-01]\n",
      " [-5.60305717e-01  7.37135120e-01 -1.11022302e-16 -5.88470328e-02\n",
      "  -3.73130466e-01]\n",
      " [ 0.00000000e+00  1.57594637e-16  1.00000000e+00  1.35875265e-16\n",
      "  -8.23165914e-17]]\n"
     ]
    }
   ],
   "source": [
    "pca=PCA().fit(X_train)\n",
    "print(pca.explained_variance_ratio_)\n",
    "print()\n",
    "print(X_train.columns.values.tolist())\n",
    "print(pca.components_)"
   ]
  },
  {
   "cell_type": "code",
   "execution_count": 197,
   "id": "dee688a0",
   "metadata": {},
   "outputs": [],
   "source": [
    "dim_r = PCA(n_components=2)\n",
    "dim_r.fit(X_train)\n",
    "transformed = dim_r.transform(X_train)"
   ]
  },
  {
   "cell_type": "code",
   "execution_count": 198,
   "id": "c33ee57a",
   "metadata": {},
   "outputs": [
    {
     "data": {
      "text/plain": [
       "array([[ 2.48237775, -0.86272898],\n",
       "       [-1.03394709,  0.07721269],\n",
       "       [-1.03394709,  0.07721269],\n",
       "       ...,\n",
       "       [ 2.19002575,  1.17420338],\n",
       "       [-1.03394709,  0.07721269],\n",
       "       [-1.03394709,  0.07721269]])"
      ]
     },
     "execution_count": 198,
     "metadata": {},
     "output_type": "execute_result"
    }
   ],
   "source": [
    "transformed"
   ]
  },
  {
   "cell_type": "code",
   "execution_count": 199,
   "id": "cc48b60b",
   "metadata": {},
   "outputs": [
    {
     "name": "stdout",
     "output_type": "stream",
     "text": [
      "[7.23196919e-01 2.02146434e-01 6.52513107e-02 9.40533641e-03\n",
      " 4.63912530e-35]\n",
      "\n",
      "['moisture', 'unit_no', 'fuel_type', 'mvar', 'temp']\n",
      "[[ 5.20783701e-01  5.71028574e-01 -0.00000000e+00 -4.74874181e-01\n",
      "   4.20957499e-01]\n",
      " [ 3.71413870e-01 -1.52646227e-01  1.11022302e-16 -4.71973726e-01\n",
      "  -7.84851367e-01]\n",
      " [ 5.26206782e-01  3.27501621e-01 -1.52655666e-16  7.40454145e-01\n",
      "  -2.59955324e-01]\n",
      " [-5.60305717e-01  7.37135120e-01 -1.11022302e-16 -5.88470328e-02\n",
      "  -3.73130466e-01]\n",
      " [ 0.00000000e+00  1.57594637e-16  1.00000000e+00  1.35875265e-16\n",
      "  -8.23165914e-17]]\n"
     ]
    }
   ],
   "source": [
    "pca=PCA().fit(X_train)\n",
    "print(pca.explained_variance_ratio_)\n",
    "print()\n",
    "print(X_train.columns.values.tolist())\n",
    "print(pca.components_)"
   ]
  },
  {
   "cell_type": "code",
   "execution_count": 200,
   "id": "f310b813",
   "metadata": {},
   "outputs": [
    {
     "data": {
      "image/png": "[encoded data removed]",
      "text/plain": [
       "<Figure size 432x288 with 1 Axes>"
      ]
     },
     "metadata": {
      "needs_background": "light"
     },
     "output_type": "display_data"
    }
   ],
   "source": [
    "cumulative=np.cumsum(pca.explained_variance_ratio_)\n",
    "plt.step([i for i in range(len(cumulative))],cumulative)\n",
    "plt.show()"
   ]
  },
  {
   "cell_type": "code",
   "execution_count": 201,
   "id": "3fdc2179",
   "metadata": {},
   "outputs": [
    {
     "data": {
      "image/png": "[encoded data removed]",
      "text/plain": [
       "<Figure size 432x288 with 1 Axes>"
      ]
     },
     "metadata": {
      "needs_background": "light"
     },
     "output_type": "display_data"
    }
   ],
   "source": [
    "pca = PCA(n_components=2)\n",
    "pca.fit(X_train)\n",
    "reduced_data_train = pca.transform(X_train)\n",
    "#inverse_data = pca.inverse_transform(reduced_data)\n",
    "plt.scatter(reduced_data_train[:, 0], reduced_data_train[:, 1], label='reduced')\n",
    "plt.xlabel('First Principal Component')\n",
    "plt.ylabel('Second Principal Component')\n",
    "plt.show()"
   ]
  },
  {
   "cell_type": "code",
   "execution_count": 202,
   "id": "b326ed5d",
   "metadata": {},
   "outputs": [
    {
     "data": {
      "text/html": [
       "<div>\n",
       "<style scoped>\n",
       "    .dataframe tbody tr th:only-of-type {\n",
       "        vertical-align: middle;\n",
       "    }\n",
       "\n",
       "    .dataframe tbody tr th {\n",
       "        vertical-align: top;\n",
       "    }\n",
       "\n",
       "    .dataframe thead th {\n",
       "        text-align: right;\n",
       "    }\n",
       "</style>\n",
       "<table border=\"1\" class=\"dataframe\">\n",
       "  <thead>\n",
       "    <tr style=\"text-align: right;\">\n",
       "      <th></th>\n",
       "      <th>0</th>\n",
       "      <th>1</th>\n",
       "    </tr>\n",
       "  </thead>\n",
       "  <tbody>\n",
       "    <tr>\n",
       "      <th>0</th>\n",
       "      <td>2.482378</td>\n",
       "      <td>-0.862729</td>\n",
       "    </tr>\n",
       "    <tr>\n",
       "      <th>1</th>\n",
       "      <td>-1.033947</td>\n",
       "      <td>0.077213</td>\n",
       "    </tr>\n",
       "    <tr>\n",
       "      <th>2</th>\n",
       "      <td>-1.033947</td>\n",
       "      <td>0.077213</td>\n",
       "    </tr>\n",
       "    <tr>\n",
       "      <th>3</th>\n",
       "      <td>-1.033947</td>\n",
       "      <td>0.077213</td>\n",
       "    </tr>\n",
       "    <tr>\n",
       "      <th>4</th>\n",
       "      <td>2.129459</td>\n",
       "      <td>1.579360</td>\n",
       "    </tr>\n",
       "  </tbody>\n",
       "</table>\n",
       "</div>"
      ],
      "text/plain": [
       "          0         1\n",
       "0  2.482378 -0.862729\n",
       "1 -1.033947  0.077213\n",
       "2 -1.033947  0.077213\n",
       "3 -1.033947  0.077213\n",
       "4  2.129459  1.579360"
      ]
     },
     "execution_count": 202,
     "metadata": {},
     "output_type": "execute_result"
    }
   ],
   "source": [
    "pca = PCA(n_components=2)\n",
    "pca.fit(X_train)\n",
    "pca_samples = pca.transform(X_train)\n",
    "ps = pd.DataFrame(pca_samples)\n",
    "ps.head()"
   ]
  },
  {
   "cell_type": "code",
   "execution_count": 203,
   "id": "d48b5c22",
   "metadata": {},
   "outputs": [
    {
     "data": {
      "image/png": "[encoded data removed]",
      "text/plain": [
       "<Figure size 432x288 with 1 Axes>"
      ]
     },
     "metadata": {
      "needs_background": "light"
     },
     "output_type": "display_data"
    }
   ],
   "source": [
    "# Perform PCA\n",
    "pca = PCA()\n",
    "pca.fit(X_train)\n",
    "\n",
    "# Get the explained variance ratio for each component\n",
    "exp_var_ratio = pca.explained_variance_ratio_\n",
    "\n",
    "# Plot a bar chart of the explained variance ratio\n",
    "feature_names = list(X_train.columns)\n",
    "# Plot a bar chart of the explained variance ratio with feature names\n",
    "plt.bar(range(1, len(exp_var_ratio)+1), exp_var_ratio)\n",
    "plt.xticks(range(1, len(feature_names)+1), feature_names, rotation=90)\n",
    "plt.xlabel('Principal Component')\n",
    "plt.ylabel('Explained Variance Ratio')\n",
    "plt.show()"
   ]
  },
  {
   "cell_type": "code",
   "execution_count": 204,
   "id": "e33a9fac",
   "metadata": {},
   "outputs": [
    {
     "data": {
      "image/png": "[encoded data removed]",
      "text/plain": [
       "<Figure size 432x288 with 1 Axes>"
      ]
     },
     "metadata": {
      "needs_background": "light"
     },
     "output_type": "display_data"
    }
   ],
   "source": [
    "tsne = TSNE(n_components=2, perplexity=30)\n",
    "X_tsne = tsne.fit_transform(X_train)\n",
    "plt.scatter(X_tsne[:,0], X_tsne[:,1]) \n",
    "plt.show()"
   ]
  },
  {
   "cell_type": "code",
   "execution_count": null,
   "id": "c78ab468",
   "metadata": {},
   "outputs": [],
   "source": []
  }
 ],
 "metadata": {
  "kernelspec": {
   "display_name": "Python 3",
   "language": "python",
   "name": "python3"
  },
  "language_info": {
   "codemirror_mode": {
    "name": "ipython",
    "version": 3
   },
   "file_extension": ".py",
   "mimetype": "text/x-python",
   "name": "python",
   "nbconvert_exporter": "python",
   "pygments_lexer": "ipython3",
   "version": "3.8.8"
  }
 },
 "nbformat": 4,
 "nbformat_minor": 5
}
