{
 "cells": [
  {
   "cell_type": "code",
   "execution_count": 75,
   "id": "5dd78b8a",
   "metadata": {},
   "outputs": [],
   "source": [
    "import pandas as pd\n",
    "from sklearn.preprocessing import StandardScaler\n",
    "from sklearn.decomposition import PCA"
   ]
  },
  {
   "cell_type": "code",
   "execution_count": 76,
   "id": "23860e95",
   "metadata": {},
   "outputs": [
    {
     "data": {
      "text/html": [
       "<div>\n",
       "<style scoped>\n",
       "    .dataframe tbody tr th:only-of-type {\n",
       "        vertical-align: middle;\n",
       "    }\n",
       "\n",
       "    .dataframe tbody tr th {\n",
       "        vertical-align: top;\n",
       "    }\n",
       "\n",
       "    .dataframe thead th {\n",
       "        text-align: right;\n",
       "    }\n",
       "</style>\n",
       "<table border=\"1\" class=\"dataframe\">\n",
       "  <thead>\n",
       "    <tr style=\"text-align: right;\">\n",
       "      <th></th>\n",
       "      <th>hour</th>\n",
       "      <th>date_miladi</th>\n",
       "      <th>date_shamsi</th>\n",
       "      <th>power</th>\n",
       "      <th>code</th>\n",
       "      <th>unit_no</th>\n",
       "      <th>fuel_type</th>\n",
       "      <th>mvar</th>\n",
       "      <th>temp</th>\n",
       "      <th>moisture</th>\n",
       "    </tr>\n",
       "  </thead>\n",
       "  <tbody>\n",
       "    <tr>\n",
       "      <th>0</th>\n",
       "      <td>1</td>\n",
       "      <td>2020-01-13</td>\n",
       "      <td>1398/10/23</td>\n",
       "      <td>119</td>\n",
       "      <td>SO</td>\n",
       "      <td>1</td>\n",
       "      <td>A</td>\n",
       "      <td>11.0</td>\n",
       "      <td>3</td>\n",
       "      <td>94.0</td>\n",
       "    </tr>\n",
       "    <tr>\n",
       "      <th>1</th>\n",
       "      <td>2</td>\n",
       "      <td>2020-01-13</td>\n",
       "      <td>1398/10/23</td>\n",
       "      <td>119</td>\n",
       "      <td>SO</td>\n",
       "      <td>1</td>\n",
       "      <td>A</td>\n",
       "      <td>11.0</td>\n",
       "      <td>3</td>\n",
       "      <td>96.0</td>\n",
       "    </tr>\n",
       "    <tr>\n",
       "      <th>2</th>\n",
       "      <td>3</td>\n",
       "      <td>2020-01-13</td>\n",
       "      <td>1398/10/23</td>\n",
       "      <td>120</td>\n",
       "      <td>SO</td>\n",
       "      <td>1</td>\n",
       "      <td>A</td>\n",
       "      <td>10.0</td>\n",
       "      <td>2</td>\n",
       "      <td>95.0</td>\n",
       "    </tr>\n",
       "    <tr>\n",
       "      <th>3</th>\n",
       "      <td>4</td>\n",
       "      <td>2020-01-13</td>\n",
       "      <td>1398/10/23</td>\n",
       "      <td>120</td>\n",
       "      <td>SO</td>\n",
       "      <td>1</td>\n",
       "      <td>A</td>\n",
       "      <td>11.0</td>\n",
       "      <td>2</td>\n",
       "      <td>95.0</td>\n",
       "    </tr>\n",
       "    <tr>\n",
       "      <th>4</th>\n",
       "      <td>5</td>\n",
       "      <td>2020-01-13</td>\n",
       "      <td>1398/10/23</td>\n",
       "      <td>121</td>\n",
       "      <td>SO</td>\n",
       "      <td>1</td>\n",
       "      <td>A</td>\n",
       "      <td>11.0</td>\n",
       "      <td>2</td>\n",
       "      <td>95.0</td>\n",
       "    </tr>\n",
       "  </tbody>\n",
       "</table>\n",
       "</div>"
      ],
      "text/plain": [
       "   hour date_miladi date_shamsi  power code  unit_no fuel_type  mvar  temp  \\\n",
       "0     1  2020-01-13  1398/10/23    119   SO        1         A  11.0     3   \n",
       "1     2  2020-01-13  1398/10/23    119   SO        1         A  11.0     3   \n",
       "2     3  2020-01-13  1398/10/23    120   SO        1         A  10.0     2   \n",
       "3     4  2020-01-13  1398/10/23    120   SO        1         A  11.0     2   \n",
       "4     5  2020-01-13  1398/10/23    121   SO        1         A  11.0     2   \n",
       "\n",
       "   moisture  \n",
       "0      94.0  \n",
       "1      96.0  \n",
       "2      95.0  \n",
       "3      95.0  \n",
       "4      95.0  "
      ]
     },
     "execution_count": 76,
     "metadata": {},
     "output_type": "execute_result"
    }
   ],
   "source": [
    "data = pd.read_excel(\"estimate_power.xlsx\")\n",
    "data.head()"
   ]
  },
  {
   "cell_type": "code",
   "execution_count": 77,
   "id": "2484b659",
   "metadata": {},
   "outputs": [
    {
     "name": "stdout",
     "output_type": "stream",
     "text": [
      "There are 3 categorical variables\n",
      "\n",
      "The categorical variables are : ['date_shamsi', 'code', 'fuel_type']\n"
     ]
    }
   ],
   "source": [
    "# find categorical variables\n",
    "categorical = [var for var in data.columns if data[var].dtype=='O']\n",
    "print('There are {} categorical variables\\n'.format(len(categorical)))\n",
    "print('The categorical variables are :', categorical)"
   ]
  },
  {
   "cell_type": "code",
   "execution_count": 78,
   "id": "54be4538",
   "metadata": {},
   "outputs": [
    {
     "name": "stdout",
     "output_type": "stream",
     "text": [
      "fuel_type    92375\n",
      "dtype: int64\n"
     ]
    }
   ],
   "source": [
    "# print categorical variables containing missing values\n",
    "cat1 = [var for var in categorical if data[var].isnull().sum()!=0]\n",
    "print(data[cat1].isnull().sum())\n"
   ]
  },
  {
   "cell_type": "code",
   "execution_count": 79,
   "id": "1b46f8b5",
   "metadata": {},
   "outputs": [
    {
     "data": {
      "text/plain": [
       "hour               0\n",
       "date_miladi        0\n",
       "date_shamsi        0\n",
       "power              0\n",
       "code               0\n",
       "unit_no            0\n",
       "fuel_type      92375\n",
       "mvar               0\n",
       "temp               0\n",
       "moisture           0\n",
       "dtype: int64"
      ]
     },
     "execution_count": 79,
     "metadata": {},
     "output_type": "execute_result"
    }
   ],
   "source": [
    "data.isnull().sum()"
   ]
  },
  {
   "cell_type": "code",
   "execution_count": 80,
   "id": "0254ab37",
   "metadata": {},
   "outputs": [
    {
     "data": {
      "text/plain": [
       "A    162981\n",
       "C     11070\n",
       "B     10701\n",
       "Name: fuel_type, dtype: int64"
      ]
     },
     "execution_count": 80,
     "metadata": {},
     "output_type": "execute_result"
    }
   ],
   "source": [
    "data['fuel_type'].value_counts()"
   ]
  },
  {
   "cell_type": "code",
   "execution_count": 81,
   "id": "1b99bb79",
   "metadata": {},
   "outputs": [],
   "source": [
    "# Change object to integer:\n",
    "data[data[\"fuel_type\"]==\"A\"] = 1 \n",
    "data[data[\"fuel_type\"]==\"B\"] = 2\n",
    "data[data[\"fuel_type\"]==\"C\"] = 3 "
   ]
  },
  {
   "cell_type": "code",
   "execution_count": 82,
   "id": "0db7f9e3",
   "metadata": {},
   "outputs": [
    {
     "data": {
      "text/plain": [
       "1    162981\n",
       "3     11070\n",
       "2     10701\n",
       "Name: fuel_type, dtype: int64"
      ]
     },
     "execution_count": 82,
     "metadata": {},
     "output_type": "execute_result"
    }
   ],
   "source": [
    "data['fuel_type'].value_counts()"
   ]
  },
  {
   "cell_type": "code",
   "execution_count": 83,
   "id": "b6191686",
   "metadata": {},
   "outputs": [
    {
     "data": {
      "text/plain": [
       "hour               0\n",
       "date_miladi        0\n",
       "date_shamsi        0\n",
       "power              0\n",
       "code               0\n",
       "unit_no            0\n",
       "fuel_type      92375\n",
       "mvar               0\n",
       "temp               0\n",
       "moisture           0\n",
       "dtype: int64"
      ]
     },
     "execution_count": 83,
     "metadata": {},
     "output_type": "execute_result"
    }
   ],
   "source": [
    "data.isnull().sum()"
   ]
  },
  {
   "cell_type": "code",
   "execution_count": 84,
   "id": "a9d2364a",
   "metadata": {},
   "outputs": [],
   "source": [
    "data[\"fuel_type\"].fillna(method='bfill', inplace=True)"
   ]
  },
  {
   "cell_type": "code",
   "execution_count": 85,
   "id": "2d620130",
   "metadata": {},
   "outputs": [],
   "source": [
    "X = data[[\"moisture\",\"unit_no\",\"fuel_type\",\"mvar\",\"temp\"]]\n",
    "Y = data[\"power\"]\n"
   ]
  },
  {
   "cell_type": "code",
   "execution_count": 86,
   "id": "ecf0e9f0",
   "metadata": {},
   "outputs": [
    {
     "data": {
      "text/plain": [
       "hour            0\n",
       "date_miladi     0\n",
       "date_shamsi     0\n",
       "power           0\n",
       "code            0\n",
       "unit_no         0\n",
       "fuel_type      72\n",
       "mvar            0\n",
       "temp            0\n",
       "moisture        0\n",
       "dtype: int64"
      ]
     },
     "execution_count": 86,
     "metadata": {},
     "output_type": "execute_result"
    }
   ],
   "source": [
    "data.isnull().sum()"
   ]
  },
  {
   "cell_type": "code",
   "execution_count": 87,
   "id": "fcc37e1d",
   "metadata": {},
   "outputs": [],
   "source": [
    "data.fillna(data.mode, inplace=True)"
   ]
  },
  {
   "cell_type": "code",
   "execution_count": 88,
   "id": "f3155fbd",
   "metadata": {},
   "outputs": [
    {
     "data": {
      "text/plain": [
       "hour           0\n",
       "date_miladi    0\n",
       "date_shamsi    0\n",
       "power          0\n",
       "code           0\n",
       "unit_no        0\n",
       "fuel_type      0\n",
       "mvar           0\n",
       "temp           0\n",
       "moisture       0\n",
       "dtype: int64"
      ]
     },
     "execution_count": 88,
     "metadata": {},
     "output_type": "execute_result"
    }
   ],
   "source": [
    "data.isnull().sum()"
   ]
  },
  {
   "cell_type": "code",
   "execution_count": 89,
   "id": "4e90434d",
   "metadata": {},
   "outputs": [
    {
     "data": {
      "text/html": [
       "<div>\n",
       "<style scoped>\n",
       "    .dataframe tbody tr th:only-of-type {\n",
       "        vertical-align: middle;\n",
       "    }\n",
       "\n",
       "    .dataframe tbody tr th {\n",
       "        vertical-align: top;\n",
       "    }\n",
       "\n",
       "    .dataframe thead th {\n",
       "        text-align: right;\n",
       "    }\n",
       "</style>\n",
       "<table border=\"1\" class=\"dataframe\">\n",
       "  <thead>\n",
       "    <tr style=\"text-align: right;\">\n",
       "      <th></th>\n",
       "      <th>moisture</th>\n",
       "      <th>unit_no</th>\n",
       "      <th>fuel_type</th>\n",
       "      <th>mvar</th>\n",
       "      <th>temp</th>\n",
       "    </tr>\n",
       "  </thead>\n",
       "  <tbody>\n",
       "    <tr>\n",
       "      <th>0</th>\n",
       "      <td>-0.512353</td>\n",
       "      <td>-0.748063</td>\n",
       "      <td>-0.336528</td>\n",
       "      <td>-0.141056</td>\n",
       "      <td>-0.615644</td>\n",
       "    </tr>\n",
       "    <tr>\n",
       "      <th>1</th>\n",
       "      <td>-0.512353</td>\n",
       "      <td>-0.748063</td>\n",
       "      <td>-0.336528</td>\n",
       "      <td>-0.141056</td>\n",
       "      <td>-0.615644</td>\n",
       "    </tr>\n",
       "    <tr>\n",
       "      <th>2</th>\n",
       "      <td>-0.512353</td>\n",
       "      <td>-0.748063</td>\n",
       "      <td>-0.336528</td>\n",
       "      <td>-0.141056</td>\n",
       "      <td>-0.615644</td>\n",
       "    </tr>\n",
       "    <tr>\n",
       "      <th>3</th>\n",
       "      <td>-0.512353</td>\n",
       "      <td>-0.748063</td>\n",
       "      <td>-0.336528</td>\n",
       "      <td>-0.141056</td>\n",
       "      <td>-0.615644</td>\n",
       "    </tr>\n",
       "    <tr>\n",
       "      <th>4</th>\n",
       "      <td>-0.512353</td>\n",
       "      <td>-0.748063</td>\n",
       "      <td>-0.336528</td>\n",
       "      <td>-0.141056</td>\n",
       "      <td>-0.615644</td>\n",
       "    </tr>\n",
       "    <tr>\n",
       "      <th>...</th>\n",
       "      <td>...</td>\n",
       "      <td>...</td>\n",
       "      <td>...</td>\n",
       "      <td>...</td>\n",
       "      <td>...</td>\n",
       "    </tr>\n",
       "    <tr>\n",
       "      <th>277122</th>\n",
       "      <td>-0.189675</td>\n",
       "      <td>1.692781</td>\n",
       "      <td>NaN</td>\n",
       "      <td>3.506404</td>\n",
       "      <td>2.193880</td>\n",
       "    </tr>\n",
       "    <tr>\n",
       "      <th>277123</th>\n",
       "      <td>-0.143578</td>\n",
       "      <td>1.692781</td>\n",
       "      <td>NaN</td>\n",
       "      <td>3.437584</td>\n",
       "      <td>2.023605</td>\n",
       "    </tr>\n",
       "    <tr>\n",
       "      <th>277124</th>\n",
       "      <td>-0.051384</td>\n",
       "      <td>1.692781</td>\n",
       "      <td>NaN</td>\n",
       "      <td>3.231124</td>\n",
       "      <td>1.938468</td>\n",
       "    </tr>\n",
       "    <tr>\n",
       "      <th>277125</th>\n",
       "      <td>-0.097481</td>\n",
       "      <td>1.692781</td>\n",
       "      <td>NaN</td>\n",
       "      <td>3.299944</td>\n",
       "      <td>1.853331</td>\n",
       "    </tr>\n",
       "    <tr>\n",
       "      <th>277126</th>\n",
       "      <td>-0.005287</td>\n",
       "      <td>1.692781</td>\n",
       "      <td>NaN</td>\n",
       "      <td>3.437584</td>\n",
       "      <td>1.768194</td>\n",
       "    </tr>\n",
       "  </tbody>\n",
       "</table>\n",
       "<p>277127 rows × 5 columns</p>\n",
       "</div>"
      ],
      "text/plain": [
       "        moisture   unit_no  fuel_type      mvar      temp\n",
       "0      -0.512353 -0.748063  -0.336528 -0.141056 -0.615644\n",
       "1      -0.512353 -0.748063  -0.336528 -0.141056 -0.615644\n",
       "2      -0.512353 -0.748063  -0.336528 -0.141056 -0.615644\n",
       "3      -0.512353 -0.748063  -0.336528 -0.141056 -0.615644\n",
       "4      -0.512353 -0.748063  -0.336528 -0.141056 -0.615644\n",
       "...          ...       ...        ...       ...       ...\n",
       "277122 -0.189675  1.692781        NaN  3.506404  2.193880\n",
       "277123 -0.143578  1.692781        NaN  3.437584  2.023605\n",
       "277124 -0.051384  1.692781        NaN  3.231124  1.938468\n",
       "277125 -0.097481  1.692781        NaN  3.299944  1.853331\n",
       "277126 -0.005287  1.692781        NaN  3.437584  1.768194\n",
       "\n",
       "[277127 rows x 5 columns]"
      ]
     },
     "execution_count": 89,
     "metadata": {},
     "output_type": "execute_result"
    }
   ],
   "source": [
    "scaler = StandardScaler()\n",
    "X = pd.DataFrame(scaler.fit_transform(X), columns = X.columns)\n",
    "X"
   ]
  },
  {
   "cell_type": "code",
   "execution_count": null,
   "id": "88c61847",
   "metadata": {},
   "outputs": [],
   "source": [
    "pca = PCA()\n",
    "pca.fit(X)\n",
    "transformed = pca.transform(seed)\n",
    "mean = pca.mean_\n",
    "FPC = pca.components_[0,:]\n",
    "plt.scatter(width, length)\n",
    "plt.arrow(mean[0], mean[1], FPC[0], FPC[1], color='red',width=0.01)\n",
    "#plt.axis('equal')# Keep axes on same scale\n",
    "plt.show()"
   ]
  }
 ],
 "metadata": {
  "kernelspec": {
   "display_name": "Python 3",
   "language": "python",
   "name": "python3"
  },
  "language_info": {
   "codemirror_mode": {
    "name": "ipython",
    "version": 3
   },
   "file_extension": ".py",
   "mimetype": "text/x-python",
   "name": "python",
   "nbconvert_exporter": "python",
   "pygments_lexer": "ipython3",
   "version": "3.8.8"
  }
 },
 "nbformat": 4,
 "nbformat_minor": 5
}
