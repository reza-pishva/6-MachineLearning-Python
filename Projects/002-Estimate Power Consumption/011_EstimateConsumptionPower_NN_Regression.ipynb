{
 "cells": [
  {
   "cell_type": "code",
   "execution_count": 44,
   "id": "e9564e95",
   "metadata": {},
   "outputs": [],
   "source": [
    "import numpy as np\n",
    "import pandas as pd\n",
    "import seaborn as sns\n",
    "import matplotlib.pyplot as plt\n",
    "from sklearn.model_selection import train_test_split\n",
    "from sklearn.preprocessing import StandardScaler\n",
    "from sklearn.neural_network import MLPRegressor\n",
    "from sklearn.metrics import mean_squared_error,r2_score\n",
    "from sklearn.decomposition import PCA\n",
    "from sklearn.pipeline import Pipeline\n",
    "from sklearn.model_selection import GridSearchCV\n",
    "import warnings\n",
    "warnings.filterwarnings('ignore')"
   ]
  },
  {
   "cell_type": "code",
   "execution_count": 53,
   "id": "442d987d",
   "metadata": {},
   "outputs": [
    {
     "data": {
      "text/html": [
       "<div>\n",
       "<style scoped>\n",
       "    .dataframe tbody tr th:only-of-type {\n",
       "        vertical-align: middle;\n",
       "    }\n",
       "\n",
       "    .dataframe tbody tr th {\n",
       "        vertical-align: top;\n",
       "    }\n",
       "\n",
       "    .dataframe thead th {\n",
       "        text-align: right;\n",
       "    }\n",
       "</style>\n",
       "<table border=\"1\" class=\"dataframe\">\n",
       "  <thead>\n",
       "    <tr style=\"text-align: right;\">\n",
       "      <th></th>\n",
       "      <th>unit_no</th>\n",
       "      <th>maxa</th>\n",
       "      <th>maxr</th>\n",
       "      <th>active</th>\n",
       "      <th>reactive</th>\n",
       "      <th>consumption</th>\n",
       "    </tr>\n",
       "  </thead>\n",
       "  <tbody>\n",
       "    <tr>\n",
       "      <th>0</th>\n",
       "      <td>1</td>\n",
       "      <td>1322.0</td>\n",
       "      <td>1043.0</td>\n",
       "      <td>26815.0</td>\n",
       "      <td>568.0</td>\n",
       "      <td>264.452105</td>\n",
       "    </tr>\n",
       "    <tr>\n",
       "      <th>1</th>\n",
       "      <td>2</td>\n",
       "      <td>1316.0</td>\n",
       "      <td>1032.0</td>\n",
       "      <td>24773.0</td>\n",
       "      <td>253.0</td>\n",
       "      <td>39.563698</td>\n",
       "    </tr>\n",
       "    <tr>\n",
       "      <th>2</th>\n",
       "      <td>4</td>\n",
       "      <td>1345.0</td>\n",
       "      <td>1005.0</td>\n",
       "      <td>26820.0</td>\n",
       "      <td>112.0</td>\n",
       "      <td>191.193007</td>\n",
       "    </tr>\n",
       "    <tr>\n",
       "      <th>3</th>\n",
       "      <td>6</td>\n",
       "      <td>1336.0</td>\n",
       "      <td>1013.0</td>\n",
       "      <td>25470.0</td>\n",
       "      <td>150.0</td>\n",
       "      <td>185.514004</td>\n",
       "    </tr>\n",
       "    <tr>\n",
       "      <th>4</th>\n",
       "      <td>1</td>\n",
       "      <td>1320.0</td>\n",
       "      <td>1038.0</td>\n",
       "      <td>26875.0</td>\n",
       "      <td>636.0</td>\n",
       "      <td>216.559192</td>\n",
       "    </tr>\n",
       "  </tbody>\n",
       "</table>\n",
       "</div>"
      ],
      "text/plain": [
       "   unit_no    maxa    maxr   active  reactive  consumption\n",
       "0        1  1322.0  1043.0  26815.0     568.0   264.452105\n",
       "1        2  1316.0  1032.0  24773.0     253.0    39.563698\n",
       "2        4  1345.0  1005.0  26820.0     112.0   191.193007\n",
       "3        6  1336.0  1013.0  25470.0     150.0   185.514004\n",
       "4        1  1320.0  1038.0  26875.0     636.0   216.559192"
      ]
     },
     "execution_count": 53,
     "metadata": {},
     "output_type": "execute_result"
    }
   ],
   "source": [
    "data = pd.read_excel(\"estimate_power_consumption_total.xlsx\")\n",
    "data.head()"
   ]
  },
  {
   "cell_type": "code",
   "execution_count": 54,
   "id": "a56f4116",
   "metadata": {},
   "outputs": [
    {
     "data": {
      "text/plain": [
       "unit_no        0\n",
       "maxa           0\n",
       "maxr           0\n",
       "active         0\n",
       "reactive       0\n",
       "consumption    0\n",
       "dtype: int64"
      ]
     },
     "execution_count": 54,
     "metadata": {},
     "output_type": "execute_result"
    }
   ],
   "source": [
    "data.isnull().sum()"
   ]
  },
  {
   "cell_type": "code",
   "execution_count": 55,
   "id": "5c5e9906",
   "metadata": {},
   "outputs": [
    {
     "data": {
      "text/html": [
       "<div>\n",
       "<style scoped>\n",
       "    .dataframe tbody tr th:only-of-type {\n",
       "        vertical-align: middle;\n",
       "    }\n",
       "\n",
       "    .dataframe tbody tr th {\n",
       "        vertical-align: top;\n",
       "    }\n",
       "\n",
       "    .dataframe thead th {\n",
       "        text-align: right;\n",
       "    }\n",
       "</style>\n",
       "<table border=\"1\" class=\"dataframe\">\n",
       "  <thead>\n",
       "    <tr style=\"text-align: right;\">\n",
       "      <th></th>\n",
       "      <th>consumption</th>\n",
       "    </tr>\n",
       "  </thead>\n",
       "  <tbody>\n",
       "    <tr>\n",
       "      <th>0</th>\n",
       "      <td>264.452105</td>\n",
       "    </tr>\n",
       "    <tr>\n",
       "      <th>1</th>\n",
       "      <td>39.563698</td>\n",
       "    </tr>\n",
       "    <tr>\n",
       "      <th>2</th>\n",
       "      <td>191.193007</td>\n",
       "    </tr>\n",
       "    <tr>\n",
       "      <th>3</th>\n",
       "      <td>185.514004</td>\n",
       "    </tr>\n",
       "    <tr>\n",
       "      <th>4</th>\n",
       "      <td>216.559192</td>\n",
       "    </tr>\n",
       "    <tr>\n",
       "      <th>...</th>\n",
       "      <td>...</td>\n",
       "    </tr>\n",
       "    <tr>\n",
       "      <th>42319</th>\n",
       "      <td>287.735996</td>\n",
       "    </tr>\n",
       "    <tr>\n",
       "      <th>42320</th>\n",
       "      <td>229.053007</td>\n",
       "    </tr>\n",
       "    <tr>\n",
       "      <th>42321</th>\n",
       "      <td>2397.376644</td>\n",
       "    </tr>\n",
       "    <tr>\n",
       "      <th>42322</th>\n",
       "      <td>2413.639269</td>\n",
       "    </tr>\n",
       "    <tr>\n",
       "      <th>42323</th>\n",
       "      <td>2390.600538</td>\n",
       "    </tr>\n",
       "  </tbody>\n",
       "</table>\n",
       "<p>42324 rows × 1 columns</p>\n",
       "</div>"
      ],
      "text/plain": [
       "       consumption\n",
       "0       264.452105\n",
       "1        39.563698\n",
       "2       191.193007\n",
       "3       185.514004\n",
       "4       216.559192\n",
       "...            ...\n",
       "42319   287.735996\n",
       "42320   229.053007\n",
       "42321  2397.376644\n",
       "42322  2413.639269\n",
       "42323  2390.600538\n",
       "\n",
       "[42324 rows x 1 columns]"
      ]
     },
     "execution_count": 55,
     "metadata": {},
     "output_type": "execute_result"
    }
   ],
   "source": [
    "X = data[[\"unit_no\",\"maxa\",\"maxr\",\"active\",\"reactive\"]]\n",
    "y = data[[\"consumption\"]]\n",
    "y"
   ]
  },
  {
   "cell_type": "code",
   "execution_count": 56,
   "id": "bb4f7371",
   "metadata": {},
   "outputs": [
    {
     "data": {
      "text/html": [
       "<div>\n",
       "<style scoped>\n",
       "    .dataframe tbody tr th:only-of-type {\n",
       "        vertical-align: middle;\n",
       "    }\n",
       "\n",
       "    .dataframe tbody tr th {\n",
       "        vertical-align: top;\n",
       "    }\n",
       "\n",
       "    .dataframe thead th {\n",
       "        text-align: right;\n",
       "    }\n",
       "</style>\n",
       "<table border=\"1\" class=\"dataframe\">\n",
       "  <thead>\n",
       "    <tr style=\"text-align: right;\">\n",
       "      <th></th>\n",
       "      <th>unit_no</th>\n",
       "      <th>maxa</th>\n",
       "      <th>maxr</th>\n",
       "      <th>active</th>\n",
       "      <th>reactive</th>\n",
       "    </tr>\n",
       "  </thead>\n",
       "  <tbody>\n",
       "    <tr>\n",
       "      <th>0</th>\n",
       "      <td>1</td>\n",
       "      <td>1322.0</td>\n",
       "      <td>1043.0</td>\n",
       "      <td>26815.0</td>\n",
       "      <td>568.000000</td>\n",
       "    </tr>\n",
       "    <tr>\n",
       "      <th>1</th>\n",
       "      <td>2</td>\n",
       "      <td>1316.0</td>\n",
       "      <td>1032.0</td>\n",
       "      <td>24773.0</td>\n",
       "      <td>253.000000</td>\n",
       "    </tr>\n",
       "    <tr>\n",
       "      <th>2</th>\n",
       "      <td>4</td>\n",
       "      <td>1345.0</td>\n",
       "      <td>1005.0</td>\n",
       "      <td>26820.0</td>\n",
       "      <td>112.000000</td>\n",
       "    </tr>\n",
       "    <tr>\n",
       "      <th>3</th>\n",
       "      <td>6</td>\n",
       "      <td>1336.0</td>\n",
       "      <td>1013.0</td>\n",
       "      <td>25470.0</td>\n",
       "      <td>150.000000</td>\n",
       "    </tr>\n",
       "    <tr>\n",
       "      <th>4</th>\n",
       "      <td>1</td>\n",
       "      <td>1320.0</td>\n",
       "      <td>1038.0</td>\n",
       "      <td>26875.0</td>\n",
       "      <td>636.000000</td>\n",
       "    </tr>\n",
       "    <tr>\n",
       "      <th>...</th>\n",
       "      <td>...</td>\n",
       "      <td>...</td>\n",
       "      <td>...</td>\n",
       "      <td>...</td>\n",
       "      <td>...</td>\n",
       "    </tr>\n",
       "    <tr>\n",
       "      <th>42319</th>\n",
       "      <td>5</td>\n",
       "      <td>1319.0</td>\n",
       "      <td>1017.0</td>\n",
       "      <td>26645.0</td>\n",
       "      <td>445.000000</td>\n",
       "    </tr>\n",
       "    <tr>\n",
       "      <th>42320</th>\n",
       "      <td>6</td>\n",
       "      <td>1319.0</td>\n",
       "      <td>1020.0</td>\n",
       "      <td>26810.0</td>\n",
       "      <td>485.000000</td>\n",
       "    </tr>\n",
       "    <tr>\n",
       "      <th>42321</th>\n",
       "      <td>7</td>\n",
       "      <td>1336.0</td>\n",
       "      <td>1037.0</td>\n",
       "      <td>27120.0</td>\n",
       "      <td>895.799988</td>\n",
       "    </tr>\n",
       "    <tr>\n",
       "      <th>42322</th>\n",
       "      <td>8</td>\n",
       "      <td>1332.0</td>\n",
       "      <td>1034.0</td>\n",
       "      <td>27010.0</td>\n",
       "      <td>811.599976</td>\n",
       "    </tr>\n",
       "    <tr>\n",
       "      <th>42323</th>\n",
       "      <td>9</td>\n",
       "      <td>1333.0</td>\n",
       "      <td>1030.0</td>\n",
       "      <td>27034.0</td>\n",
       "      <td>768.000000</td>\n",
       "    </tr>\n",
       "  </tbody>\n",
       "</table>\n",
       "<p>42324 rows × 5 columns</p>\n",
       "</div>"
      ],
      "text/plain": [
       "       unit_no    maxa    maxr   active    reactive\n",
       "0            1  1322.0  1043.0  26815.0  568.000000\n",
       "1            2  1316.0  1032.0  24773.0  253.000000\n",
       "2            4  1345.0  1005.0  26820.0  112.000000\n",
       "3            6  1336.0  1013.0  25470.0  150.000000\n",
       "4            1  1320.0  1038.0  26875.0  636.000000\n",
       "...        ...     ...     ...      ...         ...\n",
       "42319        5  1319.0  1017.0  26645.0  445.000000\n",
       "42320        6  1319.0  1020.0  26810.0  485.000000\n",
       "42321        7  1336.0  1037.0  27120.0  895.799988\n",
       "42322        8  1332.0  1034.0  27010.0  811.599976\n",
       "42323        9  1333.0  1030.0  27034.0  768.000000\n",
       "\n",
       "[42324 rows x 5 columns]"
      ]
     },
     "execution_count": 56,
     "metadata": {},
     "output_type": "execute_result"
    }
   ],
   "source": [
    "X"
   ]
  },
  {
   "cell_type": "code",
   "execution_count": 57,
   "id": "213cd6a5",
   "metadata": {},
   "outputs": [],
   "source": [
    "X_train, X_test, y_train, y_test = train_test_split(X, y, test_size = 0.25, random_state = 42)"
   ]
  },
  {
   "cell_type": "code",
   "execution_count": 58,
   "id": "ddb49db0",
   "metadata": {},
   "outputs": [],
   "source": [
    "# scaler = StandardScaler()\n",
    "# X_train = scaler.fit_transform(X_train)\n",
    "# X_test = scaler.fit_transform(X_test)"
   ]
  },
  {
   "cell_type": "code",
   "execution_count": 59,
   "id": "0266af9a",
   "metadata": {},
   "outputs": [],
   "source": [
    "# Training the Decision Tree Regression model on the whole dataset\n",
    "nn = MLPRegressor()\n",
    "nn.fit(X_train, y_train)\n",
    "y_pred=nn.predict(X_test)"
   ]
  },
  {
   "cell_type": "code",
   "execution_count": 60,
   "id": "e8dfdc98",
   "metadata": {},
   "outputs": [
    {
     "name": "stdout",
     "output_type": "stream",
     "text": [
      "Mean squared error: 330523.22686261305\n",
      "R-squared: 0.4296904732294554\n"
     ]
    }
   ],
   "source": [
    "mse=mean_squared_error(y_pred,y_test)\n",
    "r2=r2_score(y_pred,y_test)\n",
    "print(\"Mean squared error:\",mse)\n",
    "print(\"R-squared:\",r2)"
   ]
  },
  {
   "cell_type": "markdown",
   "id": "4793294d",
   "metadata": {},
   "source": [
    "# Tuning the hyperparameters"
   ]
  },
  {
   "cell_type": "code",
   "execution_count": 61,
   "id": "802b7a9c",
   "metadata": {},
   "outputs": [
    {
     "name": "stdout",
     "output_type": "stream",
     "text": [
      "Best hyperparameters: {'activation': 'relu', 'alpha': 0.001, 'hidden_layer_sizes': (40,)}\n",
      "Best score: 0.6769845528229197\n"
     ]
    }
   ],
   "source": [
    "# Define the SVR model\n",
    "nn = MLPRegressor()\n",
    "\n",
    "# Define the hyperparameters to tune\n",
    "param_grid = {'hidden_layer_sizes': [(10,), (20,), (30,), (40,)],\n",
    "              'activation': ['relu', 'tanh', 'logistic'],\n",
    "              'alpha': [0.0001, 0.001, 0.01, 0.1]}\n",
    "# Perform grid search to find the best hyperparameters\n",
    "grid_search = GridSearchCV(nn, param_grid, cv=5)\n",
    "grid_search.fit(X_train, y_train)\n",
    "\n",
    "# Print the best hyperparameters\n",
    "print(\"Best hyperparameters:\", grid_search.best_params_)\n",
    "print(\"Best score:\", grid_search.best_score_)"
   ]
  },
  {
   "cell_type": "code",
   "execution_count": 62,
   "id": "19e306f2",
   "metadata": {},
   "outputs": [],
   "source": [
    "regressor = MLPRegressor(**grid_search.best_params_)\n",
    "regressor.fit(X_train, y_train)\n",
    "y_pred=regressor.predict(X_test)"
   ]
  },
  {
   "cell_type": "code",
   "execution_count": 63,
   "id": "67bded0c",
   "metadata": {},
   "outputs": [
    {
     "name": "stdout",
     "output_type": "stream",
     "text": [
      "Mean squared error: 265093.26135899604\n",
      "R-squared: 0.5753238597208082\n"
     ]
    }
   ],
   "source": [
    "mse=mean_squared_error(y_pred,y_test)\n",
    "r2=r2_score(y_pred,y_test)\n",
    "print(\"Mean squared error:\",mse)\n",
    "print(\"R-squared:\",r2)"
   ]
  },
  {
   "cell_type": "markdown",
   "id": "5a82b78c",
   "metadata": {},
   "source": [
    "# Trying dimention reduction for the model"
   ]
  },
  {
   "cell_type": "code",
   "execution_count": 64,
   "id": "57765705",
   "metadata": {},
   "outputs": [],
   "source": [
    "# Apply PCA to reduce the number of features to 3\n",
    "pca = PCA(n_components=X.shape[1])\n",
    "X_train_pca = pca.fit_transform(X_train)"
   ]
  },
  {
   "cell_type": "code",
   "execution_count": 65,
   "id": "7ac866c8",
   "metadata": {},
   "outputs": [
    {
     "data": {
      "image/png": "[encoded data removed]",
      "text/plain": [
       "<Figure size 576x432 with 1 Axes>"
      ]
     },
     "metadata": {
      "needs_background": "light"
     },
     "output_type": "display_data"
    }
   ],
   "source": [
    "plt.figure(figsize=(8,6))\n",
    "plt.plot(np.cumsum(pca.explained_variance_ratio_))\n",
    "plt.xlim(0,14,1)\n",
    "plt.xlabel('Number of components')\n",
    "plt.ylabel('Cumulative explained variance')\n",
    "plt.show()"
   ]
  },
  {
   "cell_type": "code",
   "execution_count": 66,
   "id": "5967ed11",
   "metadata": {},
   "outputs": [
    {
     "data": {
      "image/png": "[encoded data removed]",
      "text/plain": [
       "<Figure size 432x288 with 1 Axes>"
      ]
     },
     "metadata": {
      "needs_background": "light"
     },
     "output_type": "display_data"
    }
   ],
   "source": [
    "cumulative=np.cumsum(pca.explained_variance_ratio_)\n",
    "plt.step([i for i in range(len(cumulative))],cumulative)\n",
    "plt.show()"
   ]
  },
  {
   "cell_type": "code",
   "execution_count": 67,
   "id": "1c7694e2",
   "metadata": {},
   "outputs": [
    {
     "name": "stdout",
     "output_type": "stream",
     "text": [
      "[9.98423453e-01 1.57373970e-03 2.03599218e-06 7.42691000e-07\n",
      " 2.86058653e-08]\n",
      "\n"
     ]
    }
   ],
   "source": [
    "pca=PCA().fit(X_train)\n",
    "print(pca.explained_variance_ratio_)\n",
    "print()\n"
   ]
  },
  {
   "cell_type": "code",
   "execution_count": 68,
   "id": "6d18707e",
   "metadata": {},
   "outputs": [],
   "source": [
    "pipeline = Pipeline([\n",
    "    ('pca', PCA(n_components=X.shape[1])),\n",
    "    ('nn', MLPRegressor(**grid_search.best_params_))\n",
    "])"
   ]
  },
  {
   "cell_type": "code",
   "execution_count": 69,
   "id": "b3612d9f",
   "metadata": {},
   "outputs": [],
   "source": [
    "pipeline.fit(X_train, y_train)\n",
    "y_pred = pipeline.predict(X_test)"
   ]
  },
  {
   "cell_type": "code",
   "execution_count": 70,
   "id": "911892d7",
   "metadata": {},
   "outputs": [
    {
     "name": "stdout",
     "output_type": "stream",
     "text": [
      "Mean squared error: 123894.14751033712\n",
      "R-squared: 0.8457838755265292\n"
     ]
    }
   ],
   "source": [
    "# Calculate Mean Squared Error (MSE) of the predictions \n",
    "mse=mean_squared_error(y_pred,y_test)\n",
    "r2=r2_score(y_pred,y_test)\n",
    "print(\"Mean squared error:\",mse)\n",
    "print(\"R-squared:\",r2)"
   ]
  },
  {
   "cell_type": "code",
   "execution_count": null,
   "id": "ddcef76f",
   "metadata": {},
   "outputs": [],
   "source": []
  }
 ],
 "metadata": {
  "kernelspec": {
   "display_name": "Python 3",
   "language": "python",
   "name": "python3"
  },
  "language_info": {
   "codemirror_mode": {
    "name": "ipython",
    "version": 3
   },
   "file_extension": ".py",
   "mimetype": "text/x-python",
   "name": "python",
   "nbconvert_exporter": "python",
   "pygments_lexer": "ipython3",
   "version": "3.8.8"
  }
 },
 "nbformat": 4,
 "nbformat_minor": 5
}
