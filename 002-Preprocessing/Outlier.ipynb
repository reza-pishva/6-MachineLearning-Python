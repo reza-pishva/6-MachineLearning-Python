{
 "cells": [
  {
   "cell_type": "code",
   "execution_count": null,
   "id": "f996d4dc",
   "metadata": {},
   "outputs": [],
   "source": [
    "# Outlier Analysis\n",
    "fig, axs = plt.subplots(3, figsize = (5,5))\n",
    "plt1 = sns.boxplot(advertising['TV'], ax = axs[0])\n",
    "plt2 = sns.boxplot(advertising['Newspaper'], ax = axs[1])\n",
    "plt3 = sns.boxplot(advertising['Radio'], ax = axs[2])\n",
    "plt.tight_layout()"
   ]
  },
  {
   "cell_type": "code",
   "execution_count": null,
   "id": "b1900b4e",
   "metadata": {},
   "outputs": [],
   "source": [
    "sns.boxplot(advertising['Sales'])\n",
    "plt.show()"
   ]
  },
  {
   "cell_type": "code",
   "execution_count": null,
   "id": "7fea7e2e",
   "metadata": {},
   "outputs": [],
   "source": []
  },
  {
   "cell_type": "code",
   "execution_count": null,
   "id": "f3a5a66a",
   "metadata": {},
   "outputs": [],
   "source": [
    "clf = LocalOutlierFactor()\n",
    "y_pred = clf.fit_predict(x)"
   ]
  },
  {
   "cell_type": "code",
   "execution_count": null,
   "id": "4472365f",
   "metadata": {},
   "outputs": [],
   "source": [
    "X_score = clf.negative_outlier_factor_\n",
    "outlier_score = pd.DataFrame()\n",
    "outlier_score[\"score\"] = X_score"
   ]
  },
  {
   "cell_type": "code",
   "execution_count": null,
   "id": "8b582dd4",
   "metadata": {},
   "outputs": [],
   "source": [
    "outlier_score.head()"
   ]
  },
  {
   "cell_type": "code",
   "execution_count": null,
   "id": "967ad7d8",
   "metadata": {},
   "outputs": [],
   "source": [
    "# So make threshold: we decide about max and min of \"outlier_score\"\n",
    "threshold = -2\n",
    "filtre = outlier_score[\"score\"] < threshold\n",
    "outlier_index = outlier_score[filtre].index.tolist()"
   ]
  },
  {
   "cell_type": "code",
   "execution_count": null,
   "id": "4d4d0285",
   "metadata": {},
   "outputs": [],
   "source": [
    "# Radius for our outliers\n",
    "radius = (X_score.max()-X_score)/(X_score.max()-X_score.min())"
   ]
  },
  {
   "cell_type": "code",
   "execution_count": null,
   "id": "67414c6c",
   "metadata": {},
   "outputs": [],
   "source": [
    "x = x.drop(outlier_index)\n",
    "y = y.drop(outlier_index)"
   ]
  },
  {
   "cell_type": "code",
   "execution_count": null,
   "id": "b9d7b225",
   "metadata": {},
   "outputs": [],
   "source": []
  },
  {
   "cell_type": "code",
   "execution_count": null,
   "id": "f62ed43f",
   "metadata": {},
   "outputs": [],
   "source": [
    "# find outliers for Rainfall variable\n",
    "\n",
    "IQR = df.Rainfall.quantile(0.75) - df.Rainfall.quantile(0.25)\n",
    "Lower_fence = df.Rainfall.quantile(0.25) - (IQR * 3)\n",
    "Upper_fence = df.Rainfall.quantile(0.75) + (IQR * 3)\n",
    "print('Rainfall outliers are values < {lowerboundary} or > {upperboundary}'.format(lowerboundary=Lower_fence, upperboundary=Upper_fence))"
   ]
  },
  {
   "cell_type": "code",
   "execution_count": null,
   "id": "b93c96e8",
   "metadata": {},
   "outputs": [],
   "source": []
  }
 ],
 "metadata": {
  "kernelspec": {
   "display_name": "Python 3",
   "language": "python",
   "name": "python3"
  },
  "language_info": {
   "codemirror_mode": {
    "name": "ipython",
    "version": 3
   },
   "file_extension": ".py",
   "mimetype": "text/x-python",
   "name": "python",
   "nbconvert_exporter": "python",
   "pygments_lexer": "ipython3",
   "version": "3.8.8"
  }
 },
 "nbformat": 4,
 "nbformat_minor": 5
}
