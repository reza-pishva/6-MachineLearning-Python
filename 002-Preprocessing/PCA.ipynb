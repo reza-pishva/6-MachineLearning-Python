{
 "cells": [
  {
   "cell_type": "code",
   "execution_count": null,
   "id": "428029bb",
   "metadata": {},
   "outputs": [],
   "source": [
    "pca = PCA(n_components=2)\n",
    "dataIn2D = pca.fit_transform(X_train)\n",
    "plotPrincipalComponents(dataIn2D, 2)"
   ]
  },
  {
   "cell_type": "code",
   "execution_count": null,
   "id": "c0fc8599",
   "metadata": {},
   "outputs": [],
   "source": [
    "pca = PCA(n_components=3)\n",
    "dataIn3D = pca.fit_transform(X_train)\n",
    "plotPrincipalComponents(dataIn3D, 3)"
   ]
  },
  {
   "cell_type": "code",
   "execution_count": null,
   "id": "782ef254",
   "metadata": {},
   "outputs": [],
   "source": [
    "pca = PCA(n_components=2)\n",
    "X_train2D = pca.fit_transform(X_train)\n",
    "X_test2D = pca.fit_transform(X_test)\n",
    "\n",
    "svm.fit(X_train2D, y_train) \n",
    "test_predictions = svm.predict(X_test2D)\n",
    "precision = metrics.accuracy_score(test_predictions, y_test) * 100\n",
    "print(\"Accuracy with SVM considering only first 2PC: {0:.2f}%\".format(precision))\n",
    "\n",
    "#Plotting decision boundaries\n",
    "plot_decision_regions(X_train2D, y_train, clf=svm, legend=1)\n",
    "plt.xlabel('PC1')\n",
    "plt.ylabel('PC2')\n",
    "plt.title('Linear SVM Decision Boundaries')\n",
    "plt.show()"
   ]
  },
  {
   "cell_type": "code",
   "execution_count": null,
   "id": "ff14f1b2",
   "metadata": {},
   "outputs": [],
   "source": [
    "svm_with_kernel = SVC(gamma=0.01, kernel='rbf', probability=True)\n",
    "svm_with_kernel.fit(X_train2D, y_train) \n",
    "y_pred = svm_with_kernel.predict(X_test2D)\n",
    "precision = metrics.accuracy_score(y_pred, y_test) * 100\n",
    "print(\"Accuracy with Not-Linear SVM considering only first 2PC: {0:.2f}%\".format(precision))\n",
    "\n",
    "#Plotting decision boundaries\n",
    "plot_decision_regions(X_train2D, y_train, clf=svm_with_kernel, legend=1)\n",
    "plt.xlabel('PC1')\n",
    "plt.ylabel('PC2')\n",
    "plt.title('Kernel SVM Decision Boundaries')\n",
    "plt.show()"
   ]
  },
  {
   "cell_type": "code",
   "execution_count": null,
   "id": "ab0137d7",
   "metadata": {},
   "outputs": [],
   "source": [
    "#K-NN + PCA\n",
    "knn.fit(X_train2D, y_train)\n",
    "y_pred = knn.predict(X_test2D)\n",
    "precision = metrics.accuracy_score(y_pred, y_test) * 100\n",
    "print(\"Accuracy with K-NN considering only first 2PC: {0:.2f}%\".format(precision))\n",
    "\n",
    "#Plotting decision boundaries\n",
    "plot_decision_regions(X_train2D, y_train, clf=knn, legend=1)\n",
    "plt.xlabel('PC1')\n",
    "plt.ylabel('PC2')\n",
    "plt.title('K-NN Decision Boundaries')\n",
    "plt.show()"
   ]
  },
  {
   "cell_type": "code",
   "execution_count": null,
   "id": "0b04411c",
   "metadata": {},
   "outputs": [],
   "source": [
    "from sklearn.decomposition import PCA\n",
    "pca = PCA()\n",
    "Xt = pca.fit_transform(X)\n",
    "plot = plt.scatter(Xt[:,0], Xt[:,1], c=y)\n",
    "plt.legend(handles=plot.legend_elements()[0], labels=list(Dataset['Outcome']))\n",
    "plt.show()"
   ]
  },
  {
   "cell_type": "code",
   "execution_count": null,
   "id": "b868cd14",
   "metadata": {},
   "outputs": [],
   "source": []
  },
  {
   "cell_type": "code",
   "execution_count": null,
   "id": "6c56e30c",
   "metadata": {},
   "outputs": [],
   "source": [
    "# PCA needs scaled data\n",
    "scaler = StandardScaler()\n",
    "x_scaled = scaler.fit_transform(x)"
   ]
  },
  {
   "cell_type": "code",
   "execution_count": null,
   "id": "f3a06e33",
   "metadata": {},
   "outputs": [],
   "source": [
    "# Build PCA\n",
    "pca = PCA(n_components = 2)\n",
    "pca.fit(x_scaled)\n",
    "X_reduced_pca = pca.transform(x_scaled)"
   ]
  },
  {
   "cell_type": "code",
   "execution_count": null,
   "id": "f2b7d2f7",
   "metadata": {},
   "outputs": [],
   "source": [
    "pca_data = pd.DataFrame(X_reduced_pca,columns=[\"p1\",\"p2\"])\n",
    "pca_data[\"diagnosis\"] = y"
   ]
  },
  {
   "cell_type": "code",
   "execution_count": null,
   "id": "618757ad",
   "metadata": {},
   "outputs": [],
   "source": [
    "y_pca = pca_data.diagnosis\n",
    "x_pca = pca_data.drop([\"diagnosis\"],axis=1)"
   ]
  },
  {
   "cell_type": "code",
   "execution_count": null,
   "id": "98ae8a89",
   "metadata": {},
   "outputs": [],
   "source": []
  },
  {
   "cell_type": "code",
   "execution_count": null,
   "id": "5d7bb238",
   "metadata": {},
   "outputs": [],
   "source": [
    "pca= PCA()\n",
    "pca.fit(X_train)\n",
    "cumsum = np.cumsum(pca.explained_variance_ratio_)\n",
    "dim = np.argmax(cumsum >= 0.90) + 1\n",
    "print('The number of dimensions required to preserve 90% of variance is',dim)"
   ]
  },
  {
   "cell_type": "code",
   "execution_count": null,
   "id": "0acbea7c",
   "metadata": {},
   "outputs": [],
   "source": [
    "plt.figure(figsize=(8,6))\n",
    "plt.plot(np.cumsum(pca.explained_variance_ratio_))\n",
    "plt.xlim(0,14,1)\n",
    "plt.xlabel('Number of components')\n",
    "plt.ylabel('Cumulative explained variance')\n",
    "plt.show()"
   ]
  },
  {
   "cell_type": "code",
   "execution_count": null,
   "id": "f3a02746",
   "metadata": {},
   "outputs": [],
   "source": [
    "plt.figure(figsize=(10,10))\n",
    "sns.heatmap(data.corr(),vmax=.3, center=0,\n",
    "            square=True, linewidths=.5, cbar_kws={\"shrink\": .5},annot=True)\n",
    "plt.tight_layout()\n",
    "plt.show()"
   ]
  },
  {
   "cell_type": "code",
   "execution_count": null,
   "id": "bd237f80",
   "metadata": {},
   "outputs": [],
   "source": []
  },
  {
   "cell_type": "code",
   "execution_count": null,
   "id": "ea2ee546",
   "metadata": {},
   "outputs": [],
   "source": [
    "from sklearn.decomposition import PCA\n",
    "pca=PCA().fit(X_train)\n",
    "print(pca.explained_variance_ratio_)\n",
    "print()\n",
    "print(X_train.columns.values.tolist())\n",
    "print(pca.components_)"
   ]
  },
  {
   "cell_type": "code",
   "execution_count": null,
   "id": "8d462a08",
   "metadata": {},
   "outputs": [],
   "source": [
    "cumulative=np.cumsum(pca.explained_variance_ratio_)\n",
    "plt.step([i for i in range(len(cumulative))],cumulative)\n",
    "plt.show()"
   ]
  },
  {
   "cell_type": "code",
   "execution_count": null,
   "id": "c7526425",
   "metadata": {},
   "outputs": [],
   "source": [
    "pca = PCA(n_components=8)\n",
    "pca.fit(X_train)\n",
    "reduced_data_train = pca.transform(X_train)\n",
    "#inverse_data = pca.inverse_transform(reduced_data)\n",
    "plt.scatter(reduced_data_train[:, 0], reduced_data_train[:, 1], label='reduced')\n",
    "plt.xlabel('First Principal Component')\n",
    "plt.ylabel('Second Principal Component')\n",
    "plt.show()"
   ]
  }
 ],
 "metadata": {
  "kernelspec": {
   "display_name": "Python 3",
   "language": "python",
   "name": "python3"
  },
  "language_info": {
   "codemirror_mode": {
    "name": "ipython",
    "version": 3
   },
   "file_extension": ".py",
   "mimetype": "text/x-python",
   "name": "python",
   "nbconvert_exporter": "python",
   "pygments_lexer": "ipython3",
   "version": "3.8.8"
  }
 },
 "nbformat": 4,
 "nbformat_minor": 5
}
