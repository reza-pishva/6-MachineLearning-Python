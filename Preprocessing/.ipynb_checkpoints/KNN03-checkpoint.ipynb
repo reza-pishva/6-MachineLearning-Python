{
 "cells": [
  {
   "cell_type": "code",
   "execution_count": null,
   "id": "1a3fb78c",
   "metadata": {},
   "outputs": [],
   "source": [
    "https://www.kaggle.com/code/shrutimechlearn/step-by-step-diabetes-classification-knn-detailed"
   ]
  },
  {
   "cell_type": "code",
   "execution_count": null,
   "id": "bdd4041f",
   "metadata": {},
   "outputs": [],
   "source": [
    "from mlxtend.plotting import plot_decision_regions\n",
    "import numpy as np\n",
    "import pandas as pd\n",
    "import matplotlib.pyplot as plt\n",
    "import seaborn as sns\n",
    "sns.set()\n",
    "import warnings\n",
    "warnings.filterwarnings('ignore')\n",
    "%matplotlib inline\n",
    "#plt.style.use('ggplot')\n",
    "#ggplot is R based visualisation package that provides better graphics with higher level of abstraction"
   ]
  },
  {
   "cell_type": "code",
   "execution_count": null,
   "id": "df1feb3a",
   "metadata": {},
   "outputs": [],
   "source": [
    "#Loading the dataset\n",
    "diabetes_data = pd.read_csv('../input/diabetes.csv')\n",
    "\n",
    "#Print the first 5 rows of the dataframe.\n",
    "diabetes_data.head()"
   ]
  },
  {
   "cell_type": "code",
   "execution_count": null,
   "id": "123e0fc4",
   "metadata": {},
   "outputs": [],
   "source": [
    "## gives information about the data types,columns, null value counts, memory usage etc\n",
    "## function reference : https://pandas.pydata.org/pandas-docs/stable/generated/pandas.DataFrame.info.html\n",
    "diabetes_data.info(verbose=True)"
   ]
  },
  {
   "cell_type": "code",
   "execution_count": null,
   "id": "943d3ff5",
   "metadata": {},
   "outputs": [],
   "source": [
    "## basic statistic details about the data (note only numerical columns would be displayed here unless parameter include=\"all\")\n",
    "## for reference: https://pandas.pydata.org/pandas-docs/stable/generated/pandas.DataFrame.describe.html#pandas.DataFrame.describe\n",
    "diabetes_data.describe()\n",
    "\n",
    "## Also see :\n",
    "##to return columns of a specific dtype: https://pandas.pydata.org/pandas-docs/stable/generated/pandas.DataFrame.select_dtypes.html#pandas.DataFrame.select_dtypes"
   ]
  },
  {
   "cell_type": "code",
   "execution_count": null,
   "id": "8f081dd9",
   "metadata": {},
   "outputs": [],
   "source": [
    "diabetes_data.describe().T"
   ]
  },
  {
   "cell_type": "code",
   "execution_count": null,
   "id": "e078f99d",
   "metadata": {},
   "outputs": [],
   "source": [
    "diabetes_data_copy = diabetes_data.copy(deep = True)\n",
    "diabetes_data_copy[['Glucose','BloodPressure','SkinThickness','Insulin','BMI']] = diabetes_data_copy[['Glucose','BloodPressure','SkinThickness','Insulin','BMI']].replace(0,np.NaN)\n",
    "\n",
    "## showing the count of Nans\n",
    "print(diabetes_data_copy.isnull().sum())"
   ]
  }
 ],
 "metadata": {
  "kernelspec": {
   "display_name": "Python 3",
   "language": "python",
   "name": "python3"
  },
  "language_info": {
   "codemirror_mode": {
    "name": "ipython",
    "version": 3
   },
   "file_extension": ".py",
   "mimetype": "text/x-python",
   "name": "python",
   "nbconvert_exporter": "python",
   "pygments_lexer": "ipython3",
   "version": "3.8.8"
  }
 },
 "nbformat": 4,
 "nbformat_minor": 5
}
