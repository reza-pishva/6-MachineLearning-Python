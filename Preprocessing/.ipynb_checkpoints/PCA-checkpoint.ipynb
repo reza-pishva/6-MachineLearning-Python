{
 "cells": [
  {
   "cell_type": "code",
   "execution_count": null,
   "id": "7c0fc1e9",
   "metadata": {},
   "outputs": [],
   "source": [
    "pca = PCA(n_components=2)\n",
    "dataIn2D = pca.fit_transform(X_train)\n",
    "plotPrincipalComponents(dataIn2D, 2)"
   ]
  },
  {
   "cell_type": "code",
   "execution_count": null,
   "id": "0de3a7d2",
   "metadata": {},
   "outputs": [],
   "source": [
    "pca = PCA(n_components=3)\n",
    "dataIn3D = pca.fit_transform(X_train)\n",
    "plotPrincipalComponents(dataIn3D, 3)"
   ]
  },
  {
   "cell_type": "code",
   "execution_count": null,
   "id": "66ef06cb",
   "metadata": {},
   "outputs": [],
   "source": [
    "pca = PCA(n_components=2)\n",
    "X_train2D = pca.fit_transform(X_train)\n",
    "X_test2D = pca.fit_transform(X_test)\n",
    "\n",
    "svm.fit(X_train2D, y_train) \n",
    "test_predictions = svm.predict(X_test2D)\n",
    "precision = metrics.accuracy_score(test_predictions, y_test) * 100\n",
    "print(\"Accuracy with SVM considering only first 2PC: {0:.2f}%\".format(precision))\n",
    "\n",
    "#Plotting decision boundaries\n",
    "plot_decision_regions(X_train2D, y_train, clf=svm, legend=1)\n",
    "plt.xlabel('PC1')\n",
    "plt.ylabel('PC2')\n",
    "plt.title('Linear SVM Decision Boundaries')\n",
    "plt.show()"
   ]
  }
 ],
 "metadata": {
  "kernelspec": {
   "display_name": "Python 3",
   "language": "python",
   "name": "python3"
  },
  "language_info": {
   "codemirror_mode": {
    "name": "ipython",
    "version": 3
   },
   "file_extension": ".py",
   "mimetype": "text/x-python",
   "name": "python",
   "nbconvert_exporter": "python",
   "pygments_lexer": "ipython3",
   "version": "3.8.8"
  }
 },
 "nbformat": 4,
 "nbformat_minor": 5
}
