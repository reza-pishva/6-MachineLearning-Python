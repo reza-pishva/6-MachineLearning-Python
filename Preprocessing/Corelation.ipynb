{
 "cells": [
  {
   "cell_type": "code",
   "execution_count": null,
   "id": "bf429d12",
   "metadata": {},
   "outputs": [],
   "source": [
    "Selected_features = ['Age', 'TravelAlone', 'Pclass_1', 'Pclass_2', 'Embarked_C', \n",
    "                     'Embarked_S', 'Sex_male', 'IsMinor']\n",
    "X = final_train[Selected_features]\n",
    "plt.subplots(figsize=(8, 5))\n",
    "sns.heatmap(X.corr(), annot=True, cmap=\"RdYlGn\")\n",
    "plt.show()"
   ]
  },
  {
   "cell_type": "code",
   "execution_count": null,
   "id": "5b41426f",
   "metadata": {},
   "outputs": [],
   "source": [
    "# correlation plot\n",
    "corr = df.corr()\n",
    "sns.heatmap(corr, cmap = 'Wistia', annot= True);"
   ]
  },
  {
   "cell_type": "code",
   "execution_count": null,
   "id": "48e05ba8",
   "metadata": {},
   "outputs": [],
   "source": [
    "#Correlation using heatmap\n",
    "plt.figure(figsize = (30, 25))\n",
    "sns.heatmap(df_train.corr(), annot = True, cmap=\"YlGnBu\")\n",
    "plt.show()"
   ]
  },
  {
   "cell_type": "code",
   "execution_count": null,
   "id": "3a456224",
   "metadata": {},
   "outputs": [],
   "source": [
    "# Let's see the correlation between different variables.\n",
    "sns.heatmap(advertising.corr(), cmap=\"YlGnBu\", annot = True)\n",
    "plt.show()"
   ]
  }
 ],
 "metadata": {
  "kernelspec": {
   "display_name": "Python 3",
   "language": "python",
   "name": "python3"
  },
  "language_info": {
   "codemirror_mode": {
    "name": "ipython",
    "version": 3
   },
   "file_extension": ".py",
   "mimetype": "text/x-python",
   "name": "python",
   "nbconvert_exporter": "python",
   "pygments_lexer": "ipython3",
   "version": "3.8.8"
  }
 },
 "nbformat": 4,
 "nbformat_minor": 5
}
