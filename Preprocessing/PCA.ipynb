{
 "cells": [
  {
   "cell_type": "code",
   "execution_count": null,
   "id": "428029bb",
   "metadata": {},
   "outputs": [],
   "source": [
    "pca = PCA(n_components=2)\n",
    "dataIn2D = pca.fit_transform(X_train)\n",
    "plotPrincipalComponents(dataIn2D, 2)"
   ]
  },
  {
   "cell_type": "code",
   "execution_count": null,
   "id": "c0fc8599",
   "metadata": {},
   "outputs": [],
   "source": [
    "pca = PCA(n_components=3)\n",
    "dataIn3D = pca.fit_transform(X_train)\n",
    "plotPrincipalComponents(dataIn3D, 3)"
   ]
  },
  {
   "cell_type": "code",
   "execution_count": null,
   "id": "782ef254",
   "metadata": {},
   "outputs": [],
   "source": [
    "pca = PCA(n_components=2)\n",
    "X_train2D = pca.fit_transform(X_train)\n",
    "X_test2D = pca.fit_transform(X_test)\n",
    "\n",
    "svm.fit(X_train2D, y_train) \n",
    "test_predictions = svm.predict(X_test2D)\n",
    "precision = metrics.accuracy_score(test_predictions, y_test) * 100\n",
    "print(\"Accuracy with SVM considering only first 2PC: {0:.2f}%\".format(precision))\n",
    "\n",
    "#Plotting decision boundaries\n",
    "plot_decision_regions(X_train2D, y_train, clf=svm, legend=1)\n",
    "plt.xlabel('PC1')\n",
    "plt.ylabel('PC2')\n",
    "plt.title('Linear SVM Decision Boundaries')\n",
    "plt.show()"
   ]
  },
  {
   "cell_type": "code",
   "execution_count": null,
   "id": "ff14f1b2",
   "metadata": {},
   "outputs": [],
   "source": [
    "svm_with_kernel = SVC(gamma=0.01, kernel='rbf', probability=True)\n",
    "svm_with_kernel.fit(X_train2D, y_train) \n",
    "y_pred = svm_with_kernel.predict(X_test2D)\n",
    "precision = metrics.accuracy_score(y_pred, y_test) * 100\n",
    "print(\"Accuracy with Not-Linear SVM considering only first 2PC: {0:.2f}%\".format(precision))\n",
    "\n",
    "#Plotting decision boundaries\n",
    "plot_decision_regions(X_train2D, y_train, clf=svm_with_kernel, legend=1)\n",
    "plt.xlabel('PC1')\n",
    "plt.ylabel('PC2')\n",
    "plt.title('Kernel SVM Decision Boundaries')\n",
    "plt.show()"
   ]
  },
  {
   "cell_type": "code",
   "execution_count": null,
   "id": "ab0137d7",
   "metadata": {},
   "outputs": [],
   "source": [
    "#K-NN + PCA\n",
    "knn.fit(X_train2D, y_train)\n",
    "y_pred = knn.predict(X_test2D)\n",
    "precision = metrics.accuracy_score(y_pred, y_test) * 100\n",
    "print(\"Accuracy with K-NN considering only first 2PC: {0:.2f}%\".format(precision))\n",
    "\n",
    "#Plotting decision boundaries\n",
    "plot_decision_regions(X_train2D, y_train, clf=knn, legend=1)\n",
    "plt.xlabel('PC1')\n",
    "plt.ylabel('PC2')\n",
    "plt.title('K-NN Decision Boundaries')\n",
    "plt.show()"
   ]
  },
  {
   "cell_type": "code",
   "execution_count": null,
   "id": "0b04411c",
   "metadata": {},
   "outputs": [],
   "source": [
    "from sklearn.decomposition import PCA\n",
    "pca = PCA()\n",
    "Xt = pca.fit_transform(X)\n",
    "plot = plt.scatter(Xt[:,0], Xt[:,1], c=y)\n",
    "plt.legend(handles=plot.legend_elements()[0], labels=list(Dataset['Outcome']))\n",
    "plt.show()"
   ]
  }
 ],
 "metadata": {
  "kernelspec": {
   "display_name": "Python 3",
   "language": "python",
   "name": "python3"
  },
  "language_info": {
   "codemirror_mode": {
    "name": "ipython",
    "version": 3
   },
   "file_extension": ".py",
   "mimetype": "text/x-python",
   "name": "python",
   "nbconvert_exporter": "python",
   "pygments_lexer": "ipython3",
   "version": "3.8.8"
  }
 },
 "nbformat": 4,
 "nbformat_minor": 5
}
