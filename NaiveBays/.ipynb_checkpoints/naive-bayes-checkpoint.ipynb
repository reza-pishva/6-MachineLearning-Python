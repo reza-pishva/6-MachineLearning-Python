{
 "cells": [
  {
   "cell_type": "code",
   "execution_count": 1,
   "id": "26fa9b55",
   "metadata": {
    "_cell_guid": "b1076dfc-b9ad-4769-8c92-a6c4dae69d19",
    "_uuid": "8f2839f25d086af736a60e9eeb907d3b93b6e0e5",
    "execution": {
     "iopub.execute_input": "2023-06-21T08:23:42.100265Z",
     "iopub.status.busy": "2023-06-21T08:23:42.099904Z",
     "iopub.status.idle": "2023-06-21T08:23:43.276022Z",
     "shell.execute_reply": "2023-06-21T08:23:43.274914Z"
    },
    "papermill": {
     "duration": 1.185009,
     "end_time": "2023-06-21T08:23:43.278595",
     "exception": false,
     "start_time": "2023-06-21T08:23:42.093586",
     "status": "completed"
    },
    "tags": []
   },
   "outputs": [],
   "source": [
    "from sklearn.preprocessing import LabelEncoder\n",
    "from sklearn.naive_bayes import GaussianNB\n",
    "import pandas as pd"
   ]
  },
  {
   "cell_type": "markdown",
   "id": "ef0c0964",
   "metadata": {
    "papermill": {
     "duration": 0.003601,
     "end_time": "2023-06-21T08:23:43.286249",
     "exception": false,
     "start_time": "2023-06-21T08:23:43.282648",
     "status": "completed"
    },
    "tags": []
   },
   "source": [
    "# Importing Data"
   ]
  },
  {
   "cell_type": "code",
   "execution_count": 2,
   "id": "ebd243d9",
   "metadata": {
    "execution": {
     "iopub.execute_input": "2023-06-21T08:23:43.295293Z",
     "iopub.status.busy": "2023-06-21T08:23:43.294908Z",
     "iopub.status.idle": "2023-06-21T08:23:43.351460Z",
     "shell.execute_reply": "2023-06-21T08:23:43.350329Z"
    },
    "papermill": {
     "duration": 0.063663,
     "end_time": "2023-06-21T08:23:43.353664",
     "exception": false,
     "start_time": "2023-06-21T08:23:43.290001",
     "status": "completed"
    },
    "tags": []
   },
   "outputs": [
    {
     "data": {
      "text/html": [
       "<div>\n",
       "<style scoped>\n",
       "    .dataframe tbody tr th:only-of-type {\n",
       "        vertical-align: middle;\n",
       "    }\n",
       "\n",
       "    .dataframe tbody tr th {\n",
       "        vertical-align: top;\n",
       "    }\n",
       "\n",
       "    .dataframe thead th {\n",
       "        text-align: right;\n",
       "    }\n",
       "</style>\n",
       "<table border=\"1\" class=\"dataframe\">\n",
       "  <thead>\n",
       "    <tr style=\"text-align: right;\">\n",
       "      <th></th>\n",
       "      <th>Outlook</th>\n",
       "      <th>Temperature</th>\n",
       "      <th>Humidity</th>\n",
       "      <th>Wind</th>\n",
       "      <th>Answer</th>\n",
       "    </tr>\n",
       "  </thead>\n",
       "  <tbody>\n",
       "    <tr>\n",
       "      <th>0</th>\n",
       "      <td>sunny</td>\n",
       "      <td>hot</td>\n",
       "      <td>high</td>\n",
       "      <td>weak</td>\n",
       "      <td>no</td>\n",
       "    </tr>\n",
       "    <tr>\n",
       "      <th>1</th>\n",
       "      <td>sunny</td>\n",
       "      <td>hot</td>\n",
       "      <td>high</td>\n",
       "      <td>strong</td>\n",
       "      <td>no</td>\n",
       "    </tr>\n",
       "    <tr>\n",
       "      <th>2</th>\n",
       "      <td>overcast</td>\n",
       "      <td>hot</td>\n",
       "      <td>high</td>\n",
       "      <td>weak</td>\n",
       "      <td>yes</td>\n",
       "    </tr>\n",
       "    <tr>\n",
       "      <th>3</th>\n",
       "      <td>rain</td>\n",
       "      <td>mild</td>\n",
       "      <td>high</td>\n",
       "      <td>weak</td>\n",
       "      <td>yes</td>\n",
       "    </tr>\n",
       "    <tr>\n",
       "      <th>4</th>\n",
       "      <td>rain</td>\n",
       "      <td>cool</td>\n",
       "      <td>normal</td>\n",
       "      <td>weak</td>\n",
       "      <td>yes</td>\n",
       "    </tr>\n",
       "    <tr>\n",
       "      <th>5</th>\n",
       "      <td>rain</td>\n",
       "      <td>cool</td>\n",
       "      <td>normal</td>\n",
       "      <td>strong</td>\n",
       "      <td>no</td>\n",
       "    </tr>\n",
       "    <tr>\n",
       "      <th>6</th>\n",
       "      <td>overcast</td>\n",
       "      <td>cool</td>\n",
       "      <td>normal</td>\n",
       "      <td>strong</td>\n",
       "      <td>yes</td>\n",
       "    </tr>\n",
       "    <tr>\n",
       "      <th>7</th>\n",
       "      <td>sunny</td>\n",
       "      <td>mild</td>\n",
       "      <td>high</td>\n",
       "      <td>weak</td>\n",
       "      <td>no</td>\n",
       "    </tr>\n",
       "    <tr>\n",
       "      <th>8</th>\n",
       "      <td>sunny</td>\n",
       "      <td>cool</td>\n",
       "      <td>normal</td>\n",
       "      <td>weak</td>\n",
       "      <td>yes</td>\n",
       "    </tr>\n",
       "    <tr>\n",
       "      <th>9</th>\n",
       "      <td>rain</td>\n",
       "      <td>mild</td>\n",
       "      <td>normal</td>\n",
       "      <td>weak</td>\n",
       "      <td>yes</td>\n",
       "    </tr>\n",
       "    <tr>\n",
       "      <th>10</th>\n",
       "      <td>sunny</td>\n",
       "      <td>mild</td>\n",
       "      <td>normal</td>\n",
       "      <td>strong</td>\n",
       "      <td>yes</td>\n",
       "    </tr>\n",
       "    <tr>\n",
       "      <th>11</th>\n",
       "      <td>overcast</td>\n",
       "      <td>mild</td>\n",
       "      <td>high</td>\n",
       "      <td>strong</td>\n",
       "      <td>yes</td>\n",
       "    </tr>\n",
       "    <tr>\n",
       "      <th>12</th>\n",
       "      <td>overcast</td>\n",
       "      <td>hot</td>\n",
       "      <td>normal</td>\n",
       "      <td>weak</td>\n",
       "      <td>yes</td>\n",
       "    </tr>\n",
       "    <tr>\n",
       "      <th>13</th>\n",
       "      <td>rain</td>\n",
       "      <td>mild</td>\n",
       "      <td>high</td>\n",
       "      <td>strong</td>\n",
       "      <td>no</td>\n",
       "    </tr>\n",
       "  </tbody>\n",
       "</table>\n",
       "</div>"
      ],
      "text/plain": [
       "     Outlook Temperature Humidity    Wind Answer\n",
       "0      sunny         hot     high    weak     no\n",
       "1      sunny         hot     high  strong     no\n",
       "2   overcast         hot     high    weak    yes\n",
       "3       rain        mild     high    weak    yes\n",
       "4       rain        cool   normal    weak    yes\n",
       "5       rain        cool   normal  strong     no\n",
       "6   overcast        cool   normal  strong    yes\n",
       "7      sunny        mild     high    weak     no\n",
       "8      sunny        cool   normal    weak    yes\n",
       "9       rain        mild   normal    weak    yes\n",
       "10     sunny        mild   normal  strong    yes\n",
       "11  overcast        mild     high  strong    yes\n",
       "12  overcast         hot   normal    weak    yes\n",
       "13      rain        mild     high  strong     no"
      ]
     },
     "execution_count": 2,
     "metadata": {},
     "output_type": "execute_result"
    }
   ],
   "source": [
    "df = pd.read_csv(\"/kaggle/input/id3csv/id3.csv\")\n",
    "df.head(14)"
   ]
  },
  {
   "cell_type": "markdown",
   "id": "d5f261ce",
   "metadata": {
    "papermill": {
     "duration": 0.00397,
     "end_time": "2023-06-21T08:23:43.361973",
     "exception": false,
     "start_time": "2023-06-21T08:23:43.358003",
     "status": "completed"
    },
    "tags": []
   },
   "source": [
    "# Extracting Data"
   ]
  },
  {
   "cell_type": "code",
   "execution_count": 3,
   "id": "b2c8d567",
   "metadata": {
    "execution": {
     "iopub.execute_input": "2023-06-21T08:23:43.371821Z",
     "iopub.status.busy": "2023-06-21T08:23:43.371399Z",
     "iopub.status.idle": "2023-06-21T08:23:43.380447Z",
     "shell.execute_reply": "2023-06-21T08:23:43.379371Z"
    },
    "papermill": {
     "duration": 0.016834,
     "end_time": "2023-06-21T08:23:43.382866",
     "exception": false,
     "start_time": "2023-06-21T08:23:43.366032",
     "status": "completed"
    },
    "tags": []
   },
   "outputs": [
    {
     "name": "stdout",
     "output_type": "stream",
     "text": [
      "['sunny' 'sunny' 'overcast' 'rain' 'rain' 'rain' 'overcast' 'sunny'\n",
      " 'sunny' 'rain' 'sunny' 'overcast' 'overcast' 'rain']\n",
      "['hot' 'hot' 'hot' 'mild' 'cool' 'cool' 'cool' 'mild' 'cool' 'mild' 'mild'\n",
      " 'mild' 'hot' 'mild']\n",
      "['high' 'high' 'high' 'high' 'normal' 'normal' 'normal' 'high' 'normal'\n",
      " 'normal' 'normal' 'high' 'normal' 'high']\n",
      "['weak' 'strong' 'weak' 'weak' 'weak' 'strong' 'strong' 'weak' 'weak'\n",
      " 'weak' 'strong' 'strong' 'weak' 'strong']\n",
      "['no' 'no' 'yes' 'yes' 'yes' 'no' 'yes' 'no' 'yes' 'yes' 'yes' 'yes' 'yes'\n",
      " 'no']\n"
     ]
    }
   ],
   "source": [
    "outlook = df['Outlook']\n",
    "temperature = df['Temperature']\n",
    "humidity=df['Humidity']\n",
    "wind = df['Wind']\n",
    "ans= df['Answer']\n",
    "\n",
    "outlook_val=[]\n",
    "temp_val =[]\n",
    "humid_val=[]\n",
    "wind_val=[]\n",
    "ans_val=[]\n",
    "\n",
    "outlook_val = outlook.values\n",
    "temp_val = temperature.values\n",
    "humid_val = humidity.values\n",
    "wind_val= wind.values\n",
    "ans_val=ans.values\n",
    "\n",
    "print(outlook_val)\n",
    "print(temp_val)\n",
    "print(humid_val)\n",
    "print(wind_val)\n",
    "print(ans_val)\n"
   ]
  },
  {
   "cell_type": "markdown",
   "id": "998bcd7a",
   "metadata": {
    "papermill": {
     "duration": 0.004257,
     "end_time": "2023-06-21T08:23:43.391597",
     "exception": false,
     "start_time": "2023-06-21T08:23:43.387340",
     "status": "completed"
    },
    "tags": []
   },
   "source": [
    "# Transforming data to numerical values"
   ]
  },
  {
   "cell_type": "code",
   "execution_count": 4,
   "id": "4ea5cb05",
   "metadata": {
    "execution": {
     "iopub.execute_input": "2023-06-21T08:23:43.401958Z",
     "iopub.status.busy": "2023-06-21T08:23:43.401549Z",
     "iopub.status.idle": "2023-06-21T08:23:43.410332Z",
     "shell.execute_reply": "2023-06-21T08:23:43.408984Z"
    },
    "papermill": {
     "duration": 0.016577,
     "end_time": "2023-06-21T08:23:43.412479",
     "exception": false,
     "start_time": "2023-06-21T08:23:43.395902",
     "status": "completed"
    },
    "tags": []
   },
   "outputs": [
    {
     "name": "stdout",
     "output_type": "stream",
     "text": [
      "[2 2 0 1 1 1 0 2 2 1 2 0 0 1]\n",
      "[1 1 1 2 0 0 0 2 0 2 2 2 1 2]\n",
      "[0 0 0 0 1 1 1 0 1 1 1 0 1 0]\n",
      "[1 0 1 1 1 0 0 1 1 1 0 0 1 0]\n",
      "[0 0 1 1 1 0 1 0 1 1 1 1 1 0]\n"
     ]
    }
   ],
   "source": [
    "le = LabelEncoder()\n",
    "outlook_encoded = le.fit_transform(outlook)\n",
    "temperature_encoded = le.fit_transform(temperature)\n",
    "humidity_encoded = le.fit_transform(humidity)\n",
    "wind_encoded = le.fit_transform(wind)\n",
    "play_encoded = le.fit_transform(ans)\n",
    "print(outlook_encoded)\n",
    "print(temperature_encoded)\n",
    "print(humidity_encoded)\n",
    "print(wind_encoded)\n",
    "print(play_encoded)"
   ]
  },
  {
   "cell_type": "markdown",
   "id": "a76c351d",
   "metadata": {
    "papermill": {
     "duration": 0.004159,
     "end_time": "2023-06-21T08:23:43.421126",
     "exception": false,
     "start_time": "2023-06-21T08:23:43.416967",
     "status": "completed"
    },
    "tags": []
   },
   "source": [
    "# Training Model"
   ]
  },
  {
   "cell_type": "code",
   "execution_count": 5,
   "id": "048350b9",
   "metadata": {
    "execution": {
     "iopub.execute_input": "2023-06-21T08:23:43.433921Z",
     "iopub.status.busy": "2023-06-21T08:23:43.432764Z",
     "iopub.status.idle": "2023-06-21T08:23:43.452594Z",
     "shell.execute_reply": "2023-06-21T08:23:43.451782Z"
    },
    "papermill": {
     "duration": 0.028972,
     "end_time": "2023-06-21T08:23:43.454591",
     "exception": false,
     "start_time": "2023-06-21T08:23:43.425619",
     "status": "completed"
    },
    "tags": []
   },
   "outputs": [
    {
     "name": "stdout",
     "output_type": "stream",
     "text": [
      "Encoded and Paired List: [(2, 1, 0, 1), (2, 1, 0, 0), (0, 1, 0, 1), (1, 2, 0, 1), (1, 0, 1, 1), (1, 0, 1, 0), (0, 0, 1, 0), (2, 2, 0, 1), (2, 0, 1, 1), (1, 2, 1, 1), (2, 2, 1, 0), (0, 2, 0, 0), (0, 1, 1, 1), (1, 2, 0, 0)]\n"
     ]
    },
    {
     "data": {
      "text/html": [
       "<style>#sk-container-id-1 {color: black;background-color: white;}#sk-container-id-1 pre{padding: 0;}#sk-container-id-1 div.sk-toggleable {background-color: white;}#sk-container-id-1 label.sk-toggleable__label {cursor: pointer;display: block;width: 100%;margin-bottom: 0;padding: 0.3em;box-sizing: border-box;text-align: center;}#sk-container-id-1 label.sk-toggleable__label-arrow:before {content: \"▸\";float: left;margin-right: 0.25em;color: #696969;}#sk-container-id-1 label.sk-toggleable__label-arrow:hover:before {color: black;}#sk-container-id-1 div.sk-estimator:hover label.sk-toggleable__label-arrow:before {color: black;}#sk-container-id-1 div.sk-toggleable__content {max-height: 0;max-width: 0;overflow: hidden;text-align: left;background-color: #f0f8ff;}#sk-container-id-1 div.sk-toggleable__content pre {margin: 0.2em;color: black;border-radius: 0.25em;background-color: #f0f8ff;}#sk-container-id-1 input.sk-toggleable__control:checked~div.sk-toggleable__content {max-height: 200px;max-width: 100%;overflow: auto;}#sk-container-id-1 input.sk-toggleable__control:checked~label.sk-toggleable__label-arrow:before {content: \"▾\";}#sk-container-id-1 div.sk-estimator input.sk-toggleable__control:checked~label.sk-toggleable__label {background-color: #d4ebff;}#sk-container-id-1 div.sk-label input.sk-toggleable__control:checked~label.sk-toggleable__label {background-color: #d4ebff;}#sk-container-id-1 input.sk-hidden--visually {border: 0;clip: rect(1px 1px 1px 1px);clip: rect(1px, 1px, 1px, 1px);height: 1px;margin: -1px;overflow: hidden;padding: 0;position: absolute;width: 1px;}#sk-container-id-1 div.sk-estimator {font-family: monospace;background-color: #f0f8ff;border: 1px dotted black;border-radius: 0.25em;box-sizing: border-box;margin-bottom: 0.5em;}#sk-container-id-1 div.sk-estimator:hover {background-color: #d4ebff;}#sk-container-id-1 div.sk-parallel-item::after {content: \"\";width: 100%;border-bottom: 1px solid gray;flex-grow: 1;}#sk-container-id-1 div.sk-label:hover label.sk-toggleable__label {background-color: #d4ebff;}#sk-container-id-1 div.sk-serial::before {content: \"\";position: absolute;border-left: 1px solid gray;box-sizing: border-box;top: 0;bottom: 0;left: 50%;z-index: 0;}#sk-container-id-1 div.sk-serial {display: flex;flex-direction: column;align-items: center;background-color: white;padding-right: 0.2em;padding-left: 0.2em;position: relative;}#sk-container-id-1 div.sk-item {position: relative;z-index: 1;}#sk-container-id-1 div.sk-parallel {display: flex;align-items: stretch;justify-content: center;background-color: white;position: relative;}#sk-container-id-1 div.sk-item::before, #sk-container-id-1 div.sk-parallel-item::before {content: \"\";position: absolute;border-left: 1px solid gray;box-sizing: border-box;top: 0;bottom: 0;left: 50%;z-index: -1;}#sk-container-id-1 div.sk-parallel-item {display: flex;flex-direction: column;z-index: 1;position: relative;background-color: white;}#sk-container-id-1 div.sk-parallel-item:first-child::after {align-self: flex-end;width: 50%;}#sk-container-id-1 div.sk-parallel-item:last-child::after {align-self: flex-start;width: 50%;}#sk-container-id-1 div.sk-parallel-item:only-child::after {width: 0;}#sk-container-id-1 div.sk-dashed-wrapped {border: 1px dashed gray;margin: 0 0.4em 0.5em 0.4em;box-sizing: border-box;padding-bottom: 0.4em;background-color: white;}#sk-container-id-1 div.sk-label label {font-family: monospace;font-weight: bold;display: inline-block;line-height: 1.2em;}#sk-container-id-1 div.sk-label-container {text-align: center;}#sk-container-id-1 div.sk-container {/* jupyter's `normalize.less` sets `[hidden] { display: none; }` but bootstrap.min.css set `[hidden] { display: none !important; }` so we also need the `!important` here to be able to override the default hidden behavior on the sphinx rendered scikit-learn.org. See: https://github.com/scikit-learn/scikit-learn/issues/21755 */display: inline-block !important;position: relative;}#sk-container-id-1 div.sk-text-repr-fallback {display: none;}</style><div id=\"sk-container-id-1\" class=\"sk-top-container\"><div class=\"sk-text-repr-fallback\"><pre>GaussianNB()</pre><b>In a Jupyter environment, please rerun this cell to show the HTML representation or trust the notebook. <br />On GitHub, the HTML representation is unable to render, please try loading this page with nbviewer.org.</b></div><div class=\"sk-container\" hidden><div class=\"sk-item\"><div class=\"sk-estimator sk-toggleable\"><input class=\"sk-toggleable__control sk-hidden--visually\" id=\"sk-estimator-id-1\" type=\"checkbox\" checked><label for=\"sk-estimator-id-1\" class=\"sk-toggleable__label sk-toggleable__label-arrow\">GaussianNB</label><div class=\"sk-toggleable__content\"><pre>GaussianNB()</pre></div></div></div></div></div>"
      ],
      "text/plain": [
       "GaussianNB()"
      ]
     },
     "execution_count": 5,
     "metadata": {},
     "output_type": "execute_result"
    }
   ],
   "source": [
    "# Create the feature matrix X and the target variable y\n",
    "X = list(zip(outlook_encoded, temperature_encoded, humidity_encoded, wind_encoded))\n",
    "print(\"Encoded and Paired List:\",X)\n",
    "y = play_encoded\n",
    "\n",
    "# Create an instance of the Gaussian Naive Bayes classifier\n",
    "classifier = GaussianNB()\n",
    "\n",
    "# Train the model\n",
    "classifier.fit(X, y)\n"
   ]
  },
  {
   "cell_type": "markdown",
   "id": "879a8114",
   "metadata": {
    "papermill": {
     "duration": 0.004419,
     "end_time": "2023-06-21T08:23:43.463775",
     "exception": false,
     "start_time": "2023-06-21T08:23:43.459356",
     "status": "completed"
    },
    "tags": []
   },
   "source": [
    "# Testing Model"
   ]
  },
  {
   "cell_type": "code",
   "execution_count": 6,
   "id": "0e91c7a7",
   "metadata": {
    "execution": {
     "iopub.execute_input": "2023-06-21T08:23:43.474820Z",
     "iopub.status.busy": "2023-06-21T08:23:43.474100Z",
     "iopub.status.idle": "2023-06-21T08:23:43.482339Z",
     "shell.execute_reply": "2023-06-21T08:23:43.481290Z"
    },
    "papermill": {
     "duration": 0.016596,
     "end_time": "2023-06-21T08:23:43.484964",
     "exception": false,
     "start_time": "2023-06-21T08:23:43.468368",
     "status": "completed"
    },
    "tags": []
   },
   "outputs": [
    {
     "name": "stdout",
     "output_type": "stream",
     "text": [
      "Predicted class: ['no']\n",
      "Predicted class: ['yes']\n"
     ]
    }
   ],
   "source": [
    "# Predict using the trained model\n",
    "new_data = [(2, 1, 0, 1)]  # Sample new data: [overcast, mild, high, strong]\n",
    "predicted_class = classifier.predict(new_data)\n",
    "predicted_class_label = le.inverse_transform(predicted_class)\n",
    "print(f\"Predicted class: {predicted_class_label}\")\n",
    "\n",
    "\n",
    "new_data = [(0,2,0,0)] # [sunny, cool, high, strong]\n",
    "predicted_class = classifier.predict(new_data)\n",
    "predicted_class_label = le.inverse_transform(predicted_class)\n",
    "print(f\"Predicted class: {predicted_class_label}\")"
   ]
  }
 ],
 "metadata": {
  "kernelspec": {
   "display_name": "Python 3",
   "language": "python",
   "name": "python3"
  },
  "language_info": {
   "codemirror_mode": {
    "name": "ipython",
    "version": 3
   },
   "file_extension": ".py",
   "mimetype": "text/x-python",
   "name": "python",
   "nbconvert_exporter": "python",
   "pygments_lexer": "ipython3",
   "version": "3.8.8"
  },
  "papermill": {
   "default_parameters": {},
   "duration": 13.77599,
   "end_time": "2023-06-21T08:23:44.410929",
   "environment_variables": {},
   "exception": null,
   "input_path": "__notebook__.ipynb",
   "output_path": "__notebook__.ipynb",
   "parameters": {},
   "start_time": "2023-06-21T08:23:30.634939",
   "version": "2.4.0"
  }
 },
 "nbformat": 4,
 "nbformat_minor": 5
}
