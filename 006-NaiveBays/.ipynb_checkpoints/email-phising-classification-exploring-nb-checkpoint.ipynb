{
 "cells": [
  {
   "cell_type": "code",
   "execution_count": 2,
   "metadata": {
    "_cell_guid": "b1076dfc-b9ad-4769-8c92-a6c4dae69d19",
    "_uuid": "8f2839f25d086af736a60e9eeb907d3b93b6e0e5",
    "execution": {
     "iopub.execute_input": "2023-07-19T18:23:31.616620Z",
     "iopub.status.busy": "2023-07-19T18:23:31.616191Z",
     "iopub.status.idle": "2023-07-19T18:23:32.954201Z",
     "shell.execute_reply": "2023-07-19T18:23:32.953312Z",
     "shell.execute_reply.started": "2023-07-19T18:23:31.616585Z"
    }
   },
   "outputs": [
    {
     "name": "stderr",
     "output_type": "stream",
     "text": [
      "/opt/conda/lib/python3.10/site-packages/scipy/__init__.py:146: UserWarning: A NumPy version >=1.16.5 and <1.23.0 is required for this version of SciPy (detected version 1.23.5\n",
      "  warnings.warn(f\"A NumPy version >={np_minversion} and <{np_maxversion}\"\n"
     ]
    },
    {
     "name": "stdout",
     "output_type": "stream",
     "text": [
      "[nltk_data] Downloading package stopwords to /usr/share/nltk_data...\n",
      "[nltk_data]   Package stopwords is already up-to-date!\n"
     ]
    }
   ],
   "source": [
    "import pandas as pd\n",
    "import numpy as np\n",
    "from sklearn.feature_extraction.text import CountVectorizer\n",
    "import nltk\n",
    "import re\n",
    "from nltk.corpus import stopwords\n",
    "nltk.download('stopwords')\n",
    "stop_words = set(stopwords.words('english'))\n",
    "from nltk.stem.porter import PorterStemmer"
   ]
  },
  {
   "cell_type": "code",
   "execution_count": 7,
   "metadata": {
    "execution": {
     "iopub.execute_input": "2023-07-19T18:24:33.994834Z",
     "iopub.status.busy": "2023-07-19T18:24:33.994456Z",
     "iopub.status.idle": "2023-07-19T18:24:34.638155Z",
     "shell.execute_reply": "2023-07-19T18:24:34.637125Z",
     "shell.execute_reply.started": "2023-07-19T18:24:33.994805Z"
    }
   },
   "outputs": [],
   "source": [
    "data = pd.read_csv('/kaggle/input/phishingemails/Phishing_Email.csv',index_col=[0])"
   ]
  },
  {
   "cell_type": "code",
   "execution_count": 15,
   "metadata": {
    "execution": {
     "iopub.execute_input": "2023-07-19T18:28:53.567215Z",
     "iopub.status.busy": "2023-07-19T18:28:53.566800Z",
     "iopub.status.idle": "2023-07-19T18:28:53.574619Z",
     "shell.execute_reply": "2023-07-19T18:28:53.573561Z",
     "shell.execute_reply.started": "2023-07-19T18:28:53.567182Z"
    }
   },
   "outputs": [
    {
     "data": {
      "text/plain": [
       "(18650, 2)"
      ]
     },
     "execution_count": 15,
     "metadata": {},
     "output_type": "execute_result"
    }
   ],
   "source": [
    "data.shape"
   ]
  },
  {
   "cell_type": "code",
   "execution_count": 8,
   "metadata": {
    "execution": {
     "iopub.execute_input": "2023-07-19T18:24:34.639929Z",
     "iopub.status.busy": "2023-07-19T18:24:34.639601Z",
     "iopub.status.idle": "2023-07-19T18:24:34.651285Z",
     "shell.execute_reply": "2023-07-19T18:24:34.650093Z",
     "shell.execute_reply.started": "2023-07-19T18:24:34.639903Z"
    }
   },
   "outputs": [
    {
     "data": {
      "text/html": [
       "<div>\n",
       "<style scoped>\n",
       "    .dataframe tbody tr th:only-of-type {\n",
       "        vertical-align: middle;\n",
       "    }\n",
       "\n",
       "    .dataframe tbody tr th {\n",
       "        vertical-align: top;\n",
       "    }\n",
       "\n",
       "    .dataframe thead th {\n",
       "        text-align: right;\n",
       "    }\n",
       "</style>\n",
       "<table border=\"1\" class=\"dataframe\">\n",
       "  <thead>\n",
       "    <tr style=\"text-align: right;\">\n",
       "      <th></th>\n",
       "      <th>Email Text</th>\n",
       "      <th>Email Type</th>\n",
       "    </tr>\n",
       "  </thead>\n",
       "  <tbody>\n",
       "    <tr>\n",
       "      <th>0</th>\n",
       "      <td>re : 6 . 1100 , disc : uniformitarianism , re ...</td>\n",
       "      <td>Safe Email</td>\n",
       "    </tr>\n",
       "    <tr>\n",
       "      <th>1</th>\n",
       "      <td>the other side of * galicismos * * galicismo *...</td>\n",
       "      <td>Safe Email</td>\n",
       "    </tr>\n",
       "    <tr>\n",
       "      <th>2</th>\n",
       "      <td>re : equistar deal tickets are you still avail...</td>\n",
       "      <td>Safe Email</td>\n",
       "    </tr>\n",
       "    <tr>\n",
       "      <th>3</th>\n",
       "      <td>\\nHello I am your hot lil horny toy.\\n    I am...</td>\n",
       "      <td>Phishing Email</td>\n",
       "    </tr>\n",
       "    <tr>\n",
       "      <th>4</th>\n",
       "      <td>software at incredibly low prices ( 86 % lower...</td>\n",
       "      <td>Phishing Email</td>\n",
       "    </tr>\n",
       "  </tbody>\n",
       "</table>\n",
       "</div>"
      ],
      "text/plain": [
       "                                          Email Text      Email Type\n",
       "0  re : 6 . 1100 , disc : uniformitarianism , re ...      Safe Email\n",
       "1  the other side of * galicismos * * galicismo *...      Safe Email\n",
       "2  re : equistar deal tickets are you still avail...      Safe Email\n",
       "3  \\nHello I am your hot lil horny toy.\\n    I am...  Phishing Email\n",
       "4  software at incredibly low prices ( 86 % lower...  Phishing Email"
      ]
     },
     "execution_count": 8,
     "metadata": {},
     "output_type": "execute_result"
    }
   ],
   "source": [
    "data.head()"
   ]
  },
  {
   "cell_type": "code",
   "execution_count": 9,
   "metadata": {
    "execution": {
     "iopub.execute_input": "2023-07-19T18:25:09.363376Z",
     "iopub.status.busy": "2023-07-19T18:25:09.362914Z",
     "iopub.status.idle": "2023-07-19T18:25:09.389278Z",
     "shell.execute_reply": "2023-07-19T18:25:09.388218Z",
     "shell.execute_reply.started": "2023-07-19T18:25:09.363338Z"
    }
   },
   "outputs": [
    {
     "data": {
      "text/plain": [
       "Email Text    16\n",
       "Email Type     0\n",
       "dtype: int64"
      ]
     },
     "execution_count": 9,
     "metadata": {},
     "output_type": "execute_result"
    }
   ],
   "source": [
    "data.isnull().sum()"
   ]
  },
  {
   "cell_type": "code",
   "execution_count": 10,
   "metadata": {
    "execution": {
     "iopub.execute_input": "2023-07-19T18:25:33.169071Z",
     "iopub.status.busy": "2023-07-19T18:25:33.168130Z",
     "iopub.status.idle": "2023-07-19T18:25:33.179994Z",
     "shell.execute_reply": "2023-07-19T18:25:33.178777Z",
     "shell.execute_reply.started": "2023-07-19T18:25:33.169014Z"
    }
   },
   "outputs": [
    {
     "data": {
      "text/plain": [
       "array(['Safe Email', 'Phishing Email'], dtype=object)"
      ]
     },
     "execution_count": 10,
     "metadata": {},
     "output_type": "execute_result"
    }
   ],
   "source": [
    "data['Email Type'].unique()"
   ]
  },
  {
   "cell_type": "code",
   "execution_count": 14,
   "metadata": {
    "execution": {
     "iopub.execute_input": "2023-07-19T18:28:04.967275Z",
     "iopub.status.busy": "2023-07-19T18:28:04.966494Z",
     "iopub.status.idle": "2023-07-19T18:28:05.186600Z",
     "shell.execute_reply": "2023-07-19T18:28:05.185275Z",
     "shell.execute_reply.started": "2023-07-19T18:28:04.967217Z"
    }
   },
   "outputs": [
    {
     "data": {
      "text/plain": [
       "<Axes: >"
      ]
     },
     "execution_count": 14,
     "metadata": {},
     "output_type": "execute_result"
    },
    {
     "data": {
      "image/png": "[encoded data removed]",
      "text/plain": [
       "<Figure size 640x480 with 1 Axes>"
      ]
     },
     "metadata": {},
     "output_type": "display_data"
    }
   ],
   "source": [
    "data['Email Type'].value_counts().plot(kind='bar',legend=True)"
   ]
  },
  {
   "cell_type": "code",
   "execution_count": 18,
   "metadata": {
    "execution": {
     "iopub.execute_input": "2023-07-19T18:31:34.167016Z",
     "iopub.status.busy": "2023-07-19T18:31:34.165823Z",
     "iopub.status.idle": "2023-07-19T18:34:50.533628Z",
     "shell.execute_reply": "2023-07-19T18:34:50.532094Z",
     "shell.execute_reply.started": "2023-07-19T18:31:34.166951Z"
    }
   },
   "outputs": [],
   "source": [
    "corpus = []\n",
    "for text in data['Email Text']:\n",
    "    email = re.sub('[^a-zA-Z]', ' ', str(text))\n",
    "    email = email.lower()\n",
    "    email = email.split()\n",
    "    stemmer = PorterStemmer() #stemming\n",
    "    email = [stemmer.stem(word) for word in email if word not in set(stop_words)]\n",
    "    email = ' '.join(email)\n",
    "    corpus.append(email)"
   ]
  },
  {
   "cell_type": "code",
   "execution_count": 20,
   "metadata": {
    "execution": {
     "iopub.execute_input": "2023-07-19T18:38:28.824956Z",
     "iopub.status.busy": "2023-07-19T18:38:28.823441Z",
     "iopub.status.idle": "2023-07-19T18:38:36.327316Z",
     "shell.execute_reply": "2023-07-19T18:38:36.326063Z",
     "shell.execute_reply.started": "2023-07-19T18:38:28.824901Z"
    }
   },
   "outputs": [],
   "source": [
    "cv = CountVectorizer(max_features = 10000)\n",
    "X = cv.fit_transform(corpus).toarray()\n",
    "y = data.iloc[:, -1].values"
   ]
  },
  {
   "cell_type": "code",
   "execution_count": 21,
   "metadata": {
    "execution": {
     "iopub.execute_input": "2023-07-19T18:39:13.305937Z",
     "iopub.status.busy": "2023-07-19T18:39:13.305363Z",
     "iopub.status.idle": "2023-07-19T18:39:14.258156Z",
     "shell.execute_reply": "2023-07-19T18:39:14.256759Z",
     "shell.execute_reply.started": "2023-07-19T18:39:13.305896Z"
    }
   },
   "outputs": [],
   "source": [
    "# Train and test data split\n",
    "from sklearn.model_selection import train_test_split\n",
    "X_train, X_test, y_train, y_test = train_test_split(X, y, test_size = 0.20, random_state = 5)"
   ]
  },
  {
   "cell_type": "code",
   "execution_count": 23,
   "metadata": {
    "execution": {
     "iopub.execute_input": "2023-07-19T18:59:11.208797Z",
     "iopub.status.busy": "2023-07-19T18:59:11.208194Z",
     "iopub.status.idle": "2023-07-19T18:59:11.216251Z",
     "shell.execute_reply": "2023-07-19T18:59:11.214856Z",
     "shell.execute_reply.started": "2023-07-19T18:59:11.208744Z"
    }
   },
   "outputs": [],
   "source": [
    "from sklearn.naive_bayes import GaussianNB, MultinomialNB, ComplementNB, BernoulliNB, CategoricalNB\n",
    "from sklearn.metrics import confusion_matrix, accuracy_score"
   ]
  },
  {
   "cell_type": "code",
   "execution_count": 26,
   "metadata": {
    "execution": {
     "iopub.execute_input": "2023-07-19T19:02:17.966019Z",
     "iopub.status.busy": "2023-07-19T19:02:17.965564Z",
     "iopub.status.idle": "2023-07-19T19:02:31.338803Z",
     "shell.execute_reply": "2023-07-19T19:02:31.337518Z",
     "shell.execute_reply.started": "2023-07-19T19:02:17.965987Z"
    }
   },
   "outputs": [
    {
     "name": "stdout",
     "output_type": "stream",
     "text": [
      "--------------------\n",
      "Using : gaussian\n",
      "Confusion matrix for : gaussian\n",
      "[[1391  105]\n",
      " [ 403 1831]]\n",
      "Accuracy score for : gaussian\n",
      "0.8638069705093834\n",
      "--------------------\n",
      "--------------------\n",
      "Using : multinomial\n",
      "Confusion matrix for : multinomial\n",
      "[[1406   90]\n",
      " [  90 2144]]\n",
      "Accuracy score for : multinomial\n",
      "0.9517426273458445\n",
      "--------------------\n",
      "--------------------\n",
      "Using : compliment\n",
      "Confusion matrix for : compliment\n",
      "[[1416   80]\n",
      " [  99 2135]]\n",
      "Accuracy score for : compliment\n",
      "0.9520107238605898\n",
      "--------------------\n",
      "--------------------\n",
      "Using : bernaulli\n",
      "Confusion matrix for : bernaulli\n",
      "[[1450   46]\n",
      " [ 358 1876]]\n",
      "Accuracy score for : bernaulli\n",
      "0.8916890080428954\n",
      "--------------------\n"
     ]
    }
   ],
   "source": [
    "init_models = {\n",
    "    'gaussian':GaussianNB(),\n",
    "    'multinomial':MultinomialNB(force_alpha=True),\n",
    "    'compliment':ComplementNB(force_alpha=True),\n",
    "    'bernaulli':BernoulliNB(force_alpha=True)\n",
    "}\n",
    "\n",
    "for key in init_models.keys():\n",
    "    print('-'*20)\n",
    "    print(f'Using : {key}')\n",
    "    clf = init_models.get(key)\n",
    "    clf.fit(X_train, y_train)\n",
    "    y_pred = clf.predict(X_test)\n",
    "    cm = confusion_matrix(y_test, y_pred)\n",
    "    print(f\"Confusion matrix for : {key}\\n{cm}\")\n",
    "    print(f\"Accuracy score for : {key}\\n{accuracy_score(y_test, y_pred)}\")\n",
    "    print('-'*20)"
   ]
  },
  {
   "cell_type": "code",
   "execution_count": 30,
   "metadata": {
    "execution": {
     "iopub.execute_input": "2023-07-19T19:21:08.656175Z",
     "iopub.status.busy": "2023-07-19T19:21:08.655694Z",
     "iopub.status.idle": "2023-07-19T19:42:25.630200Z",
     "shell.execute_reply": "2023-07-19T19:42:25.629237Z",
     "shell.execute_reply.started": "2023-07-19T19:21:08.656140Z"
    }
   },
   "outputs": [
    {
     "name": "stdout",
     "output_type": "stream",
     "text": [
      "Best hyperparameters:  {'alpha': 0.1, 'fit_prior': True, 'force_alpha': True}\n",
      "Best mean cross-validated score:  0.9460589812332438\n"
     ]
    }
   ],
   "source": [
    "# ComplimentNB seems to perform the best hence going with that model,\n",
    "\n",
    "from sklearn.model_selection import GridSearchCV\n",
    "param_grid = {\n",
    "    'alpha': [0.1,0.2,0.3,0.4,0.5,0.6,0.7,0.8,0.9,1.0],         # Laplace smoothing parameter\n",
    "    'fit_prior': [True, False],       # Whether to learn class prior probabilities or not\n",
    "    'force_alpha':[True,False]\n",
    "}\n",
    "\n",
    "model = ComplementNB()\n",
    "\n",
    "grid_search = GridSearchCV(estimator=model, param_grid=param_grid, cv=10, scoring='accuracy')\n",
    "grid_search.fit(X_train, y_train)\n",
    "\n",
    "print(\"Best hyperparameters: \", grid_search.best_params_)\n",
    "print(\"Best mean cross-validated score: \", grid_search.best_score_)\n",
    "\n",
    "params = grid_search.best_params_"
   ]
  },
  {
   "cell_type": "code",
   "execution_count": 36,
   "metadata": {
    "execution": {
     "iopub.execute_input": "2023-07-19T19:46:44.854745Z",
     "iopub.status.busy": "2023-07-19T19:46:44.853815Z",
     "iopub.status.idle": "2023-07-19T19:46:46.732435Z",
     "shell.execute_reply": "2023-07-19T19:46:46.731291Z",
     "shell.execute_reply.started": "2023-07-19T19:46:44.854703Z"
    }
   },
   "outputs": [
    {
     "data": {
      "text/html": [
       "<style>#sk-container-id-1 {color: black;background-color: white;}#sk-container-id-1 pre{padding: 0;}#sk-container-id-1 div.sk-toggleable {background-color: white;}#sk-container-id-1 label.sk-toggleable__label {cursor: pointer;display: block;width: 100%;margin-bottom: 0;padding: 0.3em;box-sizing: border-box;text-align: center;}#sk-container-id-1 label.sk-toggleable__label-arrow:before {content: \"▸\";float: left;margin-right: 0.25em;color: #696969;}#sk-container-id-1 label.sk-toggleable__label-arrow:hover:before {color: black;}#sk-container-id-1 div.sk-estimator:hover label.sk-toggleable__label-arrow:before {color: black;}#sk-container-id-1 div.sk-toggleable__content {max-height: 0;max-width: 0;overflow: hidden;text-align: left;background-color: #f0f8ff;}#sk-container-id-1 div.sk-toggleable__content pre {margin: 0.2em;color: black;border-radius: 0.25em;background-color: #f0f8ff;}#sk-container-id-1 input.sk-toggleable__control:checked~div.sk-toggleable__content {max-height: 200px;max-width: 100%;overflow: auto;}#sk-container-id-1 input.sk-toggleable__control:checked~label.sk-toggleable__label-arrow:before {content: \"▾\";}#sk-container-id-1 div.sk-estimator input.sk-toggleable__control:checked~label.sk-toggleable__label {background-color: #d4ebff;}#sk-container-id-1 div.sk-label input.sk-toggleable__control:checked~label.sk-toggleable__label {background-color: #d4ebff;}#sk-container-id-1 input.sk-hidden--visually {border: 0;clip: rect(1px 1px 1px 1px);clip: rect(1px, 1px, 1px, 1px);height: 1px;margin: -1px;overflow: hidden;padding: 0;position: absolute;width: 1px;}#sk-container-id-1 div.sk-estimator {font-family: monospace;background-color: #f0f8ff;border: 1px dotted black;border-radius: 0.25em;box-sizing: border-box;margin-bottom: 0.5em;}#sk-container-id-1 div.sk-estimator:hover {background-color: #d4ebff;}#sk-container-id-1 div.sk-parallel-item::after {content: \"\";width: 100%;border-bottom: 1px solid gray;flex-grow: 1;}#sk-container-id-1 div.sk-label:hover label.sk-toggleable__label {background-color: #d4ebff;}#sk-container-id-1 div.sk-serial::before {content: \"\";position: absolute;border-left: 1px solid gray;box-sizing: border-box;top: 0;bottom: 0;left: 50%;z-index: 0;}#sk-container-id-1 div.sk-serial {display: flex;flex-direction: column;align-items: center;background-color: white;padding-right: 0.2em;padding-left: 0.2em;position: relative;}#sk-container-id-1 div.sk-item {position: relative;z-index: 1;}#sk-container-id-1 div.sk-parallel {display: flex;align-items: stretch;justify-content: center;background-color: white;position: relative;}#sk-container-id-1 div.sk-item::before, #sk-container-id-1 div.sk-parallel-item::before {content: \"\";position: absolute;border-left: 1px solid gray;box-sizing: border-box;top: 0;bottom: 0;left: 50%;z-index: -1;}#sk-container-id-1 div.sk-parallel-item {display: flex;flex-direction: column;z-index: 1;position: relative;background-color: white;}#sk-container-id-1 div.sk-parallel-item:first-child::after {align-self: flex-end;width: 50%;}#sk-container-id-1 div.sk-parallel-item:last-child::after {align-self: flex-start;width: 50%;}#sk-container-id-1 div.sk-parallel-item:only-child::after {width: 0;}#sk-container-id-1 div.sk-dashed-wrapped {border: 1px dashed gray;margin: 0 0.4em 0.5em 0.4em;box-sizing: border-box;padding-bottom: 0.4em;background-color: white;}#sk-container-id-1 div.sk-label label {font-family: monospace;font-weight: bold;display: inline-block;line-height: 1.2em;}#sk-container-id-1 div.sk-label-container {text-align: center;}#sk-container-id-1 div.sk-container {/* jupyter's `normalize.less` sets `[hidden] { display: none; }` but bootstrap.min.css set `[hidden] { display: none !important; }` so we also need the `!important` here to be able to override the default hidden behavior on the sphinx rendered scikit-learn.org. See: https://github.com/scikit-learn/scikit-learn/issues/21755 */display: inline-block !important;position: relative;}#sk-container-id-1 div.sk-text-repr-fallback {display: none;}</style><div id=\"sk-container-id-1\" class=\"sk-top-container\"><div class=\"sk-text-repr-fallback\"><pre>ComplementNB(alpha=0.1, force_alpha=True)</pre><b>In a Jupyter environment, please rerun this cell to show the HTML representation or trust the notebook. <br />On GitHub, the HTML representation is unable to render, please try loading this page with nbviewer.org.</b></div><div class=\"sk-container\" hidden><div class=\"sk-item\"><div class=\"sk-estimator sk-toggleable\"><input class=\"sk-toggleable__control sk-hidden--visually\" id=\"sk-estimator-id-1\" type=\"checkbox\" checked><label for=\"sk-estimator-id-1\" class=\"sk-toggleable__label sk-toggleable__label-arrow\">ComplementNB</label><div class=\"sk-toggleable__content\"><pre>ComplementNB(alpha=0.1, force_alpha=True)</pre></div></div></div></div></div>"
      ],
      "text/plain": [
       "ComplementNB(alpha=0.1, force_alpha=True)"
      ]
     },
     "execution_count": 36,
     "metadata": {},
     "output_type": "execute_result"
    }
   ],
   "source": [
    "final_model = ComplementNB(\n",
    "    alpha = 0.1,\n",
    "    fit_prior = True,\n",
    "    force_alpha = True\n",
    ")\n",
    "\n",
    "final_model.fit(X_train, y_train)"
   ]
  },
  {
   "cell_type": "markdown",
   "metadata": {},
   "source": [
    "Hope this notebook helped you, thank you for reading.\n",
    "Please up-vote if this helped."
   ]
  },
  {
   "cell_type": "code",
   "execution_count": null,
   "metadata": {},
   "outputs": [],
   "source": []
  }
 ],
 "metadata": {
  "kernelspec": {
   "display_name": "Python 3",
   "language": "python",
   "name": "python3"
  },
  "language_info": {
   "codemirror_mode": {
    "name": "ipython",
    "version": 3
   },
   "file_extension": ".py",
   "mimetype": "text/x-python",
   "name": "python",
   "nbconvert_exporter": "python",
   "pygments_lexer": "ipython3",
   "version": "3.8.8"
  }
 },
 "nbformat": 4,
 "nbformat_minor": 4
}
