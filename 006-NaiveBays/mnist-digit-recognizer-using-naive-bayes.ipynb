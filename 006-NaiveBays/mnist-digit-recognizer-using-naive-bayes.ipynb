{
 "cells": [
  {
   "cell_type": "code",
   "execution_count": 1,
   "id": "90d38392",
   "metadata": {
    "_cell_guid": "b1076dfc-b9ad-4769-8c92-a6c4dae69d19",
    "_uuid": "8f2839f25d086af736a60e9eeb907d3b93b6e0e5",
    "execution": {
     "iopub.execute_input": "2023-07-22T12:35:34.793522Z",
     "iopub.status.busy": "2023-07-22T12:35:34.792929Z",
     "iopub.status.idle": "2023-07-22T12:35:34.808604Z",
     "shell.execute_reply": "2023-07-22T12:35:34.807084Z"
    },
    "papermill": {
     "duration": 0.023182,
     "end_time": "2023-07-22T12:35:34.811450",
     "exception": false,
     "start_time": "2023-07-22T12:35:34.788268",
     "status": "completed"
    },
    "tags": []
   },
   "outputs": [
    {
     "name": "stdout",
     "output_type": "stream",
     "text": [
      "/kaggle/input/digit-recognizer/sample_submission.csv\n",
      "/kaggle/input/digit-recognizer/train.csv\n",
      "/kaggle/input/digit-recognizer/test.csv\n"
     ]
    }
   ],
   "source": [
    "# Query file path\n",
    "# 查询文件路径\n",
    "import os\n",
    "for dirname, _, filenames in os.walk('/kaggle/input'):\n",
    "    for filename in filenames:\n",
    "        print(os.path.join(dirname, filename))"
   ]
  },
  {
   "cell_type": "code",
   "execution_count": 2,
   "id": "5ddc136c",
   "metadata": {
    "execution": {
     "iopub.execute_input": "2023-07-22T12:35:34.818302Z",
     "iopub.status.busy": "2023-07-22T12:35:34.817862Z",
     "iopub.status.idle": "2023-07-22T12:35:36.488402Z",
     "shell.execute_reply": "2023-07-22T12:35:36.486810Z"
    },
    "papermill": {
     "duration": 1.677129,
     "end_time": "2023-07-22T12:35:36.491254",
     "exception": false,
     "start_time": "2023-07-22T12:35:34.814125",
     "status": "completed"
    },
    "tags": []
   },
   "outputs": [
    {
     "name": "stderr",
     "output_type": "stream",
     "text": [
      "/opt/conda/lib/python3.10/site-packages/scipy/__init__.py:146: UserWarning: A NumPy version >=1.16.5 and <1.23.0 is required for this version of SciPy (detected version 1.23.5\n",
      "  warnings.warn(f\"A NumPy version >={np_minversion} and <{np_maxversion}\"\n"
     ]
    }
   ],
   "source": [
    "# Import the library\n",
    "# 导入函数库\n",
    "import time\n",
    "import numpy as np\n",
    "import pandas as pd\n",
    "import matplotlib.pyplot as plt\n",
    "from sklearn.decomposition import PCA\n",
    "from sklearn.naive_bayes import GaussianNB\n",
    "from sklearn.metrics import accuracy_score, classification_report, ConfusionMatrixDisplay\n",
    "from sklearn.model_selection import train_test_split\n",
    "\n",
    "\n",
    "# Set the random seed\n",
    "# 设置随机种子\n",
    "seed = int(time.time())\n",
    "\n",
    "# Set path\n",
    "# 设置路径\n",
    "train_path = \"/kaggle/input/digit-recognizer/train.csv\"\n",
    "test_path = \"/kaggle/input/digit-recognizer/test.csv\"\n",
    "output_root = \"/kaggle/working/\""
   ]
  },
  {
   "cell_type": "code",
   "execution_count": 3,
   "id": "3db0c883",
   "metadata": {
    "execution": {
     "iopub.execute_input": "2023-07-22T12:35:36.498051Z",
     "iopub.status.busy": "2023-07-22T12:35:36.497580Z",
     "iopub.status.idle": "2023-07-22T12:35:42.161702Z",
     "shell.execute_reply": "2023-07-22T12:35:42.159907Z"
    },
    "papermill": {
     "duration": 5.670798,
     "end_time": "2023-07-22T12:35:42.164589",
     "exception": false,
     "start_time": "2023-07-22T12:35:36.493791",
     "status": "completed"
    },
    "tags": []
   },
   "outputs": [
    {
     "name": "stdout",
     "output_type": "stream",
     "text": [
      "<class 'pandas.core.frame.DataFrame'>\n",
      "RangeIndex: 42000 entries, 0 to 41999\n",
      "Columns: 785 entries, label to pixel783\n",
      "dtypes: int64(785)\n",
      "memory usage: 251.5 MB\n"
     ]
    }
   ],
   "source": [
    "# Read data\n",
    "# 读取数据\n",
    "train_df = pd.read_csv(train_path)\n",
    "test_df = pd.read_csv(test_path)\n",
    "\n",
    "train_df.info()"
   ]
  },
  {
   "cell_type": "code",
   "execution_count": 4,
   "id": "cd9d131b",
   "metadata": {
    "execution": {
     "iopub.execute_input": "2023-07-22T12:35:42.174828Z",
     "iopub.status.busy": "2023-07-22T12:35:42.173592Z",
     "iopub.status.idle": "2023-07-22T12:35:48.020676Z",
     "shell.execute_reply": "2023-07-22T12:35:48.019683Z"
    },
    "papermill": {
     "duration": 5.854998,
     "end_time": "2023-07-22T12:35:48.023394",
     "exception": false,
     "start_time": "2023-07-22T12:35:42.168396",
     "status": "completed"
    },
    "tags": []
   },
   "outputs": [
    {
     "name": "stdout",
     "output_type": "stream",
     "text": [
      "Accuracy Score: 0.8692857142857143\n",
      "Classification Report: \n",
      "              precision    recall  f1-score   support\n",
      "\n",
      "           0       0.96      0.93      0.95       798\n",
      "           1       0.99      0.93      0.96       966\n",
      "           2       0.74      0.85      0.79       799\n",
      "           3       0.84      0.84      0.84       847\n",
      "           4       0.87      0.84      0.85       826\n",
      "           5       0.79      0.84      0.81       780\n",
      "           6       0.93      0.90      0.92       824\n",
      "           7       0.93      0.84      0.88       884\n",
      "           8       0.84      0.87      0.86       801\n",
      "           9       0.82      0.84      0.83       875\n",
      "\n",
      "    accuracy                           0.87      8400\n",
      "   macro avg       0.87      0.87      0.87      8400\n",
      "weighted avg       0.87      0.87      0.87      8400\n",
      "\n"
     ]
    },
    {
     "data": {
      "image/png": "[encoded data removed]",
      "text/plain": [
       "<Figure size 640x480 with 2 Axes>"
      ]
     },
     "metadata": {},
     "output_type": "display_data"
    }
   ],
   "source": [
    "X = train_df.drop(\"label\", axis=1).values\n",
    "y = train_df[\"label\"].values\n",
    "\n",
    "X_train, X_val, y_train, y_val = train_test_split(X, y, test_size=0.2, random_state=seed)\n",
    "\n",
    "# PCA dimension reduction\n",
    "# PCA 降维\n",
    "pca = PCA(n_components=100, random_state=seed)\n",
    "pca.fit(X_train)\n",
    "X_train = pca.transform(X_train)\n",
    "X_val = pca.transform(X_val)\n",
    "\n",
    "# Build a model\n",
    "# 建立模型\n",
    "clf = GaussianNB()\n",
    "clf.fit(X_train, y_train)\n",
    "\n",
    "# Test classification effect\n",
    "# 检验分类效果\n",
    "y_val_pred = clf.predict(X_val)\n",
    "acc = accuracy_score(y_val, y_val_pred)\n",
    "cr = classification_report(y_val, y_val_pred)\n",
    "\n",
    "print(f\"Accuracy Score: {acc}\")\n",
    "print(f\"Classification Report: \\n{cr}\")\n",
    "\n",
    "ConfusionMatrixDisplay.from_predictions(y_val, y_val_pred, cmap=\"Blues\")\n",
    "plt.title(\"Naive Bayes Confusion Matrix\")\n",
    "plt.show()"
   ]
  },
  {
   "cell_type": "code",
   "execution_count": 5,
   "id": "02fa5090",
   "metadata": {
    "execution": {
     "iopub.execute_input": "2023-07-22T12:35:48.033179Z",
     "iopub.status.busy": "2023-07-22T12:35:48.032732Z",
     "iopub.status.idle": "2023-07-22T12:35:48.587532Z",
     "shell.execute_reply": "2023-07-22T12:35:48.586366Z"
    },
    "papermill": {
     "duration": 0.56262,
     "end_time": "2023-07-22T12:35:48.589775",
     "exception": false,
     "start_time": "2023-07-22T12:35:48.027155",
     "status": "completed"
    },
    "tags": []
   },
   "outputs": [
    {
     "data": {
      "text/html": [
       "<div>\n",
       "<style scoped>\n",
       "    .dataframe tbody tr th:only-of-type {\n",
       "        vertical-align: middle;\n",
       "    }\n",
       "\n",
       "    .dataframe tbody tr th {\n",
       "        vertical-align: top;\n",
       "    }\n",
       "\n",
       "    .dataframe thead th {\n",
       "        text-align: right;\n",
       "    }\n",
       "</style>\n",
       "<table border=\"1\" class=\"dataframe\">\n",
       "  <thead>\n",
       "    <tr style=\"text-align: right;\">\n",
       "      <th></th>\n",
       "      <th>ImageId</th>\n",
       "      <th>Label</th>\n",
       "    </tr>\n",
       "  </thead>\n",
       "  <tbody>\n",
       "    <tr>\n",
       "      <th>0</th>\n",
       "      <td>1</td>\n",
       "      <td>2</td>\n",
       "    </tr>\n",
       "    <tr>\n",
       "      <th>1</th>\n",
       "      <td>2</td>\n",
       "      <td>0</td>\n",
       "    </tr>\n",
       "    <tr>\n",
       "      <th>2</th>\n",
       "      <td>3</td>\n",
       "      <td>9</td>\n",
       "    </tr>\n",
       "    <tr>\n",
       "      <th>3</th>\n",
       "      <td>4</td>\n",
       "      <td>9</td>\n",
       "    </tr>\n",
       "    <tr>\n",
       "      <th>4</th>\n",
       "      <td>5</td>\n",
       "      <td>3</td>\n",
       "    </tr>\n",
       "    <tr>\n",
       "      <th>5</th>\n",
       "      <td>6</td>\n",
       "      <td>7</td>\n",
       "    </tr>\n",
       "    <tr>\n",
       "      <th>6</th>\n",
       "      <td>7</td>\n",
       "      <td>0</td>\n",
       "    </tr>\n",
       "    <tr>\n",
       "      <th>7</th>\n",
       "      <td>8</td>\n",
       "      <td>3</td>\n",
       "    </tr>\n",
       "    <tr>\n",
       "      <th>8</th>\n",
       "      <td>9</td>\n",
       "      <td>0</td>\n",
       "    </tr>\n",
       "    <tr>\n",
       "      <th>9</th>\n",
       "      <td>10</td>\n",
       "      <td>3</td>\n",
       "    </tr>\n",
       "  </tbody>\n",
       "</table>\n",
       "</div>"
      ],
      "text/plain": [
       "   ImageId  Label\n",
       "0        1      2\n",
       "1        2      0\n",
       "2        3      9\n",
       "3        4      9\n",
       "4        5      3\n",
       "5        6      7\n",
       "6        7      0\n",
       "7        8      3\n",
       "8        9      0\n",
       "9       10      3"
      ]
     },
     "execution_count": 5,
     "metadata": {},
     "output_type": "execute_result"
    }
   ],
   "source": [
    "# Predict the outcome\n",
    "# 预测结果 \n",
    "X_test = pca.transform(test_df.values)\n",
    "pred_df = pd.DataFrame({\"ImageId\": test_df.index + 1, \"Label\": clf.predict(X_test)})\n",
    "pred_df.to_csv(f\"{output_root}submission_{seed}.csv\", index=False)\n",
    "pred_df.head(10)"
   ]
  }
 ],
 "metadata": {
  "kernelspec": {
   "display_name": "Python 3",
   "language": "python",
   "name": "python3"
  },
  "language_info": {
   "codemirror_mode": {
    "name": "ipython",
    "version": 3
   },
   "file_extension": ".py",
   "mimetype": "text/x-python",
   "name": "python",
   "nbconvert_exporter": "python",
   "pygments_lexer": "ipython3",
   "version": "3.8.8"
  },
  "papermill": {
   "default_parameters": {},
   "duration": 25.483829,
   "end_time": "2023-07-22T12:35:49.919752",
   "environment_variables": {},
   "exception": null,
   "input_path": "__notebook__.ipynb",
   "output_path": "__notebook__.ipynb",
   "parameters": {},
   "start_time": "2023-07-22T12:35:24.435923",
   "version": "2.4.0"
  }
 },
 "nbformat": 4,
 "nbformat_minor": 5
}
