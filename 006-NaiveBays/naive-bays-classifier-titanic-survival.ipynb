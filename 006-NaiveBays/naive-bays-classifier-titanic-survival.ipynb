{
 "cells": [
  {
   "cell_type": "code",
   "execution_count": 1,
   "id": "158957f3",
   "metadata": {
    "_cell_guid": "b1076dfc-b9ad-4769-8c92-a6c4dae69d19",
    "_uuid": "8f2839f25d086af736a60e9eeb907d3b93b6e0e5",
    "execution": {
     "iopub.execute_input": "2022-01-26T05:07:58.995422Z",
     "iopub.status.busy": "2022-01-26T05:07:58.994249Z",
     "iopub.status.idle": "2022-01-26T05:07:59.008330Z",
     "shell.execute_reply": "2022-01-26T05:07:59.008857Z",
     "shell.execute_reply.started": "2022-01-25T06:32:55.593218Z"
    },
    "papermill": {
     "duration": 0.048743,
     "end_time": "2022-01-26T05:07:59.009160",
     "exception": false,
     "start_time": "2022-01-26T05:07:58.960417",
     "status": "completed"
    },
    "tags": []
   },
   "outputs": [
    {
     "name": "stdout",
     "output_type": "stream",
     "text": [
      "/kaggle/input/titanic/train.csv\n",
      "/kaggle/input/titanic/test.csv\n",
      "/kaggle/input/titanic/gender_submission.csv\n"
     ]
    }
   ],
   "source": [
    "# This Python 3 environment comes with many helpful analytics libraries installed\n",
    "# It is defined by the kaggle/python Docker image: https://github.com/kaggle/docker-python\n",
    "# For example, here's several helpful packages to load\n",
    "\n",
    "import numpy as np # linear algebra\n",
    "import pandas as pd # data processing, CSV file I/O (e.g. pd.read_csv)\n",
    "\n",
    "# Input data files are available in the read-only \"../input/\" directory\n",
    "# For example, running this (by clicking run or pressing Shift+Enter) will list all files under the input directory\n",
    "\n",
    "import os\n",
    "for dirname, _, filenames in os.walk('/kaggle/input'):\n",
    "    for filename in filenames:\n",
    "        print(os.path.join(dirname, filename))\n",
    "\n",
    "# You can write up to 20GB to the current directory (/kaggle/working/) that gets preserved as output when you create a version using \"Save & Run All\" \n",
    "# You can also write temporary files to /kaggle/temp/, but they won't be saved outside of the current session"
   ]
  },
  {
   "cell_type": "code",
   "execution_count": 2,
   "id": "53473fd8",
   "metadata": {
    "execution": {
     "iopub.execute_input": "2022-01-26T05:07:59.090346Z",
     "iopub.status.busy": "2022-01-26T05:07:59.089397Z",
     "iopub.status.idle": "2022-01-26T05:07:59.135699Z",
     "shell.execute_reply": "2022-01-26T05:07:59.136256Z",
     "shell.execute_reply.started": "2022-01-25T06:32:55.629078Z"
    },
    "papermill": {
     "duration": 0.090291,
     "end_time": "2022-01-26T05:07:59.136476",
     "exception": false,
     "start_time": "2022-01-26T05:07:59.046185",
     "status": "completed"
    },
    "tags": []
   },
   "outputs": [
    {
     "data": {
      "text/html": [
       "<div>\n",
       "<style scoped>\n",
       "    .dataframe tbody tr th:only-of-type {\n",
       "        vertical-align: middle;\n",
       "    }\n",
       "\n",
       "    .dataframe tbody tr th {\n",
       "        vertical-align: top;\n",
       "    }\n",
       "\n",
       "    .dataframe thead th {\n",
       "        text-align: right;\n",
       "    }\n",
       "</style>\n",
       "<table border=\"1\" class=\"dataframe\">\n",
       "  <thead>\n",
       "    <tr style=\"text-align: right;\">\n",
       "      <th></th>\n",
       "      <th>PassengerId</th>\n",
       "      <th>Survived</th>\n",
       "      <th>Pclass</th>\n",
       "      <th>Name</th>\n",
       "      <th>Sex</th>\n",
       "      <th>Age</th>\n",
       "      <th>SibSp</th>\n",
       "      <th>Parch</th>\n",
       "      <th>Ticket</th>\n",
       "      <th>Fare</th>\n",
       "      <th>Cabin</th>\n",
       "      <th>Embarked</th>\n",
       "    </tr>\n",
       "  </thead>\n",
       "  <tbody>\n",
       "    <tr>\n",
       "      <th>0</th>\n",
       "      <td>1</td>\n",
       "      <td>0</td>\n",
       "      <td>3</td>\n",
       "      <td>Braund, Mr. Owen Harris</td>\n",
       "      <td>male</td>\n",
       "      <td>22.0</td>\n",
       "      <td>1</td>\n",
       "      <td>0</td>\n",
       "      <td>A/5 21171</td>\n",
       "      <td>7.2500</td>\n",
       "      <td>NaN</td>\n",
       "      <td>S</td>\n",
       "    </tr>\n",
       "    <tr>\n",
       "      <th>1</th>\n",
       "      <td>2</td>\n",
       "      <td>1</td>\n",
       "      <td>1</td>\n",
       "      <td>Cumings, Mrs. John Bradley (Florence Briggs Th...</td>\n",
       "      <td>female</td>\n",
       "      <td>38.0</td>\n",
       "      <td>1</td>\n",
       "      <td>0</td>\n",
       "      <td>PC 17599</td>\n",
       "      <td>71.2833</td>\n",
       "      <td>C85</td>\n",
       "      <td>C</td>\n",
       "    </tr>\n",
       "    <tr>\n",
       "      <th>2</th>\n",
       "      <td>3</td>\n",
       "      <td>1</td>\n",
       "      <td>3</td>\n",
       "      <td>Heikkinen, Miss. Laina</td>\n",
       "      <td>female</td>\n",
       "      <td>26.0</td>\n",
       "      <td>0</td>\n",
       "      <td>0</td>\n",
       "      <td>STON/O2. 3101282</td>\n",
       "      <td>7.9250</td>\n",
       "      <td>NaN</td>\n",
       "      <td>S</td>\n",
       "    </tr>\n",
       "    <tr>\n",
       "      <th>3</th>\n",
       "      <td>4</td>\n",
       "      <td>1</td>\n",
       "      <td>1</td>\n",
       "      <td>Futrelle, Mrs. Jacques Heath (Lily May Peel)</td>\n",
       "      <td>female</td>\n",
       "      <td>35.0</td>\n",
       "      <td>1</td>\n",
       "      <td>0</td>\n",
       "      <td>113803</td>\n",
       "      <td>53.1000</td>\n",
       "      <td>C123</td>\n",
       "      <td>S</td>\n",
       "    </tr>\n",
       "    <tr>\n",
       "      <th>4</th>\n",
       "      <td>5</td>\n",
       "      <td>0</td>\n",
       "      <td>3</td>\n",
       "      <td>Allen, Mr. William Henry</td>\n",
       "      <td>male</td>\n",
       "      <td>35.0</td>\n",
       "      <td>0</td>\n",
       "      <td>0</td>\n",
       "      <td>373450</td>\n",
       "      <td>8.0500</td>\n",
       "      <td>NaN</td>\n",
       "      <td>S</td>\n",
       "    </tr>\n",
       "  </tbody>\n",
       "</table>\n",
       "</div>"
      ],
      "text/plain": [
       "   PassengerId  Survived  Pclass  \\\n",
       "0            1         0       3   \n",
       "1            2         1       1   \n",
       "2            3         1       3   \n",
       "3            4         1       1   \n",
       "4            5         0       3   \n",
       "\n",
       "                                                Name     Sex   Age  SibSp  \\\n",
       "0                            Braund, Mr. Owen Harris    male  22.0      1   \n",
       "1  Cumings, Mrs. John Bradley (Florence Briggs Th...  female  38.0      1   \n",
       "2                             Heikkinen, Miss. Laina  female  26.0      0   \n",
       "3       Futrelle, Mrs. Jacques Heath (Lily May Peel)  female  35.0      1   \n",
       "4                           Allen, Mr. William Henry    male  35.0      0   \n",
       "\n",
       "   Parch            Ticket     Fare Cabin Embarked  \n",
       "0      0         A/5 21171   7.2500   NaN        S  \n",
       "1      0          PC 17599  71.2833   C85        C  \n",
       "2      0  STON/O2. 3101282   7.9250   NaN        S  \n",
       "3      0            113803  53.1000  C123        S  \n",
       "4      0            373450   8.0500   NaN        S  "
      ]
     },
     "execution_count": 2,
     "metadata": {},
     "output_type": "execute_result"
    }
   ],
   "source": [
    "df = pd.read_csv(\"/kaggle/input/titanic/train.csv\")\n",
    "df.head()"
   ]
  },
  {
   "cell_type": "markdown",
   "id": "e13ba753",
   "metadata": {
    "papermill": {
     "duration": 0.033494,
     "end_time": "2022-01-26T05:07:59.204026",
     "exception": false,
     "start_time": "2022-01-26T05:07:59.170532",
     "status": "completed"
    },
    "tags": []
   },
   "source": [
    "# droping some features those are less important as per basic intuition.\n",
    "**making model simple but effective**"
   ]
  },
  {
   "cell_type": "code",
   "execution_count": 3,
   "id": "cdf7175f",
   "metadata": {
    "execution": {
     "iopub.execute_input": "2022-01-26T05:07:59.281212Z",
     "iopub.status.busy": "2022-01-26T05:07:59.273895Z",
     "iopub.status.idle": "2022-01-26T05:07:59.293043Z",
     "shell.execute_reply": "2022-01-26T05:07:59.293664Z",
     "shell.execute_reply.started": "2022-01-25T06:32:55.671693Z"
    },
    "papermill": {
     "duration": 0.055607,
     "end_time": "2022-01-26T05:07:59.293876",
     "exception": false,
     "start_time": "2022-01-26T05:07:59.238269",
     "status": "completed"
    },
    "tags": []
   },
   "outputs": [
    {
     "data": {
      "text/html": [
       "<div>\n",
       "<style scoped>\n",
       "    .dataframe tbody tr th:only-of-type {\n",
       "        vertical-align: middle;\n",
       "    }\n",
       "\n",
       "    .dataframe tbody tr th {\n",
       "        vertical-align: top;\n",
       "    }\n",
       "\n",
       "    .dataframe thead th {\n",
       "        text-align: right;\n",
       "    }\n",
       "</style>\n",
       "<table border=\"1\" class=\"dataframe\">\n",
       "  <thead>\n",
       "    <tr style=\"text-align: right;\">\n",
       "      <th></th>\n",
       "      <th>Survived</th>\n",
       "      <th>Pclass</th>\n",
       "      <th>Sex</th>\n",
       "      <th>Age</th>\n",
       "      <th>Fare</th>\n",
       "    </tr>\n",
       "  </thead>\n",
       "  <tbody>\n",
       "    <tr>\n",
       "      <th>0</th>\n",
       "      <td>0</td>\n",
       "      <td>3</td>\n",
       "      <td>male</td>\n",
       "      <td>22.0</td>\n",
       "      <td>7.2500</td>\n",
       "    </tr>\n",
       "    <tr>\n",
       "      <th>1</th>\n",
       "      <td>1</td>\n",
       "      <td>1</td>\n",
       "      <td>female</td>\n",
       "      <td>38.0</td>\n",
       "      <td>71.2833</td>\n",
       "    </tr>\n",
       "    <tr>\n",
       "      <th>2</th>\n",
       "      <td>1</td>\n",
       "      <td>3</td>\n",
       "      <td>female</td>\n",
       "      <td>26.0</td>\n",
       "      <td>7.9250</td>\n",
       "    </tr>\n",
       "    <tr>\n",
       "      <th>3</th>\n",
       "      <td>1</td>\n",
       "      <td>1</td>\n",
       "      <td>female</td>\n",
       "      <td>35.0</td>\n",
       "      <td>53.1000</td>\n",
       "    </tr>\n",
       "    <tr>\n",
       "      <th>4</th>\n",
       "      <td>0</td>\n",
       "      <td>3</td>\n",
       "      <td>male</td>\n",
       "      <td>35.0</td>\n",
       "      <td>8.0500</td>\n",
       "    </tr>\n",
       "  </tbody>\n",
       "</table>\n",
       "</div>"
      ],
      "text/plain": [
       "   Survived  Pclass     Sex   Age     Fare\n",
       "0         0       3    male  22.0   7.2500\n",
       "1         1       1  female  38.0  71.2833\n",
       "2         1       3  female  26.0   7.9250\n",
       "3         1       1  female  35.0  53.1000\n",
       "4         0       3    male  35.0   8.0500"
      ]
     },
     "execution_count": 3,
     "metadata": {},
     "output_type": "execute_result"
    }
   ],
   "source": [
    "df.drop(['PassengerId','Name','SibSp','Parch','Ticket','Cabin','Embarked'],axis='columns',inplace=True)\n",
    "df.head()"
   ]
  },
  {
   "cell_type": "markdown",
   "id": "ae2da471",
   "metadata": {
    "papermill": {
     "duration": 0.031943,
     "end_time": "2022-01-26T05:07:59.358188",
     "exception": false,
     "start_time": "2022-01-26T05:07:59.326245",
     "status": "completed"
    },
    "tags": []
   },
   "source": [
    "**seeting dependent and independent variable**"
   ]
  },
  {
   "cell_type": "code",
   "execution_count": 4,
   "id": "1f44b6a8",
   "metadata": {
    "execution": {
     "iopub.execute_input": "2022-01-26T05:07:59.427260Z",
     "iopub.status.busy": "2022-01-26T05:07:59.426249Z",
     "iopub.status.idle": "2022-01-26T05:07:59.432880Z",
     "shell.execute_reply": "2022-01-26T05:07:59.433388Z",
     "shell.execute_reply.started": "2022-01-25T06:33:41.488697Z"
    },
    "papermill": {
     "duration": 0.041141,
     "end_time": "2022-01-26T05:07:59.433555",
     "exception": false,
     "start_time": "2022-01-26T05:07:59.392414",
     "status": "completed"
    },
    "tags": []
   },
   "outputs": [],
   "source": [
    "inputs = df.drop('Survived',axis='columns')\n",
    "target = df.Survived"
   ]
  },
  {
   "cell_type": "code",
   "execution_count": 5,
   "id": "24a754fb",
   "metadata": {
    "execution": {
     "iopub.execute_input": "2022-01-26T05:07:59.503224Z",
     "iopub.status.busy": "2022-01-26T05:07:59.502415Z",
     "iopub.status.idle": "2022-01-26T05:07:59.509123Z",
     "shell.execute_reply": "2022-01-26T05:07:59.509635Z",
     "shell.execute_reply.started": "2022-01-25T06:33:46.607955Z"
    },
    "papermill": {
     "duration": 0.046079,
     "end_time": "2022-01-26T05:07:59.509832",
     "exception": false,
     "start_time": "2022-01-26T05:07:59.463753",
     "status": "completed"
    },
    "tags": []
   },
   "outputs": [
    {
     "data": {
      "text/html": [
       "<div>\n",
       "<style scoped>\n",
       "    .dataframe tbody tr th:only-of-type {\n",
       "        vertical-align: middle;\n",
       "    }\n",
       "\n",
       "    .dataframe tbody tr th {\n",
       "        vertical-align: top;\n",
       "    }\n",
       "\n",
       "    .dataframe thead th {\n",
       "        text-align: right;\n",
       "    }\n",
       "</style>\n",
       "<table border=\"1\" class=\"dataframe\">\n",
       "  <thead>\n",
       "    <tr style=\"text-align: right;\">\n",
       "      <th></th>\n",
       "      <th>Pclass</th>\n",
       "      <th>Sex</th>\n",
       "      <th>Age</th>\n",
       "      <th>Fare</th>\n",
       "    </tr>\n",
       "  </thead>\n",
       "  <tbody>\n",
       "    <tr>\n",
       "      <th>0</th>\n",
       "      <td>3</td>\n",
       "      <td>male</td>\n",
       "      <td>22.0</td>\n",
       "      <td>7.2500</td>\n",
       "    </tr>\n",
       "    <tr>\n",
       "      <th>1</th>\n",
       "      <td>1</td>\n",
       "      <td>female</td>\n",
       "      <td>38.0</td>\n",
       "      <td>71.2833</td>\n",
       "    </tr>\n",
       "    <tr>\n",
       "      <th>2</th>\n",
       "      <td>3</td>\n",
       "      <td>female</td>\n",
       "      <td>26.0</td>\n",
       "      <td>7.9250</td>\n",
       "    </tr>\n",
       "    <tr>\n",
       "      <th>3</th>\n",
       "      <td>1</td>\n",
       "      <td>female</td>\n",
       "      <td>35.0</td>\n",
       "      <td>53.1000</td>\n",
       "    </tr>\n",
       "    <tr>\n",
       "      <th>4</th>\n",
       "      <td>3</td>\n",
       "      <td>male</td>\n",
       "      <td>35.0</td>\n",
       "      <td>8.0500</td>\n",
       "    </tr>\n",
       "  </tbody>\n",
       "</table>\n",
       "</div>"
      ],
      "text/plain": [
       "   Pclass     Sex   Age     Fare\n",
       "0       3    male  22.0   7.2500\n",
       "1       1  female  38.0  71.2833\n",
       "2       3  female  26.0   7.9250\n",
       "3       1  female  35.0  53.1000\n",
       "4       3    male  35.0   8.0500"
      ]
     },
     "execution_count": 5,
     "metadata": {},
     "output_type": "execute_result"
    }
   ],
   "source": [
    "inputs.head()"
   ]
  },
  {
   "cell_type": "markdown",
   "id": "9e9d5ff2",
   "metadata": {
    "papermill": {
     "duration": 0.030545,
     "end_time": "2022-01-26T05:07:59.571606",
     "exception": false,
     "start_time": "2022-01-26T05:07:59.541061",
     "status": "completed"
    },
    "tags": []
   },
   "source": [
    "**Here we have to sex column into numerical.\n",
    "This can be done many ways:**"
   ]
  },
  {
   "cell_type": "code",
   "execution_count": 6,
   "id": "45ea6573",
   "metadata": {
    "execution": {
     "iopub.execute_input": "2022-01-26T05:07:59.637401Z",
     "iopub.status.busy": "2022-01-26T05:07:59.636345Z",
     "iopub.status.idle": "2022-01-26T05:07:59.639343Z",
     "shell.execute_reply": "2022-01-26T05:07:59.639920Z",
     "shell.execute_reply.started": "2022-01-25T06:32:55.724669Z"
    },
    "papermill": {
     "duration": 0.037947,
     "end_time": "2022-01-26T05:07:59.640116",
     "exception": false,
     "start_time": "2022-01-26T05:07:59.602169",
     "status": "completed"
    },
    "tags": []
   },
   "outputs": [],
   "source": [
    "# inputs.Sex = inputs['Sex'].replace({'male': 1, 'female': 0})\n",
    "# inputs.Sex"
   ]
  },
  {
   "cell_type": "markdown",
   "id": "5e2acf5f",
   "metadata": {
    "papermill": {
     "duration": 0.030371,
     "end_time": "2022-01-26T05:07:59.701616",
     "exception": false,
     "start_time": "2022-01-26T05:07:59.671245",
     "status": "completed"
    },
    "tags": []
   },
   "source": [
    "**Get dummies method pandas**"
   ]
  },
  {
   "cell_type": "code",
   "execution_count": 7,
   "id": "d6392509",
   "metadata": {
    "execution": {
     "iopub.execute_input": "2022-01-26T05:07:59.766038Z",
     "iopub.status.busy": "2022-01-26T05:07:59.765403Z",
     "iopub.status.idle": "2022-01-26T05:07:59.778468Z",
     "shell.execute_reply": "2022-01-26T05:07:59.779010Z",
     "shell.execute_reply.started": "2022-01-25T06:33:49.704603Z"
    },
    "papermill": {
     "duration": 0.047271,
     "end_time": "2022-01-26T05:07:59.779204",
     "exception": false,
     "start_time": "2022-01-26T05:07:59.731933",
     "status": "completed"
    },
    "tags": []
   },
   "outputs": [
    {
     "data": {
      "text/html": [
       "<div>\n",
       "<style scoped>\n",
       "    .dataframe tbody tr th:only-of-type {\n",
       "        vertical-align: middle;\n",
       "    }\n",
       "\n",
       "    .dataframe tbody tr th {\n",
       "        vertical-align: top;\n",
       "    }\n",
       "\n",
       "    .dataframe thead th {\n",
       "        text-align: right;\n",
       "    }\n",
       "</style>\n",
       "<table border=\"1\" class=\"dataframe\">\n",
       "  <thead>\n",
       "    <tr style=\"text-align: right;\">\n",
       "      <th></th>\n",
       "      <th>female</th>\n",
       "      <th>male</th>\n",
       "    </tr>\n",
       "  </thead>\n",
       "  <tbody>\n",
       "    <tr>\n",
       "      <th>0</th>\n",
       "      <td>0</td>\n",
       "      <td>1</td>\n",
       "    </tr>\n",
       "    <tr>\n",
       "      <th>1</th>\n",
       "      <td>1</td>\n",
       "      <td>0</td>\n",
       "    </tr>\n",
       "    <tr>\n",
       "      <th>2</th>\n",
       "      <td>1</td>\n",
       "      <td>0</td>\n",
       "    </tr>\n",
       "    <tr>\n",
       "      <th>3</th>\n",
       "      <td>1</td>\n",
       "      <td>0</td>\n",
       "    </tr>\n",
       "    <tr>\n",
       "      <th>4</th>\n",
       "      <td>0</td>\n",
       "      <td>1</td>\n",
       "    </tr>\n",
       "  </tbody>\n",
       "</table>\n",
       "</div>"
      ],
      "text/plain": [
       "   female  male\n",
       "0       0     1\n",
       "1       1     0\n",
       "2       1     0\n",
       "3       1     0\n",
       "4       0     1"
      ]
     },
     "execution_count": 7,
     "metadata": {},
     "output_type": "execute_result"
    }
   ],
   "source": [
    "dummies = pd.get_dummies(inputs.Sex  )\n",
    "dummies.head()"
   ]
  },
  {
   "cell_type": "code",
   "execution_count": 8,
   "id": "315125b5",
   "metadata": {
    "execution": {
     "iopub.execute_input": "2022-01-26T05:07:59.849162Z",
     "iopub.status.busy": "2022-01-26T05:07:59.848122Z",
     "iopub.status.idle": "2022-01-26T05:07:59.861535Z",
     "shell.execute_reply": "2022-01-26T05:07:59.861004Z",
     "shell.execute_reply.started": "2022-01-25T06:33:55.934252Z"
    },
    "papermill": {
     "duration": 0.049479,
     "end_time": "2022-01-26T05:07:59.861667",
     "exception": false,
     "start_time": "2022-01-26T05:07:59.812188",
     "status": "completed"
    },
    "tags": []
   },
   "outputs": [
    {
     "data": {
      "text/html": [
       "<div>\n",
       "<style scoped>\n",
       "    .dataframe tbody tr th:only-of-type {\n",
       "        vertical-align: middle;\n",
       "    }\n",
       "\n",
       "    .dataframe tbody tr th {\n",
       "        vertical-align: top;\n",
       "    }\n",
       "\n",
       "    .dataframe thead th {\n",
       "        text-align: right;\n",
       "    }\n",
       "</style>\n",
       "<table border=\"1\" class=\"dataframe\">\n",
       "  <thead>\n",
       "    <tr style=\"text-align: right;\">\n",
       "      <th></th>\n",
       "      <th>Pclass</th>\n",
       "      <th>Sex</th>\n",
       "      <th>Age</th>\n",
       "      <th>Fare</th>\n",
       "      <th>female</th>\n",
       "      <th>male</th>\n",
       "    </tr>\n",
       "  </thead>\n",
       "  <tbody>\n",
       "    <tr>\n",
       "      <th>0</th>\n",
       "      <td>3</td>\n",
       "      <td>male</td>\n",
       "      <td>22.0</td>\n",
       "      <td>7.2500</td>\n",
       "      <td>0</td>\n",
       "      <td>1</td>\n",
       "    </tr>\n",
       "    <tr>\n",
       "      <th>1</th>\n",
       "      <td>1</td>\n",
       "      <td>female</td>\n",
       "      <td>38.0</td>\n",
       "      <td>71.2833</td>\n",
       "      <td>1</td>\n",
       "      <td>0</td>\n",
       "    </tr>\n",
       "    <tr>\n",
       "      <th>2</th>\n",
       "      <td>3</td>\n",
       "      <td>female</td>\n",
       "      <td>26.0</td>\n",
       "      <td>7.9250</td>\n",
       "      <td>1</td>\n",
       "      <td>0</td>\n",
       "    </tr>\n",
       "  </tbody>\n",
       "</table>\n",
       "</div>"
      ],
      "text/plain": [
       "   Pclass     Sex   Age     Fare  female  male\n",
       "0       3    male  22.0   7.2500       0     1\n",
       "1       1  female  38.0  71.2833       1     0\n",
       "2       3  female  26.0   7.9250       1     0"
      ]
     },
     "execution_count": 8,
     "metadata": {},
     "output_type": "execute_result"
    }
   ],
   "source": [
    "inputs = pd.concat([inputs,dummies],axis='columns')\n",
    "inputs.head(3)"
   ]
  },
  {
   "cell_type": "markdown",
   "id": "16d246d7",
   "metadata": {
    "papermill": {
     "duration": 0.03318,
     "end_time": "2022-01-26T05:07:59.926265",
     "exception": false,
     "start_time": "2022-01-26T05:07:59.893085",
     "status": "completed"
    },
    "tags": []
   },
   "source": [
    "**I am dropping male column as well because of dummy variable trap theory. One column is enough to repressent male vs female**"
   ]
  },
  {
   "cell_type": "code",
   "execution_count": 9,
   "id": "c7bdbc8f",
   "metadata": {
    "execution": {
     "iopub.execute_input": "2022-01-26T05:07:59.996905Z",
     "iopub.status.busy": "2022-01-26T05:07:59.996226Z",
     "iopub.status.idle": "2022-01-26T05:08:00.008645Z",
     "shell.execute_reply": "2022-01-26T05:08:00.009325Z",
     "shell.execute_reply.started": "2022-01-25T06:34:27.569212Z"
    },
    "papermill": {
     "duration": 0.050475,
     "end_time": "2022-01-26T05:08:00.009510",
     "exception": false,
     "start_time": "2022-01-26T05:07:59.959035",
     "status": "completed"
    },
    "tags": []
   },
   "outputs": [
    {
     "data": {
      "text/html": [
       "<div>\n",
       "<style scoped>\n",
       "    .dataframe tbody tr th:only-of-type {\n",
       "        vertical-align: middle;\n",
       "    }\n",
       "\n",
       "    .dataframe tbody tr th {\n",
       "        vertical-align: top;\n",
       "    }\n",
       "\n",
       "    .dataframe thead th {\n",
       "        text-align: right;\n",
       "    }\n",
       "</style>\n",
       "<table border=\"1\" class=\"dataframe\">\n",
       "  <thead>\n",
       "    <tr style=\"text-align: right;\">\n",
       "      <th></th>\n",
       "      <th>Pclass</th>\n",
       "      <th>Age</th>\n",
       "      <th>Fare</th>\n",
       "      <th>female</th>\n",
       "    </tr>\n",
       "  </thead>\n",
       "  <tbody>\n",
       "    <tr>\n",
       "      <th>0</th>\n",
       "      <td>3</td>\n",
       "      <td>22.0</td>\n",
       "      <td>7.2500</td>\n",
       "      <td>0</td>\n",
       "    </tr>\n",
       "    <tr>\n",
       "      <th>1</th>\n",
       "      <td>1</td>\n",
       "      <td>38.0</td>\n",
       "      <td>71.2833</td>\n",
       "      <td>1</td>\n",
       "    </tr>\n",
       "    <tr>\n",
       "      <th>2</th>\n",
       "      <td>3</td>\n",
       "      <td>26.0</td>\n",
       "      <td>7.9250</td>\n",
       "      <td>1</td>\n",
       "    </tr>\n",
       "  </tbody>\n",
       "</table>\n",
       "</div>"
      ],
      "text/plain": [
       "   Pclass   Age     Fare  female\n",
       "0       3  22.0   7.2500       0\n",
       "1       1  38.0  71.2833       1\n",
       "2       3  26.0   7.9250       1"
      ]
     },
     "execution_count": 9,
     "metadata": {},
     "output_type": "execute_result"
    }
   ],
   "source": [
    "inputs.drop(['Sex','male'],axis='columns',inplace=True)\n",
    "inputs.head(3)"
   ]
  },
  {
   "cell_type": "markdown",
   "id": "2138d8e7",
   "metadata": {
    "papermill": {
     "duration": 0.033877,
     "end_time": "2022-01-26T05:08:00.079083",
     "exception": false,
     "start_time": "2022-01-26T05:08:00.045206",
     "status": "completed"
    },
    "tags": []
   },
   "source": [
    "# checking missing values"
   ]
  },
  {
   "cell_type": "code",
   "execution_count": 10,
   "id": "86a9966e",
   "metadata": {
    "execution": {
     "iopub.execute_input": "2022-01-26T05:08:00.151443Z",
     "iopub.status.busy": "2022-01-26T05:08:00.149756Z",
     "iopub.status.idle": "2022-01-26T05:08:00.159362Z",
     "shell.execute_reply": "2022-01-26T05:08:00.160028Z",
     "shell.execute_reply.started": "2022-01-25T06:34:57.869166Z"
    },
    "papermill": {
     "duration": 0.047253,
     "end_time": "2022-01-26T05:08:00.160213",
     "exception": false,
     "start_time": "2022-01-26T05:08:00.112960",
     "status": "completed"
    },
    "tags": []
   },
   "outputs": [
    {
     "data": {
      "text/plain": [
       "Pclass      0\n",
       "Age       177\n",
       "Fare        0\n",
       "female      0\n",
       "dtype: int64"
      ]
     },
     "execution_count": 10,
     "metadata": {},
     "output_type": "execute_result"
    }
   ],
   "source": [
    "inputs.isnull().sum()"
   ]
  },
  {
   "cell_type": "markdown",
   "id": "838db51e",
   "metadata": {
    "papermill": {
     "duration": 0.032625,
     "end_time": "2022-01-26T05:08:00.226725",
     "exception": false,
     "start_time": "2022-01-26T05:08:00.194100",
     "status": "completed"
    },
    "tags": []
   },
   "source": [
    "******here age has 177 missing values. Filling missing values with meadian value of age column.**"
   ]
  },
  {
   "cell_type": "code",
   "execution_count": 11,
   "id": "48626b5a",
   "metadata": {
    "execution": {
     "iopub.execute_input": "2022-01-26T05:08:00.294839Z",
     "iopub.status.busy": "2022-01-26T05:08:00.294159Z",
     "iopub.status.idle": "2022-01-26T05:08:00.300613Z",
     "shell.execute_reply": "2022-01-26T05:08:00.301162Z",
     "shell.execute_reply.started": "2022-01-25T06:36:46.548094Z"
    },
    "papermill": {
     "duration": 0.0425,
     "end_time": "2022-01-26T05:08:00.301334",
     "exception": false,
     "start_time": "2022-01-26T05:08:00.258834",
     "status": "completed"
    },
    "tags": []
   },
   "outputs": [
    {
     "data": {
      "text/plain": [
       "28.0"
      ]
     },
     "execution_count": 11,
     "metadata": {},
     "output_type": "execute_result"
    }
   ],
   "source": [
    "inputs['Age'].median()"
   ]
  },
  {
   "cell_type": "code",
   "execution_count": 12,
   "id": "b67f862f",
   "metadata": {
    "execution": {
     "iopub.execute_input": "2022-01-26T05:08:00.371008Z",
     "iopub.status.busy": "2022-01-26T05:08:00.370368Z",
     "iopub.status.idle": "2022-01-26T05:08:00.382339Z",
     "shell.execute_reply": "2022-01-26T05:08:00.382961Z",
     "shell.execute_reply.started": "2022-01-25T06:36:22.329193Z"
    },
    "papermill": {
     "duration": 0.048312,
     "end_time": "2022-01-26T05:08:00.383129",
     "exception": false,
     "start_time": "2022-01-26T05:08:00.334817",
     "status": "completed"
    },
    "tags": []
   },
   "outputs": [
    {
     "data": {
      "text/html": [
       "<div>\n",
       "<style scoped>\n",
       "    .dataframe tbody tr th:only-of-type {\n",
       "        vertical-align: middle;\n",
       "    }\n",
       "\n",
       "    .dataframe tbody tr th {\n",
       "        vertical-align: top;\n",
       "    }\n",
       "\n",
       "    .dataframe thead th {\n",
       "        text-align: right;\n",
       "    }\n",
       "</style>\n",
       "<table border=\"1\" class=\"dataframe\">\n",
       "  <thead>\n",
       "    <tr style=\"text-align: right;\">\n",
       "      <th></th>\n",
       "      <th>Pclass</th>\n",
       "      <th>Age</th>\n",
       "      <th>Fare</th>\n",
       "      <th>female</th>\n",
       "    </tr>\n",
       "  </thead>\n",
       "  <tbody>\n",
       "    <tr>\n",
       "      <th>0</th>\n",
       "      <td>3</td>\n",
       "      <td>22.0</td>\n",
       "      <td>7.2500</td>\n",
       "      <td>0</td>\n",
       "    </tr>\n",
       "    <tr>\n",
       "      <th>1</th>\n",
       "      <td>1</td>\n",
       "      <td>38.0</td>\n",
       "      <td>71.2833</td>\n",
       "      <td>1</td>\n",
       "    </tr>\n",
       "    <tr>\n",
       "      <th>2</th>\n",
       "      <td>3</td>\n",
       "      <td>26.0</td>\n",
       "      <td>7.9250</td>\n",
       "      <td>1</td>\n",
       "    </tr>\n",
       "    <tr>\n",
       "      <th>3</th>\n",
       "      <td>1</td>\n",
       "      <td>35.0</td>\n",
       "      <td>53.1000</td>\n",
       "      <td>1</td>\n",
       "    </tr>\n",
       "    <tr>\n",
       "      <th>4</th>\n",
       "      <td>3</td>\n",
       "      <td>35.0</td>\n",
       "      <td>8.0500</td>\n",
       "      <td>0</td>\n",
       "    </tr>\n",
       "  </tbody>\n",
       "</table>\n",
       "</div>"
      ],
      "text/plain": [
       "   Pclass   Age     Fare  female\n",
       "0       3  22.0   7.2500       0\n",
       "1       1  38.0  71.2833       1\n",
       "2       3  26.0   7.9250       1\n",
       "3       1  35.0  53.1000       1\n",
       "4       3  35.0   8.0500       0"
      ]
     },
     "execution_count": 12,
     "metadata": {},
     "output_type": "execute_result"
    }
   ],
   "source": [
    "inputs.Age = inputs.Age.fillna(inputs.Age.median())\n",
    "inputs.head()"
   ]
  },
  {
   "cell_type": "markdown",
   "id": "a75209ba",
   "metadata": {
    "papermill": {
     "duration": 0.033173,
     "end_time": "2022-01-26T05:08:00.449486",
     "exception": false,
     "start_time": "2022-01-26T05:08:00.416313",
     "status": "completed"
    },
    "tags": []
   },
   "source": [
    "# importing and building model"
   ]
  },
  {
   "cell_type": "code",
   "execution_count": 13,
   "id": "c4be57dd",
   "metadata": {
    "execution": {
     "iopub.execute_input": "2022-01-26T05:08:00.518352Z",
     "iopub.status.busy": "2022-01-26T05:08:00.517698Z",
     "iopub.status.idle": "2022-01-26T05:08:01.403201Z",
     "shell.execute_reply": "2022-01-26T05:08:01.402589Z",
     "shell.execute_reply.started": "2022-01-25T06:37:27.308844Z"
    },
    "papermill": {
     "duration": 0.921025,
     "end_time": "2022-01-26T05:08:01.403356",
     "exception": false,
     "start_time": "2022-01-26T05:08:00.482331",
     "status": "completed"
    },
    "tags": []
   },
   "outputs": [],
   "source": [
    "from sklearn.naive_bayes import GaussianNB\n",
    "model = GaussianNB()"
   ]
  },
  {
   "cell_type": "code",
   "execution_count": 14,
   "id": "85f88c54",
   "metadata": {
    "execution": {
     "iopub.execute_input": "2022-01-26T05:08:01.472216Z",
     "iopub.status.busy": "2022-01-26T05:08:01.471575Z",
     "iopub.status.idle": "2022-01-26T05:08:01.481552Z",
     "shell.execute_reply": "2022-01-26T05:08:01.482098Z",
     "shell.execute_reply.started": "2022-01-25T06:38:15.748941Z"
    },
    "papermill": {
     "duration": 0.045976,
     "end_time": "2022-01-26T05:08:01.482268",
     "exception": false,
     "start_time": "2022-01-26T05:08:01.436292",
     "status": "completed"
    },
    "tags": []
   },
   "outputs": [
    {
     "data": {
      "text/plain": [
       "GaussianNB()"
      ]
     },
     "execution_count": 14,
     "metadata": {},
     "output_type": "execute_result"
    }
   ],
   "source": [
    "model.fit(inputs, target)"
   ]
  },
  {
   "cell_type": "code",
   "execution_count": 15,
   "id": "aa39e44e",
   "metadata": {
    "execution": {
     "iopub.execute_input": "2022-01-26T05:08:01.553295Z",
     "iopub.status.busy": "2022-01-26T05:08:01.552596Z",
     "iopub.status.idle": "2022-01-26T05:08:01.564858Z",
     "shell.execute_reply": "2022-01-26T05:08:01.565403Z",
     "shell.execute_reply.started": "2022-01-25T06:58:11.259705Z"
    },
    "papermill": {
     "duration": 0.05036,
     "end_time": "2022-01-26T05:08:01.565573",
     "exception": false,
     "start_time": "2022-01-26T05:08:01.515213",
     "status": "completed"
    },
    "tags": []
   },
   "outputs": [],
   "source": [
    "test_data1 = pd.read_csv(\"/kaggle/input/titanic/test.csv\")"
   ]
  },
  {
   "cell_type": "code",
   "execution_count": 16,
   "id": "b533cb0e",
   "metadata": {
    "execution": {
     "iopub.execute_input": "2022-01-26T05:08:01.636276Z",
     "iopub.status.busy": "2022-01-26T05:08:01.635299Z",
     "iopub.status.idle": "2022-01-26T05:08:01.649834Z",
     "shell.execute_reply": "2022-01-26T05:08:01.650377Z",
     "shell.execute_reply.started": "2022-01-25T06:58:13.653322Z"
    },
    "papermill": {
     "duration": 0.0515,
     "end_time": "2022-01-26T05:08:01.650543",
     "exception": false,
     "start_time": "2022-01-26T05:08:01.599043",
     "status": "completed"
    },
    "tags": []
   },
   "outputs": [
    {
     "data": {
      "text/html": [
       "<div>\n",
       "<style scoped>\n",
       "    .dataframe tbody tr th:only-of-type {\n",
       "        vertical-align: middle;\n",
       "    }\n",
       "\n",
       "    .dataframe tbody tr th {\n",
       "        vertical-align: top;\n",
       "    }\n",
       "\n",
       "    .dataframe thead th {\n",
       "        text-align: right;\n",
       "    }\n",
       "</style>\n",
       "<table border=\"1\" class=\"dataframe\">\n",
       "  <thead>\n",
       "    <tr style=\"text-align: right;\">\n",
       "      <th></th>\n",
       "      <th>PassengerId</th>\n",
       "      <th>Pclass</th>\n",
       "      <th>Name</th>\n",
       "      <th>Sex</th>\n",
       "      <th>Age</th>\n",
       "      <th>SibSp</th>\n",
       "      <th>Parch</th>\n",
       "      <th>Ticket</th>\n",
       "      <th>Fare</th>\n",
       "      <th>Cabin</th>\n",
       "      <th>Embarked</th>\n",
       "    </tr>\n",
       "  </thead>\n",
       "  <tbody>\n",
       "    <tr>\n",
       "      <th>0</th>\n",
       "      <td>892</td>\n",
       "      <td>3</td>\n",
       "      <td>Kelly, Mr. James</td>\n",
       "      <td>male</td>\n",
       "      <td>34.5</td>\n",
       "      <td>0</td>\n",
       "      <td>0</td>\n",
       "      <td>330911</td>\n",
       "      <td>7.8292</td>\n",
       "      <td>NaN</td>\n",
       "      <td>Q</td>\n",
       "    </tr>\n",
       "    <tr>\n",
       "      <th>1</th>\n",
       "      <td>893</td>\n",
       "      <td>3</td>\n",
       "      <td>Wilkes, Mrs. James (Ellen Needs)</td>\n",
       "      <td>female</td>\n",
       "      <td>47.0</td>\n",
       "      <td>1</td>\n",
       "      <td>0</td>\n",
       "      <td>363272</td>\n",
       "      <td>7.0000</td>\n",
       "      <td>NaN</td>\n",
       "      <td>S</td>\n",
       "    </tr>\n",
       "    <tr>\n",
       "      <th>2</th>\n",
       "      <td>894</td>\n",
       "      <td>2</td>\n",
       "      <td>Myles, Mr. Thomas Francis</td>\n",
       "      <td>male</td>\n",
       "      <td>62.0</td>\n",
       "      <td>0</td>\n",
       "      <td>0</td>\n",
       "      <td>240276</td>\n",
       "      <td>9.6875</td>\n",
       "      <td>NaN</td>\n",
       "      <td>Q</td>\n",
       "    </tr>\n",
       "    <tr>\n",
       "      <th>3</th>\n",
       "      <td>895</td>\n",
       "      <td>3</td>\n",
       "      <td>Wirz, Mr. Albert</td>\n",
       "      <td>male</td>\n",
       "      <td>27.0</td>\n",
       "      <td>0</td>\n",
       "      <td>0</td>\n",
       "      <td>315154</td>\n",
       "      <td>8.6625</td>\n",
       "      <td>NaN</td>\n",
       "      <td>S</td>\n",
       "    </tr>\n",
       "    <tr>\n",
       "      <th>4</th>\n",
       "      <td>896</td>\n",
       "      <td>3</td>\n",
       "      <td>Hirvonen, Mrs. Alexander (Helga E Lindqvist)</td>\n",
       "      <td>female</td>\n",
       "      <td>22.0</td>\n",
       "      <td>1</td>\n",
       "      <td>1</td>\n",
       "      <td>3101298</td>\n",
       "      <td>12.2875</td>\n",
       "      <td>NaN</td>\n",
       "      <td>S</td>\n",
       "    </tr>\n",
       "  </tbody>\n",
       "</table>\n",
       "</div>"
      ],
      "text/plain": [
       "   PassengerId  Pclass                                          Name     Sex  \\\n",
       "0          892       3                              Kelly, Mr. James    male   \n",
       "1          893       3              Wilkes, Mrs. James (Ellen Needs)  female   \n",
       "2          894       2                     Myles, Mr. Thomas Francis    male   \n",
       "3          895       3                              Wirz, Mr. Albert    male   \n",
       "4          896       3  Hirvonen, Mrs. Alexander (Helga E Lindqvist)  female   \n",
       "\n",
       "    Age  SibSp  Parch   Ticket     Fare Cabin Embarked  \n",
       "0  34.5      0      0   330911   7.8292   NaN        Q  \n",
       "1  47.0      1      0   363272   7.0000   NaN        S  \n",
       "2  62.0      0      0   240276   9.6875   NaN        Q  \n",
       "3  27.0      0      0   315154   8.6625   NaN        S  \n",
       "4  22.0      1      1  3101298  12.2875   NaN        S  "
      ]
     },
     "execution_count": 16,
     "metadata": {},
     "output_type": "execute_result"
    }
   ],
   "source": [
    "test_data1.head()"
   ]
  },
  {
   "cell_type": "code",
   "execution_count": 17,
   "id": "82d04896",
   "metadata": {
    "execution": {
     "iopub.execute_input": "2022-01-26T05:08:01.723208Z",
     "iopub.status.busy": "2022-01-26T05:08:01.722205Z",
     "iopub.status.idle": "2022-01-26T05:08:01.727566Z",
     "shell.execute_reply": "2022-01-26T05:08:01.728219Z",
     "shell.execute_reply.started": "2022-01-25T06:58:24.243609Z"
    },
    "papermill": {
     "duration": 0.044164,
     "end_time": "2022-01-26T05:08:01.728389",
     "exception": false,
     "start_time": "2022-01-26T05:08:01.684225",
     "status": "completed"
    },
    "tags": []
   },
   "outputs": [
    {
     "data": {
      "text/plain": [
       "(418, 11)"
      ]
     },
     "execution_count": 17,
     "metadata": {},
     "output_type": "execute_result"
    }
   ],
   "source": [
    "test_data1.shape"
   ]
  },
  {
   "cell_type": "markdown",
   "id": "d095d511",
   "metadata": {
    "papermill": {
     "duration": 0.03451,
     "end_time": "2022-01-26T05:08:01.798319",
     "exception": false,
     "start_time": "2022-01-26T05:08:01.763809",
     "status": "completed"
    },
    "tags": []
   },
   "source": [
    "**making X_test and y_test**"
   ]
  },
  {
   "cell_type": "code",
   "execution_count": null,
   "id": "a7b8941d",
   "metadata": {
    "papermill": {
     "duration": 0.035226,
     "end_time": "2022-01-26T05:08:01.869015",
     "exception": false,
     "start_time": "2022-01-26T05:08:01.833789",
     "status": "completed"
    },
    "tags": []
   },
   "outputs": [],
   "source": []
  },
  {
   "cell_type": "code",
   "execution_count": 18,
   "id": "1c62e4c8",
   "metadata": {
    "execution": {
     "iopub.execute_input": "2022-01-26T05:08:01.950818Z",
     "iopub.status.busy": "2022-01-26T05:08:01.950123Z",
     "iopub.status.idle": "2022-01-26T05:08:01.953415Z",
     "shell.execute_reply": "2022-01-26T05:08:01.953879Z",
     "shell.execute_reply.started": "2022-01-25T06:58:31.544448Z"
    },
    "papermill": {
     "duration": 0.05048,
     "end_time": "2022-01-26T05:08:01.954063",
     "exception": false,
     "start_time": "2022-01-26T05:08:01.903583",
     "status": "completed"
    },
    "tags": []
   },
   "outputs": [
    {
     "data": {
      "text/html": [
       "<div>\n",
       "<style scoped>\n",
       "    .dataframe tbody tr th:only-of-type {\n",
       "        vertical-align: middle;\n",
       "    }\n",
       "\n",
       "    .dataframe tbody tr th {\n",
       "        vertical-align: top;\n",
       "    }\n",
       "\n",
       "    .dataframe thead th {\n",
       "        text-align: right;\n",
       "    }\n",
       "</style>\n",
       "<table border=\"1\" class=\"dataframe\">\n",
       "  <thead>\n",
       "    <tr style=\"text-align: right;\">\n",
       "      <th></th>\n",
       "      <th>Pclass</th>\n",
       "      <th>Sex</th>\n",
       "      <th>Age</th>\n",
       "      <th>Fare</th>\n",
       "    </tr>\n",
       "  </thead>\n",
       "  <tbody>\n",
       "    <tr>\n",
       "      <th>0</th>\n",
       "      <td>3</td>\n",
       "      <td>male</td>\n",
       "      <td>34.5</td>\n",
       "      <td>7.8292</td>\n",
       "    </tr>\n",
       "    <tr>\n",
       "      <th>1</th>\n",
       "      <td>3</td>\n",
       "      <td>female</td>\n",
       "      <td>47.0</td>\n",
       "      <td>7.0000</td>\n",
       "    </tr>\n",
       "    <tr>\n",
       "      <th>2</th>\n",
       "      <td>2</td>\n",
       "      <td>male</td>\n",
       "      <td>62.0</td>\n",
       "      <td>9.6875</td>\n",
       "    </tr>\n",
       "    <tr>\n",
       "      <th>3</th>\n",
       "      <td>3</td>\n",
       "      <td>male</td>\n",
       "      <td>27.0</td>\n",
       "      <td>8.6625</td>\n",
       "    </tr>\n",
       "    <tr>\n",
       "      <th>4</th>\n",
       "      <td>3</td>\n",
       "      <td>female</td>\n",
       "      <td>22.0</td>\n",
       "      <td>12.2875</td>\n",
       "    </tr>\n",
       "  </tbody>\n",
       "</table>\n",
       "</div>"
      ],
      "text/plain": [
       "   Pclass     Sex   Age     Fare\n",
       "0       3    male  34.5   7.8292\n",
       "1       3  female  47.0   7.0000\n",
       "2       2    male  62.0   9.6875\n",
       "3       3    male  27.0   8.6625\n",
       "4       3  female  22.0  12.2875"
      ]
     },
     "execution_count": 18,
     "metadata": {},
     "output_type": "execute_result"
    }
   ],
   "source": [
    "test_data = test_data1.drop(['PassengerId','Name','SibSp','Parch','Ticket','Cabin','Embarked'],axis='columns')\n",
    "test_data.head()"
   ]
  },
  {
   "cell_type": "code",
   "execution_count": 19,
   "id": "28b0eca3",
   "metadata": {
    "execution": {
     "iopub.execute_input": "2022-01-26T05:08:02.035654Z",
     "iopub.status.busy": "2022-01-26T05:08:02.034920Z",
     "iopub.status.idle": "2022-01-26T05:08:02.039323Z",
     "shell.execute_reply": "2022-01-26T05:08:02.038796Z",
     "shell.execute_reply.started": "2022-01-25T06:41:59.914815Z"
    },
    "papermill": {
     "duration": 0.050666,
     "end_time": "2022-01-26T05:08:02.039460",
     "exception": false,
     "start_time": "2022-01-26T05:08:01.988794",
     "status": "completed"
    },
    "tags": []
   },
   "outputs": [
    {
     "data": {
      "text/html": [
       "<div>\n",
       "<style scoped>\n",
       "    .dataframe tbody tr th:only-of-type {\n",
       "        vertical-align: middle;\n",
       "    }\n",
       "\n",
       "    .dataframe tbody tr th {\n",
       "        vertical-align: top;\n",
       "    }\n",
       "\n",
       "    .dataframe thead th {\n",
       "        text-align: right;\n",
       "    }\n",
       "</style>\n",
       "<table border=\"1\" class=\"dataframe\">\n",
       "  <thead>\n",
       "    <tr style=\"text-align: right;\">\n",
       "      <th></th>\n",
       "      <th>female</th>\n",
       "      <th>male</th>\n",
       "    </tr>\n",
       "  </thead>\n",
       "  <tbody>\n",
       "    <tr>\n",
       "      <th>0</th>\n",
       "      <td>0</td>\n",
       "      <td>1</td>\n",
       "    </tr>\n",
       "    <tr>\n",
       "      <th>1</th>\n",
       "      <td>1</td>\n",
       "      <td>0</td>\n",
       "    </tr>\n",
       "    <tr>\n",
       "      <th>2</th>\n",
       "      <td>0</td>\n",
       "      <td>1</td>\n",
       "    </tr>\n",
       "    <tr>\n",
       "      <th>3</th>\n",
       "      <td>0</td>\n",
       "      <td>1</td>\n",
       "    </tr>\n",
       "    <tr>\n",
       "      <th>4</th>\n",
       "      <td>1</td>\n",
       "      <td>0</td>\n",
       "    </tr>\n",
       "  </tbody>\n",
       "</table>\n",
       "</div>"
      ],
      "text/plain": [
       "   female  male\n",
       "0       0     1\n",
       "1       1     0\n",
       "2       0     1\n",
       "3       0     1\n",
       "4       1     0"
      ]
     },
     "execution_count": 19,
     "metadata": {},
     "output_type": "execute_result"
    }
   ],
   "source": [
    "dummies_test = pd.get_dummies(test_data.Sex  )\n",
    "dummies_test.head()"
   ]
  },
  {
   "cell_type": "code",
   "execution_count": 20,
   "id": "d3a91162",
   "metadata": {
    "execution": {
     "iopub.execute_input": "2022-01-26T05:08:02.117682Z",
     "iopub.status.busy": "2022-01-26T05:08:02.117001Z",
     "iopub.status.idle": "2022-01-26T05:08:02.126057Z",
     "shell.execute_reply": "2022-01-26T05:08:02.126610Z",
     "shell.execute_reply.started": "2022-01-25T07:09:52.42392Z"
    },
    "papermill": {
     "duration": 0.051684,
     "end_time": "2022-01-26T05:08:02.126801",
     "exception": false,
     "start_time": "2022-01-26T05:08:02.075117",
     "status": "completed"
    },
    "tags": []
   },
   "outputs": [
    {
     "data": {
      "text/html": [
       "<div>\n",
       "<style scoped>\n",
       "    .dataframe tbody tr th:only-of-type {\n",
       "        vertical-align: middle;\n",
       "    }\n",
       "\n",
       "    .dataframe tbody tr th {\n",
       "        vertical-align: top;\n",
       "    }\n",
       "\n",
       "    .dataframe thead th {\n",
       "        text-align: right;\n",
       "    }\n",
       "</style>\n",
       "<table border=\"1\" class=\"dataframe\">\n",
       "  <thead>\n",
       "    <tr style=\"text-align: right;\">\n",
       "      <th></th>\n",
       "      <th>Pclass</th>\n",
       "      <th>Age</th>\n",
       "      <th>Fare</th>\n",
       "      <th>female</th>\n",
       "    </tr>\n",
       "  </thead>\n",
       "  <tbody>\n",
       "    <tr>\n",
       "      <th>0</th>\n",
       "      <td>3</td>\n",
       "      <td>34.5</td>\n",
       "      <td>7.8292</td>\n",
       "      <td>0</td>\n",
       "    </tr>\n",
       "    <tr>\n",
       "      <th>1</th>\n",
       "      <td>3</td>\n",
       "      <td>47.0</td>\n",
       "      <td>7.0000</td>\n",
       "      <td>1</td>\n",
       "    </tr>\n",
       "    <tr>\n",
       "      <th>2</th>\n",
       "      <td>2</td>\n",
       "      <td>62.0</td>\n",
       "      <td>9.6875</td>\n",
       "      <td>0</td>\n",
       "    </tr>\n",
       "    <tr>\n",
       "      <th>3</th>\n",
       "      <td>3</td>\n",
       "      <td>27.0</td>\n",
       "      <td>8.6625</td>\n",
       "      <td>0</td>\n",
       "    </tr>\n",
       "    <tr>\n",
       "      <th>4</th>\n",
       "      <td>3</td>\n",
       "      <td>22.0</td>\n",
       "      <td>12.2875</td>\n",
       "      <td>1</td>\n",
       "    </tr>\n",
       "  </tbody>\n",
       "</table>\n",
       "</div>"
      ],
      "text/plain": [
       "   Pclass   Age     Fare  female\n",
       "0       3  34.5   7.8292       0\n",
       "1       3  47.0   7.0000       1\n",
       "2       2  62.0   9.6875       0\n",
       "3       3  27.0   8.6625       0\n",
       "4       3  22.0  12.2875       1"
      ]
     },
     "execution_count": 20,
     "metadata": {},
     "output_type": "execute_result"
    }
   ],
   "source": [
    "X_test = pd.concat([test_data, dummies_test],axis='columns')\n",
    "X_test.drop(['Sex','male'],axis='columns',inplace=True)\n",
    "X_test.head()"
   ]
  },
  {
   "cell_type": "code",
   "execution_count": 21,
   "id": "abe00381",
   "metadata": {
    "execution": {
     "iopub.execute_input": "2022-01-26T05:08:02.201983Z",
     "iopub.status.busy": "2022-01-26T05:08:02.200991Z",
     "iopub.status.idle": "2022-01-26T05:08:02.209881Z",
     "shell.execute_reply": "2022-01-26T05:08:02.209144Z",
     "shell.execute_reply.started": "2022-01-25T07:09:54.823903Z"
    },
    "papermill": {
     "duration": 0.047657,
     "end_time": "2022-01-26T05:08:02.210034",
     "exception": false,
     "start_time": "2022-01-26T05:08:02.162377",
     "status": "completed"
    },
    "tags": []
   },
   "outputs": [
    {
     "data": {
      "text/plain": [
       "Pclass     0\n",
       "Age       86\n",
       "Fare       1\n",
       "female     0\n",
       "dtype: int64"
      ]
     },
     "execution_count": 21,
     "metadata": {},
     "output_type": "execute_result"
    }
   ],
   "source": [
    "X_test.isnull().sum()"
   ]
  },
  {
   "cell_type": "code",
   "execution_count": 22,
   "id": "e612aaf4",
   "metadata": {
    "execution": {
     "iopub.execute_input": "2022-01-26T05:08:02.291354Z",
     "iopub.status.busy": "2022-01-26T05:08:02.290514Z",
     "iopub.status.idle": "2022-01-26T05:08:02.293729Z",
     "shell.execute_reply": "2022-01-26T05:08:02.294240Z",
     "shell.execute_reply.started": "2022-01-25T07:09:56.708744Z"
    },
    "papermill": {
     "duration": 0.04802,
     "end_time": "2022-01-26T05:08:02.294405",
     "exception": false,
     "start_time": "2022-01-26T05:08:02.246385",
     "status": "completed"
    },
    "tags": []
   },
   "outputs": [
    {
     "data": {
      "text/plain": [
       "0    7.75\n",
       "dtype: float64"
      ]
     },
     "execution_count": 22,
     "metadata": {},
     "output_type": "execute_result"
    }
   ],
   "source": [
    "X_test.Fare.mode()"
   ]
  },
  {
   "cell_type": "code",
   "execution_count": 23,
   "id": "abab4f64",
   "metadata": {
    "execution": {
     "iopub.execute_input": "2022-01-26T05:08:02.370073Z",
     "iopub.status.busy": "2022-01-26T05:08:02.369084Z",
     "iopub.status.idle": "2022-01-26T05:08:02.381560Z",
     "shell.execute_reply": "2022-01-26T05:08:02.382121Z",
     "shell.execute_reply.started": "2022-01-25T07:11:10.68419Z"
    },
    "papermill": {
     "duration": 0.05197,
     "end_time": "2022-01-26T05:08:02.382299",
     "exception": false,
     "start_time": "2022-01-26T05:08:02.330329",
     "status": "completed"
    },
    "tags": []
   },
   "outputs": [
    {
     "data": {
      "text/html": [
       "<div>\n",
       "<style scoped>\n",
       "    .dataframe tbody tr th:only-of-type {\n",
       "        vertical-align: middle;\n",
       "    }\n",
       "\n",
       "    .dataframe tbody tr th {\n",
       "        vertical-align: top;\n",
       "    }\n",
       "\n",
       "    .dataframe thead th {\n",
       "        text-align: right;\n",
       "    }\n",
       "</style>\n",
       "<table border=\"1\" class=\"dataframe\">\n",
       "  <thead>\n",
       "    <tr style=\"text-align: right;\">\n",
       "      <th></th>\n",
       "      <th>Pclass</th>\n",
       "      <th>Age</th>\n",
       "      <th>Fare</th>\n",
       "      <th>female</th>\n",
       "    </tr>\n",
       "  </thead>\n",
       "  <tbody>\n",
       "    <tr>\n",
       "      <th>0</th>\n",
       "      <td>3</td>\n",
       "      <td>34.5</td>\n",
       "      <td>7.8292</td>\n",
       "      <td>0</td>\n",
       "    </tr>\n",
       "    <tr>\n",
       "      <th>1</th>\n",
       "      <td>3</td>\n",
       "      <td>47.0</td>\n",
       "      <td>7.0000</td>\n",
       "      <td>1</td>\n",
       "    </tr>\n",
       "    <tr>\n",
       "      <th>2</th>\n",
       "      <td>2</td>\n",
       "      <td>62.0</td>\n",
       "      <td>9.6875</td>\n",
       "      <td>0</td>\n",
       "    </tr>\n",
       "    <tr>\n",
       "      <th>3</th>\n",
       "      <td>3</td>\n",
       "      <td>27.0</td>\n",
       "      <td>8.6625</td>\n",
       "      <td>0</td>\n",
       "    </tr>\n",
       "    <tr>\n",
       "      <th>4</th>\n",
       "      <td>3</td>\n",
       "      <td>22.0</td>\n",
       "      <td>12.2875</td>\n",
       "      <td>1</td>\n",
       "    </tr>\n",
       "  </tbody>\n",
       "</table>\n",
       "</div>"
      ],
      "text/plain": [
       "   Pclass   Age     Fare  female\n",
       "0       3  34.5   7.8292       0\n",
       "1       3  47.0   7.0000       1\n",
       "2       2  62.0   9.6875       0\n",
       "3       3  27.0   8.6625       0\n",
       "4       3  22.0  12.2875       1"
      ]
     },
     "execution_count": 23,
     "metadata": {},
     "output_type": "execute_result"
    }
   ],
   "source": [
    "X_test.Age = X_test.Age.fillna(X_test.Age.median())\n",
    "X_test.Fare = X_test.Fare.fillna(X_test.Fare.mean())\n",
    "X_test.head()"
   ]
  },
  {
   "cell_type": "code",
   "execution_count": 24,
   "id": "990c55e6",
   "metadata": {
    "execution": {
     "iopub.execute_input": "2022-01-26T05:08:02.459007Z",
     "iopub.status.busy": "2022-01-26T05:08:02.458039Z",
     "iopub.status.idle": "2022-01-26T05:08:02.467053Z",
     "shell.execute_reply": "2022-01-26T05:08:02.467650Z",
     "shell.execute_reply.started": "2022-01-25T07:11:13.469471Z"
    },
    "papermill": {
     "duration": 0.048891,
     "end_time": "2022-01-26T05:08:02.467838",
     "exception": false,
     "start_time": "2022-01-26T05:08:02.418947",
     "status": "completed"
    },
    "tags": []
   },
   "outputs": [
    {
     "data": {
      "text/html": [
       "<div>\n",
       "<style scoped>\n",
       "    .dataframe tbody tr th:only-of-type {\n",
       "        vertical-align: middle;\n",
       "    }\n",
       "\n",
       "    .dataframe tbody tr th {\n",
       "        vertical-align: top;\n",
       "    }\n",
       "\n",
       "    .dataframe thead th {\n",
       "        text-align: right;\n",
       "    }\n",
       "</style>\n",
       "<table border=\"1\" class=\"dataframe\">\n",
       "  <thead>\n",
       "    <tr style=\"text-align: right;\">\n",
       "      <th></th>\n",
       "      <th>Pclass</th>\n",
       "      <th>Age</th>\n",
       "      <th>Fare</th>\n",
       "      <th>female</th>\n",
       "    </tr>\n",
       "  </thead>\n",
       "  <tbody>\n",
       "  </tbody>\n",
       "</table>\n",
       "</div>"
      ],
      "text/plain": [
       "Empty DataFrame\n",
       "Columns: [Pclass, Age, Fare, female]\n",
       "Index: []"
      ]
     },
     "execution_count": 24,
     "metadata": {},
     "output_type": "execute_result"
    }
   ],
   "source": [
    "X_test[X_test['Fare'].isnull()]"
   ]
  },
  {
   "cell_type": "code",
   "execution_count": 25,
   "id": "12df6358",
   "metadata": {
    "execution": {
     "iopub.execute_input": "2022-01-26T05:08:02.545512Z",
     "iopub.status.busy": "2022-01-26T05:08:02.544550Z",
     "iopub.status.idle": "2022-01-26T05:08:02.552909Z",
     "shell.execute_reply": "2022-01-26T05:08:02.553394Z",
     "shell.execute_reply.started": "2022-01-25T07:11:15.883769Z"
    },
    "papermill": {
     "duration": 0.048641,
     "end_time": "2022-01-26T05:08:02.553558",
     "exception": false,
     "start_time": "2022-01-26T05:08:02.504917",
     "status": "completed"
    },
    "tags": []
   },
   "outputs": [
    {
     "data": {
      "text/plain": [
       "array([0, 1, 0, 0, 1, 0, 1, 0, 1, 0, 0, 0, 1, 0, 1, 1, 0, 0, 1, 1, 0, 0,\n",
       "       1, 0, 1, 0, 1, 0, 0, 0, 0, 0, 1, 1, 0, 0, 1, 1, 0, 0, 0, 0, 0, 1,\n",
       "       1, 0, 0, 0, 1, 1, 0, 0, 1, 1, 0, 0, 0, 0, 0, 1, 0, 0, 0, 1, 1, 1,\n",
       "       1, 0, 0, 1, 1, 0, 1, 0, 1, 1, 0, 1, 0, 1, 0, 1, 0, 0, 0, 0, 1, 1,\n",
       "       1, 0, 1, 0, 1, 0, 0, 0, 1, 0, 1, 0, 1, 0, 0, 0, 1, 0, 0, 0, 0, 0,\n",
       "       0, 1, 1, 1, 1, 0, 0, 1, 1, 1, 1, 0, 1, 0, 0, 1, 0, 1, 0, 0, 0, 0,\n",
       "       1, 0, 0, 0, 0, 0, 1, 0, 1, 1, 1, 0, 0, 0, 0, 0, 0, 0, 1, 0, 0, 1,\n",
       "       0, 0, 1, 1, 0, 1, 1, 0, 1, 0, 0, 1, 0, 0, 1, 1, 0, 0, 0, 0, 0, 1,\n",
       "       1, 0, 1, 1, 0, 1, 1, 0, 1, 0, 1, 0, 1, 0, 0, 0, 0, 0, 0, 0, 1, 1,\n",
       "       0, 1, 1, 0, 1, 1, 0, 0, 1, 0, 1, 0, 0, 0, 0, 1, 1, 0, 1, 1, 1, 0,\n",
       "       1, 0, 1, 0, 1, 1, 0, 1, 0, 0, 0, 1, 0, 0, 0, 0, 1, 0, 1, 1, 1, 1,\n",
       "       1, 0, 0, 0, 1, 0, 1, 1, 1, 0, 1, 0, 0, 0, 0, 0, 1, 0, 0, 0, 1, 1,\n",
       "       0, 0, 0, 0, 1, 0, 1, 0, 1, 1, 0, 1, 0, 0, 0, 0, 1, 0, 1, 1, 1, 0,\n",
       "       0, 1, 0, 0, 0, 1, 0, 1, 0, 0, 1, 0, 0, 0, 0, 0, 0, 0, 1, 1, 1, 0,\n",
       "       1, 1, 0, 0, 0, 1, 1, 1, 1, 0, 0, 0, 0, 0, 0, 0, 1, 0, 1, 1, 0, 0,\n",
       "       1, 0, 0, 1, 0, 0, 0, 0, 0, 0, 0, 0, 0, 1, 0, 1, 0, 1, 0, 1, 1, 0,\n",
       "       0, 0, 1, 0, 1, 0, 0, 1, 0, 1, 1, 0, 1, 1, 0, 1, 1, 0, 0, 1, 0, 0,\n",
       "       1, 1, 1, 0, 0, 0, 0, 0, 1, 1, 0, 1, 0, 0, 0, 0, 1, 1, 0, 0, 0, 1,\n",
       "       0, 1, 0, 0, 1, 0, 1, 0, 0, 0, 0, 1, 1, 1, 1, 1, 1, 0, 1, 0, 0, 0])"
      ]
     },
     "execution_count": 25,
     "metadata": {},
     "output_type": "execute_result"
    }
   ],
   "source": [
    "y_predicted = model.predict(X_test)\n",
    "y_predicted"
   ]
  },
  {
   "cell_type": "code",
   "execution_count": 26,
   "id": "b9f548f7",
   "metadata": {
    "execution": {
     "iopub.execute_input": "2022-01-26T05:08:02.632364Z",
     "iopub.status.busy": "2022-01-26T05:08:02.631377Z",
     "iopub.status.idle": "2022-01-26T05:08:02.638269Z",
     "shell.execute_reply": "2022-01-26T05:08:02.638884Z",
     "shell.execute_reply.started": "2022-01-25T07:11:20.324018Z"
    },
    "papermill": {
     "duration": 0.048187,
     "end_time": "2022-01-26T05:08:02.639053",
     "exception": false,
     "start_time": "2022-01-26T05:08:02.590866",
     "status": "completed"
    },
    "tags": []
   },
   "outputs": [
    {
     "data": {
      "text/plain": [
       "0       892\n",
       "1       893\n",
       "2       894\n",
       "3       895\n",
       "4       896\n",
       "       ... \n",
       "413    1305\n",
       "414    1306\n",
       "415    1307\n",
       "416    1308\n",
       "417    1309\n",
       "Name: PassengerId, Length: 418, dtype: int64"
      ]
     },
     "execution_count": 26,
     "metadata": {},
     "output_type": "execute_result"
    }
   ],
   "source": [
    "test_data1['PassengerId']"
   ]
  },
  {
   "cell_type": "code",
   "execution_count": 27,
   "id": "9b879a7b",
   "metadata": {
    "execution": {
     "iopub.execute_input": "2022-01-26T05:08:02.720970Z",
     "iopub.status.busy": "2022-01-26T05:08:02.720288Z",
     "iopub.status.idle": "2022-01-26T05:08:02.722811Z",
     "shell.execute_reply": "2022-01-26T05:08:02.722303Z",
     "shell.execute_reply.started": "2022-01-25T07:11:23.383647Z"
    },
    "papermill": {
     "duration": 0.046339,
     "end_time": "2022-01-26T05:08:02.722956",
     "exception": false,
     "start_time": "2022-01-26T05:08:02.676617",
     "status": "completed"
    },
    "tags": []
   },
   "outputs": [],
   "source": [
    "submission_dataframe = pd.DataFrame(data = test_data1['PassengerId'], columns = ['PassengerId'])"
   ]
  },
  {
   "cell_type": "code",
   "execution_count": 28,
   "id": "ab2d2cc9",
   "metadata": {
    "execution": {
     "iopub.execute_input": "2022-01-26T05:08:02.812366Z",
     "iopub.status.busy": "2022-01-26T05:08:02.811584Z",
     "iopub.status.idle": "2022-01-26T05:08:02.814895Z",
     "shell.execute_reply": "2022-01-26T05:08:02.815381Z",
     "shell.execute_reply.started": "2022-01-25T07:11:24.523763Z"
    },
    "papermill": {
     "duration": 0.05448,
     "end_time": "2022-01-26T05:08:02.815558",
     "exception": false,
     "start_time": "2022-01-26T05:08:02.761078",
     "status": "completed"
    },
    "tags": []
   },
   "outputs": [
    {
     "data": {
      "text/html": [
       "<div>\n",
       "<style scoped>\n",
       "    .dataframe tbody tr th:only-of-type {\n",
       "        vertical-align: middle;\n",
       "    }\n",
       "\n",
       "    .dataframe tbody tr th {\n",
       "        vertical-align: top;\n",
       "    }\n",
       "\n",
       "    .dataframe thead th {\n",
       "        text-align: right;\n",
       "    }\n",
       "</style>\n",
       "<table border=\"1\" class=\"dataframe\">\n",
       "  <thead>\n",
       "    <tr style=\"text-align: right;\">\n",
       "      <th></th>\n",
       "      <th>PassengerId</th>\n",
       "      <th>Survived</th>\n",
       "    </tr>\n",
       "  </thead>\n",
       "  <tbody>\n",
       "    <tr>\n",
       "      <th>0</th>\n",
       "      <td>892</td>\n",
       "      <td>0</td>\n",
       "    </tr>\n",
       "    <tr>\n",
       "      <th>1</th>\n",
       "      <td>893</td>\n",
       "      <td>1</td>\n",
       "    </tr>\n",
       "    <tr>\n",
       "      <th>2</th>\n",
       "      <td>894</td>\n",
       "      <td>0</td>\n",
       "    </tr>\n",
       "    <tr>\n",
       "      <th>3</th>\n",
       "      <td>895</td>\n",
       "      <td>0</td>\n",
       "    </tr>\n",
       "    <tr>\n",
       "      <th>4</th>\n",
       "      <td>896</td>\n",
       "      <td>1</td>\n",
       "    </tr>\n",
       "    <tr>\n",
       "      <th>...</th>\n",
       "      <td>...</td>\n",
       "      <td>...</td>\n",
       "    </tr>\n",
       "    <tr>\n",
       "      <th>413</th>\n",
       "      <td>1305</td>\n",
       "      <td>0</td>\n",
       "    </tr>\n",
       "    <tr>\n",
       "      <th>414</th>\n",
       "      <td>1306</td>\n",
       "      <td>1</td>\n",
       "    </tr>\n",
       "    <tr>\n",
       "      <th>415</th>\n",
       "      <td>1307</td>\n",
       "      <td>0</td>\n",
       "    </tr>\n",
       "    <tr>\n",
       "      <th>416</th>\n",
       "      <td>1308</td>\n",
       "      <td>0</td>\n",
       "    </tr>\n",
       "    <tr>\n",
       "      <th>417</th>\n",
       "      <td>1309</td>\n",
       "      <td>0</td>\n",
       "    </tr>\n",
       "  </tbody>\n",
       "</table>\n",
       "<p>418 rows × 2 columns</p>\n",
       "</div>"
      ],
      "text/plain": [
       "     PassengerId  Survived\n",
       "0            892         0\n",
       "1            893         1\n",
       "2            894         0\n",
       "3            895         0\n",
       "4            896         1\n",
       "..           ...       ...\n",
       "413         1305         0\n",
       "414         1306         1\n",
       "415         1307         0\n",
       "416         1308         0\n",
       "417         1309         0\n",
       "\n",
       "[418 rows x 2 columns]"
      ]
     },
     "execution_count": 28,
     "metadata": {},
     "output_type": "execute_result"
    }
   ],
   "source": [
    "submission_dataframe['Survived'] = y_predicted\n",
    "submission_dataframe"
   ]
  },
  {
   "cell_type": "code",
   "execution_count": 29,
   "id": "508d2046",
   "metadata": {
    "execution": {
     "iopub.execute_input": "2022-01-26T05:08:02.897551Z",
     "iopub.status.busy": "2022-01-26T05:08:02.896880Z",
     "iopub.status.idle": "2022-01-26T05:08:02.904721Z",
     "shell.execute_reply": "2022-01-26T05:08:02.905324Z",
     "shell.execute_reply.started": "2022-01-25T07:12:22.104403Z"
    },
    "papermill": {
     "duration": 0.051574,
     "end_time": "2022-01-26T05:08:02.905515",
     "exception": false,
     "start_time": "2022-01-26T05:08:02.853941",
     "status": "completed"
    },
    "tags": []
   },
   "outputs": [],
   "source": [
    "submission_dataframe.to_csv('submission.csv', index = False)"
   ]
  },
  {
   "cell_type": "code",
   "execution_count": null,
   "id": "c9deb3d5",
   "metadata": {
    "papermill": {
     "duration": 0.038077,
     "end_time": "2022-01-26T05:08:02.982605",
     "exception": false,
     "start_time": "2022-01-26T05:08:02.944528",
     "status": "completed"
    },
    "tags": []
   },
   "outputs": [],
   "source": []
  }
 ],
 "metadata": {
  "kernelspec": {
   "display_name": "Python 3",
   "language": "python",
   "name": "python3"
  },
  "language_info": {
   "codemirror_mode": {
    "name": "ipython",
    "version": 3
   },
   "file_extension": ".py",
   "mimetype": "text/x-python",
   "name": "python",
   "nbconvert_exporter": "python",
   "pygments_lexer": "ipython3",
   "version": "3.8.8"
  },
  "papermill": {
   "default_parameters": {},
   "duration": 14.283587,
   "end_time": "2022-01-26T05:08:03.731560",
   "environment_variables": {},
   "exception": null,
   "input_path": "__notebook__.ipynb",
   "output_path": "__notebook__.ipynb",
   "parameters": {},
   "start_time": "2022-01-26T05:07:49.447973",
   "version": "2.3.3"
  }
 },
 "nbformat": 4,
 "nbformat_minor": 5
}
