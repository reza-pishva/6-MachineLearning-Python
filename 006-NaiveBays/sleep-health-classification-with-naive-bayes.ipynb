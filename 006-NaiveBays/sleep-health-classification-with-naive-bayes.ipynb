{
 "cells": [
  {
   "cell_type": "markdown",
   "id": "b98bddde",
   "metadata": {
    "id": "mzg9Zw21q6Tp",
    "papermill": {
     "duration": 0.006586,
     "end_time": "2023-07-05T16:02:51.113262",
     "exception": false,
     "start_time": "2023-07-05T16:02:51.106676",
     "status": "completed"
    },
    "tags": []
   },
   "source": [
    "# Classification of Sleep Disorders\n",
    "\n",
    "dataset: https://www.kaggle.com/datasets/uom190346a/sleep-health-and-lifestyle-dataset"
   ]
  },
  {
   "cell_type": "code",
   "execution_count": 1,
   "id": "cf31f920",
   "metadata": {
    "execution": {
     "iopub.execute_input": "2023-07-05T16:02:51.127340Z",
     "iopub.status.busy": "2023-07-05T16:02:51.126935Z",
     "iopub.status.idle": "2023-07-05T16:02:51.139076Z",
     "shell.execute_reply": "2023-07-05T16:02:51.137875Z"
    },
    "id": "T-_LOgbxpk-x",
    "papermill": {
     "duration": 0.022647,
     "end_time": "2023-07-05T16:02:51.141942",
     "exception": false,
     "start_time": "2023-07-05T16:02:51.119295",
     "status": "completed"
    },
    "tags": []
   },
   "outputs": [],
   "source": [
    "import pandas as pd\n",
    "import numpy  as np"
   ]
  },
  {
   "cell_type": "code",
   "execution_count": 2,
   "id": "6b912ee6",
   "metadata": {
    "execution": {
     "iopub.execute_input": "2023-07-05T16:02:51.156530Z",
     "iopub.status.busy": "2023-07-05T16:02:51.156126Z",
     "iopub.status.idle": "2023-07-05T16:02:51.233091Z",
     "shell.execute_reply": "2023-07-05T16:02:51.231998Z"
    },
    "id": "fWyK0Yg6p0Ki",
    "outputId": "7e407904-244a-4a48-d1b4-30ad29f9aa2d",
    "papermill": {
     "duration": 0.087997,
     "end_time": "2023-07-05T16:02:51.236473",
     "exception": false,
     "start_time": "2023-07-05T16:02:51.148476",
     "status": "completed"
    },
    "tags": []
   },
   "outputs": [
    {
     "data": {
      "text/html": [
       "<div>\n",
       "<style scoped>\n",
       "    .dataframe tbody tr th:only-of-type {\n",
       "        vertical-align: middle;\n",
       "    }\n",
       "\n",
       "    .dataframe tbody tr th {\n",
       "        vertical-align: top;\n",
       "    }\n",
       "\n",
       "    .dataframe thead th {\n",
       "        text-align: right;\n",
       "    }\n",
       "</style>\n",
       "<table border=\"1\" class=\"dataframe\">\n",
       "  <thead>\n",
       "    <tr style=\"text-align: right;\">\n",
       "      <th></th>\n",
       "      <th>Gender</th>\n",
       "      <th>Age</th>\n",
       "      <th>Occupation</th>\n",
       "      <th>Sleep Duration</th>\n",
       "      <th>Quality of Sleep</th>\n",
       "      <th>Physical Activity Level</th>\n",
       "      <th>Stress Level</th>\n",
       "      <th>BMI Category</th>\n",
       "      <th>Blood Pressure</th>\n",
       "      <th>Heart Rate</th>\n",
       "      <th>Daily Steps</th>\n",
       "      <th>Sleep Disorder</th>\n",
       "    </tr>\n",
       "  </thead>\n",
       "  <tbody>\n",
       "    <tr>\n",
       "      <th>0</th>\n",
       "      <td>Male</td>\n",
       "      <td>27</td>\n",
       "      <td>Software Engineer</td>\n",
       "      <td>6.1</td>\n",
       "      <td>6</td>\n",
       "      <td>42</td>\n",
       "      <td>6</td>\n",
       "      <td>Overweight</td>\n",
       "      <td>126/83</td>\n",
       "      <td>77</td>\n",
       "      <td>4200</td>\n",
       "      <td>None</td>\n",
       "    </tr>\n",
       "    <tr>\n",
       "      <th>1</th>\n",
       "      <td>Male</td>\n",
       "      <td>28</td>\n",
       "      <td>Doctor</td>\n",
       "      <td>6.2</td>\n",
       "      <td>6</td>\n",
       "      <td>60</td>\n",
       "      <td>8</td>\n",
       "      <td>Normal</td>\n",
       "      <td>125/80</td>\n",
       "      <td>75</td>\n",
       "      <td>10000</td>\n",
       "      <td>None</td>\n",
       "    </tr>\n",
       "    <tr>\n",
       "      <th>2</th>\n",
       "      <td>Male</td>\n",
       "      <td>28</td>\n",
       "      <td>Doctor</td>\n",
       "      <td>6.2</td>\n",
       "      <td>6</td>\n",
       "      <td>60</td>\n",
       "      <td>8</td>\n",
       "      <td>Normal</td>\n",
       "      <td>125/80</td>\n",
       "      <td>75</td>\n",
       "      <td>10000</td>\n",
       "      <td>None</td>\n",
       "    </tr>\n",
       "    <tr>\n",
       "      <th>3</th>\n",
       "      <td>Male</td>\n",
       "      <td>28</td>\n",
       "      <td>Sales Representative</td>\n",
       "      <td>5.9</td>\n",
       "      <td>4</td>\n",
       "      <td>30</td>\n",
       "      <td>8</td>\n",
       "      <td>Obese</td>\n",
       "      <td>140/90</td>\n",
       "      <td>85</td>\n",
       "      <td>3000</td>\n",
       "      <td>Sleep Apnea</td>\n",
       "    </tr>\n",
       "    <tr>\n",
       "      <th>4</th>\n",
       "      <td>Male</td>\n",
       "      <td>28</td>\n",
       "      <td>Sales Representative</td>\n",
       "      <td>5.9</td>\n",
       "      <td>4</td>\n",
       "      <td>30</td>\n",
       "      <td>8</td>\n",
       "      <td>Obese</td>\n",
       "      <td>140/90</td>\n",
       "      <td>85</td>\n",
       "      <td>3000</td>\n",
       "      <td>Sleep Apnea</td>\n",
       "    </tr>\n",
       "    <tr>\n",
       "      <th>...</th>\n",
       "      <td>...</td>\n",
       "      <td>...</td>\n",
       "      <td>...</td>\n",
       "      <td>...</td>\n",
       "      <td>...</td>\n",
       "      <td>...</td>\n",
       "      <td>...</td>\n",
       "      <td>...</td>\n",
       "      <td>...</td>\n",
       "      <td>...</td>\n",
       "      <td>...</td>\n",
       "      <td>...</td>\n",
       "    </tr>\n",
       "    <tr>\n",
       "      <th>369</th>\n",
       "      <td>Female</td>\n",
       "      <td>59</td>\n",
       "      <td>Nurse</td>\n",
       "      <td>8.1</td>\n",
       "      <td>9</td>\n",
       "      <td>75</td>\n",
       "      <td>3</td>\n",
       "      <td>Overweight</td>\n",
       "      <td>140/95</td>\n",
       "      <td>68</td>\n",
       "      <td>7000</td>\n",
       "      <td>Sleep Apnea</td>\n",
       "    </tr>\n",
       "    <tr>\n",
       "      <th>370</th>\n",
       "      <td>Female</td>\n",
       "      <td>59</td>\n",
       "      <td>Nurse</td>\n",
       "      <td>8.0</td>\n",
       "      <td>9</td>\n",
       "      <td>75</td>\n",
       "      <td>3</td>\n",
       "      <td>Overweight</td>\n",
       "      <td>140/95</td>\n",
       "      <td>68</td>\n",
       "      <td>7000</td>\n",
       "      <td>Sleep Apnea</td>\n",
       "    </tr>\n",
       "    <tr>\n",
       "      <th>371</th>\n",
       "      <td>Female</td>\n",
       "      <td>59</td>\n",
       "      <td>Nurse</td>\n",
       "      <td>8.1</td>\n",
       "      <td>9</td>\n",
       "      <td>75</td>\n",
       "      <td>3</td>\n",
       "      <td>Overweight</td>\n",
       "      <td>140/95</td>\n",
       "      <td>68</td>\n",
       "      <td>7000</td>\n",
       "      <td>Sleep Apnea</td>\n",
       "    </tr>\n",
       "    <tr>\n",
       "      <th>372</th>\n",
       "      <td>Female</td>\n",
       "      <td>59</td>\n",
       "      <td>Nurse</td>\n",
       "      <td>8.1</td>\n",
       "      <td>9</td>\n",
       "      <td>75</td>\n",
       "      <td>3</td>\n",
       "      <td>Overweight</td>\n",
       "      <td>140/95</td>\n",
       "      <td>68</td>\n",
       "      <td>7000</td>\n",
       "      <td>Sleep Apnea</td>\n",
       "    </tr>\n",
       "    <tr>\n",
       "      <th>373</th>\n",
       "      <td>Female</td>\n",
       "      <td>59</td>\n",
       "      <td>Nurse</td>\n",
       "      <td>8.1</td>\n",
       "      <td>9</td>\n",
       "      <td>75</td>\n",
       "      <td>3</td>\n",
       "      <td>Overweight</td>\n",
       "      <td>140/95</td>\n",
       "      <td>68</td>\n",
       "      <td>7000</td>\n",
       "      <td>Sleep Apnea</td>\n",
       "    </tr>\n",
       "  </tbody>\n",
       "</table>\n",
       "<p>374 rows × 12 columns</p>\n",
       "</div>"
      ],
      "text/plain": [
       "     Gender  Age            Occupation  Sleep Duration  Quality of Sleep  \\\n",
       "0      Male   27     Software Engineer             6.1                 6   \n",
       "1      Male   28                Doctor             6.2                 6   \n",
       "2      Male   28                Doctor             6.2                 6   \n",
       "3      Male   28  Sales Representative             5.9                 4   \n",
       "4      Male   28  Sales Representative             5.9                 4   \n",
       "..      ...  ...                   ...             ...               ...   \n",
       "369  Female   59                 Nurse             8.1                 9   \n",
       "370  Female   59                 Nurse             8.0                 9   \n",
       "371  Female   59                 Nurse             8.1                 9   \n",
       "372  Female   59                 Nurse             8.1                 9   \n",
       "373  Female   59                 Nurse             8.1                 9   \n",
       "\n",
       "     Physical Activity Level  Stress Level BMI Category Blood Pressure  \\\n",
       "0                         42             6   Overweight         126/83   \n",
       "1                         60             8       Normal         125/80   \n",
       "2                         60             8       Normal         125/80   \n",
       "3                         30             8        Obese         140/90   \n",
       "4                         30             8        Obese         140/90   \n",
       "..                       ...           ...          ...            ...   \n",
       "369                       75             3   Overweight         140/95   \n",
       "370                       75             3   Overweight         140/95   \n",
       "371                       75             3   Overweight         140/95   \n",
       "372                       75             3   Overweight         140/95   \n",
       "373                       75             3   Overweight         140/95   \n",
       "\n",
       "     Heart Rate  Daily Steps Sleep Disorder  \n",
       "0            77         4200           None  \n",
       "1            75        10000           None  \n",
       "2            75        10000           None  \n",
       "3            85         3000    Sleep Apnea  \n",
       "4            85         3000    Sleep Apnea  \n",
       "..          ...          ...            ...  \n",
       "369          68         7000    Sleep Apnea  \n",
       "370          68         7000    Sleep Apnea  \n",
       "371          68         7000    Sleep Apnea  \n",
       "372          68         7000    Sleep Apnea  \n",
       "373          68         7000    Sleep Apnea  \n",
       "\n",
       "[374 rows x 12 columns]"
      ]
     },
     "execution_count": 2,
     "metadata": {},
     "output_type": "execute_result"
    }
   ],
   "source": [
    "dataset = pd.read_csv('/kaggle/input/sleep-health-and-lifestyle-dataset/Sleep_health_and_lifestyle_dataset.csv')\n",
    "\n",
    "dataset = dataset.drop(columns = ['Person ID'])\n",
    "\n",
    "dataset"
   ]
  },
  {
   "cell_type": "markdown",
   "id": "594ad58d",
   "metadata": {
    "id": "mfagwjk_s4Pg",
    "papermill": {
     "duration": 0.006613,
     "end_time": "2023-07-05T16:02:51.249496",
     "exception": false,
     "start_time": "2023-07-05T16:02:51.242883",
     "status": "completed"
    },
    "tags": []
   },
   "source": [
    "# Preprocessing phase\n",
    "\n",
    "\n",
    "*   Encoding labels\n",
    "*   Evaluating Blood Pressure\n",
    "\n"
   ]
  },
  {
   "cell_type": "code",
   "execution_count": 3,
   "id": "c276297c",
   "metadata": {
    "execution": {
     "iopub.execute_input": "2023-07-05T16:02:51.265692Z",
     "iopub.status.busy": "2023-07-05T16:02:51.264332Z",
     "iopub.status.idle": "2023-07-05T16:02:52.719503Z",
     "shell.execute_reply": "2023-07-05T16:02:52.718181Z"
    },
    "id": "PnW7cp3brwls",
    "outputId": "e04d8b0b-fb98-474c-e642-02255ec61a66",
    "papermill": {
     "duration": 1.46591,
     "end_time": "2023-07-05T16:02:52.722190",
     "exception": false,
     "start_time": "2023-07-05T16:02:51.256280",
     "status": "completed"
    },
    "tags": []
   },
   "outputs": [
    {
     "data": {
      "text/html": [
       "<div>\n",
       "<style scoped>\n",
       "    .dataframe tbody tr th:only-of-type {\n",
       "        vertical-align: middle;\n",
       "    }\n",
       "\n",
       "    .dataframe tbody tr th {\n",
       "        vertical-align: top;\n",
       "    }\n",
       "\n",
       "    .dataframe thead th {\n",
       "        text-align: right;\n",
       "    }\n",
       "</style>\n",
       "<table border=\"1\" class=\"dataframe\">\n",
       "  <thead>\n",
       "    <tr style=\"text-align: right;\">\n",
       "      <th></th>\n",
       "      <th>Gender</th>\n",
       "      <th>Age</th>\n",
       "      <th>Occupation</th>\n",
       "      <th>Sleep Duration</th>\n",
       "      <th>Quality of Sleep</th>\n",
       "      <th>Physical Activity Level</th>\n",
       "      <th>Stress Level</th>\n",
       "      <th>BMI Category</th>\n",
       "      <th>Blood Pressure</th>\n",
       "      <th>Heart Rate</th>\n",
       "      <th>Daily Steps</th>\n",
       "      <th>Sleep Disorder</th>\n",
       "    </tr>\n",
       "  </thead>\n",
       "  <tbody>\n",
       "    <tr>\n",
       "      <th>0</th>\n",
       "      <td>1</td>\n",
       "      <td>27</td>\n",
       "      <td>9</td>\n",
       "      <td>6.1</td>\n",
       "      <td>6</td>\n",
       "      <td>42</td>\n",
       "      <td>6</td>\n",
       "      <td>3</td>\n",
       "      <td>1.518072</td>\n",
       "      <td>77</td>\n",
       "      <td>4200</td>\n",
       "      <td>None</td>\n",
       "    </tr>\n",
       "    <tr>\n",
       "      <th>1</th>\n",
       "      <td>1</td>\n",
       "      <td>28</td>\n",
       "      <td>1</td>\n",
       "      <td>6.2</td>\n",
       "      <td>6</td>\n",
       "      <td>60</td>\n",
       "      <td>8</td>\n",
       "      <td>0</td>\n",
       "      <td>1.562500</td>\n",
       "      <td>75</td>\n",
       "      <td>10000</td>\n",
       "      <td>None</td>\n",
       "    </tr>\n",
       "    <tr>\n",
       "      <th>2</th>\n",
       "      <td>1</td>\n",
       "      <td>28</td>\n",
       "      <td>1</td>\n",
       "      <td>6.2</td>\n",
       "      <td>6</td>\n",
       "      <td>60</td>\n",
       "      <td>8</td>\n",
       "      <td>0</td>\n",
       "      <td>1.562500</td>\n",
       "      <td>75</td>\n",
       "      <td>10000</td>\n",
       "      <td>None</td>\n",
       "    </tr>\n",
       "    <tr>\n",
       "      <th>3</th>\n",
       "      <td>1</td>\n",
       "      <td>28</td>\n",
       "      <td>6</td>\n",
       "      <td>5.9</td>\n",
       "      <td>4</td>\n",
       "      <td>30</td>\n",
       "      <td>8</td>\n",
       "      <td>2</td>\n",
       "      <td>1.555556</td>\n",
       "      <td>85</td>\n",
       "      <td>3000</td>\n",
       "      <td>Sleep Apnea</td>\n",
       "    </tr>\n",
       "    <tr>\n",
       "      <th>4</th>\n",
       "      <td>1</td>\n",
       "      <td>28</td>\n",
       "      <td>6</td>\n",
       "      <td>5.9</td>\n",
       "      <td>4</td>\n",
       "      <td>30</td>\n",
       "      <td>8</td>\n",
       "      <td>2</td>\n",
       "      <td>1.555556</td>\n",
       "      <td>85</td>\n",
       "      <td>3000</td>\n",
       "      <td>Sleep Apnea</td>\n",
       "    </tr>\n",
       "    <tr>\n",
       "      <th>...</th>\n",
       "      <td>...</td>\n",
       "      <td>...</td>\n",
       "      <td>...</td>\n",
       "      <td>...</td>\n",
       "      <td>...</td>\n",
       "      <td>...</td>\n",
       "      <td>...</td>\n",
       "      <td>...</td>\n",
       "      <td>...</td>\n",
       "      <td>...</td>\n",
       "      <td>...</td>\n",
       "      <td>...</td>\n",
       "    </tr>\n",
       "    <tr>\n",
       "      <th>369</th>\n",
       "      <td>0</td>\n",
       "      <td>59</td>\n",
       "      <td>5</td>\n",
       "      <td>8.1</td>\n",
       "      <td>9</td>\n",
       "      <td>75</td>\n",
       "      <td>3</td>\n",
       "      <td>3</td>\n",
       "      <td>1.473684</td>\n",
       "      <td>68</td>\n",
       "      <td>7000</td>\n",
       "      <td>Sleep Apnea</td>\n",
       "    </tr>\n",
       "    <tr>\n",
       "      <th>370</th>\n",
       "      <td>0</td>\n",
       "      <td>59</td>\n",
       "      <td>5</td>\n",
       "      <td>8.0</td>\n",
       "      <td>9</td>\n",
       "      <td>75</td>\n",
       "      <td>3</td>\n",
       "      <td>3</td>\n",
       "      <td>1.473684</td>\n",
       "      <td>68</td>\n",
       "      <td>7000</td>\n",
       "      <td>Sleep Apnea</td>\n",
       "    </tr>\n",
       "    <tr>\n",
       "      <th>371</th>\n",
       "      <td>0</td>\n",
       "      <td>59</td>\n",
       "      <td>5</td>\n",
       "      <td>8.1</td>\n",
       "      <td>9</td>\n",
       "      <td>75</td>\n",
       "      <td>3</td>\n",
       "      <td>3</td>\n",
       "      <td>1.473684</td>\n",
       "      <td>68</td>\n",
       "      <td>7000</td>\n",
       "      <td>Sleep Apnea</td>\n",
       "    </tr>\n",
       "    <tr>\n",
       "      <th>372</th>\n",
       "      <td>0</td>\n",
       "      <td>59</td>\n",
       "      <td>5</td>\n",
       "      <td>8.1</td>\n",
       "      <td>9</td>\n",
       "      <td>75</td>\n",
       "      <td>3</td>\n",
       "      <td>3</td>\n",
       "      <td>1.473684</td>\n",
       "      <td>68</td>\n",
       "      <td>7000</td>\n",
       "      <td>Sleep Apnea</td>\n",
       "    </tr>\n",
       "    <tr>\n",
       "      <th>373</th>\n",
       "      <td>0</td>\n",
       "      <td>59</td>\n",
       "      <td>5</td>\n",
       "      <td>8.1</td>\n",
       "      <td>9</td>\n",
       "      <td>75</td>\n",
       "      <td>3</td>\n",
       "      <td>3</td>\n",
       "      <td>1.473684</td>\n",
       "      <td>68</td>\n",
       "      <td>7000</td>\n",
       "      <td>Sleep Apnea</td>\n",
       "    </tr>\n",
       "  </tbody>\n",
       "</table>\n",
       "<p>374 rows × 12 columns</p>\n",
       "</div>"
      ],
      "text/plain": [
       "     Gender  Age  Occupation  Sleep Duration  Quality of Sleep  \\\n",
       "0         1   27           9             6.1                 6   \n",
       "1         1   28           1             6.2                 6   \n",
       "2         1   28           1             6.2                 6   \n",
       "3         1   28           6             5.9                 4   \n",
       "4         1   28           6             5.9                 4   \n",
       "..      ...  ...         ...             ...               ...   \n",
       "369       0   59           5             8.1                 9   \n",
       "370       0   59           5             8.0                 9   \n",
       "371       0   59           5             8.1                 9   \n",
       "372       0   59           5             8.1                 9   \n",
       "373       0   59           5             8.1                 9   \n",
       "\n",
       "     Physical Activity Level  Stress Level  BMI Category  Blood Pressure  \\\n",
       "0                         42             6             3        1.518072   \n",
       "1                         60             8             0        1.562500   \n",
       "2                         60             8             0        1.562500   \n",
       "3                         30             8             2        1.555556   \n",
       "4                         30             8             2        1.555556   \n",
       "..                       ...           ...           ...             ...   \n",
       "369                       75             3             3        1.473684   \n",
       "370                       75             3             3        1.473684   \n",
       "371                       75             3             3        1.473684   \n",
       "372                       75             3             3        1.473684   \n",
       "373                       75             3             3        1.473684   \n",
       "\n",
       "     Heart Rate  Daily Steps Sleep Disorder  \n",
       "0            77         4200           None  \n",
       "1            75        10000           None  \n",
       "2            75        10000           None  \n",
       "3            85         3000    Sleep Apnea  \n",
       "4            85         3000    Sleep Apnea  \n",
       "..          ...          ...            ...  \n",
       "369          68         7000    Sleep Apnea  \n",
       "370          68         7000    Sleep Apnea  \n",
       "371          68         7000    Sleep Apnea  \n",
       "372          68         7000    Sleep Apnea  \n",
       "373          68         7000    Sleep Apnea  \n",
       "\n",
       "[374 rows x 12 columns]"
      ]
     },
     "execution_count": 3,
     "metadata": {},
     "output_type": "execute_result"
    }
   ],
   "source": [
    "from sklearn.preprocessing import LabelEncoder\n",
    "\n",
    "dataset[dataset.columns[0]] = LabelEncoder().fit_transform(dataset.iloc[:, 0])\n",
    "dataset[dataset.columns[2]] = LabelEncoder().fit_transform(dataset.iloc[:, 2])\n",
    "dataset[dataset.columns[7]] = LabelEncoder().fit_transform(dataset.iloc[:, 7])\n",
    "\n",
    "dataset[dataset.columns[8]] = [eval(x) for x in dataset.iloc[:, 8]]\n",
    "\n",
    "dataset"
   ]
  },
  {
   "cell_type": "markdown",
   "id": "68104240",
   "metadata": {
    "id": "UGRz9P1yvTlD",
    "papermill": {
     "duration": 0.006408,
     "end_time": "2023-07-05T16:02:52.735328",
     "exception": false,
     "start_time": "2023-07-05T16:02:52.728920",
     "status": "completed"
    },
    "tags": []
   },
   "source": [
    "# Splitting the data\n",
    "\n",
    "save the label column in *y*, and the features columns in *X*"
   ]
  },
  {
   "cell_type": "code",
   "execution_count": 4,
   "id": "191b9fc8",
   "metadata": {
    "execution": {
     "iopub.execute_input": "2023-07-05T16:02:52.752684Z",
     "iopub.status.busy": "2023-07-05T16:02:52.752230Z",
     "iopub.status.idle": "2023-07-05T16:02:52.760218Z",
     "shell.execute_reply": "2023-07-05T16:02:52.759110Z"
    },
    "id": "Ni_c0yPYtYVd",
    "papermill": {
     "duration": 0.019014,
     "end_time": "2023-07-05T16:02:52.762779",
     "exception": false,
     "start_time": "2023-07-05T16:02:52.743765",
     "status": "completed"
    },
    "tags": []
   },
   "outputs": [],
   "source": [
    "X = dataset.iloc[:, 0:10].values\n",
    "y = dataset.iloc[:, 11].values"
   ]
  },
  {
   "cell_type": "markdown",
   "id": "d55816ba",
   "metadata": {
    "id": "BhxrPqfkvlDq",
    "papermill": {
     "duration": 0.006528,
     "end_time": "2023-07-05T16:02:52.776308",
     "exception": false,
     "start_time": "2023-07-05T16:02:52.769780",
     "status": "completed"
    },
    "tags": []
   },
   "source": [
    "# Scalling the data\n",
    "\n",
    "all values from *X* will be in the same scale"
   ]
  },
  {
   "cell_type": "code",
   "execution_count": 5,
   "id": "f44e9f90",
   "metadata": {
    "execution": {
     "iopub.execute_input": "2023-07-05T16:02:52.792148Z",
     "iopub.status.busy": "2023-07-05T16:02:52.791338Z",
     "iopub.status.idle": "2023-07-05T16:02:52.801962Z",
     "shell.execute_reply": "2023-07-05T16:02:52.800741Z"
    },
    "id": "Wa7pwCX8uF8Z",
    "outputId": "942d7f60-3adc-41cc-c603-90527cefe113",
    "papermill": {
     "duration": 0.02127,
     "end_time": "2023-07-05T16:02:52.804510",
     "exception": false,
     "start_time": "2023-07-05T16:02:52.783240",
     "status": "completed"
    },
    "tags": []
   },
   "outputs": [
    {
     "data": {
      "text/plain": [
       "array([[ 0.9893614 , -1.75309569,  1.7127411 , ...,  1.19162881,\n",
       "        -0.07025172,  1.6547187 ],\n",
       "       [ 0.9893614 , -1.63764266, -0.90849745, ..., -0.9072841 ,\n",
       "         1.44555598,  1.17047394],\n",
       "       [ 0.9893614 , -1.63764266, -0.90849745, ..., -0.9072841 ,\n",
       "         1.44555598,  1.17047394],\n",
       "       ...,\n",
       "       [-1.010753  ,  1.94140144,  0.40212182, ...,  1.19162881,\n",
       "        -1.58470724, -0.52438269],\n",
       "       [-1.010753  ,  1.94140144,  0.40212182, ...,  1.19162881,\n",
       "        -1.58470724, -0.52438269],\n",
       "       [-1.010753  ,  1.94140144,  0.40212182, ...,  1.19162881,\n",
       "        -1.58470724, -0.52438269]])"
      ]
     },
     "execution_count": 5,
     "metadata": {},
     "output_type": "execute_result"
    }
   ],
   "source": [
    "from sklearn.preprocessing import StandardScaler\n",
    "\n",
    "X = StandardScaler().fit_transform(X)\n",
    "\n",
    "X"
   ]
  },
  {
   "cell_type": "markdown",
   "id": "c9a445c7",
   "metadata": {
    "id": "LoRSTP5nvtuq",
    "papermill": {
     "duration": 0.007154,
     "end_time": "2023-07-05T16:02:52.819071",
     "exception": false,
     "start_time": "2023-07-05T16:02:52.811917",
     "status": "completed"
    },
    "tags": []
   },
   "source": [
    "# Define training and test data"
   ]
  },
  {
   "cell_type": "code",
   "execution_count": 6,
   "id": "69b1a6cc",
   "metadata": {
    "execution": {
     "iopub.execute_input": "2023-07-05T16:02:52.835998Z",
     "iopub.status.busy": "2023-07-05T16:02:52.835529Z",
     "iopub.status.idle": "2023-07-05T16:02:52.966014Z",
     "shell.execute_reply": "2023-07-05T16:02:52.964661Z"
    },
    "id": "m1dd_01PuUJo",
    "papermill": {
     "duration": 0.143236,
     "end_time": "2023-07-05T16:02:52.969712",
     "exception": false,
     "start_time": "2023-07-05T16:02:52.826476",
     "status": "completed"
    },
    "tags": []
   },
   "outputs": [],
   "source": [
    "from sklearn.model_selection import train_test_split\n",
    "\n",
    "X_train, X_test, y_train, y_test = train_test_split(X, y, test_size = 0.27, random_state = 0)"
   ]
  },
  {
   "cell_type": "markdown",
   "id": "9faa2fc4",
   "metadata": {
    "id": "1jlGYqSNukuv",
    "papermill": {
     "duration": 0.006634,
     "end_time": "2023-07-05T16:02:52.983961",
     "exception": false,
     "start_time": "2023-07-05T16:02:52.977327",
     "status": "completed"
    },
    "tags": []
   },
   "source": [
    "# Naive Bayes\n",
    "\n",
    "training the Naive Bayes model"
   ]
  },
  {
   "cell_type": "code",
   "execution_count": 7,
   "id": "44af0e63",
   "metadata": {
    "execution": {
     "iopub.execute_input": "2023-07-05T16:02:53.000194Z",
     "iopub.status.busy": "2023-07-05T16:02:52.999704Z",
     "iopub.status.idle": "2023-07-05T16:02:53.029329Z",
     "shell.execute_reply": "2023-07-05T16:02:53.027907Z"
    },
    "id": "8WoBbuLVupA2",
    "outputId": "ff2dde74-8444-4f24-8664-b40ed1236163",
    "papermill": {
     "duration": 0.041273,
     "end_time": "2023-07-05T16:02:53.032146",
     "exception": false,
     "start_time": "2023-07-05T16:02:52.990873",
     "status": "completed"
    },
    "tags": []
   },
   "outputs": [
    {
     "data": {
      "text/html": [
       "<style>#sk-container-id-1 {color: black;background-color: white;}#sk-container-id-1 pre{padding: 0;}#sk-container-id-1 div.sk-toggleable {background-color: white;}#sk-container-id-1 label.sk-toggleable__label {cursor: pointer;display: block;width: 100%;margin-bottom: 0;padding: 0.3em;box-sizing: border-box;text-align: center;}#sk-container-id-1 label.sk-toggleable__label-arrow:before {content: \"▸\";float: left;margin-right: 0.25em;color: #696969;}#sk-container-id-1 label.sk-toggleable__label-arrow:hover:before {color: black;}#sk-container-id-1 div.sk-estimator:hover label.sk-toggleable__label-arrow:before {color: black;}#sk-container-id-1 div.sk-toggleable__content {max-height: 0;max-width: 0;overflow: hidden;text-align: left;background-color: #f0f8ff;}#sk-container-id-1 div.sk-toggleable__content pre {margin: 0.2em;color: black;border-radius: 0.25em;background-color: #f0f8ff;}#sk-container-id-1 input.sk-toggleable__control:checked~div.sk-toggleable__content {max-height: 200px;max-width: 100%;overflow: auto;}#sk-container-id-1 input.sk-toggleable__control:checked~label.sk-toggleable__label-arrow:before {content: \"▾\";}#sk-container-id-1 div.sk-estimator input.sk-toggleable__control:checked~label.sk-toggleable__label {background-color: #d4ebff;}#sk-container-id-1 div.sk-label input.sk-toggleable__control:checked~label.sk-toggleable__label {background-color: #d4ebff;}#sk-container-id-1 input.sk-hidden--visually {border: 0;clip: rect(1px 1px 1px 1px);clip: rect(1px, 1px, 1px, 1px);height: 1px;margin: -1px;overflow: hidden;padding: 0;position: absolute;width: 1px;}#sk-container-id-1 div.sk-estimator {font-family: monospace;background-color: #f0f8ff;border: 1px dotted black;border-radius: 0.25em;box-sizing: border-box;margin-bottom: 0.5em;}#sk-container-id-1 div.sk-estimator:hover {background-color: #d4ebff;}#sk-container-id-1 div.sk-parallel-item::after {content: \"\";width: 100%;border-bottom: 1px solid gray;flex-grow: 1;}#sk-container-id-1 div.sk-label:hover label.sk-toggleable__label {background-color: #d4ebff;}#sk-container-id-1 div.sk-serial::before {content: \"\";position: absolute;border-left: 1px solid gray;box-sizing: border-box;top: 0;bottom: 0;left: 50%;z-index: 0;}#sk-container-id-1 div.sk-serial {display: flex;flex-direction: column;align-items: center;background-color: white;padding-right: 0.2em;padding-left: 0.2em;position: relative;}#sk-container-id-1 div.sk-item {position: relative;z-index: 1;}#sk-container-id-1 div.sk-parallel {display: flex;align-items: stretch;justify-content: center;background-color: white;position: relative;}#sk-container-id-1 div.sk-item::before, #sk-container-id-1 div.sk-parallel-item::before {content: \"\";position: absolute;border-left: 1px solid gray;box-sizing: border-box;top: 0;bottom: 0;left: 50%;z-index: -1;}#sk-container-id-1 div.sk-parallel-item {display: flex;flex-direction: column;z-index: 1;position: relative;background-color: white;}#sk-container-id-1 div.sk-parallel-item:first-child::after {align-self: flex-end;width: 50%;}#sk-container-id-1 div.sk-parallel-item:last-child::after {align-self: flex-start;width: 50%;}#sk-container-id-1 div.sk-parallel-item:only-child::after {width: 0;}#sk-container-id-1 div.sk-dashed-wrapped {border: 1px dashed gray;margin: 0 0.4em 0.5em 0.4em;box-sizing: border-box;padding-bottom: 0.4em;background-color: white;}#sk-container-id-1 div.sk-label label {font-family: monospace;font-weight: bold;display: inline-block;line-height: 1.2em;}#sk-container-id-1 div.sk-label-container {text-align: center;}#sk-container-id-1 div.sk-container {/* jupyter's `normalize.less` sets `[hidden] { display: none; }` but bootstrap.min.css set `[hidden] { display: none !important; }` so we also need the `!important` here to be able to override the default hidden behavior on the sphinx rendered scikit-learn.org. See: https://github.com/scikit-learn/scikit-learn/issues/21755 */display: inline-block !important;position: relative;}#sk-container-id-1 div.sk-text-repr-fallback {display: none;}</style><div id=\"sk-container-id-1\" class=\"sk-top-container\"><div class=\"sk-text-repr-fallback\"><pre>GaussianNB()</pre><b>In a Jupyter environment, please rerun this cell to show the HTML representation or trust the notebook. <br />On GitHub, the HTML representation is unable to render, please try loading this page with nbviewer.org.</b></div><div class=\"sk-container\" hidden><div class=\"sk-item\"><div class=\"sk-estimator sk-toggleable\"><input class=\"sk-toggleable__control sk-hidden--visually\" id=\"sk-estimator-id-1\" type=\"checkbox\" checked><label for=\"sk-estimator-id-1\" class=\"sk-toggleable__label sk-toggleable__label-arrow\">GaussianNB</label><div class=\"sk-toggleable__content\"><pre>GaussianNB()</pre></div></div></div></div></div>"
      ],
      "text/plain": [
       "GaussianNB()"
      ]
     },
     "execution_count": 7,
     "metadata": {},
     "output_type": "execute_result"
    }
   ],
   "source": [
    "from sklearn.naive_bayes import GaussianNB\n",
    "\n",
    "naive = GaussianNB()\n",
    "naive.fit(X_train, y_train)"
   ]
  },
  {
   "cell_type": "markdown",
   "id": "da6362a4",
   "metadata": {
    "id": "A2qBRMhXv3Wo",
    "papermill": {
     "duration": 0.006792,
     "end_time": "2023-07-05T16:02:53.046178",
     "exception": false,
     "start_time": "2023-07-05T16:02:53.039386",
     "status": "completed"
    },
    "tags": []
   },
   "source": [
    "# Testing the model"
   ]
  },
  {
   "cell_type": "code",
   "execution_count": 8,
   "id": "6d08d6a8",
   "metadata": {
    "execution": {
     "iopub.execute_input": "2023-07-05T16:02:53.062235Z",
     "iopub.status.busy": "2023-07-05T16:02:53.061792Z",
     "iopub.status.idle": "2023-07-05T16:02:53.069355Z",
     "shell.execute_reply": "2023-07-05T16:02:53.067656Z"
    },
    "id": "YApV-HiouukO",
    "papermill": {
     "duration": 0.018999,
     "end_time": "2023-07-05T16:02:53.072327",
     "exception": false,
     "start_time": "2023-07-05T16:02:53.053328",
     "status": "completed"
    },
    "tags": []
   },
   "outputs": [],
   "source": [
    "predictions = naive.predict(X_test)"
   ]
  },
  {
   "cell_type": "code",
   "execution_count": 9,
   "id": "94276111",
   "metadata": {
    "execution": {
     "iopub.execute_input": "2023-07-05T16:02:53.089030Z",
     "iopub.status.busy": "2023-07-05T16:02:53.088574Z",
     "iopub.status.idle": "2023-07-05T16:02:53.098465Z",
     "shell.execute_reply": "2023-07-05T16:02:53.097269Z"
    },
    "id": "ozdpSz4-u14F",
    "outputId": "e4d833ca-9b16-40f7-b32c-2d6d7eb546e0",
    "papermill": {
     "duration": 0.02117,
     "end_time": "2023-07-05T16:02:53.100730",
     "exception": false,
     "start_time": "2023-07-05T16:02:53.079560",
     "status": "completed"
    },
    "tags": []
   },
   "outputs": [
    {
     "data": {
      "text/plain": [
       "0.8811881188118812"
      ]
     },
     "execution_count": 9,
     "metadata": {},
     "output_type": "execute_result"
    }
   ],
   "source": [
    "from sklearn.metrics import accuracy_score\n",
    "\n",
    "accuracy_score(y_test, predictions)"
   ]
  },
  {
   "cell_type": "code",
   "execution_count": 10,
   "id": "145cf65a",
   "metadata": {
    "execution": {
     "iopub.execute_input": "2023-07-05T16:02:53.117189Z",
     "iopub.status.busy": "2023-07-05T16:02:53.116758Z",
     "iopub.status.idle": "2023-07-05T16:02:53.817352Z",
     "shell.execute_reply": "2023-07-05T16:02:53.815833Z"
    },
    "id": "Vl3lZSTIu93t",
    "outputId": "5647a852-c5b6-4539-ee74-181418096722",
    "papermill": {
     "duration": 0.712498,
     "end_time": "2023-07-05T16:02:53.820421",
     "exception": false,
     "start_time": "2023-07-05T16:02:53.107923",
     "status": "completed"
    },
    "tags": []
   },
   "outputs": [
    {
     "data": {
      "text/plain": [
       "0.8811881188118812"
      ]
     },
     "execution_count": 10,
     "metadata": {},
     "output_type": "execute_result"
    },
    {
     "data": {
      "image/png": "[encoded data removed]",
      "text/plain": [
       "<Figure size 800x550 with 1 Axes>"
      ]
     },
     "metadata": {},
     "output_type": "display_data"
    }
   ],
   "source": [
    "from yellowbrick.classifier import ConfusionMatrix\n",
    "\n",
    "cm = ConfusionMatrix(naive)\n",
    "cm.fit(X_train, y_train)\n",
    "cm.score(X_test, y_test)"
   ]
  }
 ],
 "metadata": {
  "kernelspec": {
   "display_name": "Python 3",
   "language": "python",
   "name": "python3"
  },
  "language_info": {
   "codemirror_mode": {
    "name": "ipython",
    "version": 3
   },
   "file_extension": ".py",
   "mimetype": "text/x-python",
   "name": "python",
   "nbconvert_exporter": "python",
   "pygments_lexer": "ipython3",
   "version": "3.8.8"
  },
  "papermill": {
   "default_parameters": {},
   "duration": 17.60255,
   "end_time": "2023-07-05T16:02:54.954879",
   "environment_variables": {},
   "exception": null,
   "input_path": "__notebook__.ipynb",
   "output_path": "__notebook__.ipynb",
   "parameters": {},
   "start_time": "2023-07-05T16:02:37.352329",
   "version": "2.4.0"
  }
 },
 "nbformat": 4,
 "nbformat_minor": 5
}
