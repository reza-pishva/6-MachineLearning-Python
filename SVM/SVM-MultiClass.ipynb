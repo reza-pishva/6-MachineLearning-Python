{
 "cells": [
  {
   "cell_type": "code",
   "execution_count": null,
   "metadata": {},
   "outputs": [],
   "source": [
    "X = [[0], [1], [2], [3]]\n",
    ">>> Y = [0, 1, 2, 3]\n",
    ">>> clf = svm.SVC(gamma='scale', decision_function_shape='ovo')\n",
    ">>> clf.fit(X, Y) \n",
    "SVC(C=1.0, cache_size=200, class_weight=None, coef0=0.0,\n",
    "    decision_function_shape='ovo', degree=3, gamma='scale', kernel='rbf',\n",
    "    max_iter=-1, probability=False, random_state=None, shrinking=True,\n",
    "    tol=0.001, verbose=False)\n",
    ">>> dec = clf.decision_function([[1]])\n",
    ">>> dec.shape[1] # 4 classes: 4*3/2 = 6\n",
    "6\n",
    ">>> clf.decision_function_shape = \"ovr\"\n",
    ">>> dec = clf.decision_function([[1]])\n",
    ">>> dec.shape[1] # 4 classes"
   ]
  },
  {
   "cell_type": "code",
   "execution_count": null,
   "metadata": {},
   "outputs": [],
   "source": [
    "lin_clf = svm.LinearSVC()\n",
    ">>> lin_clf.fit(X, Y) \n",
    "LinearSVC(C=1.0, class_weight=None, dual=True, fit_intercept=True,\n",
    "     intercept_scaling=1, loss='squared_hinge', max_iter=1000,\n",
    "     multi_class='ovr', penalty='l2', random_state=None, tol=0.0001,\n",
    "     verbose=0)\n",
    ">>> dec = lin_clf.decision_function([[1]])\n",
    ">>> dec.shape[1]"
   ]
  }
 ],
 "metadata": {
  "kernelspec": {
   "display_name": "Python 3",
   "language": "python",
   "name": "python3"
  },
  "language_info": {
   "codemirror_mode": {
    "name": "ipython",
    "version": 3
   },
   "file_extension": ".py",
   "mimetype": "text/x-python",
   "name": "python",
   "nbconvert_exporter": "python",
   "pygments_lexer": "ipython3",
   "version": "3.7.1"
  }
 },
 "nbformat": 4,
 "nbformat_minor": 2
}
